{
 "cells": [
  {
   "cell_type": "markdown",
   "id": "8a01703c",
   "metadata": {},
   "source": [
    "# Metric Inputs\n",
    "\n",
    "This notebook serves to *re-import* the metric input data (qrels, page alignments) that were prepared in `PageAlignments`.\n",
    "It can be imported as a Python module, and is intended to support the following usage in task-specific alignment & target\n",
    "notebooks:\n",
    "\n",
    "```python\n",
    "from MetricImputs import *\n",
    "```\n",
    "\n",
    "On its own, it just shows summaries of that data."
   ]
  },
  {
   "cell_type": "markdown",
   "id": "e20fde7f",
   "metadata": {},
   "source": [
    "## Setup\n",
    "\n",
    "Import some libraries:"
   ]
  },
  {
   "cell_type": "code",
   "execution_count": null,
   "id": "76da58ec",
   "metadata": {},
   "outputs": [],
   "source": [
    "import warnings\n",
    "import logging\n",
    "import pandas as pd\n",
    "import xarray as xr\n",
    "from pathlib import Path"
   ]
  },
  {
   "cell_type": "markdown",
   "id": "d3d6ea2d",
   "metadata": {},
   "source": [
    "We're now going to set up the data mode, if necessary."
   ]
  },
  {
   "cell_type": "code",
   "execution_count": null,
   "id": "cd12deed",
   "metadata": {},
   "outputs": [],
   "source": [
    "import wptrec\n",
    "DATA_MODE = getattr(wptrec, 'DATA_MODE', None)\n",
    "if DATA_MODE is None:\n",
    "    warnings.warn('No DATA_MODE specified, assuming ‘train’')\n",
    "    DATA_MODE = 'train'"
   ]
  },
  {
   "cell_type": "markdown",
   "id": "c5a365e9",
   "metadata": {},
   "source": [
    "And the data dir"
   ]
  },
  {
   "cell_type": "code",
   "execution_count": null,
   "id": "ac93b197",
   "metadata": {},
   "outputs": [],
   "source": [
    "DATA_DIR = Path('data/metric-tables')"
   ]
  },
  {
   "cell_type": "code",
   "execution_count": null,
   "id": "ff7078a4",
   "metadata": {},
   "outputs": [],
   "source": [
    "_log = logging.getLogger(__name__)"
   ]
  },
  {
   "cell_type": "markdown",
   "id": "1d710b85",
   "metadata": {},
   "source": [
    "## Topics\n",
    "\n",
    "Now we will load the topics:"
   ]
  },
  {
   "cell_type": "code",
   "execution_count": null,
   "id": "5fbaf42f",
   "metadata": {},
   "outputs": [],
   "source": [
    "topics = pd.read_json(f'data/trec_2022_{DATA_MODE}_reldocs.jsonl', lines=True)\n",
    "topics.head()"
   ]
  },
  {
   "cell_type": "code",
   "execution_count": null,
   "id": "66dd1b34",
   "metadata": {},
   "outputs": [],
   "source": [
    "topics.rename(columns={'id': 'topic_id'}, inplace=True)"
   ]
  },
  {
   "cell_type": "markdown",
   "id": "a361d5bf",
   "metadata": {},
   "source": [
    "Now we are going to explode this into a set of `qrels`:"
   ]
  },
  {
   "cell_type": "code",
   "execution_count": null,
   "id": "cb122848",
   "metadata": {},
   "outputs": [],
   "source": [
    "qrels = topics[['topic_id', 'rel_docs']].explode('rel_docs', ignore_index=True)\n",
    "qrels.rename(columns={'rel_docs': 'page_id'}, inplace=True)\n",
    "qrels['page_id'] = qrels['page_id'].astype('i4')\n",
    "qrels = qrels.drop_duplicates()\n",
    "qrels.head()"
   ]
  },
  {
   "cell_type": "markdown",
   "id": "dfebe377",
   "metadata": {},
   "source": [
    "## Page Alignments\n",
    "\n",
    "And the page alignments, with a helper function."
   ]
  },
  {
   "cell_type": "code",
   "execution_count": null,
   "id": "9b46c8a6",
   "metadata": {},
   "outputs": [],
   "source": [
    "def _load_page_align(key):\n",
    "    fn = DATA_DIR / f'page-{key}-align.parquet'\n",
    "    _log.info('reading %s', fn)\n",
    "    df = pd.read_parquet(fn)\n",
    "    df.index.name = 'page_id'\n",
    "    df.name = key\n",
    "    dfx = xr.DataArray(df, dims=['page', key])\n",
    "    return df, dfx"
   ]
  },
  {
   "cell_type": "code",
   "execution_count": null,
   "id": "383b7947",
   "metadata": {},
   "outputs": [],
   "source": [
    "sub_geo_align, sub_geo_xr = _load_page_align('sub-geo')"
   ]
  },
  {
   "cell_type": "code",
   "execution_count": null,
   "id": "8a4ace6f",
   "metadata": {},
   "outputs": [],
   "source": [
    "src_geo_align, src_geo_xr = _load_page_align('src-geo')"
   ]
  },
  {
   "cell_type": "code",
   "execution_count": null,
   "id": "99fd988a",
   "metadata": {},
   "outputs": [],
   "source": [
    "gender_align, gender_xr = _load_page_align('gender')"
   ]
  },
  {
   "cell_type": "code",
   "execution_count": null,
   "id": "5dad4be6",
   "metadata": {},
   "outputs": [],
   "source": [
    "occ_align, occ_xr = _load_page_align('occ')"
   ]
  },
  {
   "cell_type": "code",
   "execution_count": null,
   "id": "a9cee97a",
   "metadata": {},
   "outputs": [],
   "source": [
    "alpha_align, alpha_xr = _load_page_align('alpha')"
   ]
  },
  {
   "cell_type": "code",
   "execution_count": null,
   "id": "832bfad0",
   "metadata": {},
   "outputs": [],
   "source": [
    "age_align, age_xr = _load_page_align('age')"
   ]
  },
  {
   "cell_type": "code",
   "execution_count": null,
   "id": "7d30a8c9",
   "metadata": {},
   "outputs": [],
   "source": [
    "pop_align, pop_xr = _load_page_align('pop')"
   ]
  },
  {
   "cell_type": "code",
   "execution_count": null,
   "id": "ff28a93a",
   "metadata": {},
   "outputs": [],
   "source": [
    "langs_align, langs_xr = _load_page_align('langs')"
   ]
  },
  {
   "cell_type": "markdown",
   "id": "1a4a0018-d588-4492-be69-1f2fa3b46f96",
   "metadata": {},
   "source": [
    "## Geographic Background\n",
    "\n",
    "Our geographic target needs world population for to establish an equity target - this data comes from Wikipedia's [List of continents and continental subregions by population](https://en.wikipedia.org/wiki/List_of_continents_and_continental_subregions_by_population)."
   ]
  },
  {
   "cell_type": "code",
   "execution_count": null,
   "id": "627e9a85",
   "metadata": {},
   "outputs": [],
   "source": [
    "world_pop = pd.read_csv('data/world-pop.csv')\n",
    "world_pop"
   ]
  },
  {
   "cell_type": "markdown",
   "id": "a5e6d8cb",
   "metadata": {},
   "source": [
    "Process it into a distribution series:"
   ]
  },
  {
   "cell_type": "code",
   "execution_count": null,
   "id": "b83e8fc3",
   "metadata": {},
   "outputs": [],
   "source": [
    "world_pop = world_pop.set_index('Name')['Population']\n",
    "world_pop /= world_pop.sum()\n",
    "world_pop.name = 'geography'\n",
    "world_pop.sort_index(inplace=True)\n",
    "world_pop"
   ]
  },
  {
   "cell_type": "markdown",
   "id": "64160fb3",
   "metadata": {},
   "source": [
    "## Gender Background\n",
    "\n",
    "And a gender global target:"
   ]
  },
  {
   "cell_type": "code",
   "execution_count": null,
   "id": "32ded515",
   "metadata": {},
   "outputs": [],
   "source": [
    "gender_tgt = pd.Series({\n",
    "    'female': 0.495,\n",
    "    'male': 0.495,\n",
    "    'NB': 0.01\n",
    "})\n",
    "gender_tgt.name = 'gender'\n",
    "gender_tgt.sum()"
   ]
  },
  {
   "cell_type": "markdown",
   "id": "21481290",
   "metadata": {},
   "source": [
    "## Static Data\n",
    "\n",
    "The work-needed codes have an order:"
   ]
  },
  {
   "cell_type": "code",
   "execution_count": null,
   "id": "3823929d",
   "metadata": {},
   "outputs": [],
   "source": [
    "work_order = [\n",
    "    'Stub',\n",
    "    'Start',\n",
    "    'C',\n",
    "    'B',\n",
    "    'GA',\n",
    "    'FA',\n",
    "]"
   ]
  },
  {
   "cell_type": "markdown",
   "id": "6ecf2f33",
   "metadata": {},
   "source": [
    "And finally a name for unknown:"
   ]
  },
  {
   "cell_type": "code",
   "execution_count": null,
   "id": "a9251096",
   "metadata": {},
   "outputs": [],
   "source": [
    "UNKNOWN = '@UNKNOWN'"
   ]
  },
  {
   "cell_type": "markdown",
   "id": "05784815-63c0-4f3c-a1de-81b7d9168ef9",
   "metadata": {},
   "source": [
    "## Page Quality\n",
    "\n",
    "And we can load the page quality data:"
   ]
  },
  {
   "cell_type": "code",
   "execution_count": null,
   "id": "58fdde27-c42a-4c50-96de-43567c888650",
   "metadata": {},
   "outputs": [],
   "source": [
    "page_quality = pd.read_parquet(DATA_DIR / 'page-quality.parquet')\n",
    "page_quality = page_quality.set_index('page_id')['quality']\n",
    "page_quality = page_quality.astype('category').cat.reorder_categories(work_order)\n",
    "page_quality = page_quality.to_frame()"
   ]
  },
  {
   "cell_type": "markdown",
   "id": "0167652b",
   "metadata": {},
   "source": [
    "## Dimension Lists\n",
    "\n",
    "We're going to make a list of dimensions, along with their targets.\n",
    "We have a class to define these:"
   ]
  },
  {
   "cell_type": "code",
   "execution_count": null,
   "id": "1608e6d3",
   "metadata": {},
   "outputs": [],
   "source": [
    "from wptrec.dimension import FairDim"
   ]
  },
  {
   "cell_type": "code",
   "execution_count": null,
   "id": "d6f4b809",
   "metadata": {},
   "outputs": [],
   "source": [
    "\n",
    "dimensions = [\n",
    "    FairDim(sub_geo_align, sub_geo_xr, world_pop, True),\n",
    "    FairDim(src_geo_align, src_geo_xr, world_pop, True),\n",
    "    FairDim(gender_align, gender_xr, gender_tgt, True),\n",
    "    FairDim(occ_align, occ_xr, None, True),\n",
    "    FairDim(alpha_align, alpha_xr),\n",
    "    FairDim(age_align, age_xr),\n",
    "    FairDim(pop_align, pop_xr),\n",
    "    FairDim(langs_align, langs_xr),\n",
    "]"
   ]
  }
 ],
 "metadata": {
  "jupytext": {
   "encoding": "# -*- coding: utf-8 -*-",
   "formats": "ipynb,py:percent"
  },
  "kernelspec": {
   "display_name": "Python 3 (ipykernel)",
   "language": "python",
   "name": "python3"
  },
  "language_info": {
   "codemirror_mode": {
    "name": "ipython",
    "version": 3
   },
   "file_extension": ".py",
   "mimetype": "text/x-python",
   "name": "python",
   "nbconvert_exporter": "python",
   "pygments_lexer": "ipython3",
   "version": "3.8.13"
  }
 },
 "nbformat": 4,
 "nbformat_minor": 5
}
