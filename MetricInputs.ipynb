{
 "cells": [
  {
   "cell_type": "markdown",
   "id": "8a01703c",
   "metadata": {},
   "source": [
    "# Metric Inputs\n",
    "\n",
    "This notebook serves to *re-import* the metric input data (qrels, page alignments) that were prepared in `PageAlignments`.\n",
    "It can be imported as a Python module, and is intended to support the following usage in task-specific alignment & target\n",
    "notebooks:\n",
    "\n",
    "```python\n",
    "from MetricImputs import *\n",
    "```\n",
    "\n",
    "On its own, it just shows summaries of that data."
   ]
  },
  {
   "cell_type": "markdown",
   "id": "e20fde7f",
   "metadata": {},
   "source": [
    "## Setup\n",
    "\n",
    "Import some libraries:"
   ]
  },
  {
   "cell_type": "code",
<<<<<<< HEAD
   "execution_count": null,
=======
   "execution_count": 1,
>>>>>>> main
   "id": "76da58ec",
   "metadata": {},
   "outputs": [],
   "source": [
    "import warnings\n",
    "import logging\n",
    "import pandas as pd\n",
    "import xarray as xr\n",
    "from pathlib import Path"
   ]
  },
  {
   "cell_type": "markdown",
   "id": "d3d6ea2d",
   "metadata": {},
   "source": [
    "We're now going to set up the data mode, if necessary."
   ]
  },
  {
   "cell_type": "code",
<<<<<<< HEAD
   "execution_count": null,
   "id": "cd12deed",
   "metadata": {},
   "outputs": [],
=======
   "execution_count": 2,
   "id": "cd12deed",
   "metadata": {},
   "outputs": [
    {
     "name": "stderr",
     "output_type": "stream",
     "text": [
      "C:\\Users\\michaelekstrand\\AppData\\Local\\Temp\\ipykernel_21860\\2796200553.py:4: UserWarning: No DATA_MODE specified, assuming ‘train’\n",
      "  warnings.warn('No DATA_MODE specified, assuming ‘train’')\n"
     ]
    }
   ],
>>>>>>> main
   "source": [
    "import wptrec\n",
    "DATA_MODE = getattr(wptrec, 'DATA_MODE', None)\n",
    "if DATA_MODE is None:\n",
    "    warnings.warn('No DATA_MODE specified, assuming ‘train’')\n",
    "    DATA_MODE = 'train'"
   ]
  },
  {
   "cell_type": "markdown",
   "id": "c5a365e9",
   "metadata": {},
   "source": [
    "And the data dir"
   ]
  },
  {
   "cell_type": "code",
<<<<<<< HEAD
   "execution_count": null,
=======
   "execution_count": 3,
>>>>>>> main
   "id": "ac93b197",
   "metadata": {},
   "outputs": [],
   "source": [
    "DATA_DIR = Path('data/metric-tables')"
   ]
  },
  {
   "cell_type": "code",
<<<<<<< HEAD
   "execution_count": null,
=======
   "execution_count": 4,
>>>>>>> main
   "id": "ff7078a4",
   "metadata": {},
   "outputs": [],
   "source": [
    "_log = logging.getLogger(__name__)"
   ]
  },
  {
   "cell_type": "markdown",
   "id": "1d710b85",
   "metadata": {},
   "source": [
    "## Topics\n",
    "\n",
    "Now we will load the topics:"
   ]
  },
  {
   "cell_type": "code",
<<<<<<< HEAD
   "execution_count": null,
   "id": "5fbaf42f",
   "metadata": {},
   "outputs": [],
=======
   "execution_count": 5,
   "id": "5fbaf42f",
   "metadata": {},
   "outputs": [
    {
     "data": {
      "text/html": [
       "<div>\n",
       "<style scoped>\n",
       "    .dataframe tbody tr th:only-of-type {\n",
       "        vertical-align: middle;\n",
       "    }\n",
       "\n",
       "    .dataframe tbody tr th {\n",
       "        vertical-align: top;\n",
       "    }\n",
       "\n",
       "    .dataframe thead th {\n",
       "        text-align: right;\n",
       "    }\n",
       "</style>\n",
       "<table border=\"1\" class=\"dataframe\">\n",
       "  <thead>\n",
       "    <tr style=\"text-align: right;\">\n",
       "      <th></th>\n",
       "      <th>id</th>\n",
       "      <th>title</th>\n",
       "      <th>rel_docs</th>\n",
       "    </tr>\n",
       "  </thead>\n",
       "  <tbody>\n",
       "    <tr>\n",
       "      <th>0</th>\n",
       "      <td>84</td>\n",
       "      <td>Agriculture</td>\n",
       "      <td>[572, 627, 678, 903, 1193, 1542, 1634, 3751, 3...</td>\n",
       "    </tr>\n",
       "    <tr>\n",
       "      <th>1</th>\n",
       "      <td>111</td>\n",
       "      <td>Amphibians and Reptiles</td>\n",
       "      <td>[621, 809, 1380, 6641, 8311, 8937, 13134, 1446...</td>\n",
       "    </tr>\n",
       "    <tr>\n",
       "      <th>2</th>\n",
       "      <td>265</td>\n",
       "      <td>Astronomy</td>\n",
       "      <td>[39, 308, 580, 664, 736, 748, 791, 798, 799, 1...</td>\n",
       "    </tr>\n",
       "    <tr>\n",
       "      <th>3</th>\n",
       "      <td>323</td>\n",
       "      <td>Aviation</td>\n",
       "      <td>[849, 852, 1293, 1902, 1942, 2039, 2075, 2082,...</td>\n",
       "    </tr>\n",
       "    <tr>\n",
       "      <th>4</th>\n",
       "      <td>396</td>\n",
       "      <td>Biography/WikiProject Actors and Filmmakers</td>\n",
       "      <td>[344, 676, 808, 872, 1247, 1806, 1828, 2083, 2...</td>\n",
       "    </tr>\n",
       "  </tbody>\n",
       "</table>\n",
       "</div>"
      ],
      "text/plain": [
       "    id                                        title  \\\n",
       "0   84                                  Agriculture   \n",
       "1  111                      Amphibians and Reptiles   \n",
       "2  265                                    Astronomy   \n",
       "3  323                                     Aviation   \n",
       "4  396  Biography/WikiProject Actors and Filmmakers   \n",
       "\n",
       "                                            rel_docs  \n",
       "0  [572, 627, 678, 903, 1193, 1542, 1634, 3751, 3...  \n",
       "1  [621, 809, 1380, 6641, 8311, 8937, 13134, 1446...  \n",
       "2  [39, 308, 580, 664, 736, 748, 791, 798, 799, 1...  \n",
       "3  [849, 852, 1293, 1902, 1942, 2039, 2075, 2082,...  \n",
       "4  [344, 676, 808, 872, 1247, 1806, 1828, 2083, 2...  "
      ]
     },
     "execution_count": 5,
     "metadata": {},
     "output_type": "execute_result"
    }
   ],
>>>>>>> main
   "source": [
    "topics = pd.read_json(f'data/trec_2022_{DATA_MODE}_reldocs.jsonl', lines=True)\n",
    "topics.head()"
   ]
  },
  {
   "cell_type": "code",
<<<<<<< HEAD
   "execution_count": null,
=======
   "execution_count": 6,
>>>>>>> main
   "id": "66dd1b34",
   "metadata": {},
   "outputs": [],
   "source": [
    "topics.rename(columns={'id': 'topic_id'}, inplace=True)"
   ]
  },
  {
   "cell_type": "markdown",
   "id": "a361d5bf",
   "metadata": {},
   "source": [
    "Now we are going to explode this into a set of `qrels`:"
   ]
  },
  {
   "cell_type": "code",
<<<<<<< HEAD
   "execution_count": null,
   "id": "cb122848",
   "metadata": {},
   "outputs": [],
=======
   "execution_count": 7,
   "id": "cb122848",
   "metadata": {},
   "outputs": [
    {
     "data": {
      "text/html": [
       "<div>\n",
       "<style scoped>\n",
       "    .dataframe tbody tr th:only-of-type {\n",
       "        vertical-align: middle;\n",
       "    }\n",
       "\n",
       "    .dataframe tbody tr th {\n",
       "        vertical-align: top;\n",
       "    }\n",
       "\n",
       "    .dataframe thead th {\n",
       "        text-align: right;\n",
       "    }\n",
       "</style>\n",
       "<table border=\"1\" class=\"dataframe\">\n",
       "  <thead>\n",
       "    <tr style=\"text-align: right;\">\n",
       "      <th></th>\n",
       "      <th>topic_id</th>\n",
       "      <th>page_id</th>\n",
       "    </tr>\n",
       "  </thead>\n",
       "  <tbody>\n",
       "    <tr>\n",
       "      <th>0</th>\n",
       "      <td>84</td>\n",
       "      <td>572</td>\n",
       "    </tr>\n",
       "    <tr>\n",
       "      <th>1</th>\n",
       "      <td>84</td>\n",
       "      <td>627</td>\n",
       "    </tr>\n",
       "    <tr>\n",
       "      <th>2</th>\n",
       "      <td>84</td>\n",
       "      <td>678</td>\n",
       "    </tr>\n",
       "    <tr>\n",
       "      <th>3</th>\n",
       "      <td>84</td>\n",
       "      <td>903</td>\n",
       "    </tr>\n",
       "    <tr>\n",
       "      <th>4</th>\n",
       "      <td>84</td>\n",
       "      <td>1193</td>\n",
       "    </tr>\n",
       "  </tbody>\n",
       "</table>\n",
       "</div>"
      ],
      "text/plain": [
       "   topic_id  page_id\n",
       "0        84      572\n",
       "1        84      627\n",
       "2        84      678\n",
       "3        84      903\n",
       "4        84     1193"
      ]
     },
     "execution_count": 7,
     "metadata": {},
     "output_type": "execute_result"
    }
   ],
>>>>>>> main
   "source": [
    "qrels = topics[['topic_id', 'rel_docs']].explode('rel_docs', ignore_index=True)\n",
    "qrels.rename(columns={'rel_docs': 'page_id'}, inplace=True)\n",
    "qrels['page_id'] = qrels['page_id'].astype('i4')\n",
    "qrels = qrels.drop_duplicates()\n",
    "qrels.head()"
   ]
  },
  {
   "cell_type": "markdown",
   "id": "dfebe377",
   "metadata": {},
   "source": [
    "## Page Alignments\n",
    "\n",
    "And the page alignments, with a helper function."
   ]
  },
  {
   "cell_type": "code",
<<<<<<< HEAD
   "execution_count": null,
=======
   "execution_count": 8,
>>>>>>> main
   "id": "9b46c8a6",
   "metadata": {},
   "outputs": [],
   "source": [
    "def _load_page_align(key):\n",
    "    fn = DATA_DIR / f'page-{key}-align.parquet'\n",
    "    _log.info('reading %s', fn)\n",
    "    df = pd.read_parquet(fn)\n",
    "    df.index.name = 'page_id'\n",
    "    df.name = key\n",
    "    dfx = xr.DataArray(df, dims=['page', key])\n",
    "    return df, dfx"
   ]
  },
  {
   "cell_type": "code",
<<<<<<< HEAD
   "execution_count": null,
=======
   "execution_count": 9,
>>>>>>> main
   "id": "383b7947",
   "metadata": {},
   "outputs": [],
   "source": [
    "sub_geo_align, sub_geo_xr = _load_page_align('sub-geo')"
   ]
  },
  {
   "cell_type": "code",
<<<<<<< HEAD
   "execution_count": null,
=======
   "execution_count": 10,
>>>>>>> main
   "id": "8a4ace6f",
   "metadata": {},
   "outputs": [],
   "source": [
    "src_geo_align, src_geo_xr = _load_page_align('src-geo')"
   ]
  },
  {
   "cell_type": "code",
<<<<<<< HEAD
   "execution_count": null,
=======
   "execution_count": 11,
>>>>>>> main
   "id": "99fd988a",
   "metadata": {},
   "outputs": [],
   "source": [
    "gender_align, gender_xr = _load_page_align('gender')"
   ]
  },
  {
   "cell_type": "code",
<<<<<<< HEAD
   "execution_count": null,
=======
   "execution_count": 12,
>>>>>>> main
   "id": "5dad4be6",
   "metadata": {},
   "outputs": [],
   "source": [
    "occ_align, occ_xr = _load_page_align('occ')"
   ]
  },
  {
   "cell_type": "code",
<<<<<<< HEAD
   "execution_count": null,
=======
   "execution_count": 13,
>>>>>>> main
   "id": "a9cee97a",
   "metadata": {},
   "outputs": [],
   "source": [
    "alpha_align, alpha_xr = _load_page_align('alpha')"
   ]
  },
  {
   "cell_type": "code",
<<<<<<< HEAD
   "execution_count": null,
=======
   "execution_count": 14,
>>>>>>> main
   "id": "832bfad0",
   "metadata": {},
   "outputs": [],
   "source": [
    "age_align, age_xr = _load_page_align('age')"
   ]
  },
  {
   "cell_type": "code",
<<<<<<< HEAD
   "execution_count": null,
=======
   "execution_count": 15,
>>>>>>> main
   "id": "7d30a8c9",
   "metadata": {},
   "outputs": [],
   "source": [
    "pop_align, pop_xr = _load_page_align('pop')"
   ]
  },
  {
   "cell_type": "code",
<<<<<<< HEAD
   "execution_count": null,
=======
   "execution_count": 16,
>>>>>>> main
   "id": "ff28a93a",
   "metadata": {},
   "outputs": [],
   "source": [
    "langs_align, langs_xr = _load_page_align('langs')"
   ]
  },
  {
   "cell_type": "markdown",
   "id": "1a4a0018-d588-4492-be69-1f2fa3b46f96",
   "metadata": {},
   "source": [
    "## Geographic Background\n",
    "\n",
    "Our geographic target needs world population for to establish an equity target - this data comes from Wikipedia's [List of continents and continental subregions by population](https://en.wikipedia.org/wiki/List_of_continents_and_continental_subregions_by_population)."
   ]
  },
  {
   "cell_type": "code",
<<<<<<< HEAD
   "execution_count": null,
   "id": "627e9a85",
   "metadata": {},
   "outputs": [],
=======
   "execution_count": 17,
   "id": "627e9a85",
   "metadata": {},
   "outputs": [
    {
     "data": {
      "text/html": [
       "<div>\n",
       "<style scoped>\n",
       "    .dataframe tbody tr th:only-of-type {\n",
       "        vertical-align: middle;\n",
       "    }\n",
       "\n",
       "    .dataframe tbody tr th {\n",
       "        vertical-align: top;\n",
       "    }\n",
       "\n",
       "    .dataframe thead th {\n",
       "        text-align: right;\n",
       "    }\n",
       "</style>\n",
       "<table border=\"1\" class=\"dataframe\">\n",
       "  <thead>\n",
       "    <tr style=\"text-align: right;\">\n",
       "      <th></th>\n",
       "      <th>Rank</th>\n",
       "      <th>Continent</th>\n",
       "      <th>Name</th>\n",
       "      <th>Population</th>\n",
       "      <th>Unnamed: 4</th>\n",
       "    </tr>\n",
       "  </thead>\n",
       "  <tbody>\n",
       "    <tr>\n",
       "      <th>0</th>\n",
       "      <td>1</td>\n",
       "      <td>Asia</td>\n",
       "      <td>Southern Asia</td>\n",
       "      <td>1749046000</td>\n",
       "      <td>NaN</td>\n",
       "    </tr>\n",
       "    <tr>\n",
       "      <th>1</th>\n",
       "      <td>2</td>\n",
       "      <td>Asia</td>\n",
       "      <td>Eastern Asia</td>\n",
       "      <td>1620807000</td>\n",
       "      <td>NaN</td>\n",
       "    </tr>\n",
       "    <tr>\n",
       "      <th>2</th>\n",
       "      <td>3</td>\n",
       "      <td>Asia</td>\n",
       "      <td>South-eastern Asia</td>\n",
       "      <td>618793000</td>\n",
       "      <td>NaN</td>\n",
       "    </tr>\n",
       "    <tr>\n",
       "      <th>3</th>\n",
       "      <td>4</td>\n",
       "      <td>Latin America and the Caribbean</td>\n",
       "      <td>South America</td>\n",
       "      <td>406740000</td>\n",
       "      <td>NaN</td>\n",
       "    </tr>\n",
       "    <tr>\n",
       "      <th>4</th>\n",
       "      <td>5</td>\n",
       "      <td>Africa</td>\n",
       "      <td>Eastern Africa</td>\n",
       "      <td>373202000</td>\n",
       "      <td>NaN</td>\n",
       "    </tr>\n",
       "    <tr>\n",
       "      <th>5</th>\n",
       "      <td>6</td>\n",
       "      <td>Northern America</td>\n",
       "      <td>Northern America</td>\n",
       "      <td>355361000</td>\n",
       "      <td>NaN</td>\n",
       "    </tr>\n",
       "    <tr>\n",
       "      <th>6</th>\n",
       "      <td>7</td>\n",
       "      <td>Africa</td>\n",
       "      <td>Western Africa</td>\n",
       "      <td>331255000</td>\n",
       "      <td>NaN</td>\n",
       "    </tr>\n",
       "    <tr>\n",
       "      <th>7</th>\n",
       "      <td>8</td>\n",
       "      <td>Europe</td>\n",
       "      <td>Eastern Europe</td>\n",
       "      <td>294162000</td>\n",
       "      <td>NaN</td>\n",
       "    </tr>\n",
       "    <tr>\n",
       "      <th>8</th>\n",
       "      <td>9</td>\n",
       "      <td>Asia</td>\n",
       "      <td>Western Asia</td>\n",
       "      <td>245707000</td>\n",
       "      <td>NaN</td>\n",
       "    </tr>\n",
       "    <tr>\n",
       "      <th>9</th>\n",
       "      <td>10</td>\n",
       "      <td>Africa</td>\n",
       "      <td>Northern Africa</td>\n",
       "      <td>210002000</td>\n",
       "      <td>NaN</td>\n",
       "    </tr>\n",
       "    <tr>\n",
       "      <th>10</th>\n",
       "      <td>11</td>\n",
       "      <td>Europe</td>\n",
       "      <td>Western Europe</td>\n",
       "      <td>192060000</td>\n",
       "      <td>NaN</td>\n",
       "    </tr>\n",
       "    <tr>\n",
       "      <th>11</th>\n",
       "      <td>12</td>\n",
       "      <td>Latin America and the Caribbean</td>\n",
       "      <td>Central America</td>\n",
       "      <td>167387000</td>\n",
       "      <td>NaN</td>\n",
       "    </tr>\n",
       "    <tr>\n",
       "      <th>12</th>\n",
       "      <td>13</td>\n",
       "      <td>Europe</td>\n",
       "      <td>Southern Europe</td>\n",
       "      <td>155827000</td>\n",
       "      <td>NaN</td>\n",
       "    </tr>\n",
       "    <tr>\n",
       "      <th>13</th>\n",
       "      <td>14</td>\n",
       "      <td>Africa</td>\n",
       "      <td>Middle Africa</td>\n",
       "      <td>135750000</td>\n",
       "      <td>NaN</td>\n",
       "    </tr>\n",
       "    <tr>\n",
       "      <th>14</th>\n",
       "      <td>15</td>\n",
       "      <td>Europe</td>\n",
       "      <td>Northern Europe</td>\n",
       "      <td>100404000</td>\n",
       "      <td>NaN</td>\n",
       "    </tr>\n",
       "    <tr>\n",
       "      <th>15</th>\n",
       "      <td>16</td>\n",
       "      <td>Asia</td>\n",
       "      <td>Central Asia</td>\n",
       "      <td>64370000</td>\n",
       "      <td>NaN</td>\n",
       "    </tr>\n",
       "    <tr>\n",
       "      <th>16</th>\n",
       "      <td>17</td>\n",
       "      <td>Africa</td>\n",
       "      <td>Southern Africa</td>\n",
       "      <td>60425000</td>\n",
       "      <td>NaN</td>\n",
       "    </tr>\n",
       "    <tr>\n",
       "      <th>17</th>\n",
       "      <td>18</td>\n",
       "      <td>Latin America and the Caribbean</td>\n",
       "      <td>Caribbean</td>\n",
       "      <td>42517000</td>\n",
       "      <td>NaN</td>\n",
       "    </tr>\n",
       "    <tr>\n",
       "      <th>18</th>\n",
       "      <td>19</td>\n",
       "      <td>Oceania</td>\n",
       "      <td>Oceania</td>\n",
       "      <td>38304000</td>\n",
       "      <td>NaN</td>\n",
       "    </tr>\n",
       "    <tr>\n",
       "      <th>19</th>\n",
       "      <td>20</td>\n",
       "      <td>Antarctica</td>\n",
       "      <td>Antarctica</td>\n",
       "      <td>1106</td>\n",
       "      <td>NaN</td>\n",
       "    </tr>\n",
       "  </tbody>\n",
       "</table>\n",
       "</div>"
      ],
      "text/plain": [
       "    Rank                        Continent                Name  Population  \\\n",
       "0      1                             Asia       Southern Asia  1749046000   \n",
       "1      2                             Asia        Eastern Asia  1620807000   \n",
       "2      3                             Asia  South-eastern Asia   618793000   \n",
       "3      4  Latin America and the Caribbean       South America   406740000   \n",
       "4      5                           Africa      Eastern Africa   373202000   \n",
       "5      6                 Northern America    Northern America   355361000   \n",
       "6      7                           Africa      Western Africa   331255000   \n",
       "7      8                           Europe      Eastern Europe   294162000   \n",
       "8      9                             Asia        Western Asia   245707000   \n",
       "9     10                           Africa     Northern Africa   210002000   \n",
       "10    11                           Europe      Western Europe   192060000   \n",
       "11    12  Latin America and the Caribbean     Central America   167387000   \n",
       "12    13                           Europe     Southern Europe   155827000   \n",
       "13    14                           Africa       Middle Africa   135750000   \n",
       "14    15                           Europe     Northern Europe   100404000   \n",
       "15    16                             Asia        Central Asia    64370000   \n",
       "16    17                           Africa     Southern Africa    60425000   \n",
       "17    18  Latin America and the Caribbean           Caribbean    42517000   \n",
       "18    19                          Oceania             Oceania    38304000   \n",
       "19    20                       Antarctica          Antarctica        1106   \n",
       "\n",
       "    Unnamed: 4  \n",
       "0          NaN  \n",
       "1          NaN  \n",
       "2          NaN  \n",
       "3          NaN  \n",
       "4          NaN  \n",
       "5          NaN  \n",
       "6          NaN  \n",
       "7          NaN  \n",
       "8          NaN  \n",
       "9          NaN  \n",
       "10         NaN  \n",
       "11         NaN  \n",
       "12         NaN  \n",
       "13         NaN  \n",
       "14         NaN  \n",
       "15         NaN  \n",
       "16         NaN  \n",
       "17         NaN  \n",
       "18         NaN  \n",
       "19         NaN  "
      ]
     },
     "execution_count": 17,
     "metadata": {},
     "output_type": "execute_result"
    }
   ],
>>>>>>> main
   "source": [
    "world_pop = pd.read_csv('data/world-pop.csv')\n",
    "world_pop"
   ]
  },
  {
   "cell_type": "markdown",
   "id": "a5e6d8cb",
   "metadata": {},
   "source": [
    "Process it into a distribution series:"
   ]
  },
  {
   "cell_type": "code",
<<<<<<< HEAD
   "execution_count": null,
   "id": "b83e8fc3",
   "metadata": {},
   "outputs": [],
=======
   "execution_count": 18,
   "id": "b83e8fc3",
   "metadata": {},
   "outputs": [
    {
     "data": {
      "text/plain": [
       "Name\n",
       "Antarctica            1.544235e-07\n",
       "Caribbean             5.936371e-03\n",
       "Central America       2.337115e-02\n",
       "Central Asia          8.987562e-03\n",
       "Eastern Africa        5.210776e-02\n",
       "Eastern Asia          2.263027e-01\n",
       "Eastern Europe        4.107192e-02\n",
       "Middle Africa         1.895388e-02\n",
       "Northern Africa       2.932121e-02\n",
       "Northern America      4.961673e-02\n",
       "Northern Europe       1.401875e-02\n",
       "Oceania               5.348137e-03\n",
       "South America         5.679045e-02\n",
       "South-eastern Asia    8.639802e-02\n",
       "Southern Africa       8.436748e-03\n",
       "Southern Asia         2.442079e-01\n",
       "Southern Europe       2.175711e-02\n",
       "Western Africa        4.625097e-02\n",
       "Western Asia          3.430646e-02\n",
       "Western Europe        2.681608e-02\n",
       "Name: geography, dtype: float64"
      ]
     },
     "execution_count": 18,
     "metadata": {},
     "output_type": "execute_result"
    }
   ],
>>>>>>> main
   "source": [
    "world_pop = world_pop.set_index('Name')['Population']\n",
    "world_pop /= world_pop.sum()\n",
    "world_pop.name = 'geography'\n",
    "world_pop.sort_index(inplace=True)\n",
    "world_pop"
   ]
  },
  {
   "cell_type": "markdown",
   "id": "64160fb3",
   "metadata": {},
   "source": [
    "## Gender Background\n",
    "\n",
    "And a gender global target:"
   ]
  },
  {
   "cell_type": "code",
<<<<<<< HEAD
   "execution_count": null,
   "id": "32ded515",
   "metadata": {},
   "outputs": [],
=======
   "execution_count": 19,
   "id": "32ded515",
   "metadata": {},
   "outputs": [
    {
     "data": {
      "text/plain": [
       "1.0"
      ]
     },
     "execution_count": 19,
     "metadata": {},
     "output_type": "execute_result"
    }
   ],
>>>>>>> main
   "source": [
    "gender_tgt = pd.Series({\n",
    "    'female': 0.495,\n",
    "    'male': 0.495,\n",
    "    'NB': 0.01\n",
    "})\n",
    "gender_tgt.name = 'gender'\n",
    "gender_tgt.sum()"
   ]
  },
  {
   "cell_type": "markdown",
   "id": "21481290",
   "metadata": {},
   "source": [
    "## Static Data\n",
    "\n",
    "The work-needed codes have an order:"
   ]
  },
  {
   "cell_type": "code",
<<<<<<< HEAD
   "execution_count": null,
=======
   "execution_count": 20,
>>>>>>> main
   "id": "3823929d",
   "metadata": {},
   "outputs": [],
   "source": [
    "work_order = [\n",
    "    'Stub',\n",
    "    'Start',\n",
    "    'C',\n",
    "    'B',\n",
    "    'GA',\n",
    "    'FA',\n",
    "]"
   ]
  },
  {
   "cell_type": "markdown",
   "id": "6ecf2f33",
   "metadata": {},
   "source": [
    "And finally a name for unknown:"
   ]
  },
  {
   "cell_type": "code",
<<<<<<< HEAD
   "execution_count": null,
=======
   "execution_count": 21,
>>>>>>> main
   "id": "a9251096",
   "metadata": {},
   "outputs": [],
   "source": [
    "UNKNOWN = '@UNKNOWN'"
   ]
  },
  {
   "cell_type": "markdown",
   "id": "05784815-63c0-4f3c-a1de-81b7d9168ef9",
   "metadata": {},
   "source": [
    "## Page Quality\n",
    "\n",
    "And we can load the page quality data:"
   ]
  },
  {
   "cell_type": "code",
<<<<<<< HEAD
   "execution_count": null,
=======
   "execution_count": 22,
>>>>>>> main
   "id": "58fdde27-c42a-4c50-96de-43567c888650",
   "metadata": {},
   "outputs": [],
   "source": [
    "page_quality = pd.read_parquet(DATA_DIR / 'page-quality.parquet')\n",
    "page_quality = page_quality.set_index('page_id')['quality']\n",
    "page_quality = page_quality.astype('category').cat.reorder_categories(work_order)\n",
    "page_quality = page_quality.to_frame()"
   ]
  },
  {
   "cell_type": "markdown",
   "id": "0167652b",
   "metadata": {},
   "source": [
    "## Dimension Lists\n",
    "\n",
    "We're going to make a list of dimensions, along with their targets.\n",
    "We have a class to define these:"
   ]
  },
  {
   "cell_type": "code",
<<<<<<< HEAD
   "execution_count": null,
=======
   "execution_count": 23,
>>>>>>> main
   "id": "1608e6d3",
   "metadata": {},
   "outputs": [],
   "source": [
    "from wptrec.dimension import FairDim"
   ]
  },
  {
   "cell_type": "code",
<<<<<<< HEAD
   "execution_count": null,
=======
   "execution_count": 24,
>>>>>>> main
   "id": "d6f4b809",
   "metadata": {},
   "outputs": [],
   "source": [
<<<<<<< HEAD
    "\n",
=======
>>>>>>> main
    "dimensions = [\n",
    "    FairDim(sub_geo_align, sub_geo_xr, world_pop, True),\n",
    "    FairDim(src_geo_align, src_geo_xr, world_pop, True),\n",
    "    FairDim(gender_align, gender_xr, gender_tgt, True),\n",
    "    FairDim(occ_align, occ_xr, None, True),\n",
    "    FairDim(alpha_align, alpha_xr),\n",
    "    FairDim(age_align, age_xr),\n",
    "    FairDim(pop_align, pop_xr),\n",
    "    FairDim(langs_align, langs_xr),\n",
    "]"
   ]
<<<<<<< HEAD
=======
  },
  {
   "cell_type": "code",
   "execution_count": 25,
   "id": "54a78847-219d-47b6-a54f-9bb3f61dfc33",
   "metadata": {},
   "outputs": [
    {
     "data": {
      "text/plain": [
       "[<dimension \"sub-geo\": 21 levels>,\n",
       " <dimension \"src-geo\": 21 levels>,\n",
       " <dimension \"gender\": 4 levels>,\n",
       " <dimension \"occ\": 33 levels>,\n",
       " <dimension \"alpha\": 4 levels>,\n",
       " <dimension \"age\": 4 levels>,\n",
       " <dimension \"pop\": 4 levels>,\n",
       " <dimension \"langs\": 3 levels>]"
      ]
     },
     "execution_count": 25,
     "metadata": {},
     "output_type": "execute_result"
    }
   ],
   "source": [
    "dimensions"
   ]
>>>>>>> main
  }
 ],
 "metadata": {
  "jupytext": {
   "encoding": "# -*- coding: utf-8 -*-",
   "formats": "ipynb,py:percent"
  },
  "kernelspec": {
   "display_name": "Python 3 (ipykernel)",
   "language": "python",
   "name": "python3"
  },
  "language_info": {
   "codemirror_mode": {
    "name": "ipython",
    "version": 3
   },
   "file_extension": ".py",
   "mimetype": "text/x-python",
   "name": "python",
   "nbconvert_exporter": "python",
   "pygments_lexer": "ipython3",
   "version": "3.8.13"
  }
 },
 "nbformat": 4,
 "nbformat_minor": 5
}
