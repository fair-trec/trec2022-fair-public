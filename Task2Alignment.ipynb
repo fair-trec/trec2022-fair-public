{
 "cells": [
  {
   "cell_type": "markdown",
   "id": "4a1f8258",
   "metadata": {},
   "source": [
    "# Task 2 Alignment\n",
    "\n",
    "This notebook computes the target distributions and retrieved page alignments for **Task 2**.\n",
    "It depends on the output of the PageAlignments notebook, as imported by MetricInputs."
   ]
  },
  {
   "cell_type": "markdown",
   "id": "708161fe",
   "metadata": {},
   "source": [
    "This notebook can be run in two modes: 'train', to process the training topics, and 'eval' for the eval topics."
   ]
  },
  {
   "cell_type": "code",
   "execution_count": 1,
   "id": "d24320b4",
   "metadata": {
    "execution": {
     "iopub.execute_input": "2022-11-01T22:12:04.192965Z",
     "iopub.status.busy": "2022-11-01T22:12:04.192965Z",
     "iopub.status.idle": "2022-11-01T22:12:04.212500Z",
     "shell.execute_reply": "2022-11-01T22:12:04.211492Z"
    },
    "tags": [
     "parameters"
    ]
   },
   "outputs": [],
   "source": [
    "DATA_MODE = 'eval'"
   ]
  },
  {
   "cell_type": "markdown",
   "id": "c7f2d588",
   "metadata": {},
   "source": [
    "## Setup\n",
    "\n",
    "We begin by loading necessary libraries:"
   ]
  },
  {
   "cell_type": "code",
   "execution_count": 2,
   "id": "b979c0a3",
   "metadata": {
    "execution": {
     "iopub.execute_input": "2022-11-01T22:12:04.216498Z",
     "iopub.status.busy": "2022-11-01T22:12:04.216498Z",
     "iopub.status.idle": "2022-11-01T22:12:06.484220Z",
     "shell.execute_reply": "2022-11-01T22:12:06.484220Z"
    },
    "tags": []
   },
   "outputs": [],
   "source": [
    "import sys\n",
    "import operator\n",
    "from functools import reduce\n",
    "from itertools import product\n",
    "from collections import namedtuple\n",
    "from pathlib import Path\n",
    "import pandas as pd\n",
    "import xarray as xr\n",
    "import numpy as np\n",
    "import matplotlib.pyplot as plt\n",
    "import seaborn as sns\n",
    "import gzip\n",
    "import json\n",
    "from natural.size import binarysize"
   ]
  },
  {
   "cell_type": "markdown",
   "id": "d4ec1474",
   "metadata": {},
   "source": [
    "Set up progress bar and logging support:"
   ]
  },
  {
   "cell_type": "code",
   "execution_count": 3,
   "id": "639655ac",
   "metadata": {
    "execution": {
     "iopub.execute_input": "2022-11-01T22:12:06.489215Z",
     "iopub.status.busy": "2022-11-01T22:12:06.489215Z",
     "iopub.status.idle": "2022-11-01T22:12:06.515741Z",
     "shell.execute_reply": "2022-11-01T22:12:06.515741Z"
    }
   },
   "outputs": [],
   "source": [
    "from tqdm.auto import tqdm\n",
    "tqdm.pandas(leave=False)"
   ]
  },
  {
   "cell_type": "code",
   "execution_count": 4,
   "id": "32212ded",
   "metadata": {
    "execution": {
     "iopub.execute_input": "2022-11-01T22:12:06.519760Z",
     "iopub.status.busy": "2022-11-01T22:12:06.519760Z",
     "iopub.status.idle": "2022-11-01T22:12:06.531747Z",
     "shell.execute_reply": "2022-11-01T22:12:06.531747Z"
    },
    "tags": []
   },
   "outputs": [],
   "source": [
    "import sys, logging\n",
    "logging.basicConfig(level=logging.INFO, stream=sys.stderr)\n",
    "log = logging.getLogger('Task2Alignment')"
   ]
  },
  {
   "cell_type": "markdown",
   "id": "369de555",
   "metadata": {},
   "source": [
    "And set up an output directory:"
   ]
  },
  {
   "cell_type": "code",
   "execution_count": 5,
   "id": "02788756",
   "metadata": {
    "execution": {
     "iopub.execute_input": "2022-11-01T22:12:06.536742Z",
     "iopub.status.busy": "2022-11-01T22:12:06.536742Z",
     "iopub.status.idle": "2022-11-01T22:12:06.579705Z",
     "shell.execute_reply": "2022-11-01T22:12:06.578841Z"
    }
   },
   "outputs": [],
   "source": [
    "from wptrec.save import OutRepo\n",
    "output = OutRepo('data/metric-tables')"
   ]
  },
  {
   "cell_type": "code",
   "execution_count": 6,
   "id": "ea23c240-c161-4b8e-a200-c9b830b8e67b",
   "metadata": {
    "execution": {
     "iopub.execute_input": "2022-11-01T22:12:06.582704Z",
     "iopub.status.busy": "2022-11-01T22:12:06.582704Z",
     "iopub.status.idle": "2022-11-01T22:12:06.611592Z",
     "shell.execute_reply": "2022-11-01T22:12:06.610722Z"
    }
   },
   "outputs": [],
   "source": [
    "from wptrec import metrics\n",
    "from wptrec.dimension import sum_outer"
   ]
  },
  {
   "cell_type": "markdown",
   "id": "1332f75e-bd68-4c83-b888-67a44010d0f7",
   "metadata": {},
   "source": [
    "## Data and Helpers\n",
    "\n",
    "Most data loading is outsourced to `MetricInputs`.  First we save the data mode where metric inputs can find it:"
   ]
  },
  {
   "cell_type": "code",
   "execution_count": 7,
   "id": "9725d318-608b-4ae6-9ff1-be23af6eebb8",
   "metadata": {
    "execution": {
     "iopub.execute_input": "2022-11-01T22:12:06.614592Z",
     "iopub.status.busy": "2022-11-01T22:12:06.614592Z",
     "iopub.status.idle": "2022-11-01T22:12:06.626440Z",
     "shell.execute_reply": "2022-11-01T22:12:06.626440Z"
    }
   },
   "outputs": [],
   "source": [
    "import wptrec\n",
    "wptrec.DATA_MODE = DATA_MODE"
   ]
  },
  {
   "cell_type": "code",
   "execution_count": 8,
   "id": "410189f5-cc87-4e73-bb4e-7d917af62b78",
   "metadata": {
    "execution": {
     "iopub.execute_input": "2022-11-01T22:12:06.630386Z",
     "iopub.status.busy": "2022-11-01T22:12:06.629386Z",
     "iopub.status.idle": "2022-11-01T22:12:11.191946Z",
     "shell.execute_reply": "2022-11-01T22:12:11.191093Z"
    }
   },
   "outputs": [
    {
     "name": "stderr",
     "output_type": "stream",
     "text": [
      "INFO:MetricInputs:reading data\\metric-tables\\page-sub-geo-align.parquet\n"
     ]
    },
    {
     "name": "stderr",
     "output_type": "stream",
     "text": [
      "INFO:MetricInputs:reading data\\metric-tables\\page-src-geo-align.parquet\n"
     ]
    },
    {
     "name": "stderr",
     "output_type": "stream",
     "text": [
      "INFO:MetricInputs:reading data\\metric-tables\\page-gender-align.parquet\n"
     ]
    },
    {
     "name": "stderr",
     "output_type": "stream",
     "text": [
      "INFO:MetricInputs:reading data\\metric-tables\\page-occ-align.parquet\n"
     ]
    },
    {
     "name": "stderr",
     "output_type": "stream",
     "text": [
      "INFO:MetricInputs:reading data\\metric-tables\\page-alpha-align.parquet\n"
     ]
    },
    {
     "name": "stderr",
     "output_type": "stream",
     "text": [
      "INFO:MetricInputs:reading data\\metric-tables\\page-age-align.parquet\n"
     ]
    },
    {
     "name": "stderr",
     "output_type": "stream",
     "text": [
      "INFO:MetricInputs:reading data\\metric-tables\\page-pop-align.parquet\n"
     ]
    },
    {
     "name": "stderr",
     "output_type": "stream",
     "text": [
      "INFO:MetricInputs:reading data\\metric-tables\\page-langs-align.parquet\n"
     ]
    }
   ],
   "source": [
    "from MetricInputs import *"
   ]
  },
  {
   "cell_type": "code",
   "execution_count": 9,
   "id": "d1fa1114-b729-4ae6-8c5c-efead0b10a7b",
   "metadata": {
    "execution": {
     "iopub.execute_input": "2022-11-01T22:12:11.194964Z",
     "iopub.status.busy": "2022-11-01T22:12:11.194964Z",
     "iopub.status.idle": "2022-11-01T22:12:11.207982Z",
     "shell.execute_reply": "2022-11-01T22:12:11.207080Z"
    }
   },
   "outputs": [
    {
     "data": {
      "text/plain": [
       "[<dimension \"sub-geo\": 21 levels>,\n",
       " <dimension \"src-geo\": 21 levels>,\n",
       " <dimension \"gender\": 4 levels>,\n",
       " <dimension \"occ\": 33 levels>,\n",
       " <dimension \"alpha\": 4 levels>,\n",
       " <dimension \"age\": 4 levels>,\n",
       " <dimension \"pop\": 4 levels>,\n",
       " <dimension \"langs\": 3 levels>]"
      ]
     },
     "execution_count": 9,
     "metadata": {},
     "output_type": "execute_result"
    }
   ],
   "source": [
    "dimensions"
   ]
  },
  {
   "cell_type": "markdown",
   "id": "9aa6a9d5-efbe-4ef9-8dc4-212e5018b8ee",
   "metadata": {},
   "source": [
    "### qrel join\n",
    "\n",
    "We want a function to join alignments with qrels:"
   ]
  },
  {
   "cell_type": "code",
   "execution_count": 10,
   "id": "f03e4261-a9ca-427f-901e-a4571b844141",
   "metadata": {
    "execution": {
     "iopub.execute_input": "2022-11-01T22:12:11.210992Z",
     "iopub.status.busy": "2022-11-01T22:12:11.210992Z",
     "iopub.status.idle": "2022-11-01T22:12:11.223947Z",
     "shell.execute_reply": "2022-11-01T22:12:11.223081Z"
    }
   },
   "outputs": [],
   "source": [
    "def qr_join(align):\n",
    "    return qrels.join(align, on='page_id').set_index(['topic_id', 'page_id'])"
   ]
  },
  {
   "cell_type": "markdown",
   "id": "9c0a9401-546b-4d10-b9de-830a778946bd",
   "metadata": {},
   "source": [
    "### norm_dist\n",
    "\n",
    "And a function to normalize to a distribution:"
   ]
  },
  {
   "cell_type": "code",
   "execution_count": 11,
   "id": "fe8aca82-64b3-4d22-bc6b-431ff1e67342",
   "metadata": {
    "execution": {
     "iopub.execute_input": "2022-11-01T22:12:11.227946Z",
     "iopub.status.busy": "2022-11-01T22:12:11.226946Z",
     "iopub.status.idle": "2022-11-01T22:12:11.238376Z",
     "shell.execute_reply": "2022-11-01T22:12:11.238376Z"
    }
   },
   "outputs": [],
   "source": [
    "def norm_dist_df(mat):\n",
    "    sums = mat.sum('columns')\n",
    "    return mat.divide(sums, 'rows')"
   ]
  },
  {
   "cell_type": "markdown",
   "id": "c541f3eb",
   "metadata": {},
   "source": [
    "## Work and Target Exposure\n",
    "\n",
    "The first thing we need to do to prepare the metric is to compute the work-needed for each topic's pages, and use that to compute the target exposure for each (relevant) page in the topic.\n",
    "\n",
    "This is because an ideal ranking orders relevant documents in decreasing order of work needed, followed by irrelevant documents.  All relevant documents at a given work level should receive the same expected exposure.\n",
    "\n",
    "First, look up the work for each query page ('query page work', or qpw):"
   ]
  },
  {
   "cell_type": "code",
   "execution_count": 12,
   "id": "504fd5f3",
   "metadata": {
    "execution": {
     "iopub.execute_input": "2022-11-01T22:12:11.242264Z",
     "iopub.status.busy": "2022-11-01T22:12:11.242264Z",
     "iopub.status.idle": "2022-11-01T22:12:12.789480Z",
     "shell.execute_reply": "2022-11-01T22:12:12.789480Z"
    }
   },
   "outputs": [
    {
     "data": {
      "text/html": [
       "<div>\n",
       "<style scoped>\n",
       "    .dataframe tbody tr th:only-of-type {\n",
       "        vertical-align: middle;\n",
       "    }\n",
       "\n",
       "    .dataframe tbody tr th {\n",
       "        vertical-align: top;\n",
       "    }\n",
       "\n",
       "    .dataframe thead th {\n",
       "        text-align: right;\n",
       "    }\n",
       "</style>\n",
       "<table border=\"1\" class=\"dataframe\">\n",
       "  <thead>\n",
       "    <tr style=\"text-align: right;\">\n",
       "      <th></th>\n",
       "      <th>topic_id</th>\n",
       "      <th>page_id</th>\n",
       "      <th>quality</th>\n",
       "    </tr>\n",
       "  </thead>\n",
       "  <tbody>\n",
       "    <tr>\n",
       "      <th>0</th>\n",
       "      <td>187</td>\n",
       "      <td>682</td>\n",
       "      <td>B</td>\n",
       "    </tr>\n",
       "    <tr>\n",
       "      <th>1</th>\n",
       "      <td>187</td>\n",
       "      <td>954</td>\n",
       "      <td>C</td>\n",
       "    </tr>\n",
       "    <tr>\n",
       "      <th>2</th>\n",
       "      <td>187</td>\n",
       "      <td>1170</td>\n",
       "      <td>C</td>\n",
       "    </tr>\n",
       "    <tr>\n",
       "      <th>3</th>\n",
       "      <td>187</td>\n",
       "      <td>1315</td>\n",
       "      <td>B</td>\n",
       "    </tr>\n",
       "    <tr>\n",
       "      <th>4</th>\n",
       "      <td>187</td>\n",
       "      <td>1322</td>\n",
       "      <td>B</td>\n",
       "    </tr>\n",
       "    <tr>\n",
       "      <th>...</th>\n",
       "      <td>...</td>\n",
       "      <td>...</td>\n",
       "      <td>...</td>\n",
       "    </tr>\n",
       "    <tr>\n",
       "      <th>2737607</th>\n",
       "      <td>2872</td>\n",
       "      <td>69877511</td>\n",
       "      <td>Stub</td>\n",
       "    </tr>\n",
       "    <tr>\n",
       "      <th>2737608</th>\n",
       "      <td>2872</td>\n",
       "      <td>69878912</td>\n",
       "      <td>C</td>\n",
       "    </tr>\n",
       "    <tr>\n",
       "      <th>2737609</th>\n",
       "      <td>2872</td>\n",
       "      <td>69879322</td>\n",
       "      <td>Start</td>\n",
       "    </tr>\n",
       "    <tr>\n",
       "      <th>2737610</th>\n",
       "      <td>2872</td>\n",
       "      <td>69881345</td>\n",
       "      <td>Stub</td>\n",
       "    </tr>\n",
       "    <tr>\n",
       "      <th>2737611</th>\n",
       "      <td>2872</td>\n",
       "      <td>69883661</td>\n",
       "      <td>Start</td>\n",
       "    </tr>\n",
       "  </tbody>\n",
       "</table>\n",
       "<p>2737612 rows × 3 columns</p>\n",
       "</div>"
      ],
      "text/plain": [
       "         topic_id   page_id quality\n",
       "0             187       682       B\n",
       "1             187       954       C\n",
       "2             187      1170       C\n",
       "3             187      1315       B\n",
       "4             187      1322       B\n",
       "...           ...       ...     ...\n",
       "2737607      2872  69877511    Stub\n",
       "2737608      2872  69878912       C\n",
       "2737609      2872  69879322   Start\n",
       "2737610      2872  69881345    Stub\n",
       "2737611      2872  69883661   Start\n",
       "\n",
       "[2737612 rows x 3 columns]"
      ]
     },
     "execution_count": 12,
     "metadata": {},
     "output_type": "execute_result"
    }
   ],
   "source": [
    "qpw = qrels.join(page_quality, on='page_id')\n",
    "qpw"
   ]
  },
  {
   "cell_type": "markdown",
   "id": "92356276",
   "metadata": {},
   "source": [
    "And now  use that to compute the number of documents at each work level:"
   ]
  },
  {
   "cell_type": "code",
   "execution_count": 13,
   "id": "bafe6d00",
   "metadata": {
    "execution": {
     "iopub.execute_input": "2022-11-01T22:12:12.793698Z",
     "iopub.status.busy": "2022-11-01T22:12:12.793698Z",
     "iopub.status.idle": "2022-11-01T22:12:12.899578Z",
     "shell.execute_reply": "2022-11-01T22:12:12.898447Z"
    }
   },
   "outputs": [
    {
     "data": {
      "text/plain": [
       "topic_id  quality\n",
       "187       Stub       31076\n",
       "          Start      20015\n",
       "          C          11853\n",
       "          B           4146\n",
       "          GA          1479\n",
       "                     ...  \n",
       "2872      Start      21769\n",
       "          C           9480\n",
       "          B           2627\n",
       "          GA           806\n",
       "          FA            69\n",
       "Name: page_id, Length: 300, dtype: int64"
      ]
     },
     "execution_count": 13,
     "metadata": {},
     "output_type": "execute_result"
    }
   ],
   "source": [
    "qwork = qpw.groupby(['topic_id', 'quality'])['page_id'].count()\n",
    "qwork"
   ]
  },
  {
   "cell_type": "markdown",
   "id": "eba51fd9",
   "metadata": {},
   "source": [
    "Now we need to convert this into target exposure levels.  This function will, given a series of counts for each work level, compute the expected exposure a page at that work level should receive."
   ]
  },
  {
   "cell_type": "code",
   "execution_count": 14,
   "id": "72e22ea5",
   "metadata": {
    "execution": {
     "iopub.execute_input": "2022-11-01T22:12:12.916026Z",
     "iopub.status.busy": "2022-11-01T22:12:12.916026Z",
     "iopub.status.idle": "2022-11-01T22:12:12.930666Z",
     "shell.execute_reply": "2022-11-01T22:12:12.929761Z"
    }
   },
   "outputs": [],
   "source": [
    "def qw_tgt_exposure(qw_counts: pd.Series) -> pd.Series:\n",
    "    if 'topic_id' == qw_counts.index.names[0]:\n",
    "        qw_counts = qw_counts.reset_index(level='topic_id', drop=True)\n",
    "    qwc = qw_counts.reindex(work_order, fill_value=0).astype('i4')\n",
    "    tot = int(qwc.sum())\n",
    "    da = metrics.discount(tot)\n",
    "    qwp = qwc.shift(1, fill_value=0)\n",
    "    qwc_s = qwc.cumsum()\n",
    "    qwp_s = qwp.cumsum()\n",
    "    res = pd.Series(\n",
    "        [np.mean(da[s:e]) for (s, e) in zip(qwp_s, qwc_s)],\n",
    "        index=qwc.index\n",
    "    )\n",
    "    return res"
   ]
  },
  {
   "cell_type": "markdown",
   "id": "c3c56c2c",
   "metadata": {},
   "source": [
    "We'll then apply this to each topic, to determine the per-topic target exposures:"
   ]
  },
  {
   "cell_type": "code",
   "execution_count": 15,
   "id": "d96e7dc7",
   "metadata": {
    "execution": {
     "iopub.execute_input": "2022-11-01T22:12:12.934653Z",
     "iopub.status.busy": "2022-11-01T22:12:12.934653Z",
     "iopub.status.idle": "2022-11-01T22:12:13.088216Z",
     "shell.execute_reply": "2022-11-01T22:12:13.086211Z"
    }
   },
   "outputs": [
    {
     "name": "stderr",
     "output_type": "stream",
     "text": [
      "C:\\Users\\michaelekstrand\\mambaforge\\envs\\wtprec\\lib\\site-packages\\numpy\\core\\fromnumeric.py:3432: RuntimeWarning: Mean of empty slice.\n",
      "  return _methods._mean(a, axis=axis, dtype=dtype,\n",
      "C:\\Users\\michaelekstrand\\mambaforge\\envs\\wtprec\\lib\\site-packages\\numpy\\core\\_methods.py:190: RuntimeWarning: invalid value encountered in divide\n",
      "  ret = ret.dtype.type(ret / rcount)\n"
     ]
    },
    {
     "data": {
      "text/plain": [
       "topic_id  quality\n",
       "187       Stub       0.075443\n",
       "          Start      0.065321\n",
       "          C          0.063307\n",
       "          B          0.062546\n",
       "          GA         0.062307\n",
       "                       ...   \n",
       "2872      Start      0.062570\n",
       "          C          0.061352\n",
       "          B          0.060958\n",
       "          GA         0.060853\n",
       "          FA         0.060827\n",
       "Name: tgt_exposure, Length: 300, dtype: float32"
      ]
     },
     "execution_count": 15,
     "metadata": {},
     "output_type": "execute_result"
    }
   ],
   "source": [
    "qw_pp_target = qwork.groupby('topic_id').apply(qw_tgt_exposure)\n",
    "qw_pp_target.name = 'tgt_exposure'\n",
    "qw_pp_target"
   ]
  },
  {
   "cell_type": "markdown",
   "id": "8aba5221",
   "metadata": {},
   "source": [
    "We can now merge the relevant document work categories with this exposure, to compute the target exposure for each relevant document:"
   ]
  },
  {
   "cell_type": "code",
   "execution_count": 16,
   "id": "7af3d40c",
   "metadata": {
    "execution": {
     "iopub.execute_input": "2022-11-01T22:12:13.093198Z",
     "iopub.status.busy": "2022-11-01T22:12:13.093198Z",
     "iopub.status.idle": "2022-11-01T22:12:14.088489Z",
     "shell.execute_reply": "2022-11-01T22:12:14.087489Z"
    }
   },
   "outputs": [
    {
     "data": {
      "text/plain": [
       "topic_id  page_id \n",
       "187       682         0.062546\n",
       "          954         0.063307\n",
       "          1170        0.063307\n",
       "          1315        0.062546\n",
       "          1322        0.062546\n",
       "                        ...   \n",
       "2872      69877511    0.071035\n",
       "          69878912    0.061352\n",
       "          69879322    0.062570\n",
       "          69881345    0.071035\n",
       "          69883661    0.062570\n",
       "Name: tgt_exposure, Length: 2737612, dtype: float32"
      ]
     },
     "execution_count": 16,
     "metadata": {},
     "output_type": "execute_result"
    }
   ],
   "source": [
    "qp_exp = qpw.join(qw_pp_target, on=['topic_id', 'quality'])\n",
    "qp_exp = qp_exp.set_index(['topic_id', 'page_id'])['tgt_exposure']\n",
    "qp_exp"
   ]
  },
  {
   "cell_type": "markdown",
   "id": "8e975036-deef-4240-acf8-7b050b1cb485",
   "metadata": {},
   "source": [
    "## Subject Geography\n",
    "\n",
    "Subject geography targets the average of the relevant set alignments and the world population."
   ]
  },
  {
   "cell_type": "code",
   "execution_count": 17,
   "id": "d08efb3c-50ba-4027-8b62-bf8d88268476",
   "metadata": {
    "execution": {
     "iopub.execute_input": "2022-11-01T22:12:14.093509Z",
     "iopub.status.busy": "2022-11-01T22:12:14.093509Z",
     "iopub.status.idle": "2022-11-01T22:12:17.115779Z",
     "shell.execute_reply": "2022-11-01T22:12:17.114818Z"
    }
   },
   "outputs": [
    {
     "data": {
      "text/html": [
       "<div>\n",
       "<style scoped>\n",
       "    .dataframe tbody tr th:only-of-type {\n",
       "        vertical-align: middle;\n",
       "    }\n",
       "\n",
       "    .dataframe tbody tr th {\n",
       "        vertical-align: top;\n",
       "    }\n",
       "\n",
       "    .dataframe thead th {\n",
       "        text-align: right;\n",
       "    }\n",
       "</style>\n",
       "<table border=\"1\" class=\"dataframe\">\n",
       "  <thead>\n",
       "    <tr style=\"text-align: right;\">\n",
       "      <th></th>\n",
       "      <th></th>\n",
       "      <th>@UNKNOWN</th>\n",
       "      <th>Antarctica</th>\n",
       "      <th>Caribbean</th>\n",
       "      <th>Central America</th>\n",
       "      <th>Central Asia</th>\n",
       "      <th>Eastern Africa</th>\n",
       "      <th>Eastern Asia</th>\n",
       "      <th>Eastern Europe</th>\n",
       "      <th>Middle Africa</th>\n",
       "      <th>Northern Africa</th>\n",
       "      <th>...</th>\n",
       "      <th>Northern Europe</th>\n",
       "      <th>Oceania</th>\n",
       "      <th>South America</th>\n",
       "      <th>South-eastern Asia</th>\n",
       "      <th>Southern Africa</th>\n",
       "      <th>Southern Asia</th>\n",
       "      <th>Southern Europe</th>\n",
       "      <th>Western Africa</th>\n",
       "      <th>Western Asia</th>\n",
       "      <th>Western Europe</th>\n",
       "    </tr>\n",
       "    <tr>\n",
       "      <th>topic_id</th>\n",
       "      <th>page_id</th>\n",
       "      <th></th>\n",
       "      <th></th>\n",
       "      <th></th>\n",
       "      <th></th>\n",
       "      <th></th>\n",
       "      <th></th>\n",
       "      <th></th>\n",
       "      <th></th>\n",
       "      <th></th>\n",
       "      <th></th>\n",
       "      <th></th>\n",
       "      <th></th>\n",
       "      <th></th>\n",
       "      <th></th>\n",
       "      <th></th>\n",
       "      <th></th>\n",
       "      <th></th>\n",
       "      <th></th>\n",
       "      <th></th>\n",
       "      <th></th>\n",
       "      <th></th>\n",
       "    </tr>\n",
       "  </thead>\n",
       "  <tbody>\n",
       "    <tr>\n",
       "      <th rowspan=\"5\" valign=\"top\">187</th>\n",
       "      <th>682</th>\n",
       "      <td>1.0</td>\n",
       "      <td>0.0</td>\n",
       "      <td>0.0</td>\n",
       "      <td>0.0</td>\n",
       "      <td>0.0</td>\n",
       "      <td>0.0</td>\n",
       "      <td>0.0</td>\n",
       "      <td>0.0</td>\n",
       "      <td>0.0</td>\n",
       "      <td>0.0</td>\n",
       "      <td>...</td>\n",
       "      <td>0.0</td>\n",
       "      <td>0.0</td>\n",
       "      <td>0.0</td>\n",
       "      <td>0.0</td>\n",
       "      <td>0.0</td>\n",
       "      <td>0.0</td>\n",
       "      <td>0.0</td>\n",
       "      <td>0.0</td>\n",
       "      <td>0.0</td>\n",
       "      <td>0.0</td>\n",
       "    </tr>\n",
       "    <tr>\n",
       "      <th>954</th>\n",
       "      <td>0.0</td>\n",
       "      <td>0.0</td>\n",
       "      <td>0.0</td>\n",
       "      <td>0.0</td>\n",
       "      <td>0.0</td>\n",
       "      <td>0.0</td>\n",
       "      <td>0.0</td>\n",
       "      <td>0.0</td>\n",
       "      <td>0.0</td>\n",
       "      <td>0.0</td>\n",
       "      <td>...</td>\n",
       "      <td>0.0</td>\n",
       "      <td>0.0</td>\n",
       "      <td>0.0</td>\n",
       "      <td>0.0</td>\n",
       "      <td>0.0</td>\n",
       "      <td>0.0</td>\n",
       "      <td>0.0</td>\n",
       "      <td>0.0</td>\n",
       "      <td>0.0</td>\n",
       "      <td>1.0</td>\n",
       "    </tr>\n",
       "    <tr>\n",
       "      <th>1170</th>\n",
       "      <td>1.0</td>\n",
       "      <td>0.0</td>\n",
       "      <td>0.0</td>\n",
       "      <td>0.0</td>\n",
       "      <td>0.0</td>\n",
       "      <td>0.0</td>\n",
       "      <td>0.0</td>\n",
       "      <td>0.0</td>\n",
       "      <td>0.0</td>\n",
       "      <td>0.0</td>\n",
       "      <td>...</td>\n",
       "      <td>0.0</td>\n",
       "      <td>0.0</td>\n",
       "      <td>0.0</td>\n",
       "      <td>0.0</td>\n",
       "      <td>0.0</td>\n",
       "      <td>0.0</td>\n",
       "      <td>0.0</td>\n",
       "      <td>0.0</td>\n",
       "      <td>0.0</td>\n",
       "      <td>0.0</td>\n",
       "    </tr>\n",
       "    <tr>\n",
       "      <th>1315</th>\n",
       "      <td>1.0</td>\n",
       "      <td>0.0</td>\n",
       "      <td>0.0</td>\n",
       "      <td>0.0</td>\n",
       "      <td>0.0</td>\n",
       "      <td>0.0</td>\n",
       "      <td>0.0</td>\n",
       "      <td>0.0</td>\n",
       "      <td>0.0</td>\n",
       "      <td>0.0</td>\n",
       "      <td>...</td>\n",
       "      <td>0.0</td>\n",
       "      <td>0.0</td>\n",
       "      <td>0.0</td>\n",
       "      <td>0.0</td>\n",
       "      <td>0.0</td>\n",
       "      <td>0.0</td>\n",
       "      <td>0.0</td>\n",
       "      <td>0.0</td>\n",
       "      <td>0.0</td>\n",
       "      <td>0.0</td>\n",
       "    </tr>\n",
       "    <tr>\n",
       "      <th>1322</th>\n",
       "      <td>0.0</td>\n",
       "      <td>0.0</td>\n",
       "      <td>0.0</td>\n",
       "      <td>0.0</td>\n",
       "      <td>0.0</td>\n",
       "      <td>0.0</td>\n",
       "      <td>0.0</td>\n",
       "      <td>0.0</td>\n",
       "      <td>0.0</td>\n",
       "      <td>0.0</td>\n",
       "      <td>...</td>\n",
       "      <td>0.0</td>\n",
       "      <td>0.0</td>\n",
       "      <td>0.0</td>\n",
       "      <td>0.0</td>\n",
       "      <td>0.0</td>\n",
       "      <td>0.0</td>\n",
       "      <td>1.0</td>\n",
       "      <td>0.0</td>\n",
       "      <td>0.0</td>\n",
       "      <td>0.0</td>\n",
       "    </tr>\n",
       "    <tr>\n",
       "      <th>...</th>\n",
       "      <th>...</th>\n",
       "      <td>...</td>\n",
       "      <td>...</td>\n",
       "      <td>...</td>\n",
       "      <td>...</td>\n",
       "      <td>...</td>\n",
       "      <td>...</td>\n",
       "      <td>...</td>\n",
       "      <td>...</td>\n",
       "      <td>...</td>\n",
       "      <td>...</td>\n",
       "      <td>...</td>\n",
       "      <td>...</td>\n",
       "      <td>...</td>\n",
       "      <td>...</td>\n",
       "      <td>...</td>\n",
       "      <td>...</td>\n",
       "      <td>...</td>\n",
       "      <td>...</td>\n",
       "      <td>...</td>\n",
       "      <td>...</td>\n",
       "      <td>...</td>\n",
       "    </tr>\n",
       "    <tr>\n",
       "      <th rowspan=\"5\" valign=\"top\">2872</th>\n",
       "      <th>69877511</th>\n",
       "      <td>1.0</td>\n",
       "      <td>0.0</td>\n",
       "      <td>0.0</td>\n",
       "      <td>0.0</td>\n",
       "      <td>0.0</td>\n",
       "      <td>0.0</td>\n",
       "      <td>0.0</td>\n",
       "      <td>0.0</td>\n",
       "      <td>0.0</td>\n",
       "      <td>0.0</td>\n",
       "      <td>...</td>\n",
       "      <td>0.0</td>\n",
       "      <td>0.0</td>\n",
       "      <td>0.0</td>\n",
       "      <td>0.0</td>\n",
       "      <td>0.0</td>\n",
       "      <td>0.0</td>\n",
       "      <td>0.0</td>\n",
       "      <td>0.0</td>\n",
       "      <td>0.0</td>\n",
       "      <td>0.0</td>\n",
       "    </tr>\n",
       "    <tr>\n",
       "      <th>69878912</th>\n",
       "      <td>1.0</td>\n",
       "      <td>0.0</td>\n",
       "      <td>0.0</td>\n",
       "      <td>0.0</td>\n",
       "      <td>0.0</td>\n",
       "      <td>0.0</td>\n",
       "      <td>0.0</td>\n",
       "      <td>0.0</td>\n",
       "      <td>0.0</td>\n",
       "      <td>0.0</td>\n",
       "      <td>...</td>\n",
       "      <td>0.0</td>\n",
       "      <td>0.0</td>\n",
       "      <td>0.0</td>\n",
       "      <td>0.0</td>\n",
       "      <td>0.0</td>\n",
       "      <td>0.0</td>\n",
       "      <td>0.0</td>\n",
       "      <td>0.0</td>\n",
       "      <td>0.0</td>\n",
       "      <td>0.0</td>\n",
       "    </tr>\n",
       "    <tr>\n",
       "      <th>69879322</th>\n",
       "      <td>1.0</td>\n",
       "      <td>0.0</td>\n",
       "      <td>0.0</td>\n",
       "      <td>0.0</td>\n",
       "      <td>0.0</td>\n",
       "      <td>0.0</td>\n",
       "      <td>0.0</td>\n",
       "      <td>0.0</td>\n",
       "      <td>0.0</td>\n",
       "      <td>0.0</td>\n",
       "      <td>...</td>\n",
       "      <td>0.0</td>\n",
       "      <td>0.0</td>\n",
       "      <td>0.0</td>\n",
       "      <td>0.0</td>\n",
       "      <td>0.0</td>\n",
       "      <td>0.0</td>\n",
       "      <td>0.0</td>\n",
       "      <td>0.0</td>\n",
       "      <td>0.0</td>\n",
       "      <td>0.0</td>\n",
       "    </tr>\n",
       "    <tr>\n",
       "      <th>69881345</th>\n",
       "      <td>0.0</td>\n",
       "      <td>0.0</td>\n",
       "      <td>0.0</td>\n",
       "      <td>0.0</td>\n",
       "      <td>0.0</td>\n",
       "      <td>0.0</td>\n",
       "      <td>0.0</td>\n",
       "      <td>0.0</td>\n",
       "      <td>0.0</td>\n",
       "      <td>0.0</td>\n",
       "      <td>...</td>\n",
       "      <td>0.0</td>\n",
       "      <td>0.0</td>\n",
       "      <td>0.0</td>\n",
       "      <td>1.0</td>\n",
       "      <td>0.0</td>\n",
       "      <td>0.0</td>\n",
       "      <td>0.0</td>\n",
       "      <td>0.0</td>\n",
       "      <td>0.0</td>\n",
       "      <td>0.0</td>\n",
       "    </tr>\n",
       "    <tr>\n",
       "      <th>69883661</th>\n",
       "      <td>1.0</td>\n",
       "      <td>0.0</td>\n",
       "      <td>0.0</td>\n",
       "      <td>0.0</td>\n",
       "      <td>0.0</td>\n",
       "      <td>0.0</td>\n",
       "      <td>0.0</td>\n",
       "      <td>0.0</td>\n",
       "      <td>0.0</td>\n",
       "      <td>0.0</td>\n",
       "      <td>...</td>\n",
       "      <td>0.0</td>\n",
       "      <td>0.0</td>\n",
       "      <td>0.0</td>\n",
       "      <td>0.0</td>\n",
       "      <td>0.0</td>\n",
       "      <td>0.0</td>\n",
       "      <td>0.0</td>\n",
       "      <td>0.0</td>\n",
       "      <td>0.0</td>\n",
       "      <td>0.0</td>\n",
       "    </tr>\n",
       "  </tbody>\n",
       "</table>\n",
       "<p>2737612 rows × 21 columns</p>\n",
       "</div>"
      ],
      "text/plain": [
       "                   @UNKNOWN  Antarctica  Caribbean  Central America  \\\n",
       "topic_id page_id                                                      \n",
       "187      682            1.0         0.0        0.0              0.0   \n",
       "         954            0.0         0.0        0.0              0.0   \n",
       "         1170           1.0         0.0        0.0              0.0   \n",
       "         1315           1.0         0.0        0.0              0.0   \n",
       "         1322           0.0         0.0        0.0              0.0   \n",
       "...                     ...         ...        ...              ...   \n",
       "2872     69877511       1.0         0.0        0.0              0.0   \n",
       "         69878912       1.0         0.0        0.0              0.0   \n",
       "         69879322       1.0         0.0        0.0              0.0   \n",
       "         69881345       0.0         0.0        0.0              0.0   \n",
       "         69883661       1.0         0.0        0.0              0.0   \n",
       "\n",
       "                   Central Asia  Eastern Africa  Eastern Asia  Eastern Europe  \\\n",
       "topic_id page_id                                                                \n",
       "187      682                0.0             0.0           0.0             0.0   \n",
       "         954                0.0             0.0           0.0             0.0   \n",
       "         1170               0.0             0.0           0.0             0.0   \n",
       "         1315               0.0             0.0           0.0             0.0   \n",
       "         1322               0.0             0.0           0.0             0.0   \n",
       "...                         ...             ...           ...             ...   \n",
       "2872     69877511           0.0             0.0           0.0             0.0   \n",
       "         69878912           0.0             0.0           0.0             0.0   \n",
       "         69879322           0.0             0.0           0.0             0.0   \n",
       "         69881345           0.0             0.0           0.0             0.0   \n",
       "         69883661           0.0             0.0           0.0             0.0   \n",
       "\n",
       "                   Middle Africa  Northern Africa  ...  Northern Europe  \\\n",
       "topic_id page_id                                   ...                    \n",
       "187      682                 0.0              0.0  ...              0.0   \n",
       "         954                 0.0              0.0  ...              0.0   \n",
       "         1170                0.0              0.0  ...              0.0   \n",
       "         1315                0.0              0.0  ...              0.0   \n",
       "         1322                0.0              0.0  ...              0.0   \n",
       "...                          ...              ...  ...              ...   \n",
       "2872     69877511            0.0              0.0  ...              0.0   \n",
       "         69878912            0.0              0.0  ...              0.0   \n",
       "         69879322            0.0              0.0  ...              0.0   \n",
       "         69881345            0.0              0.0  ...              0.0   \n",
       "         69883661            0.0              0.0  ...              0.0   \n",
       "\n",
       "                   Oceania  South America  South-eastern Asia  \\\n",
       "topic_id page_id                                                \n",
       "187      682           0.0            0.0                 0.0   \n",
       "         954           0.0            0.0                 0.0   \n",
       "         1170          0.0            0.0                 0.0   \n",
       "         1315          0.0            0.0                 0.0   \n",
       "         1322          0.0            0.0                 0.0   \n",
       "...                    ...            ...                 ...   \n",
       "2872     69877511      0.0            0.0                 0.0   \n",
       "         69878912      0.0            0.0                 0.0   \n",
       "         69879322      0.0            0.0                 0.0   \n",
       "         69881345      0.0            0.0                 1.0   \n",
       "         69883661      0.0            0.0                 0.0   \n",
       "\n",
       "                   Southern Africa  Southern Asia  Southern Europe  \\\n",
       "topic_id page_id                                                     \n",
       "187      682                   0.0            0.0              0.0   \n",
       "         954                   0.0            0.0              0.0   \n",
       "         1170                  0.0            0.0              0.0   \n",
       "         1315                  0.0            0.0              0.0   \n",
       "         1322                  0.0            0.0              1.0   \n",
       "...                            ...            ...              ...   \n",
       "2872     69877511              0.0            0.0              0.0   \n",
       "         69878912              0.0            0.0              0.0   \n",
       "         69879322              0.0            0.0              0.0   \n",
       "         69881345              0.0            0.0              0.0   \n",
       "         69883661              0.0            0.0              0.0   \n",
       "\n",
       "                   Western Africa  Western Asia  Western Europe  \n",
       "topic_id page_id                                                 \n",
       "187      682                  0.0           0.0             0.0  \n",
       "         954                  0.0           0.0             1.0  \n",
       "         1170                 0.0           0.0             0.0  \n",
       "         1315                 0.0           0.0             0.0  \n",
       "         1322                 0.0           0.0             0.0  \n",
       "...                           ...           ...             ...  \n",
       "2872     69877511             0.0           0.0             0.0  \n",
       "         69878912             0.0           0.0             0.0  \n",
       "         69879322             0.0           0.0             0.0  \n",
       "         69881345             0.0           0.0             0.0  \n",
       "         69883661             0.0           0.0             0.0  \n",
       "\n",
       "[2737612 rows x 21 columns]"
      ]
     },
     "execution_count": 17,
     "metadata": {},
     "output_type": "execute_result"
    }
   ],
   "source": [
    "qr_sub_geo_align = qr_join(sub_geo_align)\n",
    "qr_sub_geo_align"
   ]
  },
  {
   "cell_type": "markdown",
   "id": "4a20ac65-a373-4df4-a4d0-15010530f253",
   "metadata": {},
   "source": [
    "Compute a raw target, factoring in weights:"
   ]
  },
  {
   "cell_type": "code",
   "execution_count": 18,
   "id": "5f07bc9b",
   "metadata": {
    "execution": {
     "iopub.execute_input": "2022-11-01T22:12:17.119786Z",
     "iopub.status.busy": "2022-11-01T22:12:17.118777Z",
     "iopub.status.idle": "2022-11-01T22:12:17.571093Z",
     "shell.execute_reply": "2022-11-01T22:12:17.569130Z"
    }
   },
   "outputs": [],
   "source": [
    "qr_sub_geo_tgt = qr_sub_geo_align.multiply(qp_exp, axis='rows').groupby('topic_id').sum()"
   ]
  },
  {
   "cell_type": "markdown",
   "id": "8fc3d349-d5f3-43e9-9d70-5c723210b82f",
   "metadata": {},
   "source": [
    "And now we need to average the known-geo with the background."
   ]
  },
  {
   "cell_type": "code",
   "execution_count": 19,
   "id": "cfc0f2bf-9823-4f7c-9f47-2d60321ec98d",
   "metadata": {
    "execution": {
     "iopub.execute_input": "2022-11-01T22:12:17.575282Z",
     "iopub.status.busy": "2022-11-01T22:12:17.574336Z",
     "iopub.status.idle": "2022-11-01T22:12:17.614875Z",
     "shell.execute_reply": "2022-11-01T22:12:17.613966Z"
    }
   },
   "outputs": [
    {
     "data": {
      "text/html": [
       "<div>\n",
       "<style scoped>\n",
       "    .dataframe tbody tr th:only-of-type {\n",
       "        vertical-align: middle;\n",
       "    }\n",
       "\n",
       "    .dataframe tbody tr th {\n",
       "        vertical-align: top;\n",
       "    }\n",
       "\n",
       "    .dataframe thead th {\n",
       "        text-align: right;\n",
       "    }\n",
       "</style>\n",
       "<table border=\"1\" class=\"dataframe\">\n",
       "  <thead>\n",
       "    <tr style=\"text-align: right;\">\n",
       "      <th></th>\n",
       "      <th>@UNKNOWN</th>\n",
       "      <th>Antarctica</th>\n",
       "      <th>Caribbean</th>\n",
       "      <th>Central America</th>\n",
       "      <th>Central Asia</th>\n",
       "      <th>Eastern Africa</th>\n",
       "      <th>Eastern Asia</th>\n",
       "      <th>Eastern Europe</th>\n",
       "      <th>Middle Africa</th>\n",
       "      <th>Northern Africa</th>\n",
       "      <th>...</th>\n",
       "      <th>Northern Europe</th>\n",
       "      <th>Oceania</th>\n",
       "      <th>South America</th>\n",
       "      <th>South-eastern Asia</th>\n",
       "      <th>Southern Africa</th>\n",
       "      <th>Southern Asia</th>\n",
       "      <th>Southern Europe</th>\n",
       "      <th>Western Africa</th>\n",
       "      <th>Western Asia</th>\n",
       "      <th>Western Europe</th>\n",
       "    </tr>\n",
       "    <tr>\n",
       "      <th>topic_id</th>\n",
       "      <th></th>\n",
       "      <th></th>\n",
       "      <th></th>\n",
       "      <th></th>\n",
       "      <th></th>\n",
       "      <th></th>\n",
       "      <th></th>\n",
       "      <th></th>\n",
       "      <th></th>\n",
       "      <th></th>\n",
       "      <th></th>\n",
       "      <th></th>\n",
       "      <th></th>\n",
       "      <th></th>\n",
       "      <th></th>\n",
       "      <th></th>\n",
       "      <th></th>\n",
       "      <th></th>\n",
       "      <th></th>\n",
       "      <th></th>\n",
       "      <th></th>\n",
       "    </tr>\n",
       "  </thead>\n",
       "  <tbody>\n",
       "    <tr>\n",
       "      <th>187</th>\n",
       "      <td>758.390795</td>\n",
       "      <td>0.000309</td>\n",
       "      <td>19.328449</td>\n",
       "      <td>59.318134</td>\n",
       "      <td>21.122305</td>\n",
       "      <td>109.070472</td>\n",
       "      <td>538.041050</td>\n",
       "      <td>160.059755</td>\n",
       "      <td>39.543253</td>\n",
       "      <td>70.002691</td>\n",
       "      <td>...</td>\n",
       "      <td>629.703684</td>\n",
       "      <td>93.268184</td>\n",
       "      <td>144.134466</td>\n",
       "      <td>206.460548</td>\n",
       "      <td>22.555736</td>\n",
       "      <td>554.706743</td>\n",
       "      <td>289.109630</td>\n",
       "      <td>97.058510</td>\n",
       "      <td>112.506820</td>\n",
       "      <td>279.935254</td>\n",
       "    </tr>\n",
       "    <tr>\n",
       "      <th>270</th>\n",
       "      <td>967.129024</td>\n",
       "      <td>0.000233</td>\n",
       "      <td>69.231601</td>\n",
       "      <td>59.217295</td>\n",
       "      <td>23.466741</td>\n",
       "      <td>147.703296</td>\n",
       "      <td>423.954414</td>\n",
       "      <td>216.488611</td>\n",
       "      <td>39.756533</td>\n",
       "      <td>68.587236</td>\n",
       "      <td>...</td>\n",
       "      <td>234.564466</td>\n",
       "      <td>82.918686</td>\n",
       "      <td>151.424207</td>\n",
       "      <td>154.497647</td>\n",
       "      <td>35.594573</td>\n",
       "      <td>402.112346</td>\n",
       "      <td>174.454966</td>\n",
       "      <td>106.516209</td>\n",
       "      <td>91.341129</td>\n",
       "      <td>224.075828</td>\n",
       "    </tr>\n",
       "    <tr>\n",
       "      <th>359</th>\n",
       "      <td>641.628435</td>\n",
       "      <td>0.000220</td>\n",
       "      <td>59.452325</td>\n",
       "      <td>50.316697</td>\n",
       "      <td>12.890808</td>\n",
       "      <td>74.364014</td>\n",
       "      <td>418.392361</td>\n",
       "      <td>59.464259</td>\n",
       "      <td>27.060083</td>\n",
       "      <td>41.801031</td>\n",
       "      <td>...</td>\n",
       "      <td>23.286746</td>\n",
       "      <td>19.606259</td>\n",
       "      <td>102.636117</td>\n",
       "      <td>124.679452</td>\n",
       "      <td>12.871306</td>\n",
       "      <td>348.961634</td>\n",
       "      <td>36.449902</td>\n",
       "      <td>66.136114</td>\n",
       "      <td>49.743391</td>\n",
       "      <td>42.552754</td>\n",
       "    </tr>\n",
       "    <tr>\n",
       "      <th>365</th>\n",
       "      <td>481.821710</td>\n",
       "      <td>0.000148</td>\n",
       "      <td>18.649567</td>\n",
       "      <td>31.101461</td>\n",
       "      <td>9.853304</td>\n",
       "      <td>53.778891</td>\n",
       "      <td>251.973232</td>\n",
       "      <td>88.152130</td>\n",
       "      <td>28.231344</td>\n",
       "      <td>36.627649</td>\n",
       "      <td>...</td>\n",
       "      <td>70.381866</td>\n",
       "      <td>38.938076</td>\n",
       "      <td>88.112552</td>\n",
       "      <td>128.244847</td>\n",
       "      <td>9.595809</td>\n",
       "      <td>242.239786</td>\n",
       "      <td>158.985835</td>\n",
       "      <td>58.330269</td>\n",
       "      <td>70.821535</td>\n",
       "      <td>78.130276</td>\n",
       "    </tr>\n",
       "    <tr>\n",
       "      <th>400</th>\n",
       "      <td>2137.392223</td>\n",
       "      <td>0.000465</td>\n",
       "      <td>39.636681</td>\n",
       "      <td>106.665337</td>\n",
       "      <td>28.905838</td>\n",
       "      <td>168.787290</td>\n",
       "      <td>825.397926</td>\n",
       "      <td>224.909498</td>\n",
       "      <td>61.032641</td>\n",
       "      <td>101.411871</td>\n",
       "      <td>...</td>\n",
       "      <td>623.047574</td>\n",
       "      <td>189.240030</td>\n",
       "      <td>250.638365</td>\n",
       "      <td>297.782968</td>\n",
       "      <td>44.412480</td>\n",
       "      <td>820.697054</td>\n",
       "      <td>224.451157</td>\n",
       "      <td>154.170802</td>\n",
       "      <td>152.891150</td>\n",
       "      <td>466.963698</td>\n",
       "    </tr>\n",
       "  </tbody>\n",
       "</table>\n",
       "<p>5 rows × 21 columns</p>\n",
       "</div>"
      ],
      "text/plain": [
       "             @UNKNOWN  Antarctica  Caribbean  Central America  Central Asia  \\\n",
       "topic_id                                                                      \n",
       "187        758.390795    0.000309  19.328449        59.318134     21.122305   \n",
       "270        967.129024    0.000233  69.231601        59.217295     23.466741   \n",
       "359        641.628435    0.000220  59.452325        50.316697     12.890808   \n",
       "365        481.821710    0.000148  18.649567        31.101461      9.853304   \n",
       "400       2137.392223    0.000465  39.636681       106.665337     28.905838   \n",
       "\n",
       "          Eastern Africa  Eastern Asia  Eastern Europe  Middle Africa  \\\n",
       "topic_id                                                                \n",
       "187           109.070472    538.041050      160.059755      39.543253   \n",
       "270           147.703296    423.954414      216.488611      39.756533   \n",
       "359            74.364014    418.392361       59.464259      27.060083   \n",
       "365            53.778891    251.973232       88.152130      28.231344   \n",
       "400           168.787290    825.397926      224.909498      61.032641   \n",
       "\n",
       "          Northern Africa  ...  Northern Europe     Oceania  South America  \\\n",
       "topic_id                   ...                                               \n",
       "187             70.002691  ...       629.703684   93.268184     144.134466   \n",
       "270             68.587236  ...       234.564466   82.918686     151.424207   \n",
       "359             41.801031  ...        23.286746   19.606259     102.636117   \n",
       "365             36.627649  ...        70.381866   38.938076      88.112552   \n",
       "400            101.411871  ...       623.047574  189.240030     250.638365   \n",
       "\n",
       "          South-eastern Asia  Southern Africa  Southern Asia  Southern Europe  \\\n",
       "topic_id                                                                        \n",
       "187               206.460548        22.555736     554.706743       289.109630   \n",
       "270               154.497647        35.594573     402.112346       174.454966   \n",
       "359               124.679452        12.871306     348.961634        36.449902   \n",
       "365               128.244847         9.595809     242.239786       158.985835   \n",
       "400               297.782968        44.412480     820.697054       224.451157   \n",
       "\n",
       "          Western Africa  Western Asia  Western Europe  \n",
       "topic_id                                                \n",
       "187            97.058510    112.506820      279.935254  \n",
       "270           106.516209     91.341129      224.075828  \n",
       "359            66.136114     49.743391       42.552754  \n",
       "365            58.330269     70.821535       78.130276  \n",
       "400           154.170802    152.891150      466.963698  \n",
       "\n",
       "[5 rows x 21 columns]"
      ]
     },
     "execution_count": 19,
     "metadata": {},
     "output_type": "execute_result"
    }
   ],
   "source": [
    "qr_sub_geo_fk = qr_sub_geo_tgt.iloc[:, 1:].sum('columns')\n",
    "qr_sub_geo_tgt.iloc[:, 1:] *= 0.5\n",
    "qr_sub_geo_tgt.iloc[:, 1:] += qr_sub_geo_fk.apply(lambda k: world_pop * k * 0.5)\n",
    "qr_sub_geo_tgt.head()"
   ]
  },
  {
   "cell_type": "markdown",
   "id": "11f2920b-849d-4398-a9ff-7f9a9b00c317",
   "metadata": {},
   "source": [
    "These are **not** distributions, let's fix that!"
   ]
  },
  {
   "cell_type": "code",
   "execution_count": 20,
   "id": "051e7233-a9bf-4c16-9ef5-922d7d542ee3",
   "metadata": {
    "execution": {
     "iopub.execute_input": "2022-11-01T22:12:17.618834Z",
     "iopub.status.busy": "2022-11-01T22:12:17.617852Z",
     "iopub.status.idle": "2022-11-01T22:12:17.630611Z",
     "shell.execute_reply": "2022-11-01T22:12:17.629731Z"
    }
   },
   "outputs": [],
   "source": [
    "qr_sub_geo_tgt = norm_dist_df(qr_sub_geo_tgt)"
   ]
  },
  {
   "cell_type": "code",
   "execution_count": 21,
   "id": "3b0cc18d-f55d-4eb3-b775-b205c10efb4f",
   "metadata": {
    "execution": {
     "iopub.execute_input": "2022-11-01T22:12:17.634587Z",
     "iopub.status.busy": "2022-11-01T22:12:17.633587Z",
     "iopub.status.idle": "2022-11-01T22:12:17.677310Z",
     "shell.execute_reply": "2022-11-01T22:12:17.676303Z"
    }
   },
   "outputs": [
    {
     "name": "stderr",
     "output_type": "stream",
     "text": [
      "INFO:wptrec.save:saving CSV to data\\metric-tables\\task2-eval-sub-geo-target.csv.gz\n"
     ]
    },
    {
     "name": "stderr",
     "output_type": "stream",
     "text": [
      "INFO:wptrec.save:data\\metric-tables\\task2-eval-sub-geo-target.csv.gz: 10.67 KiB\n"
     ]
    },
    {
     "name": "stderr",
     "output_type": "stream",
     "text": [
      "INFO:wptrec.save:saving Parquet to data\\metric-tables\\task2-eval-sub-geo-target.parquet\n"
     ]
    },
    {
     "name": "stderr",
     "output_type": "stream",
     "text": [
      "INFO:wptrec.save:data\\metric-tables\\task2-eval-sub-geo-target.parquet: 25.97 KiB\n"
     ]
    }
   ],
   "source": [
    "output.save_table(qr_sub_geo_tgt, f'task2-{DATA_MODE}-sub-geo-target', parquet=True)"
   ]
  },
  {
   "cell_type": "markdown",
   "id": "9e6939dd-7bf2-4d91-b596-391b06b6a51e",
   "metadata": {},
   "source": [
    "## Source Geography\n",
    "\n",
    "Source geography works the same way."
   ]
  },
  {
   "cell_type": "code",
   "execution_count": 22,
   "id": "6d102833",
   "metadata": {
    "execution": {
     "iopub.execute_input": "2022-11-01T22:12:17.680745Z",
     "iopub.status.busy": "2022-11-01T22:12:17.680745Z",
     "iopub.status.idle": "2022-11-01T22:12:20.673489Z",
     "shell.execute_reply": "2022-11-01T22:12:20.672488Z"
    }
   },
   "outputs": [
    {
     "data": {
      "text/html": [
       "<div>\n",
       "<style scoped>\n",
       "    .dataframe tbody tr th:only-of-type {\n",
       "        vertical-align: middle;\n",
       "    }\n",
       "\n",
       "    .dataframe tbody tr th {\n",
       "        vertical-align: top;\n",
       "    }\n",
       "\n",
       "    .dataframe thead th {\n",
       "        text-align: right;\n",
       "    }\n",
       "</style>\n",
       "<table border=\"1\" class=\"dataframe\">\n",
       "  <thead>\n",
       "    <tr style=\"text-align: right;\">\n",
       "      <th></th>\n",
       "      <th></th>\n",
       "      <th>@UNKNOWN</th>\n",
       "      <th>Antarctica</th>\n",
       "      <th>Caribbean</th>\n",
       "      <th>Central America</th>\n",
       "      <th>Central Asia</th>\n",
       "      <th>Eastern Africa</th>\n",
       "      <th>Eastern Asia</th>\n",
       "      <th>Eastern Europe</th>\n",
       "      <th>Middle Africa</th>\n",
       "      <th>Northern Africa</th>\n",
       "      <th>...</th>\n",
       "      <th>Northern Europe</th>\n",
       "      <th>Oceania</th>\n",
       "      <th>South America</th>\n",
       "      <th>South-eastern Asia</th>\n",
       "      <th>Southern Africa</th>\n",
       "      <th>Southern Asia</th>\n",
       "      <th>Southern Europe</th>\n",
       "      <th>Western Africa</th>\n",
       "      <th>Western Asia</th>\n",
       "      <th>Western Europe</th>\n",
       "    </tr>\n",
       "    <tr>\n",
       "      <th>topic_id</th>\n",
       "      <th>page_id</th>\n",
       "      <th></th>\n",
       "      <th></th>\n",
       "      <th></th>\n",
       "      <th></th>\n",
       "      <th></th>\n",
       "      <th></th>\n",
       "      <th></th>\n",
       "      <th></th>\n",
       "      <th></th>\n",
       "      <th></th>\n",
       "      <th></th>\n",
       "      <th></th>\n",
       "      <th></th>\n",
       "      <th></th>\n",
       "      <th></th>\n",
       "      <th></th>\n",
       "      <th></th>\n",
       "      <th></th>\n",
       "      <th></th>\n",
       "      <th></th>\n",
       "      <th></th>\n",
       "    </tr>\n",
       "  </thead>\n",
       "  <tbody>\n",
       "    <tr>\n",
       "      <th rowspan=\"5\" valign=\"top\">187</th>\n",
       "      <th>682</th>\n",
       "      <td>0.400000</td>\n",
       "      <td>0.0</td>\n",
       "      <td>0.0</td>\n",
       "      <td>0.0</td>\n",
       "      <td>0.0</td>\n",
       "      <td>0.0</td>\n",
       "      <td>0.0</td>\n",
       "      <td>0.0</td>\n",
       "      <td>0.0</td>\n",
       "      <td>0.0</td>\n",
       "      <td>...</td>\n",
       "      <td>0.150000</td>\n",
       "      <td>0.000000</td>\n",
       "      <td>0.0</td>\n",
       "      <td>0.0</td>\n",
       "      <td>0.0</td>\n",
       "      <td>0.0</td>\n",
       "      <td>0.000000</td>\n",
       "      <td>0.0</td>\n",
       "      <td>0.000</td>\n",
       "      <td>0.050000</td>\n",
       "    </tr>\n",
       "    <tr>\n",
       "      <th>954</th>\n",
       "      <td>0.257143</td>\n",
       "      <td>0.0</td>\n",
       "      <td>0.0</td>\n",
       "      <td>0.0</td>\n",
       "      <td>0.0</td>\n",
       "      <td>0.0</td>\n",
       "      <td>0.0</td>\n",
       "      <td>0.0</td>\n",
       "      <td>0.0</td>\n",
       "      <td>0.0</td>\n",
       "      <td>...</td>\n",
       "      <td>0.285714</td>\n",
       "      <td>0.000000</td>\n",
       "      <td>0.0</td>\n",
       "      <td>0.0</td>\n",
       "      <td>0.0</td>\n",
       "      <td>0.0</td>\n",
       "      <td>0.000000</td>\n",
       "      <td>0.0</td>\n",
       "      <td>0.000</td>\n",
       "      <td>0.171429</td>\n",
       "    </tr>\n",
       "    <tr>\n",
       "      <th>1170</th>\n",
       "      <td>0.368421</td>\n",
       "      <td>0.0</td>\n",
       "      <td>0.0</td>\n",
       "      <td>0.0</td>\n",
       "      <td>0.0</td>\n",
       "      <td>0.0</td>\n",
       "      <td>0.0</td>\n",
       "      <td>0.0</td>\n",
       "      <td>0.0</td>\n",
       "      <td>0.0</td>\n",
       "      <td>...</td>\n",
       "      <td>0.052632</td>\n",
       "      <td>0.052632</td>\n",
       "      <td>0.0</td>\n",
       "      <td>0.0</td>\n",
       "      <td>0.0</td>\n",
       "      <td>0.0</td>\n",
       "      <td>0.000000</td>\n",
       "      <td>0.0</td>\n",
       "      <td>0.000</td>\n",
       "      <td>0.000000</td>\n",
       "    </tr>\n",
       "    <tr>\n",
       "      <th>1315</th>\n",
       "      <td>0.375000</td>\n",
       "      <td>0.0</td>\n",
       "      <td>0.0</td>\n",
       "      <td>0.0</td>\n",
       "      <td>0.0</td>\n",
       "      <td>0.0</td>\n",
       "      <td>0.0</td>\n",
       "      <td>0.0</td>\n",
       "      <td>0.0</td>\n",
       "      <td>0.0</td>\n",
       "      <td>...</td>\n",
       "      <td>0.000000</td>\n",
       "      <td>0.000000</td>\n",
       "      <td>0.0</td>\n",
       "      <td>0.0</td>\n",
       "      <td>0.0</td>\n",
       "      <td>0.0</td>\n",
       "      <td>0.000000</td>\n",
       "      <td>0.0</td>\n",
       "      <td>0.125</td>\n",
       "      <td>0.000000</td>\n",
       "    </tr>\n",
       "    <tr>\n",
       "      <th>1322</th>\n",
       "      <td>0.428571</td>\n",
       "      <td>0.0</td>\n",
       "      <td>0.0</td>\n",
       "      <td>0.0</td>\n",
       "      <td>0.0</td>\n",
       "      <td>0.0</td>\n",
       "      <td>0.0</td>\n",
       "      <td>0.0</td>\n",
       "      <td>0.0</td>\n",
       "      <td>0.0</td>\n",
       "      <td>...</td>\n",
       "      <td>0.000000</td>\n",
       "      <td>0.000000</td>\n",
       "      <td>0.0</td>\n",
       "      <td>0.0</td>\n",
       "      <td>0.0</td>\n",
       "      <td>0.0</td>\n",
       "      <td>0.571429</td>\n",
       "      <td>0.0</td>\n",
       "      <td>0.000</td>\n",
       "      <td>0.000000</td>\n",
       "    </tr>\n",
       "    <tr>\n",
       "      <th>...</th>\n",
       "      <th>...</th>\n",
       "      <td>...</td>\n",
       "      <td>...</td>\n",
       "      <td>...</td>\n",
       "      <td>...</td>\n",
       "      <td>...</td>\n",
       "      <td>...</td>\n",
       "      <td>...</td>\n",
       "      <td>...</td>\n",
       "      <td>...</td>\n",
       "      <td>...</td>\n",
       "      <td>...</td>\n",
       "      <td>...</td>\n",
       "      <td>...</td>\n",
       "      <td>...</td>\n",
       "      <td>...</td>\n",
       "      <td>...</td>\n",
       "      <td>...</td>\n",
       "      <td>...</td>\n",
       "      <td>...</td>\n",
       "      <td>...</td>\n",
       "      <td>...</td>\n",
       "    </tr>\n",
       "    <tr>\n",
       "      <th rowspan=\"5\" valign=\"top\">2872</th>\n",
       "      <th>69877511</th>\n",
       "      <td>1.000000</td>\n",
       "      <td>0.0</td>\n",
       "      <td>0.0</td>\n",
       "      <td>0.0</td>\n",
       "      <td>0.0</td>\n",
       "      <td>0.0</td>\n",
       "      <td>0.0</td>\n",
       "      <td>0.0</td>\n",
       "      <td>0.0</td>\n",
       "      <td>0.0</td>\n",
       "      <td>...</td>\n",
       "      <td>0.000000</td>\n",
       "      <td>0.000000</td>\n",
       "      <td>0.0</td>\n",
       "      <td>0.0</td>\n",
       "      <td>0.0</td>\n",
       "      <td>0.0</td>\n",
       "      <td>0.000000</td>\n",
       "      <td>0.0</td>\n",
       "      <td>0.000</td>\n",
       "      <td>0.000000</td>\n",
       "    </tr>\n",
       "    <tr>\n",
       "      <th>69878912</th>\n",
       "      <td>0.366667</td>\n",
       "      <td>0.0</td>\n",
       "      <td>0.0</td>\n",
       "      <td>0.0</td>\n",
       "      <td>0.0</td>\n",
       "      <td>0.0</td>\n",
       "      <td>0.0</td>\n",
       "      <td>0.0</td>\n",
       "      <td>0.0</td>\n",
       "      <td>0.0</td>\n",
       "      <td>...</td>\n",
       "      <td>0.000000</td>\n",
       "      <td>0.000000</td>\n",
       "      <td>0.0</td>\n",
       "      <td>0.1</td>\n",
       "      <td>0.0</td>\n",
       "      <td>0.0</td>\n",
       "      <td>0.000000</td>\n",
       "      <td>0.0</td>\n",
       "      <td>0.000</td>\n",
       "      <td>0.000000</td>\n",
       "    </tr>\n",
       "    <tr>\n",
       "      <th>69879322</th>\n",
       "      <td>0.200000</td>\n",
       "      <td>0.0</td>\n",
       "      <td>0.0</td>\n",
       "      <td>0.0</td>\n",
       "      <td>0.0</td>\n",
       "      <td>0.0</td>\n",
       "      <td>0.0</td>\n",
       "      <td>0.0</td>\n",
       "      <td>0.0</td>\n",
       "      <td>0.0</td>\n",
       "      <td>...</td>\n",
       "      <td>0.000000</td>\n",
       "      <td>0.000000</td>\n",
       "      <td>0.0</td>\n",
       "      <td>0.0</td>\n",
       "      <td>0.0</td>\n",
       "      <td>0.0</td>\n",
       "      <td>0.000000</td>\n",
       "      <td>0.0</td>\n",
       "      <td>0.600</td>\n",
       "      <td>0.000000</td>\n",
       "    </tr>\n",
       "    <tr>\n",
       "      <th>69881345</th>\n",
       "      <td>0.500000</td>\n",
       "      <td>0.0</td>\n",
       "      <td>0.0</td>\n",
       "      <td>0.0</td>\n",
       "      <td>0.0</td>\n",
       "      <td>0.0</td>\n",
       "      <td>0.0</td>\n",
       "      <td>0.0</td>\n",
       "      <td>0.0</td>\n",
       "      <td>0.0</td>\n",
       "      <td>...</td>\n",
       "      <td>0.000000</td>\n",
       "      <td>0.000000</td>\n",
       "      <td>0.0</td>\n",
       "      <td>0.5</td>\n",
       "      <td>0.0</td>\n",
       "      <td>0.0</td>\n",
       "      <td>0.000000</td>\n",
       "      <td>0.0</td>\n",
       "      <td>0.000</td>\n",
       "      <td>0.000000</td>\n",
       "    </tr>\n",
       "    <tr>\n",
       "      <th>69883661</th>\n",
       "      <td>0.000000</td>\n",
       "      <td>0.0</td>\n",
       "      <td>0.0</td>\n",
       "      <td>0.0</td>\n",
       "      <td>0.0</td>\n",
       "      <td>0.0</td>\n",
       "      <td>0.0</td>\n",
       "      <td>0.0</td>\n",
       "      <td>0.0</td>\n",
       "      <td>0.0</td>\n",
       "      <td>...</td>\n",
       "      <td>0.000000</td>\n",
       "      <td>0.000000</td>\n",
       "      <td>0.0</td>\n",
       "      <td>0.0</td>\n",
       "      <td>0.0</td>\n",
       "      <td>0.0</td>\n",
       "      <td>0.000000</td>\n",
       "      <td>0.0</td>\n",
       "      <td>0.000</td>\n",
       "      <td>0.000000</td>\n",
       "    </tr>\n",
       "  </tbody>\n",
       "</table>\n",
       "<p>2737612 rows × 21 columns</p>\n",
       "</div>"
      ],
      "text/plain": [
       "                   @UNKNOWN  Antarctica  Caribbean  Central America  \\\n",
       "topic_id page_id                                                      \n",
       "187      682       0.400000         0.0        0.0              0.0   \n",
       "         954       0.257143         0.0        0.0              0.0   \n",
       "         1170      0.368421         0.0        0.0              0.0   \n",
       "         1315      0.375000         0.0        0.0              0.0   \n",
       "         1322      0.428571         0.0        0.0              0.0   \n",
       "...                     ...         ...        ...              ...   \n",
       "2872     69877511  1.000000         0.0        0.0              0.0   \n",
       "         69878912  0.366667         0.0        0.0              0.0   \n",
       "         69879322  0.200000         0.0        0.0              0.0   \n",
       "         69881345  0.500000         0.0        0.0              0.0   \n",
       "         69883661  0.000000         0.0        0.0              0.0   \n",
       "\n",
       "                   Central Asia  Eastern Africa  Eastern Asia  Eastern Europe  \\\n",
       "topic_id page_id                                                                \n",
       "187      682                0.0             0.0           0.0             0.0   \n",
       "         954                0.0             0.0           0.0             0.0   \n",
       "         1170               0.0             0.0           0.0             0.0   \n",
       "         1315               0.0             0.0           0.0             0.0   \n",
       "         1322               0.0             0.0           0.0             0.0   \n",
       "...                         ...             ...           ...             ...   \n",
       "2872     69877511           0.0             0.0           0.0             0.0   \n",
       "         69878912           0.0             0.0           0.0             0.0   \n",
       "         69879322           0.0             0.0           0.0             0.0   \n",
       "         69881345           0.0             0.0           0.0             0.0   \n",
       "         69883661           0.0             0.0           0.0             0.0   \n",
       "\n",
       "                   Middle Africa  Northern Africa  ...  Northern Europe  \\\n",
       "topic_id page_id                                   ...                    \n",
       "187      682                 0.0              0.0  ...         0.150000   \n",
       "         954                 0.0              0.0  ...         0.285714   \n",
       "         1170                0.0              0.0  ...         0.052632   \n",
       "         1315                0.0              0.0  ...         0.000000   \n",
       "         1322                0.0              0.0  ...         0.000000   \n",
       "...                          ...              ...  ...              ...   \n",
       "2872     69877511            0.0              0.0  ...         0.000000   \n",
       "         69878912            0.0              0.0  ...         0.000000   \n",
       "         69879322            0.0              0.0  ...         0.000000   \n",
       "         69881345            0.0              0.0  ...         0.000000   \n",
       "         69883661            0.0              0.0  ...         0.000000   \n",
       "\n",
       "                    Oceania  South America  South-eastern Asia  \\\n",
       "topic_id page_id                                                 \n",
       "187      682       0.000000            0.0                 0.0   \n",
       "         954       0.000000            0.0                 0.0   \n",
       "         1170      0.052632            0.0                 0.0   \n",
       "         1315      0.000000            0.0                 0.0   \n",
       "         1322      0.000000            0.0                 0.0   \n",
       "...                     ...            ...                 ...   \n",
       "2872     69877511  0.000000            0.0                 0.0   \n",
       "         69878912  0.000000            0.0                 0.1   \n",
       "         69879322  0.000000            0.0                 0.0   \n",
       "         69881345  0.000000            0.0                 0.5   \n",
       "         69883661  0.000000            0.0                 0.0   \n",
       "\n",
       "                   Southern Africa  Southern Asia  Southern Europe  \\\n",
       "topic_id page_id                                                     \n",
       "187      682                   0.0            0.0         0.000000   \n",
       "         954                   0.0            0.0         0.000000   \n",
       "         1170                  0.0            0.0         0.000000   \n",
       "         1315                  0.0            0.0         0.000000   \n",
       "         1322                  0.0            0.0         0.571429   \n",
       "...                            ...            ...              ...   \n",
       "2872     69877511              0.0            0.0         0.000000   \n",
       "         69878912              0.0            0.0         0.000000   \n",
       "         69879322              0.0            0.0         0.000000   \n",
       "         69881345              0.0            0.0         0.000000   \n",
       "         69883661              0.0            0.0         0.000000   \n",
       "\n",
       "                   Western Africa  Western Asia  Western Europe  \n",
       "topic_id page_id                                                 \n",
       "187      682                  0.0         0.000        0.050000  \n",
       "         954                  0.0         0.000        0.171429  \n",
       "         1170                 0.0         0.000        0.000000  \n",
       "         1315                 0.0         0.125        0.000000  \n",
       "         1322                 0.0         0.000        0.000000  \n",
       "...                           ...           ...             ...  \n",
       "2872     69877511             0.0         0.000        0.000000  \n",
       "         69878912             0.0         0.000        0.000000  \n",
       "         69879322             0.0         0.600        0.000000  \n",
       "         69881345             0.0         0.000        0.000000  \n",
       "         69883661             0.0         0.000        0.000000  \n",
       "\n",
       "[2737612 rows x 21 columns]"
      ]
     },
     "execution_count": 22,
     "metadata": {},
     "output_type": "execute_result"
    }
   ],
   "source": [
    "qr_src_geo_align = qr_join(src_geo_align)\n",
    "qr_src_geo_align"
   ]
  },
  {
   "cell_type": "markdown",
   "id": "47cec80b-f2a9-42b2-bdf6-d2acb1bf6ee6",
   "metadata": {},
   "source": [
    "And now we repeat these computations!"
   ]
  },
  {
   "cell_type": "code",
   "execution_count": 23,
   "id": "0ca0cb12-f79a-4e0b-80be-fafb74ca9ca1",
   "metadata": {
    "execution": {
     "iopub.execute_input": "2022-11-01T22:12:20.677487Z",
     "iopub.status.busy": "2022-11-01T22:12:20.677487Z",
     "iopub.status.idle": "2022-11-01T22:12:21.148823Z",
     "shell.execute_reply": "2022-11-01T22:12:21.148823Z"
    }
   },
   "outputs": [],
   "source": [
    "qr_src_geo_tgt = qr_src_geo_align.multiply(qp_exp, axis='rows').groupby('topic_id').sum()"
   ]
  },
  {
   "cell_type": "code",
   "execution_count": 24,
   "id": "cdbc0bf3-cfc4-4be2-aef7-b17f2ff33a38",
   "metadata": {
    "execution": {
     "iopub.execute_input": "2022-11-01T22:12:21.152824Z",
     "iopub.status.busy": "2022-11-01T22:12:21.152824Z",
     "iopub.status.idle": "2022-11-01T22:12:21.195823Z",
     "shell.execute_reply": "2022-11-01T22:12:21.194849Z"
    }
   },
   "outputs": [
    {
     "data": {
      "text/html": [
       "<div>\n",
       "<style scoped>\n",
       "    .dataframe tbody tr th:only-of-type {\n",
       "        vertical-align: middle;\n",
       "    }\n",
       "\n",
       "    .dataframe tbody tr th {\n",
       "        vertical-align: top;\n",
       "    }\n",
       "\n",
       "    .dataframe thead th {\n",
       "        text-align: right;\n",
       "    }\n",
       "</style>\n",
       "<table border=\"1\" class=\"dataframe\">\n",
       "  <thead>\n",
       "    <tr style=\"text-align: right;\">\n",
       "      <th></th>\n",
       "      <th>@UNKNOWN</th>\n",
       "      <th>Antarctica</th>\n",
       "      <th>Caribbean</th>\n",
       "      <th>Central America</th>\n",
       "      <th>Central Asia</th>\n",
       "      <th>Eastern Africa</th>\n",
       "      <th>Eastern Asia</th>\n",
       "      <th>Eastern Europe</th>\n",
       "      <th>Middle Africa</th>\n",
       "      <th>Northern Africa</th>\n",
       "      <th>...</th>\n",
       "      <th>Northern Europe</th>\n",
       "      <th>Oceania</th>\n",
       "      <th>South America</th>\n",
       "      <th>South-eastern Asia</th>\n",
       "      <th>Southern Africa</th>\n",
       "      <th>Southern Asia</th>\n",
       "      <th>Southern Europe</th>\n",
       "      <th>Western Africa</th>\n",
       "      <th>Western Asia</th>\n",
       "      <th>Western Europe</th>\n",
       "    </tr>\n",
       "    <tr>\n",
       "      <th>topic_id</th>\n",
       "      <th></th>\n",
       "      <th></th>\n",
       "      <th></th>\n",
       "      <th></th>\n",
       "      <th></th>\n",
       "      <th></th>\n",
       "      <th></th>\n",
       "      <th></th>\n",
       "      <th></th>\n",
       "      <th></th>\n",
       "      <th></th>\n",
       "      <th></th>\n",
       "      <th></th>\n",
       "      <th></th>\n",
       "      <th></th>\n",
       "      <th></th>\n",
       "      <th></th>\n",
       "      <th></th>\n",
       "      <th></th>\n",
       "      <th></th>\n",
       "      <th></th>\n",
       "    </tr>\n",
       "  </thead>\n",
       "  <tbody>\n",
       "    <tr>\n",
       "      <th>187</th>\n",
       "      <td>1892.369467</td>\n",
       "      <td>0.000221</td>\n",
       "      <td>10.629244</td>\n",
       "      <td>38.085204</td>\n",
       "      <td>13.580445</td>\n",
       "      <td>76.133518</td>\n",
       "      <td>368.324160</td>\n",
       "      <td>91.512896</td>\n",
       "      <td>27.292950</td>\n",
       "      <td>43.321614</td>\n",
       "      <td>...</td>\n",
       "      <td>518.410807</td>\n",
       "      <td>53.513703</td>\n",
       "      <td>92.059446</td>\n",
       "      <td>137.914296</td>\n",
       "      <td>14.561724</td>\n",
       "      <td>383.654770</td>\n",
       "      <td>94.527498</td>\n",
       "      <td>67.295433</td>\n",
       "      <td>64.363892</td>\n",
       "      <td>158.997834</td>\n",
       "    </tr>\n",
       "    <tr>\n",
       "      <th>270</th>\n",
       "      <td>1682.383393</td>\n",
       "      <td>0.000177</td>\n",
       "      <td>14.119208</td>\n",
       "      <td>32.195247</td>\n",
       "      <td>10.694027</td>\n",
       "      <td>62.403539</td>\n",
       "      <td>291.840082</td>\n",
       "      <td>76.966103</td>\n",
       "      <td>21.889625</td>\n",
       "      <td>34.559267</td>\n",
       "      <td>...</td>\n",
       "      <td>175.354880</td>\n",
       "      <td>40.800385</td>\n",
       "      <td>81.370613</td>\n",
       "      <td>104.008024</td>\n",
       "      <td>13.928225</td>\n",
       "      <td>291.129055</td>\n",
       "      <td>74.411532</td>\n",
       "      <td>54.628367</td>\n",
       "      <td>45.613038</td>\n",
       "      <td>244.158227</td>\n",
       "    </tr>\n",
       "    <tr>\n",
       "      <th>359</th>\n",
       "      <td>1349.305462</td>\n",
       "      <td>0.000166</td>\n",
       "      <td>10.812019</td>\n",
       "      <td>28.257371</td>\n",
       "      <td>9.637102</td>\n",
       "      <td>55.966959</td>\n",
       "      <td>288.368964</td>\n",
       "      <td>44.738826</td>\n",
       "      <td>20.314799</td>\n",
       "      <td>31.459874</td>\n",
       "      <td>...</td>\n",
       "      <td>27.303292</td>\n",
       "      <td>12.455743</td>\n",
       "      <td>62.663487</td>\n",
       "      <td>93.284401</td>\n",
       "      <td>9.119594</td>\n",
       "      <td>262.223930</td>\n",
       "      <td>24.364869</td>\n",
       "      <td>49.612454</td>\n",
       "      <td>37.221849</td>\n",
       "      <td>34.950278</td>\n",
       "    </tr>\n",
       "    <tr>\n",
       "      <th>365</th>\n",
       "      <td>899.571884</td>\n",
       "      <td>0.000116</td>\n",
       "      <td>24.578317</td>\n",
       "      <td>20.163280</td>\n",
       "      <td>7.058418</td>\n",
       "      <td>40.687112</td>\n",
       "      <td>195.637555</td>\n",
       "      <td>43.383442</td>\n",
       "      <td>18.290350</td>\n",
       "      <td>22.941681</td>\n",
       "      <td>...</td>\n",
       "      <td>51.127647</td>\n",
       "      <td>29.052902</td>\n",
       "      <td>48.157030</td>\n",
       "      <td>91.720399</td>\n",
       "      <td>6.467410</td>\n",
       "      <td>185.621213</td>\n",
       "      <td>93.737043</td>\n",
       "      <td>35.679642</td>\n",
       "      <td>47.403614</td>\n",
       "      <td>70.055359</td>\n",
       "    </tr>\n",
       "    <tr>\n",
       "      <th>400</th>\n",
       "      <td>3510.441727</td>\n",
       "      <td>0.002120</td>\n",
       "      <td>20.067844</td>\n",
       "      <td>67.028356</td>\n",
       "      <td>21.829953</td>\n",
       "      <td>124.063329</td>\n",
       "      <td>603.794372</td>\n",
       "      <td>146.012407</td>\n",
       "      <td>44.342043</td>\n",
       "      <td>71.306778</td>\n",
       "      <td>...</td>\n",
       "      <td>564.339012</td>\n",
       "      <td>159.334304</td>\n",
       "      <td>158.261887</td>\n",
       "      <td>220.074822</td>\n",
       "      <td>27.370868</td>\n",
       "      <td>631.930727</td>\n",
       "      <td>129.760455</td>\n",
       "      <td>111.504376</td>\n",
       "      <td>103.379965</td>\n",
       "      <td>207.421067</td>\n",
       "    </tr>\n",
       "  </tbody>\n",
       "</table>\n",
       "<p>5 rows × 21 columns</p>\n",
       "</div>"
      ],
      "text/plain": [
       "             @UNKNOWN  Antarctica  Caribbean  Central America  Central Asia  \\\n",
       "topic_id                                                                      \n",
       "187       1892.369467    0.000221  10.629244        38.085204     13.580445   \n",
       "270       1682.383393    0.000177  14.119208        32.195247     10.694027   \n",
       "359       1349.305462    0.000166  10.812019        28.257371      9.637102   \n",
       "365        899.571884    0.000116  24.578317        20.163280      7.058418   \n",
       "400       3510.441727    0.002120  20.067844        67.028356     21.829953   \n",
       "\n",
       "          Eastern Africa  Eastern Asia  Eastern Europe  Middle Africa  \\\n",
       "topic_id                                                                \n",
       "187            76.133518    368.324160       91.512896      27.292950   \n",
       "270            62.403539    291.840082       76.966103      21.889625   \n",
       "359            55.966959    288.368964       44.738826      20.314799   \n",
       "365            40.687112    195.637555       43.383442      18.290350   \n",
       "400           124.063329    603.794372      146.012407      44.342043   \n",
       "\n",
       "          Northern Africa  ...  Northern Europe     Oceania  South America  \\\n",
       "topic_id                   ...                                               \n",
       "187             43.321614  ...       518.410807   53.513703      92.059446   \n",
       "270             34.559267  ...       175.354880   40.800385      81.370613   \n",
       "359             31.459874  ...        27.303292   12.455743      62.663487   \n",
       "365             22.941681  ...        51.127647   29.052902      48.157030   \n",
       "400             71.306778  ...       564.339012  159.334304     158.261887   \n",
       "\n",
       "          South-eastern Asia  Southern Africa  Southern Asia  Southern Europe  \\\n",
       "topic_id                                                                        \n",
       "187               137.914296        14.561724     383.654770        94.527498   \n",
       "270               104.008024        13.928225     291.129055        74.411532   \n",
       "359                93.284401         9.119594     262.223930        24.364869   \n",
       "365                91.720399         6.467410     185.621213        93.737043   \n",
       "400               220.074822        27.370868     631.930727       129.760455   \n",
       "\n",
       "          Western Africa  Western Asia  Western Europe  \n",
       "topic_id                                                \n",
       "187            67.295433     64.363892      158.997834  \n",
       "270            54.628367     45.613038      244.158227  \n",
       "359            49.612454     37.221849       34.950278  \n",
       "365            35.679642     47.403614       70.055359  \n",
       "400           111.504376    103.379965      207.421067  \n",
       "\n",
       "[5 rows x 21 columns]"
      ]
     },
     "execution_count": 24,
     "metadata": {},
     "output_type": "execute_result"
    }
   ],
   "source": [
    "qr_src_geo_fk = qr_src_geo_tgt.iloc[:, 1:].sum('columns')\n",
    "qr_src_geo_tgt.iloc[:, 1:] *= 0.5\n",
    "qr_src_geo_tgt.iloc[:, 1:] += qr_src_geo_fk.apply(lambda k: world_pop * k * 0.5)\n",
    "qr_src_geo_tgt.head()"
   ]
  },
  {
   "cell_type": "markdown",
   "id": "8e995c9e-469c-40d2-9300-028daa23c7f7",
   "metadata": {},
   "source": [
    "Make sure the rows are distributions:"
   ]
  },
  {
   "cell_type": "code",
   "execution_count": 25,
   "id": "73010603",
   "metadata": {
    "execution": {
     "iopub.execute_input": "2022-11-01T22:12:21.199823Z",
     "iopub.status.busy": "2022-11-01T22:12:21.199823Z",
     "iopub.status.idle": "2022-11-01T22:12:21.210834Z",
     "shell.execute_reply": "2022-11-01T22:12:21.209823Z"
    }
   },
   "outputs": [],
   "source": [
    "qr_src_geo_tgt = norm_dist_df(qr_src_geo_tgt)"
   ]
  },
  {
   "cell_type": "code",
   "execution_count": 26,
   "id": "2f6de863",
   "metadata": {
    "execution": {
     "iopub.execute_input": "2022-11-01T22:12:21.213824Z",
     "iopub.status.busy": "2022-11-01T22:12:21.213824Z",
     "iopub.status.idle": "2022-11-01T22:12:21.272768Z",
     "shell.execute_reply": "2022-11-01T22:12:21.271771Z"
    }
   },
   "outputs": [
    {
     "name": "stderr",
     "output_type": "stream",
     "text": [
      "INFO:wptrec.save:saving CSV to data\\metric-tables\\task2-eval-src-geo-target.csv.gz\n"
     ]
    },
    {
     "name": "stderr",
     "output_type": "stream",
     "text": [
      "INFO:wptrec.save:data\\metric-tables\\task2-eval-src-geo-target.csv.gz: 10.62 KiB\n"
     ]
    },
    {
     "name": "stderr",
     "output_type": "stream",
     "text": [
      "INFO:wptrec.save:saving Parquet to data\\metric-tables\\task2-eval-src-geo-target.parquet\n"
     ]
    },
    {
     "name": "stderr",
     "output_type": "stream",
     "text": [
      "INFO:wptrec.save:data\\metric-tables\\task2-eval-src-geo-target.parquet: 25.97 KiB\n"
     ]
    }
   ],
   "source": [
    "output.save_table(qr_src_geo_tgt, f'task2-{DATA_MODE}-src-geo-target', parquet=True)"
   ]
  },
  {
   "cell_type": "markdown",
   "id": "611ad56d-c102-474d-8538-e65618934a72",
   "metadata": {},
   "source": [
    "## Gender\n",
    "\n",
    "Now we're going to grab the gender alignments.  Works the same way."
   ]
  },
  {
   "cell_type": "code",
   "execution_count": 27,
   "id": "326b87c0-91e6-4b65-8020-cadc23d21a9c",
   "metadata": {
    "execution": {
     "iopub.execute_input": "2022-11-01T22:12:21.276769Z",
     "iopub.status.busy": "2022-11-01T22:12:21.276769Z",
     "iopub.status.idle": "2022-11-01T22:12:23.716641Z",
     "shell.execute_reply": "2022-11-01T22:12:23.715643Z"
    }
   },
   "outputs": [
    {
     "data": {
      "text/html": [
       "<div>\n",
       "<style scoped>\n",
       "    .dataframe tbody tr th:only-of-type {\n",
       "        vertical-align: middle;\n",
       "    }\n",
       "\n",
       "    .dataframe tbody tr th {\n",
       "        vertical-align: top;\n",
       "    }\n",
       "\n",
       "    .dataframe thead th {\n",
       "        text-align: right;\n",
       "    }\n",
       "</style>\n",
       "<table border=\"1\" class=\"dataframe\">\n",
       "  <thead>\n",
       "    <tr style=\"text-align: right;\">\n",
       "      <th></th>\n",
       "      <th></th>\n",
       "      <th>@UNKNOWN</th>\n",
       "      <th>female</th>\n",
       "      <th>male</th>\n",
       "      <th>NB</th>\n",
       "    </tr>\n",
       "    <tr>\n",
       "      <th>topic_id</th>\n",
       "      <th>page_id</th>\n",
       "      <th></th>\n",
       "      <th></th>\n",
       "      <th></th>\n",
       "      <th></th>\n",
       "    </tr>\n",
       "  </thead>\n",
       "  <tbody>\n",
       "    <tr>\n",
       "      <th rowspan=\"5\" valign=\"top\">187</th>\n",
       "      <th>682</th>\n",
       "      <td>1.0</td>\n",
       "      <td>0.0</td>\n",
       "      <td>0.0</td>\n",
       "      <td>0.0</td>\n",
       "    </tr>\n",
       "    <tr>\n",
       "      <th>954</th>\n",
       "      <td>0.0</td>\n",
       "      <td>0.0</td>\n",
       "      <td>1.0</td>\n",
       "      <td>0.0</td>\n",
       "    </tr>\n",
       "    <tr>\n",
       "      <th>1170</th>\n",
       "      <td>1.0</td>\n",
       "      <td>0.0</td>\n",
       "      <td>0.0</td>\n",
       "      <td>0.0</td>\n",
       "    </tr>\n",
       "    <tr>\n",
       "      <th>1315</th>\n",
       "      <td>1.0</td>\n",
       "      <td>0.0</td>\n",
       "      <td>0.0</td>\n",
       "      <td>0.0</td>\n",
       "    </tr>\n",
       "    <tr>\n",
       "      <th>1322</th>\n",
       "      <td>1.0</td>\n",
       "      <td>0.0</td>\n",
       "      <td>0.0</td>\n",
       "      <td>0.0</td>\n",
       "    </tr>\n",
       "  </tbody>\n",
       "</table>\n",
       "</div>"
      ],
      "text/plain": [
       "                  @UNKNOWN  female  male   NB\n",
       "topic_id page_id                             \n",
       "187      682           1.0     0.0   0.0  0.0\n",
       "         954           0.0     0.0   1.0  0.0\n",
       "         1170          1.0     0.0   0.0  0.0\n",
       "         1315          1.0     0.0   0.0  0.0\n",
       "         1322          1.0     0.0   0.0  0.0"
      ]
     },
     "execution_count": 27,
     "metadata": {},
     "output_type": "execute_result"
    }
   ],
   "source": [
    "qr_gender_align = qr_join(gender_align)\n",
    "qr_gender_align.head()"
   ]
  },
  {
   "cell_type": "code",
   "execution_count": 28,
   "id": "8efb59ad-5fb6-4a00-a2ef-1f1bad3258b8",
   "metadata": {
    "execution": {
     "iopub.execute_input": "2022-11-01T22:12:23.721642Z",
     "iopub.status.busy": "2022-11-01T22:12:23.721642Z",
     "iopub.status.idle": "2022-11-01T22:12:23.997259Z",
     "shell.execute_reply": "2022-11-01T22:12:23.996406Z"
    }
   },
   "outputs": [],
   "source": [
    "qr_gender_tgt = qr_gender_align.multiply(qp_exp, axis='rows').groupby('topic_id').sum()"
   ]
  },
  {
   "cell_type": "code",
   "execution_count": 29,
   "id": "6dc2fdc7-04b4-4161-92c6-ca996923b820",
   "metadata": {
    "execution": {
     "iopub.execute_input": "2022-11-01T22:12:24.000283Z",
     "iopub.status.busy": "2022-11-01T22:12:24.000283Z",
     "iopub.status.idle": "2022-11-01T22:12:24.029257Z",
     "shell.execute_reply": "2022-11-01T22:12:24.028289Z"
    }
   },
   "outputs": [
    {
     "data": {
      "text/html": [
       "<div>\n",
       "<style scoped>\n",
       "    .dataframe tbody tr th:only-of-type {\n",
       "        vertical-align: middle;\n",
       "    }\n",
       "\n",
       "    .dataframe tbody tr th {\n",
       "        vertical-align: top;\n",
       "    }\n",
       "\n",
       "    .dataframe thead th {\n",
       "        text-align: right;\n",
       "    }\n",
       "</style>\n",
       "<table border=\"1\" class=\"dataframe\">\n",
       "  <thead>\n",
       "    <tr style=\"text-align: right;\">\n",
       "      <th></th>\n",
       "      <th>@UNKNOWN</th>\n",
       "      <th>female</th>\n",
       "      <th>male</th>\n",
       "      <th>NB</th>\n",
       "    </tr>\n",
       "    <tr>\n",
       "      <th>topic_id</th>\n",
       "      <th></th>\n",
       "      <th></th>\n",
       "      <th></th>\n",
       "      <th></th>\n",
       "    </tr>\n",
       "  </thead>\n",
       "  <tbody>\n",
       "    <tr>\n",
       "      <th>187</th>\n",
       "      <td>4231.726279</td>\n",
       "      <td>159.708759</td>\n",
       "      <td>364.436851</td>\n",
       "      <td>2.704633</td>\n",
       "    </tr>\n",
       "    <tr>\n",
       "      <th>270</th>\n",
       "      <td>1461.677295</td>\n",
       "      <td>1029.567013</td>\n",
       "      <td>1476.707985</td>\n",
       "      <td>12.917147</td>\n",
       "    </tr>\n",
       "    <tr>\n",
       "      <th>359</th>\n",
       "      <td>1164.868940</td>\n",
       "      <td>601.468537</td>\n",
       "      <td>1714.967051</td>\n",
       "      <td>11.640380</td>\n",
       "    </tr>\n",
       "    <tr>\n",
       "      <th>365</th>\n",
       "      <td>1012.069178</td>\n",
       "      <td>445.784544</td>\n",
       "      <td>938.953553</td>\n",
       "      <td>6.958483</td>\n",
       "    </tr>\n",
       "    <tr>\n",
       "      <th>400</th>\n",
       "      <td>94.885554</td>\n",
       "      <td>3323.222661</td>\n",
       "      <td>4707.223206</td>\n",
       "      <td>42.888097</td>\n",
       "    </tr>\n",
       "  </tbody>\n",
       "</table>\n",
       "</div>"
      ],
      "text/plain": [
       "             @UNKNOWN       female         male         NB\n",
       "topic_id                                                  \n",
       "187       4231.726279   159.708759   364.436851   2.704633\n",
       "270       1461.677295  1029.567013  1476.707985  12.917147\n",
       "359       1164.868940   601.468537  1714.967051  11.640380\n",
       "365       1012.069178   445.784544   938.953553   6.958483\n",
       "400         94.885554  3323.222661  4707.223206  42.888097"
      ]
     },
     "execution_count": 29,
     "metadata": {},
     "output_type": "execute_result"
    }
   ],
   "source": [
    "qr_gender_fk = qr_gender_tgt.iloc[:, 1:].sum('columns')\n",
    "qr_gender_tgt.iloc[:, 1:] *= 0.5\n",
    "qr_gender_tgt.iloc[:, 1:] += qr_gender_fk.apply(lambda k: gender_tgt * k * 0.5)\n",
    "qr_gender_tgt.head()"
   ]
  },
  {
   "cell_type": "code",
   "execution_count": 30,
   "id": "28cb07b4-c4e0-40d6-9d9d-28c75dc09606",
   "metadata": {
    "execution": {
     "iopub.execute_input": "2022-11-01T22:12:24.032258Z",
     "iopub.status.busy": "2022-11-01T22:12:24.032258Z",
     "iopub.status.idle": "2022-11-01T22:12:24.043316Z",
     "shell.execute_reply": "2022-11-01T22:12:24.043316Z"
    }
   },
   "outputs": [],
   "source": [
    "qr_gender_tgt = norm_dist_df(qr_gender_tgt)"
   ]
  },
  {
   "cell_type": "code",
   "execution_count": 31,
   "id": "b74608a4-ec64-48c9-8702-060723194a62",
   "metadata": {
    "execution": {
     "iopub.execute_input": "2022-11-01T22:12:24.047669Z",
     "iopub.status.busy": "2022-11-01T22:12:24.046645Z",
     "iopub.status.idle": "2022-11-01T22:12:24.090231Z",
     "shell.execute_reply": "2022-11-01T22:12:24.089231Z"
    }
   },
   "outputs": [
    {
     "name": "stderr",
     "output_type": "stream",
     "text": [
      "INFO:wptrec.save:saving CSV to data\\metric-tables\\task2-eval-gender-target.csv.gz\n"
     ]
    },
    {
     "name": "stderr",
     "output_type": "stream",
     "text": [
      "INFO:wptrec.save:data\\metric-tables\\task2-eval-gender-target.csv.gz: 2.24 KiB\n"
     ]
    },
    {
     "name": "stderr",
     "output_type": "stream",
     "text": [
      "INFO:wptrec.save:saving Parquet to data\\metric-tables\\task2-eval-gender-target.parquet\n"
     ]
    },
    {
     "name": "stderr",
     "output_type": "stream",
     "text": [
      "INFO:wptrec.save:data\\metric-tables\\task2-eval-gender-target.parquet: 6.80 KiB\n"
     ]
    }
   ],
   "source": [
    "output.save_table(qr_gender_tgt, f'task2-{DATA_MODE}-gender-target', parquet=True)"
   ]
  },
  {
   "cell_type": "markdown",
   "id": "b4a5905b-11ab-426e-ab57-faae3722d5ad",
   "metadata": {},
   "source": [
    "## Occupation\n",
    "\n",
    "Occupation is more straightforward, since we don't have a global target to average with."
   ]
  },
  {
   "cell_type": "code",
   "execution_count": 32,
   "id": "03193ea0-0d82-47f2-af6c-faf524c9c632",
   "metadata": {
    "execution": {
     "iopub.execute_input": "2022-11-01T22:12:24.098230Z",
     "iopub.status.busy": "2022-11-01T22:12:24.097230Z",
     "iopub.status.idle": "2022-11-01T22:12:27.975853Z",
     "shell.execute_reply": "2022-11-01T22:12:27.975341Z"
    }
   },
   "outputs": [
    {
     "data": {
      "text/html": [
       "<div>\n",
       "<style scoped>\n",
       "    .dataframe tbody tr th:only-of-type {\n",
       "        vertical-align: middle;\n",
       "    }\n",
       "\n",
       "    .dataframe tbody tr th {\n",
       "        vertical-align: top;\n",
       "    }\n",
       "\n",
       "    .dataframe thead th {\n",
       "        text-align: right;\n",
       "    }\n",
       "</style>\n",
       "<table border=\"1\" class=\"dataframe\">\n",
       "  <thead>\n",
       "    <tr style=\"text-align: right;\">\n",
       "      <th></th>\n",
       "      <th>@UNKNOWN</th>\n",
       "      <th>activist</th>\n",
       "      <th>agricultural worker</th>\n",
       "      <th>artist</th>\n",
       "      <th>athlete</th>\n",
       "      <th>biologist</th>\n",
       "      <th>businessperson</th>\n",
       "      <th>chemist</th>\n",
       "      <th>civil servant</th>\n",
       "      <th>clergyperson</th>\n",
       "      <th>...</th>\n",
       "      <th>military personnel</th>\n",
       "      <th>musician</th>\n",
       "      <th>performing artist</th>\n",
       "      <th>physicist</th>\n",
       "      <th>politician</th>\n",
       "      <th>scientist</th>\n",
       "      <th>social scientist</th>\n",
       "      <th>sportsperson (non-athlete)</th>\n",
       "      <th>transportation occupation</th>\n",
       "      <th>writer</th>\n",
       "    </tr>\n",
       "    <tr>\n",
       "      <th>topic_id</th>\n",
       "      <th></th>\n",
       "      <th></th>\n",
       "      <th></th>\n",
       "      <th></th>\n",
       "      <th></th>\n",
       "      <th></th>\n",
       "      <th></th>\n",
       "      <th></th>\n",
       "      <th></th>\n",
       "      <th></th>\n",
       "      <th></th>\n",
       "      <th></th>\n",
       "      <th></th>\n",
       "      <th></th>\n",
       "      <th></th>\n",
       "      <th></th>\n",
       "      <th></th>\n",
       "      <th></th>\n",
       "      <th></th>\n",
       "      <th></th>\n",
       "      <th></th>\n",
       "    </tr>\n",
       "  </thead>\n",
       "  <tbody>\n",
       "    <tr>\n",
       "      <th>187</th>\n",
       "      <td>0.892204</td>\n",
       "      <td>0.000188</td>\n",
       "      <td>0.000046</td>\n",
       "      <td>0.005043</td>\n",
       "      <td>0.000372</td>\n",
       "      <td>0.000185</td>\n",
       "      <td>0.002734</td>\n",
       "      <td>0.000005</td>\n",
       "      <td>0.000188</td>\n",
       "      <td>0.000082</td>\n",
       "      <td>...</td>\n",
       "      <td>0.000326</td>\n",
       "      <td>0.000129</td>\n",
       "      <td>0.000108</td>\n",
       "      <td>0.000050</td>\n",
       "      <td>0.001024</td>\n",
       "      <td>0.001136</td>\n",
       "      <td>0.000452</td>\n",
       "      <td>0.000038</td>\n",
       "      <td>0.000029</td>\n",
       "      <td>0.001392</td>\n",
       "    </tr>\n",
       "    <tr>\n",
       "      <th>270</th>\n",
       "      <td>0.374573</td>\n",
       "      <td>0.000137</td>\n",
       "      <td>0.000148</td>\n",
       "      <td>0.000555</td>\n",
       "      <td>0.602753</td>\n",
       "      <td>0.000141</td>\n",
       "      <td>0.001078</td>\n",
       "      <td>0.000119</td>\n",
       "      <td>0.000653</td>\n",
       "      <td>0.000105</td>\n",
       "      <td>...</td>\n",
       "      <td>0.000832</td>\n",
       "      <td>0.000388</td>\n",
       "      <td>0.001006</td>\n",
       "      <td>0.000022</td>\n",
       "      <td>0.002296</td>\n",
       "      <td>0.000268</td>\n",
       "      <td>0.000270</td>\n",
       "      <td>0.008311</td>\n",
       "      <td>0.000271</td>\n",
       "      <td>0.000785</td>\n",
       "    </tr>\n",
       "    <tr>\n",
       "      <th>359</th>\n",
       "      <td>0.349088</td>\n",
       "      <td>0.000201</td>\n",
       "      <td>0.000047</td>\n",
       "      <td>0.000556</td>\n",
       "      <td>0.594571</td>\n",
       "      <td>0.000043</td>\n",
       "      <td>0.004747</td>\n",
       "      <td>0.000061</td>\n",
       "      <td>0.000322</td>\n",
       "      <td>0.000046</td>\n",
       "      <td>...</td>\n",
       "      <td>0.001437</td>\n",
       "      <td>0.000892</td>\n",
       "      <td>0.002713</td>\n",
       "      <td>0.000009</td>\n",
       "      <td>0.001733</td>\n",
       "      <td>0.000035</td>\n",
       "      <td>0.000045</td>\n",
       "      <td>0.030802</td>\n",
       "      <td>0.000055</td>\n",
       "      <td>0.001369</td>\n",
       "    </tr>\n",
       "    <tr>\n",
       "      <th>365</th>\n",
       "      <td>0.424036</td>\n",
       "      <td>0.000077</td>\n",
       "      <td>0.000017</td>\n",
       "      <td>0.000184</td>\n",
       "      <td>0.503865</td>\n",
       "      <td>0.000023</td>\n",
       "      <td>0.001795</td>\n",
       "      <td>0.000051</td>\n",
       "      <td>0.000210</td>\n",
       "      <td>0.000087</td>\n",
       "      <td>...</td>\n",
       "      <td>0.000739</td>\n",
       "      <td>0.000260</td>\n",
       "      <td>0.001648</td>\n",
       "      <td>0.000000</td>\n",
       "      <td>0.000989</td>\n",
       "      <td>0.000058</td>\n",
       "      <td>0.000076</td>\n",
       "      <td>0.061324</td>\n",
       "      <td>0.000092</td>\n",
       "      <td>0.000738</td>\n",
       "    </tr>\n",
       "    <tr>\n",
       "      <th>400</th>\n",
       "      <td>0.044540</td>\n",
       "      <td>0.004262</td>\n",
       "      <td>0.000384</td>\n",
       "      <td>0.317141</td>\n",
       "      <td>0.003607</td>\n",
       "      <td>0.001523</td>\n",
       "      <td>0.019569</td>\n",
       "      <td>0.000265</td>\n",
       "      <td>0.002279</td>\n",
       "      <td>0.001734</td>\n",
       "      <td>...</td>\n",
       "      <td>0.002037</td>\n",
       "      <td>0.010805</td>\n",
       "      <td>0.127682</td>\n",
       "      <td>0.000386</td>\n",
       "      <td>0.007311</td>\n",
       "      <td>0.002942</td>\n",
       "      <td>0.003327</td>\n",
       "      <td>0.001624</td>\n",
       "      <td>0.000508</td>\n",
       "      <td>0.250578</td>\n",
       "    </tr>\n",
       "  </tbody>\n",
       "</table>\n",
       "<p>5 rows × 33 columns</p>\n",
       "</div>"
      ],
      "text/plain": [
       "          @UNKNOWN  activist  agricultural worker    artist   athlete  \\\n",
       "topic_id                                                                \n",
       "187       0.892204  0.000188             0.000046  0.005043  0.000372   \n",
       "270       0.374573  0.000137             0.000148  0.000555  0.602753   \n",
       "359       0.349088  0.000201             0.000047  0.000556  0.594571   \n",
       "365       0.424036  0.000077             0.000017  0.000184  0.503865   \n",
       "400       0.044540  0.004262             0.000384  0.317141  0.003607   \n",
       "\n",
       "          biologist  businessperson   chemist  civil servant  clergyperson  \\\n",
       "topic_id                                                                     \n",
       "187        0.000185        0.002734  0.000005       0.000188      0.000082   \n",
       "270        0.000141        0.001078  0.000119       0.000653      0.000105   \n",
       "359        0.000043        0.004747  0.000061       0.000322      0.000046   \n",
       "365        0.000023        0.001795  0.000051       0.000210      0.000087   \n",
       "400        0.001523        0.019569  0.000265       0.002279      0.001734   \n",
       "\n",
       "          ...  military personnel  musician  performing artist  physicist  \\\n",
       "topic_id  ...                                                               \n",
       "187       ...            0.000326  0.000129           0.000108   0.000050   \n",
       "270       ...            0.000832  0.000388           0.001006   0.000022   \n",
       "359       ...            0.001437  0.000892           0.002713   0.000009   \n",
       "365       ...            0.000739  0.000260           0.001648   0.000000   \n",
       "400       ...            0.002037  0.010805           0.127682   0.000386   \n",
       "\n",
       "          politician  scientist  social scientist  sportsperson (non-athlete)  \\\n",
       "topic_id                                                                        \n",
       "187         0.001024   0.001136          0.000452                    0.000038   \n",
       "270         0.002296   0.000268          0.000270                    0.008311   \n",
       "359         0.001733   0.000035          0.000045                    0.030802   \n",
       "365         0.000989   0.000058          0.000076                    0.061324   \n",
       "400         0.007311   0.002942          0.003327                    0.001624   \n",
       "\n",
       "          transportation occupation    writer  \n",
       "topic_id                                       \n",
       "187                        0.000029  0.001392  \n",
       "270                        0.000271  0.000785  \n",
       "359                        0.000055  0.001369  \n",
       "365                        0.000092  0.000738  \n",
       "400                        0.000508  0.250578  \n",
       "\n",
       "[5 rows x 33 columns]"
      ]
     },
     "execution_count": 32,
     "metadata": {},
     "output_type": "execute_result"
    }
   ],
   "source": [
    "qr_occ_align = qr_join(occ_align).multiply(qp_exp, axis='rows')\n",
    "qr_occ_tgt = qr_occ_align.groupby('topic_id').sum()\n",
    "qr_occ_tgt = norm_dist_df(qr_occ_tgt)\n",
    "qr_occ_tgt.head()"
   ]
  },
  {
   "cell_type": "code",
   "execution_count": 33,
   "id": "bdf9e942-4da6-4a15-9e9b-3401be54d10e",
   "metadata": {
    "execution": {
     "iopub.execute_input": "2022-11-01T22:12:27.978854Z",
     "iopub.status.busy": "2022-11-01T22:12:27.978854Z",
     "iopub.status.idle": "2022-11-01T22:12:28.039355Z",
     "shell.execute_reply": "2022-11-01T22:12:28.038088Z"
    }
   },
   "outputs": [
    {
     "name": "stderr",
     "output_type": "stream",
     "text": [
      "INFO:wptrec.save:saving CSV to data\\metric-tables\\task2-eval-occ-target.csv.gz\n"
     ]
    },
    {
     "name": "stderr",
     "output_type": "stream",
     "text": [
      "INFO:wptrec.save:data\\metric-tables\\task2-eval-occ-target.csv.gz: 15.39 KiB\n"
     ]
    },
    {
     "name": "stderr",
     "output_type": "stream",
     "text": [
      "INFO:wptrec.save:saving Parquet to data\\metric-tables\\task2-eval-occ-target.parquet\n"
     ]
    },
    {
     "name": "stderr",
     "output_type": "stream",
     "text": [
      "INFO:wptrec.save:data\\metric-tables\\task2-eval-occ-target.parquet: 38.59 KiB\n"
     ]
    }
   ],
   "source": [
    "output.save_table(qr_occ_tgt, f'task2-{DATA_MODE}-occ-target', parquet=True)"
   ]
  },
  {
   "cell_type": "markdown",
   "id": "1cac193c-9c72-47fa-abc7-574db0922eed",
   "metadata": {},
   "source": [
    "## Remaining Attributes\n",
    "\n",
    "The remaining attributes don't need any further processing, as they are completely known."
   ]
  },
  {
   "cell_type": "code",
   "execution_count": 34,
   "id": "733266c6-f7b7-48c2-988a-4edca70f62d8",
   "metadata": {
    "execution": {
     "iopub.execute_input": "2022-11-01T22:12:28.043384Z",
     "iopub.status.busy": "2022-11-01T22:12:28.043384Z",
     "iopub.status.idle": "2022-11-01T22:12:30.420325Z",
     "shell.execute_reply": "2022-11-01T22:12:30.419324Z"
    }
   },
   "outputs": [
    {
     "name": "stderr",
     "output_type": "stream",
     "text": [
      "INFO:wptrec.save:saving CSV to data\\metric-tables\\task2-eval-age-target.csv.gz\n"
     ]
    },
    {
     "name": "stderr",
     "output_type": "stream",
     "text": [
      "INFO:wptrec.save:data\\metric-tables\\task2-eval-age-target.csv.gz: 1.20 KiB\n"
     ]
    },
    {
     "name": "stderr",
     "output_type": "stream",
     "text": [
      "INFO:wptrec.save:saving Parquet to data\\metric-tables\\task2-eval-age-target.parquet\n"
     ]
    },
    {
     "name": "stderr",
     "output_type": "stream",
     "text": [
      "INFO:wptrec.save:data\\metric-tables\\task2-eval-age-target.parquet: 5.23 KiB\n"
     ]
    }
   ],
   "source": [
    "qr_age_align = qr_join(age_align).multiply(qp_exp, axis='rows')\n",
    "qr_age_tgt = norm_dist_df(qr_age_align.groupby('topic_id').sum())\n",
    "output.save_table(qr_age_tgt, f'task2-{DATA_MODE}-age-target', parquet=True)"
   ]
  },
  {
   "cell_type": "code",
   "execution_count": 35,
   "id": "b897d166-b0c0-4f7a-9e08-17c2c8208412",
   "metadata": {
    "execution": {
     "iopub.execute_input": "2022-11-01T22:12:30.425741Z",
     "iopub.status.busy": "2022-11-01T22:12:30.424718Z",
     "iopub.status.idle": "2022-11-01T22:12:32.988315Z",
     "shell.execute_reply": "2022-11-01T22:12:32.987315Z"
    }
   },
   "outputs": [
    {
     "name": "stderr",
     "output_type": "stream",
     "text": [
      "INFO:wptrec.save:saving CSV to data\\metric-tables\\task2-eval-alpha-target.csv.gz\n"
     ]
    },
    {
     "name": "stderr",
     "output_type": "stream",
     "text": [
      "INFO:wptrec.save:data\\metric-tables\\task2-eval-alpha-target.csv.gz: 1.16 KiB\n"
     ]
    },
    {
     "name": "stderr",
     "output_type": "stream",
     "text": [
      "INFO:wptrec.save:saving Parquet to data\\metric-tables\\task2-eval-alpha-target.parquet\n"
     ]
    },
    {
     "name": "stderr",
     "output_type": "stream",
     "text": [
      "INFO:wptrec.save:data\\metric-tables\\task2-eval-alpha-target.parquet: 4.10 KiB\n"
     ]
    }
   ],
   "source": [
    "qr_alpha_align = qr_join(alpha_align).multiply(qp_exp, axis='rows')\n",
    "qr_alpha_tgt = norm_dist_df(qr_alpha_align.groupby('topic_id').sum())\n",
    "output.save_table(qr_alpha_tgt, f'task2-{DATA_MODE}-alpha-target', parquet=True)"
   ]
  },
  {
   "cell_type": "code",
   "execution_count": 36,
   "id": "a4705eb1-02b6-479d-b833-c9de2decd730",
   "metadata": {
    "execution": {
     "iopub.execute_input": "2022-11-01T22:12:32.992159Z",
     "iopub.status.busy": "2022-11-01T22:12:32.992159Z",
     "iopub.status.idle": "2022-11-01T22:12:35.447864Z",
     "shell.execute_reply": "2022-11-01T22:12:35.446872Z"
    }
   },
   "outputs": [
    {
     "name": "stderr",
     "output_type": "stream",
     "text": [
      "INFO:wptrec.save:saving CSV to data\\metric-tables\\task2-eval-langs-target.csv.gz\n"
     ]
    },
    {
     "name": "stderr",
     "output_type": "stream",
     "text": [
      "INFO:wptrec.save:data\\metric-tables\\task2-eval-langs-target.csv.gz: 978.00 iB\n"
     ]
    },
    {
     "name": "stderr",
     "output_type": "stream",
     "text": [
      "INFO:wptrec.save:saving Parquet to data\\metric-tables\\task2-eval-langs-target.parquet\n"
     ]
    },
    {
     "name": "stderr",
     "output_type": "stream",
     "text": [
      "INFO:wptrec.save:data\\metric-tables\\task2-eval-langs-target.parquet: 4.45 KiB\n"
     ]
    }
   ],
   "source": [
    "qr_langs_align = qr_join(langs_align).multiply(qp_exp, axis='rows')\n",
    "qr_langs_tgt = norm_dist_df(qr_langs_align.groupby('topic_id').sum())\n",
    "output.save_table(qr_langs_tgt, f'task2-{DATA_MODE}-langs-target', parquet=True)"
   ]
  },
  {
   "cell_type": "code",
   "execution_count": 37,
   "id": "f5f336dc-cc67-44dd-98ae-3673c6de4ef7",
   "metadata": {
    "execution": {
     "iopub.execute_input": "2022-11-01T22:12:35.451859Z",
     "iopub.status.busy": "2022-11-01T22:12:35.450859Z",
     "iopub.status.idle": "2022-11-01T22:12:38.012463Z",
     "shell.execute_reply": "2022-11-01T22:12:38.011950Z"
    }
   },
   "outputs": [
    {
     "name": "stderr",
     "output_type": "stream",
     "text": [
      "INFO:wptrec.save:saving CSV to data\\metric-tables\\task2-eval-pop-target.csv.gz\n"
     ]
    },
    {
     "name": "stderr",
     "output_type": "stream",
     "text": [
      "INFO:wptrec.save:data\\metric-tables\\task2-eval-pop-target.csv.gz: 1.24 KiB\n"
     ]
    },
    {
     "name": "stderr",
     "output_type": "stream",
     "text": [
      "INFO:wptrec.save:saving Parquet to data\\metric-tables\\task2-eval-pop-target.parquet\n"
     ]
    },
    {
     "name": "stderr",
     "output_type": "stream",
     "text": [
      "INFO:wptrec.save:data\\metric-tables\\task2-eval-pop-target.parquet: 5.15 KiB\n"
     ]
    }
   ],
   "source": [
    "qr_pop_align = qr_join(pop_align).multiply(qp_exp, axis='rows')\n",
    "qr_pop_tgt = norm_dist_df(qr_pop_align.groupby('topic_id').sum())\n",
    "output.save_table(qr_pop_tgt, f'task2-{DATA_MODE}-pop-target', parquet=True)"
   ]
  },
  {
   "cell_type": "markdown",
   "id": "6c43bd63-e991-4fef-9c01-fd14fa4d4fad",
   "metadata": {},
   "source": [
    "## Multidimensional Alignment\n",
    "\n",
    "Now let's dive into the multidmensional alignment.  This is going to proceed a lot like the Task 1 alignment."
   ]
  },
  {
   "cell_type": "markdown",
   "id": "f017ee11-a257-477a-ab87-eeea0f98f4af",
   "metadata": {},
   "source": [
    "### Dimension Definitions\n",
    "\n",
    "Let's define background distributions for some of our dimensions:"
   ]
  },
  {
   "cell_type": "code",
   "execution_count": 38,
   "id": "8cc734a2-eb39-4343-ad72-8ca1eeb78c04",
   "metadata": {
    "execution": {
     "iopub.execute_input": "2022-11-01T22:12:38.016463Z",
     "iopub.status.busy": "2022-11-01T22:12:38.016463Z",
     "iopub.status.idle": "2022-11-01T22:12:38.028462Z",
     "shell.execute_reply": "2022-11-01T22:12:38.027469Z"
    }
   },
   "outputs": [],
   "source": [
    "dim_backgrounds = {\n",
    "    'sub-geo': world_pop,\n",
    "    'src-geo': world_pop,\n",
    "    'gender': gender_tgt,\n",
    "}"
   ]
  },
  {
   "cell_type": "markdown",
   "id": "311d0e0d-413b-4ede-bf9a-754510eb4dba",
   "metadata": {},
   "source": [
    "Now we'll make a list of dimensions to treat with averaging:"
   ]
  },
  {
   "cell_type": "code",
   "execution_count": 39,
   "id": "e7176ebc-2260-471f-be1f-00692e52ae26",
   "metadata": {
    "execution": {
     "iopub.execute_input": "2022-11-01T22:12:38.033462Z",
     "iopub.status.busy": "2022-11-01T22:12:38.033462Z",
     "iopub.status.idle": "2022-11-01T22:12:38.044464Z",
     "shell.execute_reply": "2022-11-01T22:12:38.043464Z"
    }
   },
   "outputs": [
    {
     "data": {
      "text/plain": [
       "['sub-geo', 'src-geo', 'gender']"
      ]
     },
     "execution_count": 39,
     "metadata": {},
     "output_type": "execute_result"
    }
   ],
   "source": [
    "DR = namedtuple('DimRec', ['name', 'align', 'background'], defaults=[None])\n",
    "avg_dims = [\n",
    "    DR(d.name, d.page_align_xr, xr.DataArray(dim_backgrounds[d.name], dims=[d.name]))\n",
    "    for d in dimensions\n",
    "    if d.name in dim_backgrounds\n",
    "]\n",
    "[d.name for d in avg_dims]"
   ]
  },
  {
   "cell_type": "markdown",
   "id": "e1494101-4748-4238-add9-62deb4d35e83",
   "metadata": {},
   "source": [
    "And a list of dimensions to use as-is:"
   ]
  },
  {
   "cell_type": "code",
   "execution_count": 40,
   "id": "ff83c5cd-437c-4bcf-98f5-dbcad1538e02",
   "metadata": {
    "execution": {
     "iopub.execute_input": "2022-11-01T22:12:38.048471Z",
     "iopub.status.busy": "2022-11-01T22:12:38.047464Z",
     "iopub.status.idle": "2022-11-01T22:12:38.060463Z",
     "shell.execute_reply": "2022-11-01T22:12:38.058463Z"
    }
   },
   "outputs": [
    {
     "data": {
      "text/plain": [
       "['occ', 'alpha', 'age', 'pop', 'langs']"
      ]
     },
     "execution_count": 40,
     "metadata": {},
     "output_type": "execute_result"
    }
   ],
   "source": [
    "raw_dims = [\n",
    "    DR(d.name, d.page_align_xr)\n",
    "    for d in dimensions\n",
    "    if d.name not in dim_backgrounds\n",
    "]\n",
    "[d.name for d in raw_dims]"
   ]
  },
  {
   "cell_type": "markdown",
   "id": "d8950a73-24fa-447f-8612-f8bc3cf2368c",
   "metadata": {},
   "source": [
    "Now: these dimension are in the original order - `dimensions` has the averaged dimensions before the non-averaged ones. **This is critical for the rest of the code to work.**"
   ]
  },
  {
   "cell_type": "markdown",
   "id": "a242988c-5f4b-49d3-a04d-6a15f1116f53",
   "metadata": {},
   "source": [
    "### Data Subsetting\n",
    "\n",
    "Also from Task 1."
   ]
  },
  {
   "cell_type": "code",
   "execution_count": 41,
   "id": "a53eb29c-76ce-4580-942e-ac43424ad8e4",
   "metadata": {
    "execution": {
     "iopub.execute_input": "2022-11-01T22:12:38.066498Z",
     "iopub.status.busy": "2022-11-01T22:12:38.066498Z",
     "iopub.status.idle": "2022-11-01T22:12:38.076071Z",
     "shell.execute_reply": "2022-11-01T22:12:38.074463Z"
    }
   },
   "outputs": [
    {
     "data": {
      "text/plain": [
       "[(True, True, True),\n",
       " (True, True, False),\n",
       " (True, False, True),\n",
       " (True, False, False),\n",
       " (False, True, True),\n",
       " (False, True, False),\n",
       " (False, False, True)]"
      ]
     },
     "execution_count": 41,
     "metadata": {},
     "output_type": "execute_result"
    }
   ],
   "source": [
    "avg_cases = list(product(*[[True, False] for d in avg_dims]))\n",
    "avg_cases.pop()\n",
    "avg_cases"
   ]
  },
  {
   "cell_type": "code",
   "execution_count": 42,
   "id": "ac94ffb7-9c4c-4009-b521-6e9c7ac2cfc2",
   "metadata": {
    "execution": {
     "iopub.execute_input": "2022-11-01T22:12:38.079463Z",
     "iopub.status.busy": "2022-11-01T22:12:38.079463Z",
     "iopub.status.idle": "2022-11-01T22:12:38.091234Z",
     "shell.execute_reply": "2022-11-01T22:12:38.090555Z"
    }
   },
   "outputs": [],
   "source": [
    "def case_selector(case):\n",
    "    def mksel(known):\n",
    "        if known:\n",
    "            # select all but 1st column\n",
    "            return slice(1, None, None)\n",
    "        else:\n",
    "            # select 1st column\n",
    "            return 0\n",
    "    \n",
    "    return tuple(mksel(k) for k in case)"
   ]
  },
  {
   "cell_type": "markdown",
   "id": "6c8a225c-ba1c-4b37-9c1d-e0a14cfe75ae",
   "metadata": {},
   "source": [
    "### Background Averaging\n",
    "\n",
    "We're now going to define our background-averaging function; this is reused from the Task 1 alignment code.\n",
    "\n",
    "For each condition, we are going to proceed as follows:\n",
    "\n",
    "1. Compute an appropriate intersectional background distribution (based on the dimensions that are \"known\")\n",
    "2. Select the subset of the target matrix with this known status\n",
    "3. Compute the sum of this subset\n",
    "4. Re-normalize the subset to sum to 1\n",
    "5. Compute a normalization table such that each coordinate in the distributions to correct sums to 1 (so multiplying this by the background distribution spreads the background across the other dimensions appropriately), and use this to spread the background distribution\n",
    "6. Average with the spread background distribution\n",
    "7. Re-normalize to preserve the original sum\n",
    "\n",
    "Let's define the whole process as a function:"
   ]
  },
  {
   "cell_type": "code",
   "execution_count": 43,
   "id": "a584d651-c27f-46f5-bf16-40526babaa91",
   "metadata": {
    "execution": {
     "iopub.execute_input": "2022-11-01T22:12:38.096065Z",
     "iopub.status.busy": "2022-11-01T22:12:38.096065Z",
     "iopub.status.idle": "2022-11-01T22:12:38.107070Z",
     "shell.execute_reply": "2022-11-01T22:12:38.106066Z"
    }
   },
   "outputs": [],
   "source": [
    "def avg_with_bg(tm, verbose=False):\n",
    "    tm = tm.copy()\n",
    "    \n",
    "    tail_names = [d.name for d in raw_dims]\n",
    "    \n",
    "    # compute the tail mass for each coordinate (can be done once)\n",
    "    tail_mass = tm.sum(tail_names)\n",
    "    \n",
    "    # now some things don't have any mass, but we still need to distribute background distributions.\n",
    "    # solution: we impute the marginal tail distribution\n",
    "    # first compute it\n",
    "    tail_marg = tm.sum([d.name for d in avg_dims])\n",
    "    # then impute that where we don't have mass\n",
    "    tm_imputed = xr.where(tail_mass > 0, tm, tail_marg)\n",
    "    # and re-compute the tail mass\n",
    "    tail_mass = tm_imputed.sum(tail_names)\n",
    "    # and finally we compute the rescaled matrix\n",
    "    tail_scale = tm_imputed / tail_mass\n",
    "    del tm_imputed\n",
    "    \n",
    "    for case in avg_cases:\n",
    "        # for deugging: get names\n",
    "        known_names = [d.name for (d, known) in zip(avg_dims, case) if known]\n",
    "        if verbose:\n",
    "            print('processing known:', known_names)\n",
    "        \n",
    "        # Step 1: background\n",
    "        bg = reduce(operator.mul, [\n",
    "            d.background\n",
    "            for (d, known) in zip(avg_dims, case)\n",
    "            if known\n",
    "        ])\n",
    "        if not np.allclose(bg.sum(), 1.0):\n",
    "            warnings.warn('background distribution for {} sums to {}, expected 1'.format(known_names, bg.values.sum()))\n",
    "        \n",
    "        # Step 2: selector\n",
    "        sel = case_selector(case)\n",
    "        \n",
    "        # Steps 3: sum in preparation for normalization\n",
    "        c_sum = tm[sel].sum()\n",
    "        \n",
    "        # Step 5: spread the background\n",
    "        bg_spread = bg * tail_scale[sel] * c_sum\n",
    "        if not np.allclose(bg_spread.sum(), c_sum):\n",
    "            warnings.warn('rescaled background sums to {}, expected c_sum'.format(bg_spread.values.sum()))\n",
    "        \n",
    "        # Step 4 & 6: average with the background\n",
    "        tm[sel] *= 0.5\n",
    "        bg_spread *= 0.5\n",
    "        tm[sel] += bg_spread\n",
    "                        \n",
    "        if not np.allclose(tm[sel].sum(), c_sum):\n",
    "            warnings.warn('target distribution for {} sums to {}, expected {}'.format(known_names, tm[sel].values.sum(), c_sum))\n",
    "    \n",
    "    return tm"
   ]
  },
  {
   "cell_type": "markdown",
   "id": "15272953-adc2-4cfd-89a4-10a9cc5e473c",
   "metadata": {},
   "source": [
    "### Computing Targets\n",
    "\n",
    "We're now ready to compute a multidimensional target. This works like the Task 1, with the difference that we are propagating work needed into the targets as well; the input will be series whose *index* is page IDs and values are the work levels."
   ]
  },
  {
   "cell_type": "code",
   "execution_count": 44,
   "id": "921722fd-684c-43b0-8b2a-07c3a8f873ac",
   "metadata": {
    "execution": {
     "iopub.execute_input": "2022-11-01T22:12:38.112065Z",
     "iopub.status.busy": "2022-11-01T22:12:38.112065Z",
     "iopub.status.idle": "2022-11-01T22:12:38.122066Z",
     "shell.execute_reply": "2022-11-01T22:12:38.121084Z"
    }
   },
   "outputs": [],
   "source": [
    "def query_xalign(pages):\n",
    "    # compute targets to average\n",
    "    avg_pages = reduce(operator.mul, [d.align.loc[pages.index] for d in avg_dims])\n",
    "    raw_pages = reduce(operator.mul, [d.align.loc[pages.index] for d in raw_dims])\n",
    "    \n",
    "    # weight the left pages\n",
    "    pages.index.name = 'page'\n",
    "    qpw = xr.DataArray.from_series(pages)\n",
    "    avg_pages = avg_pages * qpw\n",
    "\n",
    "    # convert to query distribution\n",
    "    tgt = sum_outer(avg_pages, raw_pages)\n",
    "    tgt /= qpw.sum()\n",
    "\n",
    "    # average with background distributions\n",
    "    tgt = avg_with_bg(tgt)\n",
    "    \n",
    "    # and return the result\n",
    "    return tgt"
   ]
  },
  {
   "cell_type": "markdown",
   "id": "e51433a1-0163-4fa0-b05a-908fd3a71d5d",
   "metadata": {},
   "source": [
    "### Applying Computations\n",
    "\n",
    "Now let's run this thing - compute all the target distributions:"
   ]
  },
  {
   "cell_type": "code",
   "execution_count": 45,
   "id": "6fe51dde-1c99-4913-9718-2eff63d94954",
   "metadata": {
    "execution": {
     "iopub.execute_input": "2022-11-01T22:12:38.127065Z",
     "iopub.status.busy": "2022-11-01T22:12:38.127065Z",
     "iopub.status.idle": "2022-11-01T22:12:38.138066Z",
     "shell.execute_reply": "2022-11-01T22:12:38.137174Z"
    }
   },
   "outputs": [
    {
     "data": {
      "text/plain": [
       "Int64Index([ 187,  270,  359,  365,  400,  404,  480,  517,  568,  596,  715,\n",
       "             807,  834,  881,  883,  949,  951,  955,  995, 1018, 1180, 1233,\n",
       "            1328, 1406, 1417, 1448, 1449, 1479, 1499, 1548, 1558, 1647, 1685,\n",
       "            1806, 1821, 1877, 1884, 1890, 2000, 2028, 2106, 2153, 2160, 2229,\n",
       "            2244, 2448, 2483, 2758, 2867, 2872],\n",
       "           dtype='int64', name='topic_id')"
      ]
     },
     "execution_count": 45,
     "metadata": {},
     "output_type": "execute_result"
    }
   ],
   "source": [
    "q_ids = qp_exp.index.levels[0].copy()\n",
    "q_ids"
   ]
  },
  {
   "cell_type": "code",
   "execution_count": 46,
   "id": "f6091b56-9652-45d4-9f8b-c14395dc0975",
   "metadata": {
    "execution": {
     "iopub.execute_input": "2022-11-01T22:12:38.143067Z",
     "iopub.status.busy": "2022-11-01T22:12:38.143067Z",
     "iopub.status.idle": "2022-11-01T22:21:14.224368Z",
     "shell.execute_reply": "2022-11-01T22:21:14.222366Z"
    }
   },
   "outputs": [
    {
     "data": {
      "application/vnd.jupyter.widget-view+json": {
       "model_id": "43dd8a2900b64ce0bbaccab0fa7a97a2",
       "version_major": 2,
       "version_minor": 0
      },
      "text/plain": [
       "  0%|          | 0/50 [00:00<?, ?it/s]"
      ]
     },
     "metadata": {},
     "output_type": "display_data"
    }
   ],
   "source": [
    "q_tgts = [query_xalign(qp_exp.loc[q]) for q in tqdm(q_ids)]"
   ]
  },
  {
   "cell_type": "code",
   "execution_count": 47,
   "id": "7c153039-f250-4c9e-b0a0-26ca2a50bda3",
   "metadata": {
    "execution": {
     "iopub.execute_input": "2022-11-01T22:21:14.235368Z",
     "iopub.status.busy": "2022-11-01T22:21:14.234368Z",
     "iopub.status.idle": "2022-11-01T22:21:56.041029Z",
     "shell.execute_reply": "2022-11-01T22:21:56.040027Z"
    }
   },
   "outputs": [
    {
     "data": {
      "text/html": [
       "<div><svg style=\"position: absolute; width: 0; height: 0; overflow: hidden\">\n",
       "<defs>\n",
       "<symbol id=\"icon-database\" viewBox=\"0 0 32 32\">\n",
       "<path d=\"M16 0c-8.837 0-16 2.239-16 5v4c0 2.761 7.163 5 16 5s16-2.239 16-5v-4c0-2.761-7.163-5-16-5z\"></path>\n",
       "<path d=\"M16 17c-8.837 0-16-2.239-16-5v6c0 2.761 7.163 5 16 5s16-2.239 16-5v-6c0 2.761-7.163 5-16 5z\"></path>\n",
       "<path d=\"M16 26c-8.837 0-16-2.239-16-5v6c0 2.761 7.163 5 16 5s16-2.239 16-5v-6c0 2.761-7.163 5-16 5z\"></path>\n",
       "</symbol>\n",
       "<symbol id=\"icon-file-text2\" viewBox=\"0 0 32 32\">\n",
       "<path d=\"M28.681 7.159c-0.694-0.947-1.662-2.053-2.724-3.116s-2.169-2.030-3.116-2.724c-1.612-1.182-2.393-1.319-2.841-1.319h-15.5c-1.378 0-2.5 1.121-2.5 2.5v27c0 1.378 1.122 2.5 2.5 2.5h23c1.378 0 2.5-1.122 2.5-2.5v-19.5c0-0.448-0.137-1.23-1.319-2.841zM24.543 5.457c0.959 0.959 1.712 1.825 2.268 2.543h-4.811v-4.811c0.718 0.556 1.584 1.309 2.543 2.268zM28 29.5c0 0.271-0.229 0.5-0.5 0.5h-23c-0.271 0-0.5-0.229-0.5-0.5v-27c0-0.271 0.229-0.5 0.5-0.5 0 0 15.499-0 15.5 0v7c0 0.552 0.448 1 1 1h7v19.5z\"></path>\n",
       "<path d=\"M23 26h-14c-0.552 0-1-0.448-1-1s0.448-1 1-1h14c0.552 0 1 0.448 1 1s-0.448 1-1 1z\"></path>\n",
       "<path d=\"M23 22h-14c-0.552 0-1-0.448-1-1s0.448-1 1-1h14c0.552 0 1 0.448 1 1s-0.448 1-1 1z\"></path>\n",
       "<path d=\"M23 18h-14c-0.552 0-1-0.448-1-1s0.448-1 1-1h14c0.552 0 1 0.448 1 1s-0.448 1-1 1z\"></path>\n",
       "</symbol>\n",
       "</defs>\n",
       "</svg>\n",
       "<style>/* CSS stylesheet for displaying xarray objects in jupyterlab.\n",
       " *\n",
       " */\n",
       "\n",
       ":root {\n",
       "  --xr-font-color0: var(--jp-content-font-color0, rgba(0, 0, 0, 1));\n",
       "  --xr-font-color2: var(--jp-content-font-color2, rgba(0, 0, 0, 0.54));\n",
       "  --xr-font-color3: var(--jp-content-font-color3, rgba(0, 0, 0, 0.38));\n",
       "  --xr-border-color: var(--jp-border-color2, #e0e0e0);\n",
       "  --xr-disabled-color: var(--jp-layout-color3, #bdbdbd);\n",
       "  --xr-background-color: var(--jp-layout-color0, white);\n",
       "  --xr-background-color-row-even: var(--jp-layout-color1, white);\n",
       "  --xr-background-color-row-odd: var(--jp-layout-color2, #eeeeee);\n",
       "}\n",
       "\n",
       "html[theme=dark],\n",
       "body[data-theme=dark],\n",
       "body.vscode-dark {\n",
       "  --xr-font-color0: rgba(255, 255, 255, 1);\n",
       "  --xr-font-color2: rgba(255, 255, 255, 0.54);\n",
       "  --xr-font-color3: rgba(255, 255, 255, 0.38);\n",
       "  --xr-border-color: #1F1F1F;\n",
       "  --xr-disabled-color: #515151;\n",
       "  --xr-background-color: #111111;\n",
       "  --xr-background-color-row-even: #111111;\n",
       "  --xr-background-color-row-odd: #313131;\n",
       "}\n",
       "\n",
       ".xr-wrap {\n",
       "  display: block !important;\n",
       "  min-width: 300px;\n",
       "  max-width: 700px;\n",
       "}\n",
       "\n",
       ".xr-text-repr-fallback {\n",
       "  /* fallback to plain text repr when CSS is not injected (untrusted notebook) */\n",
       "  display: none;\n",
       "}\n",
       "\n",
       ".xr-header {\n",
       "  padding-top: 6px;\n",
       "  padding-bottom: 6px;\n",
       "  margin-bottom: 4px;\n",
       "  border-bottom: solid 1px var(--xr-border-color);\n",
       "}\n",
       "\n",
       ".xr-header > div,\n",
       ".xr-header > ul {\n",
       "  display: inline;\n",
       "  margin-top: 0;\n",
       "  margin-bottom: 0;\n",
       "}\n",
       "\n",
       ".xr-obj-type,\n",
       ".xr-array-name {\n",
       "  margin-left: 2px;\n",
       "  margin-right: 10px;\n",
       "}\n",
       "\n",
       ".xr-obj-type {\n",
       "  color: var(--xr-font-color2);\n",
       "}\n",
       "\n",
       ".xr-sections {\n",
       "  padding-left: 0 !important;\n",
       "  display: grid;\n",
       "  grid-template-columns: 150px auto auto 1fr 20px 20px;\n",
       "}\n",
       "\n",
       ".xr-section-item {\n",
       "  display: contents;\n",
       "}\n",
       "\n",
       ".xr-section-item input {\n",
       "  display: none;\n",
       "}\n",
       "\n",
       ".xr-section-item input + label {\n",
       "  color: var(--xr-disabled-color);\n",
       "}\n",
       "\n",
       ".xr-section-item input:enabled + label {\n",
       "  cursor: pointer;\n",
       "  color: var(--xr-font-color2);\n",
       "}\n",
       "\n",
       ".xr-section-item input:enabled + label:hover {\n",
       "  color: var(--xr-font-color0);\n",
       "}\n",
       "\n",
       ".xr-section-summary {\n",
       "  grid-column: 1;\n",
       "  color: var(--xr-font-color2);\n",
       "  font-weight: 500;\n",
       "}\n",
       "\n",
       ".xr-section-summary > span {\n",
       "  display: inline-block;\n",
       "  padding-left: 0.5em;\n",
       "}\n",
       "\n",
       ".xr-section-summary-in:disabled + label {\n",
       "  color: var(--xr-font-color2);\n",
       "}\n",
       "\n",
       ".xr-section-summary-in + label:before {\n",
       "  display: inline-block;\n",
       "  content: '►';\n",
       "  font-size: 11px;\n",
       "  width: 15px;\n",
       "  text-align: center;\n",
       "}\n",
       "\n",
       ".xr-section-summary-in:disabled + label:before {\n",
       "  color: var(--xr-disabled-color);\n",
       "}\n",
       "\n",
       ".xr-section-summary-in:checked + label:before {\n",
       "  content: '▼';\n",
       "}\n",
       "\n",
       ".xr-section-summary-in:checked + label > span {\n",
       "  display: none;\n",
       "}\n",
       "\n",
       ".xr-section-summary,\n",
       ".xr-section-inline-details {\n",
       "  padding-top: 4px;\n",
       "  padding-bottom: 4px;\n",
       "}\n",
       "\n",
       ".xr-section-inline-details {\n",
       "  grid-column: 2 / -1;\n",
       "}\n",
       "\n",
       ".xr-section-details {\n",
       "  display: none;\n",
       "  grid-column: 1 / -1;\n",
       "  margin-bottom: 5px;\n",
       "}\n",
       "\n",
       ".xr-section-summary-in:checked ~ .xr-section-details {\n",
       "  display: contents;\n",
       "}\n",
       "\n",
       ".xr-array-wrap {\n",
       "  grid-column: 1 / -1;\n",
       "  display: grid;\n",
       "  grid-template-columns: 20px auto;\n",
       "}\n",
       "\n",
       ".xr-array-wrap > label {\n",
       "  grid-column: 1;\n",
       "  vertical-align: top;\n",
       "}\n",
       "\n",
       ".xr-preview {\n",
       "  color: var(--xr-font-color3);\n",
       "}\n",
       "\n",
       ".xr-array-preview,\n",
       ".xr-array-data {\n",
       "  padding: 0 5px !important;\n",
       "  grid-column: 2;\n",
       "}\n",
       "\n",
       ".xr-array-data,\n",
       ".xr-array-in:checked ~ .xr-array-preview {\n",
       "  display: none;\n",
       "}\n",
       "\n",
       ".xr-array-in:checked ~ .xr-array-data,\n",
       ".xr-array-preview {\n",
       "  display: inline-block;\n",
       "}\n",
       "\n",
       ".xr-dim-list {\n",
       "  display: inline-block !important;\n",
       "  list-style: none;\n",
       "  padding: 0 !important;\n",
       "  margin: 0;\n",
       "}\n",
       "\n",
       ".xr-dim-list li {\n",
       "  display: inline-block;\n",
       "  padding: 0;\n",
       "  margin: 0;\n",
       "}\n",
       "\n",
       ".xr-dim-list:before {\n",
       "  content: '(';\n",
       "}\n",
       "\n",
       ".xr-dim-list:after {\n",
       "  content: ')';\n",
       "}\n",
       "\n",
       ".xr-dim-list li:not(:last-child):after {\n",
       "  content: ',';\n",
       "  padding-right: 5px;\n",
       "}\n",
       "\n",
       ".xr-has-index {\n",
       "  font-weight: bold;\n",
       "}\n",
       "\n",
       ".xr-var-list,\n",
       ".xr-var-item {\n",
       "  display: contents;\n",
       "}\n",
       "\n",
       ".xr-var-item > div,\n",
       ".xr-var-item label,\n",
       ".xr-var-item > .xr-var-name span {\n",
       "  background-color: var(--xr-background-color-row-even);\n",
       "  margin-bottom: 0;\n",
       "}\n",
       "\n",
       ".xr-var-item > .xr-var-name:hover span {\n",
       "  padding-right: 5px;\n",
       "}\n",
       "\n",
       ".xr-var-list > li:nth-child(odd) > div,\n",
       ".xr-var-list > li:nth-child(odd) > label,\n",
       ".xr-var-list > li:nth-child(odd) > .xr-var-name span {\n",
       "  background-color: var(--xr-background-color-row-odd);\n",
       "}\n",
       "\n",
       ".xr-var-name {\n",
       "  grid-column: 1;\n",
       "}\n",
       "\n",
       ".xr-var-dims {\n",
       "  grid-column: 2;\n",
       "}\n",
       "\n",
       ".xr-var-dtype {\n",
       "  grid-column: 3;\n",
       "  text-align: right;\n",
       "  color: var(--xr-font-color2);\n",
       "}\n",
       "\n",
       ".xr-var-preview {\n",
       "  grid-column: 4;\n",
       "}\n",
       "\n",
       ".xr-var-name,\n",
       ".xr-var-dims,\n",
       ".xr-var-dtype,\n",
       ".xr-preview,\n",
       ".xr-attrs dt {\n",
       "  white-space: nowrap;\n",
       "  overflow: hidden;\n",
       "  text-overflow: ellipsis;\n",
       "  padding-right: 10px;\n",
       "}\n",
       "\n",
       ".xr-var-name:hover,\n",
       ".xr-var-dims:hover,\n",
       ".xr-var-dtype:hover,\n",
       ".xr-attrs dt:hover {\n",
       "  overflow: visible;\n",
       "  width: auto;\n",
       "  z-index: 1;\n",
       "}\n",
       "\n",
       ".xr-var-attrs,\n",
       ".xr-var-data {\n",
       "  display: none;\n",
       "  background-color: var(--xr-background-color) !important;\n",
       "  padding-bottom: 5px !important;\n",
       "}\n",
       "\n",
       ".xr-var-attrs-in:checked ~ .xr-var-attrs,\n",
       ".xr-var-data-in:checked ~ .xr-var-data {\n",
       "  display: block;\n",
       "}\n",
       "\n",
       ".xr-var-data > table {\n",
       "  float: right;\n",
       "}\n",
       "\n",
       ".xr-var-name span,\n",
       ".xr-var-data,\n",
       ".xr-attrs {\n",
       "  padding-left: 25px !important;\n",
       "}\n",
       "\n",
       ".xr-attrs,\n",
       ".xr-var-attrs,\n",
       ".xr-var-data {\n",
       "  grid-column: 1 / -1;\n",
       "}\n",
       "\n",
       "dl.xr-attrs {\n",
       "  padding: 0;\n",
       "  margin: 0;\n",
       "  display: grid;\n",
       "  grid-template-columns: 125px auto;\n",
       "}\n",
       "\n",
       ".xr-attrs dt,\n",
       ".xr-attrs dd {\n",
       "  padding: 0;\n",
       "  margin: 0;\n",
       "  float: left;\n",
       "  padding-right: 10px;\n",
       "  width: auto;\n",
       "}\n",
       "\n",
       ".xr-attrs dt {\n",
       "  font-weight: normal;\n",
       "  grid-column: 1;\n",
       "}\n",
       "\n",
       ".xr-attrs dt:hover span {\n",
       "  display: inline-block;\n",
       "  background: var(--xr-background-color);\n",
       "  padding-right: 10px;\n",
       "}\n",
       "\n",
       ".xr-attrs dd {\n",
       "  grid-column: 2;\n",
       "  white-space: pre-wrap;\n",
       "  word-break: break-all;\n",
       "}\n",
       "\n",
       ".xr-icon-database,\n",
       ".xr-icon-file-text2 {\n",
       "  display: inline-block;\n",
       "  vertical-align: middle;\n",
       "  width: 1em;\n",
       "  height: 1.5em !important;\n",
       "  stroke-width: 0;\n",
       "  stroke: currentColor;\n",
       "  fill: currentColor;\n",
       "}\n",
       "</style><pre class='xr-text-repr-fallback'>&lt;xarray.DataArray (topic_id: 50, sub-geo: 21, src-geo: 21, gender: 4, occ: 33,\n",
       "                   alpha: 4, age: 4, pop: 4, langs: 3)&gt;\n",
       "array([[[[[[[[[3.65349797e-05, 8.42287801e-04, 0.00000000e+00],\n",
       "              [1.11567898e-03, 1.09684871e-03, 8.88607688e-04],\n",
       "              [2.34797495e-04, 8.69735787e-04, 5.44266061e-05],\n",
       "              [4.07446566e-04, 3.49703625e-04, 2.02540036e-04]],\n",
       "\n",
       "             [[7.84413928e-06, 4.21608966e-05, 2.35918660e-06],\n",
       "              [5.06419065e-04, 3.40291536e-04, 8.11353293e-04],\n",
       "              [7.80620087e-05, 1.84568185e-04, 1.88107674e-05],\n",
       "              [2.92029184e-04, 2.60825198e-04, 3.27498810e-04]],\n",
       "\n",
       "             [[1.82704127e-06, 6.89896219e-06, 0.00000000e+00],\n",
       "              [3.46816436e-04, 1.57555423e-04, 5.32937545e-04],\n",
       "              [4.45290150e-05, 2.56576698e-05, 2.00965755e-05],\n",
       "              [8.60015158e-05, 7.56644957e-05, 1.43259317e-04]],\n",
       "\n",
       "             [[2.65442163e-05, 3.96161124e-06, 6.66751839e-06],\n",
       "              [2.67209238e-04, 9.73520432e-05, 7.99489590e-04],\n",
       "              [8.23579525e-06, 1.52524930e-06, 4.47377788e-05],\n",
       "              [1.16518479e-04, 1.88441579e-05, 8.83908279e-05]]],\n",
       "\n",
       "...\n",
       "\n",
       "            [[[0.00000000e+00, 0.00000000e+00, 0.00000000e+00],\n",
       "              [0.00000000e+00, 0.00000000e+00, 0.00000000e+00],\n",
       "              [0.00000000e+00, 0.00000000e+00, 0.00000000e+00],\n",
       "              [0.00000000e+00, 0.00000000e+00, 0.00000000e+00]],\n",
       "\n",
       "             [[0.00000000e+00, 0.00000000e+00, 0.00000000e+00],\n",
       "              [0.00000000e+00, 0.00000000e+00, 0.00000000e+00],\n",
       "              [0.00000000e+00, 0.00000000e+00, 0.00000000e+00],\n",
       "              [0.00000000e+00, 0.00000000e+00, 0.00000000e+00]],\n",
       "\n",
       "             [[0.00000000e+00, 0.00000000e+00, 0.00000000e+00],\n",
       "              [0.00000000e+00, 0.00000000e+00, 0.00000000e+00],\n",
       "              [0.00000000e+00, 0.00000000e+00, 0.00000000e+00],\n",
       "              [0.00000000e+00, 0.00000000e+00, 0.00000000e+00]],\n",
       "\n",
       "             [[0.00000000e+00, 0.00000000e+00, 0.00000000e+00],\n",
       "              [0.00000000e+00, 0.00000000e+00, 0.00000000e+00],\n",
       "              [0.00000000e+00, 0.00000000e+00, 0.00000000e+00],\n",
       "              [0.00000000e+00, 0.00000000e+00, 0.00000000e+00]]]]]]]]])\n",
       "Coordinates:\n",
       "  * sub-geo   (sub-geo) object &#x27;@UNKNOWN&#x27; &#x27;Antarctica&#x27; ... &#x27;Western Europe&#x27;\n",
       "  * src-geo   (src-geo) object &#x27;@UNKNOWN&#x27; &#x27;Antarctica&#x27; ... &#x27;Western Europe&#x27;\n",
       "  * gender    (gender) object &#x27;@UNKNOWN&#x27; &#x27;female&#x27; &#x27;male&#x27; &#x27;NB&#x27;\n",
       "  * occ       (occ) object &#x27;@UNKNOWN&#x27; &#x27;activist&#x27; ... &#x27;writer&#x27;\n",
       "  * alpha     (alpha) object &#x27;a-d&#x27; &#x27;e-k&#x27; &#x27;l-r&#x27; &#x27;s-&#x27;\n",
       "  * age       (age) object &#x27;2001-2006&#x27; &#x27;2007-2011&#x27; &#x27;2012-2016&#x27; &#x27;2017-2022&#x27;\n",
       "  * pop       (pop) object &#x27;High&#x27; &#x27;Low&#x27; &#x27;Medium-High&#x27; &#x27;Medium-Low&#x27;\n",
       "  * langs     (langs) object &#x27;2-4 languages&#x27; &#x27;5+ languages&#x27; &#x27;English only&#x27;\n",
       "  * topic_id  (topic_id) int64 187 270 359 365 400 ... 2448 2483 2758 2867 2872</pre><div class='xr-wrap' style='display:none'><div class='xr-header'><div class='xr-obj-type'>xarray.DataArray</div><div class='xr-array-name'></div><ul class='xr-dim-list'><li><span class='xr-has-index'>topic_id</span>: 50</li><li><span class='xr-has-index'>sub-geo</span>: 21</li><li><span class='xr-has-index'>src-geo</span>: 21</li><li><span class='xr-has-index'>gender</span>: 4</li><li><span class='xr-has-index'>occ</span>: 33</li><li><span class='xr-has-index'>alpha</span>: 4</li><li><span class='xr-has-index'>age</span>: 4</li><li><span class='xr-has-index'>pop</span>: 4</li><li><span class='xr-has-index'>langs</span>: 3</li></ul></div><ul class='xr-sections'><li class='xr-section-item'><div class='xr-array-wrap'><input id='section-90a27fab-e3a1-4128-a072-3fc50734d2ab' class='xr-array-in' type='checkbox' checked><label for='section-90a27fab-e3a1-4128-a072-3fc50734d2ab' title='Show/hide data repr'><svg class='icon xr-icon-database'><use xlink:href='#icon-database'></use></svg></label><div class='xr-array-preview xr-preview'><span>3.653e-05 0.0008423 0.0 0.001116 0.001097 ... 0.0 0.0 0.0 0.0 0.0</span></div><div class='xr-array-data'><pre>array([[[[[[[[[3.65349797e-05, 8.42287801e-04, 0.00000000e+00],\n",
       "              [1.11567898e-03, 1.09684871e-03, 8.88607688e-04],\n",
       "              [2.34797495e-04, 8.69735787e-04, 5.44266061e-05],\n",
       "              [4.07446566e-04, 3.49703625e-04, 2.02540036e-04]],\n",
       "\n",
       "             [[7.84413928e-06, 4.21608966e-05, 2.35918660e-06],\n",
       "              [5.06419065e-04, 3.40291536e-04, 8.11353293e-04],\n",
       "              [7.80620087e-05, 1.84568185e-04, 1.88107674e-05],\n",
       "              [2.92029184e-04, 2.60825198e-04, 3.27498810e-04]],\n",
       "\n",
       "             [[1.82704127e-06, 6.89896219e-06, 0.00000000e+00],\n",
       "              [3.46816436e-04, 1.57555423e-04, 5.32937545e-04],\n",
       "              [4.45290150e-05, 2.56576698e-05, 2.00965755e-05],\n",
       "              [8.60015158e-05, 7.56644957e-05, 1.43259317e-04]],\n",
       "\n",
       "             [[2.65442163e-05, 3.96161124e-06, 6.66751839e-06],\n",
       "              [2.67209238e-04, 9.73520432e-05, 7.99489590e-04],\n",
       "              [8.23579525e-06, 1.52524930e-06, 4.47377788e-05],\n",
       "              [1.16518479e-04, 1.88441579e-05, 8.83908279e-05]]],\n",
       "\n",
       "...\n",
       "\n",
       "            [[[0.00000000e+00, 0.00000000e+00, 0.00000000e+00],\n",
       "              [0.00000000e+00, 0.00000000e+00, 0.00000000e+00],\n",
       "              [0.00000000e+00, 0.00000000e+00, 0.00000000e+00],\n",
       "              [0.00000000e+00, 0.00000000e+00, 0.00000000e+00]],\n",
       "\n",
       "             [[0.00000000e+00, 0.00000000e+00, 0.00000000e+00],\n",
       "              [0.00000000e+00, 0.00000000e+00, 0.00000000e+00],\n",
       "              [0.00000000e+00, 0.00000000e+00, 0.00000000e+00],\n",
       "              [0.00000000e+00, 0.00000000e+00, 0.00000000e+00]],\n",
       "\n",
       "             [[0.00000000e+00, 0.00000000e+00, 0.00000000e+00],\n",
       "              [0.00000000e+00, 0.00000000e+00, 0.00000000e+00],\n",
       "              [0.00000000e+00, 0.00000000e+00, 0.00000000e+00],\n",
       "              [0.00000000e+00, 0.00000000e+00, 0.00000000e+00]],\n",
       "\n",
       "             [[0.00000000e+00, 0.00000000e+00, 0.00000000e+00],\n",
       "              [0.00000000e+00, 0.00000000e+00, 0.00000000e+00],\n",
       "              [0.00000000e+00, 0.00000000e+00, 0.00000000e+00],\n",
       "              [0.00000000e+00, 0.00000000e+00, 0.00000000e+00]]]]]]]]])</pre></div></div></li><li class='xr-section-item'><input id='section-e499916d-d036-4574-a125-b67223fbd2d2' class='xr-section-summary-in' type='checkbox'  checked><label for='section-e499916d-d036-4574-a125-b67223fbd2d2' class='xr-section-summary' >Coordinates: <span>(9)</span></label><div class='xr-section-inline-details'></div><div class='xr-section-details'><ul class='xr-var-list'><li class='xr-var-item'><div class='xr-var-name'><span class='xr-has-index'>sub-geo</span></div><div class='xr-var-dims'>(sub-geo)</div><div class='xr-var-dtype'>object</div><div class='xr-var-preview xr-preview'>&#x27;@UNKNOWN&#x27; ... &#x27;Western Europe&#x27;</div><input id='attrs-c71c0e4d-d783-4c4a-8c63-e7bd95ccd491' class='xr-var-attrs-in' type='checkbox' disabled><label for='attrs-c71c0e4d-d783-4c4a-8c63-e7bd95ccd491' title='Show/Hide attributes'><svg class='icon xr-icon-file-text2'><use xlink:href='#icon-file-text2'></use></svg></label><input id='data-c23b2055-989a-497d-b0a8-b9cf608c3762' class='xr-var-data-in' type='checkbox'><label for='data-c23b2055-989a-497d-b0a8-b9cf608c3762' title='Show/Hide data repr'><svg class='icon xr-icon-database'><use xlink:href='#icon-database'></use></svg></label><div class='xr-var-attrs'><dl class='xr-attrs'></dl></div><div class='xr-var-data'><pre>array([&#x27;@UNKNOWN&#x27;, &#x27;Antarctica&#x27;, &#x27;Caribbean&#x27;, &#x27;Central America&#x27;,\n",
       "       &#x27;Central Asia&#x27;, &#x27;Eastern Africa&#x27;, &#x27;Eastern Asia&#x27;, &#x27;Eastern Europe&#x27;,\n",
       "       &#x27;Middle Africa&#x27;, &#x27;Northern Africa&#x27;, &#x27;Northern America&#x27;,\n",
       "       &#x27;Northern Europe&#x27;, &#x27;Oceania&#x27;, &#x27;South America&#x27;, &#x27;South-eastern Asia&#x27;,\n",
       "       &#x27;Southern Africa&#x27;, &#x27;Southern Asia&#x27;, &#x27;Southern Europe&#x27;, &#x27;Western Africa&#x27;,\n",
       "       &#x27;Western Asia&#x27;, &#x27;Western Europe&#x27;], dtype=object)</pre></div></li><li class='xr-var-item'><div class='xr-var-name'><span class='xr-has-index'>src-geo</span></div><div class='xr-var-dims'>(src-geo)</div><div class='xr-var-dtype'>object</div><div class='xr-var-preview xr-preview'>&#x27;@UNKNOWN&#x27; ... &#x27;Western Europe&#x27;</div><input id='attrs-05ebbc36-8941-4352-910b-ce542169257c' class='xr-var-attrs-in' type='checkbox' disabled><label for='attrs-05ebbc36-8941-4352-910b-ce542169257c' title='Show/Hide attributes'><svg class='icon xr-icon-file-text2'><use xlink:href='#icon-file-text2'></use></svg></label><input id='data-5eb437fa-fe5b-40d7-ad43-6187212d94d8' class='xr-var-data-in' type='checkbox'><label for='data-5eb437fa-fe5b-40d7-ad43-6187212d94d8' title='Show/Hide data repr'><svg class='icon xr-icon-database'><use xlink:href='#icon-database'></use></svg></label><div class='xr-var-attrs'><dl class='xr-attrs'></dl></div><div class='xr-var-data'><pre>array([&#x27;@UNKNOWN&#x27;, &#x27;Antarctica&#x27;, &#x27;Caribbean&#x27;, &#x27;Central America&#x27;,\n",
       "       &#x27;Central Asia&#x27;, &#x27;Eastern Africa&#x27;, &#x27;Eastern Asia&#x27;, &#x27;Eastern Europe&#x27;,\n",
       "       &#x27;Middle Africa&#x27;, &#x27;Northern Africa&#x27;, &#x27;Northern America&#x27;,\n",
       "       &#x27;Northern Europe&#x27;, &#x27;Oceania&#x27;, &#x27;South America&#x27;, &#x27;South-eastern Asia&#x27;,\n",
       "       &#x27;Southern Africa&#x27;, &#x27;Southern Asia&#x27;, &#x27;Southern Europe&#x27;, &#x27;Western Africa&#x27;,\n",
       "       &#x27;Western Asia&#x27;, &#x27;Western Europe&#x27;], dtype=object)</pre></div></li><li class='xr-var-item'><div class='xr-var-name'><span class='xr-has-index'>gender</span></div><div class='xr-var-dims'>(gender)</div><div class='xr-var-dtype'>object</div><div class='xr-var-preview xr-preview'>&#x27;@UNKNOWN&#x27; &#x27;female&#x27; &#x27;male&#x27; &#x27;NB&#x27;</div><input id='attrs-1f1075d2-a4a2-4c06-89b6-a728816e26f9' class='xr-var-attrs-in' type='checkbox' disabled><label for='attrs-1f1075d2-a4a2-4c06-89b6-a728816e26f9' title='Show/Hide attributes'><svg class='icon xr-icon-file-text2'><use xlink:href='#icon-file-text2'></use></svg></label><input id='data-d1619089-e2de-4146-a6ee-e7730e07f86e' class='xr-var-data-in' type='checkbox'><label for='data-d1619089-e2de-4146-a6ee-e7730e07f86e' title='Show/Hide data repr'><svg class='icon xr-icon-database'><use xlink:href='#icon-database'></use></svg></label><div class='xr-var-attrs'><dl class='xr-attrs'></dl></div><div class='xr-var-data'><pre>array([&#x27;@UNKNOWN&#x27;, &#x27;female&#x27;, &#x27;male&#x27;, &#x27;NB&#x27;], dtype=object)</pre></div></li><li class='xr-var-item'><div class='xr-var-name'><span class='xr-has-index'>occ</span></div><div class='xr-var-dims'>(occ)</div><div class='xr-var-dtype'>object</div><div class='xr-var-preview xr-preview'>&#x27;@UNKNOWN&#x27; &#x27;activist&#x27; ... &#x27;writer&#x27;</div><input id='attrs-0594d050-c602-49d4-8413-e5386016dffa' class='xr-var-attrs-in' type='checkbox' disabled><label for='attrs-0594d050-c602-49d4-8413-e5386016dffa' title='Show/Hide attributes'><svg class='icon xr-icon-file-text2'><use xlink:href='#icon-file-text2'></use></svg></label><input id='data-14f3b68e-9bb2-4f8c-9727-e3fffa0aa28b' class='xr-var-data-in' type='checkbox'><label for='data-14f3b68e-9bb2-4f8c-9727-e3fffa0aa28b' title='Show/Hide data repr'><svg class='icon xr-icon-database'><use xlink:href='#icon-database'></use></svg></label><div class='xr-var-attrs'><dl class='xr-attrs'></dl></div><div class='xr-var-data'><pre>array([&#x27;@UNKNOWN&#x27;, &#x27;activist&#x27;, &#x27;agricultural worker&#x27;, &#x27;artist&#x27;, &#x27;athlete&#x27;,\n",
       "       &#x27;biologist&#x27;, &#x27;businessperson&#x27;, &#x27;chemist&#x27;, &#x27;civil servant&#x27;,\n",
       "       &#x27;clergyperson&#x27;, &#x27;computer scientist&#x27;, &#x27;designer&#x27;, &#x27;earth scientist&#x27;,\n",
       "       &#x27;educator&#x27;, &#x27;engineer&#x27;, &#x27;health professional&#x27;, &#x27;humanities scholar&#x27;,\n",
       "       &#x27;information professional&#x27;, &#x27;journalist&#x27;, &#x27;jurist&#x27;, &#x27;linguist&#x27;,\n",
       "       &#x27;mathematician&#x27;, &#x27;media professional&#x27;, &#x27;military personnel&#x27;, &#x27;musician&#x27;,\n",
       "       &#x27;performing artist&#x27;, &#x27;physicist&#x27;, &#x27;politician&#x27;, &#x27;scientist&#x27;,\n",
       "       &#x27;social scientist&#x27;, &#x27;sportsperson (non-athlete)&#x27;,\n",
       "       &#x27;transportation occupation&#x27;, &#x27;writer&#x27;], dtype=object)</pre></div></li><li class='xr-var-item'><div class='xr-var-name'><span class='xr-has-index'>alpha</span></div><div class='xr-var-dims'>(alpha)</div><div class='xr-var-dtype'>object</div><div class='xr-var-preview xr-preview'>&#x27;a-d&#x27; &#x27;e-k&#x27; &#x27;l-r&#x27; &#x27;s-&#x27;</div><input id='attrs-21651668-97b9-45c2-bd43-456475325223' class='xr-var-attrs-in' type='checkbox' disabled><label for='attrs-21651668-97b9-45c2-bd43-456475325223' title='Show/Hide attributes'><svg class='icon xr-icon-file-text2'><use xlink:href='#icon-file-text2'></use></svg></label><input id='data-44651395-8025-4b96-8a84-2691b181a563' class='xr-var-data-in' type='checkbox'><label for='data-44651395-8025-4b96-8a84-2691b181a563' title='Show/Hide data repr'><svg class='icon xr-icon-database'><use xlink:href='#icon-database'></use></svg></label><div class='xr-var-attrs'><dl class='xr-attrs'></dl></div><div class='xr-var-data'><pre>array([&#x27;a-d&#x27;, &#x27;e-k&#x27;, &#x27;l-r&#x27;, &#x27;s-&#x27;], dtype=object)</pre></div></li><li class='xr-var-item'><div class='xr-var-name'><span class='xr-has-index'>age</span></div><div class='xr-var-dims'>(age)</div><div class='xr-var-dtype'>object</div><div class='xr-var-preview xr-preview'>&#x27;2001-2006&#x27; ... &#x27;2017-2022&#x27;</div><input id='attrs-c0406f63-e8bc-474a-8511-7556110cba31' class='xr-var-attrs-in' type='checkbox' disabled><label for='attrs-c0406f63-e8bc-474a-8511-7556110cba31' title='Show/Hide attributes'><svg class='icon xr-icon-file-text2'><use xlink:href='#icon-file-text2'></use></svg></label><input id='data-34cca165-7817-43f4-b392-70769664f826' class='xr-var-data-in' type='checkbox'><label for='data-34cca165-7817-43f4-b392-70769664f826' title='Show/Hide data repr'><svg class='icon xr-icon-database'><use xlink:href='#icon-database'></use></svg></label><div class='xr-var-attrs'><dl class='xr-attrs'></dl></div><div class='xr-var-data'><pre>array([&#x27;2001-2006&#x27;, &#x27;2007-2011&#x27;, &#x27;2012-2016&#x27;, &#x27;2017-2022&#x27;], dtype=object)</pre></div></li><li class='xr-var-item'><div class='xr-var-name'><span class='xr-has-index'>pop</span></div><div class='xr-var-dims'>(pop)</div><div class='xr-var-dtype'>object</div><div class='xr-var-preview xr-preview'>&#x27;High&#x27; &#x27;Low&#x27; ... &#x27;Medium-Low&#x27;</div><input id='attrs-7efbbb03-7c6a-4468-a027-f06eb844e736' class='xr-var-attrs-in' type='checkbox' disabled><label for='attrs-7efbbb03-7c6a-4468-a027-f06eb844e736' title='Show/Hide attributes'><svg class='icon xr-icon-file-text2'><use xlink:href='#icon-file-text2'></use></svg></label><input id='data-9ef5a92d-ecc4-40fc-858a-d4a1867e22cb' class='xr-var-data-in' type='checkbox'><label for='data-9ef5a92d-ecc4-40fc-858a-d4a1867e22cb' title='Show/Hide data repr'><svg class='icon xr-icon-database'><use xlink:href='#icon-database'></use></svg></label><div class='xr-var-attrs'><dl class='xr-attrs'></dl></div><div class='xr-var-data'><pre>array([&#x27;High&#x27;, &#x27;Low&#x27;, &#x27;Medium-High&#x27;, &#x27;Medium-Low&#x27;], dtype=object)</pre></div></li><li class='xr-var-item'><div class='xr-var-name'><span class='xr-has-index'>langs</span></div><div class='xr-var-dims'>(langs)</div><div class='xr-var-dtype'>object</div><div class='xr-var-preview xr-preview'>&#x27;2-4 languages&#x27; ... &#x27;English only&#x27;</div><input id='attrs-a43b2c7a-a081-4bea-afb0-8934632db574' class='xr-var-attrs-in' type='checkbox' disabled><label for='attrs-a43b2c7a-a081-4bea-afb0-8934632db574' title='Show/Hide attributes'><svg class='icon xr-icon-file-text2'><use xlink:href='#icon-file-text2'></use></svg></label><input id='data-c87be99f-c229-40d0-a3c9-ca620fb9816c' class='xr-var-data-in' type='checkbox'><label for='data-c87be99f-c229-40d0-a3c9-ca620fb9816c' title='Show/Hide data repr'><svg class='icon xr-icon-database'><use xlink:href='#icon-database'></use></svg></label><div class='xr-var-attrs'><dl class='xr-attrs'></dl></div><div class='xr-var-data'><pre>array([&#x27;2-4 languages&#x27;, &#x27;5+ languages&#x27;, &#x27;English only&#x27;], dtype=object)</pre></div></li><li class='xr-var-item'><div class='xr-var-name'><span class='xr-has-index'>topic_id</span></div><div class='xr-var-dims'>(topic_id)</div><div class='xr-var-dtype'>int64</div><div class='xr-var-preview xr-preview'>187 270 359 365 ... 2758 2867 2872</div><input id='attrs-fb0cedc4-1341-4b9d-ac9c-91bc3f782d19' class='xr-var-attrs-in' type='checkbox' disabled><label for='attrs-fb0cedc4-1341-4b9d-ac9c-91bc3f782d19' title='Show/Hide attributes'><svg class='icon xr-icon-file-text2'><use xlink:href='#icon-file-text2'></use></svg></label><input id='data-a11eada9-b6df-4799-b1b7-09429da37c73' class='xr-var-data-in' type='checkbox'><label for='data-a11eada9-b6df-4799-b1b7-09429da37c73' title='Show/Hide data repr'><svg class='icon xr-icon-database'><use xlink:href='#icon-database'></use></svg></label><div class='xr-var-attrs'><dl class='xr-attrs'></dl></div><div class='xr-var-data'><pre>array([ 187,  270,  359,  365,  400,  404,  480,  517,  568,  596,  715,  807,\n",
       "        834,  881,  883,  949,  951,  955,  995, 1018, 1180, 1233, 1328, 1406,\n",
       "       1417, 1448, 1449, 1479, 1499, 1548, 1558, 1647, 1685, 1806, 1821, 1877,\n",
       "       1884, 1890, 2000, 2028, 2106, 2153, 2160, 2229, 2244, 2448, 2483, 2758,\n",
       "       2867, 2872], dtype=int64)</pre></div></li></ul></div></li><li class='xr-section-item'><input id='section-d4cf45fc-c276-4965-9c64-89cc1a768504' class='xr-section-summary-in' type='checkbox' disabled ><label for='section-d4cf45fc-c276-4965-9c64-89cc1a768504' class='xr-section-summary'  title='Expand/collapse section'>Attributes: <span>(0)</span></label><div class='xr-section-inline-details'></div><div class='xr-section-details'><dl class='xr-attrs'></dl></div></li></ul></div></div>"
      ],
      "text/plain": [
       "<xarray.DataArray (topic_id: 50, sub-geo: 21, src-geo: 21, gender: 4, occ: 33,\n",
       "                   alpha: 4, age: 4, pop: 4, langs: 3)>\n",
       "array([[[[[[[[[3.65349797e-05, 8.42287801e-04, 0.00000000e+00],\n",
       "              [1.11567898e-03, 1.09684871e-03, 8.88607688e-04],\n",
       "              [2.34797495e-04, 8.69735787e-04, 5.44266061e-05],\n",
       "              [4.07446566e-04, 3.49703625e-04, 2.02540036e-04]],\n",
       "\n",
       "             [[7.84413928e-06, 4.21608966e-05, 2.35918660e-06],\n",
       "              [5.06419065e-04, 3.40291536e-04, 8.11353293e-04],\n",
       "              [7.80620087e-05, 1.84568185e-04, 1.88107674e-05],\n",
       "              [2.92029184e-04, 2.60825198e-04, 3.27498810e-04]],\n",
       "\n",
       "             [[1.82704127e-06, 6.89896219e-06, 0.00000000e+00],\n",
       "              [3.46816436e-04, 1.57555423e-04, 5.32937545e-04],\n",
       "              [4.45290150e-05, 2.56576698e-05, 2.00965755e-05],\n",
       "              [8.60015158e-05, 7.56644957e-05, 1.43259317e-04]],\n",
       "\n",
       "             [[2.65442163e-05, 3.96161124e-06, 6.66751839e-06],\n",
       "              [2.67209238e-04, 9.73520432e-05, 7.99489590e-04],\n",
       "              [8.23579525e-06, 1.52524930e-06, 4.47377788e-05],\n",
       "              [1.16518479e-04, 1.88441579e-05, 8.83908279e-05]]],\n",
       "\n",
       "...\n",
       "\n",
       "            [[[0.00000000e+00, 0.00000000e+00, 0.00000000e+00],\n",
       "              [0.00000000e+00, 0.00000000e+00, 0.00000000e+00],\n",
       "              [0.00000000e+00, 0.00000000e+00, 0.00000000e+00],\n",
       "              [0.00000000e+00, 0.00000000e+00, 0.00000000e+00]],\n",
       "\n",
       "             [[0.00000000e+00, 0.00000000e+00, 0.00000000e+00],\n",
       "              [0.00000000e+00, 0.00000000e+00, 0.00000000e+00],\n",
       "              [0.00000000e+00, 0.00000000e+00, 0.00000000e+00],\n",
       "              [0.00000000e+00, 0.00000000e+00, 0.00000000e+00]],\n",
       "\n",
       "             [[0.00000000e+00, 0.00000000e+00, 0.00000000e+00],\n",
       "              [0.00000000e+00, 0.00000000e+00, 0.00000000e+00],\n",
       "              [0.00000000e+00, 0.00000000e+00, 0.00000000e+00],\n",
       "              [0.00000000e+00, 0.00000000e+00, 0.00000000e+00]],\n",
       "\n",
       "             [[0.00000000e+00, 0.00000000e+00, 0.00000000e+00],\n",
       "              [0.00000000e+00, 0.00000000e+00, 0.00000000e+00],\n",
       "              [0.00000000e+00, 0.00000000e+00, 0.00000000e+00],\n",
       "              [0.00000000e+00, 0.00000000e+00, 0.00000000e+00]]]]]]]]])\n",
       "Coordinates:\n",
       "  * sub-geo   (sub-geo) object '@UNKNOWN' 'Antarctica' ... 'Western Europe'\n",
       "  * src-geo   (src-geo) object '@UNKNOWN' 'Antarctica' ... 'Western Europe'\n",
       "  * gender    (gender) object '@UNKNOWN' 'female' 'male' 'NB'\n",
       "  * occ       (occ) object '@UNKNOWN' 'activist' ... 'writer'\n",
       "  * alpha     (alpha) object 'a-d' 'e-k' 'l-r' 's-'\n",
       "  * age       (age) object '2001-2006' '2007-2011' '2012-2016' '2017-2022'\n",
       "  * pop       (pop) object 'High' 'Low' 'Medium-High' 'Medium-Low'\n",
       "  * langs     (langs) object '2-4 languages' '5+ languages' 'English only'\n",
       "  * topic_id  (topic_id) int64 187 270 359 365 400 ... 2448 2483 2758 2867 2872"
      ]
     },
     "execution_count": 47,
     "metadata": {},
     "output_type": "execute_result"
    }
   ],
   "source": [
    "q_tgts = xr.concat(q_tgts, q_ids)\n",
    "q_tgts"
   ]
  },
  {
   "cell_type": "markdown",
   "id": "63a6026f-17a5-4eee-9da1-b9e5dd3ca87d",
   "metadata": {},
   "source": [
    "Save this to NetCDF (xarray's recommended format):"
   ]
  },
  {
   "cell_type": "code",
   "execution_count": 48,
   "id": "26dbf0d4-4ba9-444c-aefc-fb053c2b6ac9",
   "metadata": {
    "execution": {
     "iopub.execute_input": "2022-11-01T22:21:56.046996Z",
     "iopub.status.busy": "2022-11-01T22:21:56.046996Z",
     "iopub.status.idle": "2022-11-01T22:22:20.447111Z",
     "shell.execute_reply": "2022-11-01T22:22:20.446095Z"
    }
   },
   "outputs": [
    {
     "name": "stderr",
     "output_type": "stream",
     "text": [
      "INFO:wptrec.save:saving NetCDF to data\\metric-tables\\task2-eval-int-targets.nc\n"
     ]
    }
   ],
   "source": [
    "output.save_xarray(q_tgts, f'task2-{DATA_MODE}-int-targets')"
   ]
  },
  {
   "cell_type": "code",
   "execution_count": null,
   "id": "9fa43a67-f39c-4b5b-a93b-0ba259b73a38",
   "metadata": {},
   "outputs": [],
   "source": []
  }
 ],
 "metadata": {
  "jupytext": {
   "formats": "ipynb,py:percent"
  },
  "kernelspec": {
   "display_name": "Python 3 (ipykernel)",
   "language": "python",
   "name": "python3"
  },
  "language_info": {
   "codemirror_mode": {
    "name": "ipython",
    "version": 3
   },
   "file_extension": ".py",
   "mimetype": "text/x-python",
   "name": "python",
   "nbconvert_exporter": "python",
   "pygments_lexer": "ipython3",
   "version": "3.8.13"
  },
  "widgets": {
   "application/vnd.jupyter.widget-state+json": {
    "state": {
     "1e42f2efb4fb47ff89117f626bddb901": {
      "model_module": "@jupyter-widgets/base",
      "model_module_version": "2.0.0",
      "model_name": "LayoutModel",
      "state": {
       "_model_module": "@jupyter-widgets/base",
       "_model_module_version": "2.0.0",
       "_model_name": "LayoutModel",
       "_view_count": null,
       "_view_module": "@jupyter-widgets/base",
       "_view_module_version": "2.0.0",
       "_view_name": "LayoutView",
       "align_content": null,
       "align_items": null,
       "align_self": null,
       "border_bottom": null,
       "border_left": null,
       "border_right": null,
       "border_top": null,
       "bottom": null,
       "display": null,
       "flex": null,
       "flex_flow": null,
       "grid_area": null,
       "grid_auto_columns": null,
       "grid_auto_flow": null,
       "grid_auto_rows": null,
       "grid_column": null,
       "grid_gap": null,
       "grid_row": null,
       "grid_template_areas": null,
       "grid_template_columns": null,
       "grid_template_rows": null,
       "height": null,
       "justify_content": null,
       "justify_items": null,
       "left": null,
       "margin": null,
       "max_height": null,
       "max_width": null,
       "min_height": null,
       "min_width": null,
       "object_fit": null,
       "object_position": null,
       "order": null,
       "overflow": null,
       "padding": null,
       "right": null,
       "top": null,
       "visibility": null,
       "width": null
      }
     },
     "239837f8ec2648ea94c5e82e7f7d666c": {
      "model_module": "@jupyter-widgets/base",
      "model_module_version": "2.0.0",
      "model_name": "LayoutModel",
      "state": {
       "_model_module": "@jupyter-widgets/base",
       "_model_module_version": "2.0.0",
       "_model_name": "LayoutModel",
       "_view_count": null,
       "_view_module": "@jupyter-widgets/base",
       "_view_module_version": "2.0.0",
       "_view_name": "LayoutView",
       "align_content": null,
       "align_items": null,
       "align_self": null,
       "border_bottom": null,
       "border_left": null,
       "border_right": null,
       "border_top": null,
       "bottom": null,
       "display": null,
       "flex": null,
       "flex_flow": null,
       "grid_area": null,
       "grid_auto_columns": null,
       "grid_auto_flow": null,
       "grid_auto_rows": null,
       "grid_column": null,
       "grid_gap": null,
       "grid_row": null,
       "grid_template_areas": null,
       "grid_template_columns": null,
       "grid_template_rows": null,
       "height": null,
       "justify_content": null,
       "justify_items": null,
       "left": null,
       "margin": null,
       "max_height": null,
       "max_width": null,
       "min_height": null,
       "min_width": null,
       "object_fit": null,
       "object_position": null,
       "order": null,
       "overflow": null,
       "padding": null,
       "right": null,
       "top": null,
       "visibility": null,
       "width": null
      }
     },
     "3bf5253aa6b843bcb7ef48df8acf5684": {
      "model_module": "@jupyter-widgets/base",
      "model_module_version": "2.0.0",
      "model_name": "LayoutModel",
      "state": {
       "_model_module": "@jupyter-widgets/base",
       "_model_module_version": "2.0.0",
       "_model_name": "LayoutModel",
       "_view_count": null,
       "_view_module": "@jupyter-widgets/base",
       "_view_module_version": "2.0.0",
       "_view_name": "LayoutView",
       "align_content": null,
       "align_items": null,
       "align_self": null,
       "border_bottom": null,
       "border_left": null,
       "border_right": null,
       "border_top": null,
       "bottom": null,
       "display": null,
       "flex": null,
       "flex_flow": null,
       "grid_area": null,
       "grid_auto_columns": null,
       "grid_auto_flow": null,
       "grid_auto_rows": null,
       "grid_column": null,
       "grid_gap": null,
       "grid_row": null,
       "grid_template_areas": null,
       "grid_template_columns": null,
       "grid_template_rows": null,
       "height": null,
       "justify_content": null,
       "justify_items": null,
       "left": null,
       "margin": null,
       "max_height": null,
       "max_width": null,
       "min_height": null,
       "min_width": null,
       "object_fit": null,
       "object_position": null,
       "order": null,
       "overflow": null,
       "padding": null,
       "right": null,
       "top": null,
       "visibility": null,
       "width": null
      }
     },
     "43dd8a2900b64ce0bbaccab0fa7a97a2": {
      "model_module": "@jupyter-widgets/controls",
      "model_module_version": "2.0.0",
      "model_name": "HBoxModel",
      "state": {
       "_dom_classes": [],
       "_model_module": "@jupyter-widgets/controls",
       "_model_module_version": "2.0.0",
       "_model_name": "HBoxModel",
       "_view_count": null,
       "_view_module": "@jupyter-widgets/controls",
       "_view_module_version": "2.0.0",
       "_view_name": "HBoxView",
       "box_style": "",
       "children": [
        "IPY_MODEL_f58e6fb077524479a2df72e6c407f26a",
        "IPY_MODEL_e0a8d0227c0f4a978b98a6e17068c089",
        "IPY_MODEL_6b9ef07e8918444387ec190bf02ab317"
       ],
       "layout": "IPY_MODEL_73df8c3703274849bbf2249f5c63f13b",
       "tabbable": null,
       "tooltip": null
      }
     },
     "6b9ef07e8918444387ec190bf02ab317": {
      "model_module": "@jupyter-widgets/controls",
      "model_module_version": "2.0.0",
      "model_name": "HTMLModel",
      "state": {
       "_dom_classes": [],
       "_model_module": "@jupyter-widgets/controls",
       "_model_module_version": "2.0.0",
       "_model_name": "HTMLModel",
       "_view_count": null,
       "_view_module": "@jupyter-widgets/controls",
       "_view_module_version": "2.0.0",
       "_view_name": "HTMLView",
       "description": "",
       "description_allow_html": false,
       "layout": "IPY_MODEL_1e42f2efb4fb47ff89117f626bddb901",
       "placeholder": "​",
       "style": "IPY_MODEL_d95328eb2d6c4535ab46907fd9bfdbf3",
       "tabbable": null,
       "tooltip": null,
       "value": " 50/50 [08:36&lt;00:00, 14.33s/it]"
      }
     },
     "73df8c3703274849bbf2249f5c63f13b": {
      "model_module": "@jupyter-widgets/base",
      "model_module_version": "2.0.0",
      "model_name": "LayoutModel",
      "state": {
       "_model_module": "@jupyter-widgets/base",
       "_model_module_version": "2.0.0",
       "_model_name": "LayoutModel",
       "_view_count": null,
       "_view_module": "@jupyter-widgets/base",
       "_view_module_version": "2.0.0",
       "_view_name": "LayoutView",
       "align_content": null,
       "align_items": null,
       "align_self": null,
       "border_bottom": null,
       "border_left": null,
       "border_right": null,
       "border_top": null,
       "bottom": null,
       "display": null,
       "flex": null,
       "flex_flow": null,
       "grid_area": null,
       "grid_auto_columns": null,
       "grid_auto_flow": null,
       "grid_auto_rows": null,
       "grid_column": null,
       "grid_gap": null,
       "grid_row": null,
       "grid_template_areas": null,
       "grid_template_columns": null,
       "grid_template_rows": null,
       "height": null,
       "justify_content": null,
       "justify_items": null,
       "left": null,
       "margin": null,
       "max_height": null,
       "max_width": null,
       "min_height": null,
       "min_width": null,
       "object_fit": null,
       "object_position": null,
       "order": null,
       "overflow": null,
       "padding": null,
       "right": null,
       "top": null,
       "visibility": null,
       "width": null
      }
     },
     "b10f150b363e443e98c566217e42316a": {
      "model_module": "@jupyter-widgets/controls",
      "model_module_version": "2.0.0",
      "model_name": "ProgressStyleModel",
      "state": {
       "_model_module": "@jupyter-widgets/controls",
       "_model_module_version": "2.0.0",
       "_model_name": "ProgressStyleModel",
       "_view_count": null,
       "_view_module": "@jupyter-widgets/base",
       "_view_module_version": "2.0.0",
       "_view_name": "StyleView",
       "bar_color": null,
       "description_width": ""
      }
     },
     "cee24b90339a4974adc7bb2f02562883": {
      "model_module": "@jupyter-widgets/controls",
      "model_module_version": "2.0.0",
      "model_name": "HTMLStyleModel",
      "state": {
       "_model_module": "@jupyter-widgets/controls",
       "_model_module_version": "2.0.0",
       "_model_name": "HTMLStyleModel",
       "_view_count": null,
       "_view_module": "@jupyter-widgets/base",
       "_view_module_version": "2.0.0",
       "_view_name": "StyleView",
       "background": null,
       "description_width": "",
       "font_size": null,
       "text_color": null
      }
     },
     "d95328eb2d6c4535ab46907fd9bfdbf3": {
      "model_module": "@jupyter-widgets/controls",
      "model_module_version": "2.0.0",
      "model_name": "HTMLStyleModel",
      "state": {
       "_model_module": "@jupyter-widgets/controls",
       "_model_module_version": "2.0.0",
       "_model_name": "HTMLStyleModel",
       "_view_count": null,
       "_view_module": "@jupyter-widgets/base",
       "_view_module_version": "2.0.0",
       "_view_name": "StyleView",
       "background": null,
       "description_width": "",
       "font_size": null,
       "text_color": null
      }
     },
     "e0a8d0227c0f4a978b98a6e17068c089": {
      "model_module": "@jupyter-widgets/controls",
      "model_module_version": "2.0.0",
      "model_name": "FloatProgressModel",
      "state": {
       "_dom_classes": [],
       "_model_module": "@jupyter-widgets/controls",
       "_model_module_version": "2.0.0",
       "_model_name": "FloatProgressModel",
       "_view_count": null,
       "_view_module": "@jupyter-widgets/controls",
       "_view_module_version": "2.0.0",
       "_view_name": "ProgressView",
       "bar_style": "success",
       "description": "",
       "description_allow_html": false,
       "layout": "IPY_MODEL_239837f8ec2648ea94c5e82e7f7d666c",
       "max": 50.0,
       "min": 0.0,
       "orientation": "horizontal",
       "style": "IPY_MODEL_b10f150b363e443e98c566217e42316a",
       "tabbable": null,
       "tooltip": null,
       "value": 50.0
      }
     },
     "f58e6fb077524479a2df72e6c407f26a": {
      "model_module": "@jupyter-widgets/controls",
      "model_module_version": "2.0.0",
      "model_name": "HTMLModel",
      "state": {
       "_dom_classes": [],
       "_model_module": "@jupyter-widgets/controls",
       "_model_module_version": "2.0.0",
       "_model_name": "HTMLModel",
       "_view_count": null,
       "_view_module": "@jupyter-widgets/controls",
       "_view_module_version": "2.0.0",
       "_view_name": "HTMLView",
       "description": "",
       "description_allow_html": false,
       "layout": "IPY_MODEL_3bf5253aa6b843bcb7ef48df8acf5684",
       "placeholder": "​",
       "style": "IPY_MODEL_cee24b90339a4974adc7bb2f02562883",
       "tabbable": null,
       "tooltip": null,
       "value": "100%"
      }
     }
    },
    "version_major": 2,
    "version_minor": 0
   }
  }
 },
 "nbformat": 4,
 "nbformat_minor": 5
}
