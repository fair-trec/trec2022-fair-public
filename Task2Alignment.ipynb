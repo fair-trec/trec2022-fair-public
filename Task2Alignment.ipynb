{
 "cells": [
  {
   "cell_type": "markdown",
   "id": "4a1f8258",
   "metadata": {},
   "source": [
    "# Task 2 Alignment\n",
    "\n",
    "This notebook computes the target distributions and retrieved page alignments for **Task 2**.\n",
<<<<<<< HEAD
    "It depends on the output of the PageAlignments notebook."
=======
    "It depends on the output of the PageAlignments notebook, as imported by MetricInputs."
>>>>>>> main
   ]
  },
  {
   "cell_type": "markdown",
   "id": "708161fe",
   "metadata": {},
   "source": [
    "This notebook can be run in two modes: 'train', to process the training topics, and 'eval' for the eval topics."
   ]
  },
  {
   "cell_type": "code",
<<<<<<< HEAD
   "execution_count": 1,
=======
   "execution_count": 2,
>>>>>>> main
   "id": "d24320b4",
   "metadata": {
    "tags": [
     "parameters"
    ]
   },
   "outputs": [],
   "source": [
    "DATA_MODE = 'train'"
   ]
  },
  {
   "cell_type": "markdown",
   "id": "c7f2d588",
   "metadata": {},
   "source": [
    "## Setup\n",
    "\n",
    "We begin by loading necessary libraries:"
   ]
  },
  {
   "cell_type": "code",
<<<<<<< HEAD
   "execution_count": 2,
=======
   "execution_count": 90,
>>>>>>> main
   "id": "b979c0a3",
   "metadata": {
    "tags": []
   },
   "outputs": [],
   "source": [
    "import sys\n",
<<<<<<< HEAD
=======
    "import operator\n",
    "from functools import reduce\n",
    "from itertools import product\n",
    "from collections import namedtuple\n",
>>>>>>> main
    "from pathlib import Path\n",
    "import pandas as pd\n",
    "import xarray as xr\n",
    "import numpy as np\n",
    "import matplotlib.pyplot as plt\n",
    "import seaborn as sns\n",
    "import gzip\n",
    "import json\n",
    "from natural.size import binarysize"
   ]
  },
  {
   "cell_type": "markdown",
   "id": "d4ec1474",
   "metadata": {},
   "source": [
    "Set up progress bar and logging support:"
   ]
  },
  {
   "cell_type": "code",
<<<<<<< HEAD
   "execution_count": 3,
=======
   "execution_count": 4,
>>>>>>> main
   "id": "639655ac",
   "metadata": {},
   "outputs": [],
   "source": [
    "from tqdm.auto import tqdm\n",
    "tqdm.pandas(leave=False)"
   ]
  },
  {
   "cell_type": "code",
<<<<<<< HEAD
   "execution_count": 4,
=======
   "execution_count": 5,
>>>>>>> main
   "id": "32212ded",
   "metadata": {
    "tags": []
   },
   "outputs": [],
   "source": [
    "import sys, logging\n",
    "logging.basicConfig(level=logging.INFO, stream=sys.stderr)\n",
    "log = logging.getLogger('Task2Alignment')"
   ]
  },
  {
   "cell_type": "markdown",
   "id": "369de555",
   "metadata": {},
   "source": [
    "And set up an output directory:"
   ]
  },
  {
   "cell_type": "code",
<<<<<<< HEAD
   "execution_count": 5,
=======
   "execution_count": 6,
>>>>>>> main
   "id": "02788756",
   "metadata": {},
   "outputs": [],
   "source": [
    "from wptrec.save import OutRepo\n",
    "output = OutRepo('data/metric-tables')"
   ]
  },
  {
   "cell_type": "code",
<<<<<<< HEAD
   "execution_count": 21,
=======
   "execution_count": 87,
>>>>>>> main
   "id": "ea23c240-c161-4b8e-a200-c9b830b8e67b",
   "metadata": {},
   "outputs": [],
   "source": [
<<<<<<< HEAD
    "from wptrec import metrics"
=======
    "from wptrec import metrics\n",
    "from wptrec.dimension import sum_outer"
>>>>>>> main
   ]
  },
  {
   "cell_type": "markdown",
   "id": "1332f75e-bd68-4c83-b888-67a44010d0f7",
   "metadata": {},
   "source": [
    "## Data and Helpers\n",
    "\n",
    "Most data loading is outsourced to `MetricInputs`.  First we save the data mode where metric inputs can find it:"
   ]
  },
  {
   "cell_type": "code",
<<<<<<< HEAD
   "execution_count": 6,
=======
   "execution_count": 8,
>>>>>>> main
   "id": "9725d318-608b-4ae6-9ff1-be23af6eebb8",
   "metadata": {},
   "outputs": [],
   "source": [
    "import wptrec\n",
    "wptrec.DATA_MODE = DATA_MODE"
   ]
  },
  {
   "cell_type": "code",
<<<<<<< HEAD
   "execution_count": 7,
=======
   "execution_count": 9,
>>>>>>> main
   "id": "410189f5-cc87-4e73-bb4e-7d917af62b78",
   "metadata": {},
   "outputs": [
    {
     "name": "stderr",
     "output_type": "stream",
     "text": [
      "INFO:MetricInputs:reading data\\metric-tables\\page-sub-geo-align.parquet\n",
      "INFO:MetricInputs:reading data\\metric-tables\\page-src-geo-align.parquet\n",
      "INFO:MetricInputs:reading data\\metric-tables\\page-gender-align.parquet\n",
      "INFO:MetricInputs:reading data\\metric-tables\\page-occ-align.parquet\n",
      "INFO:MetricInputs:reading data\\metric-tables\\page-alpha-align.parquet\n",
      "INFO:MetricInputs:reading data\\metric-tables\\page-age-align.parquet\n",
      "INFO:MetricInputs:reading data\\metric-tables\\page-pop-align.parquet\n",
      "INFO:MetricInputs:reading data\\metric-tables\\page-langs-align.parquet\n"
     ]
    }
   ],
   "source": [
    "from MetricInputs import *"
   ]
  },
  {
   "cell_type": "code",
<<<<<<< HEAD
   "execution_count": 8,
=======
   "execution_count": 10,
>>>>>>> main
   "id": "d1fa1114-b729-4ae6-8c5c-efead0b10a7b",
   "metadata": {},
   "outputs": [
    {
     "data": {
      "text/plain": [
       "[<dimension \"sub-geo\": 21 levels>,\n",
       " <dimension \"src-geo\": 21 levels>,\n",
       " <dimension \"gender\": 4 levels>,\n",
       " <dimension \"occ\": 33 levels>,\n",
       " <dimension \"alpha\": 4 levels>,\n",
       " <dimension \"age\": 4 levels>,\n",
       " <dimension \"pop\": 4 levels>,\n",
       " <dimension \"langs\": 3 levels>]"
      ]
     },
<<<<<<< HEAD
     "execution_count": 8,
=======
     "execution_count": 10,
>>>>>>> main
     "metadata": {},
     "output_type": "execute_result"
    }
   ],
   "source": [
    "dimensions"
   ]
  },
  {
   "cell_type": "markdown",
   "id": "9aa6a9d5-efbe-4ef9-8dc4-212e5018b8ee",
   "metadata": {},
   "source": [
    "### qrel join\n",
    "\n",
    "We want a function to join alignments with qrels:"
   ]
  },
  {
   "cell_type": "code",
<<<<<<< HEAD
   "execution_count": 9,
=======
   "execution_count": 11,
>>>>>>> main
   "id": "f03e4261-a9ca-427f-901e-a4571b844141",
   "metadata": {},
   "outputs": [],
   "source": [
    "def qr_join(align):\n",
    "    return qrels.join(align, on='page_id').set_index(['topic_id', 'page_id'])"
   ]
  },
  {
   "cell_type": "markdown",
   "id": "9c0a9401-546b-4d10-b9de-830a778946bd",
   "metadata": {},
   "source": [
    "### norm_dist\n",
    "\n",
    "And a function to normalize to a distribution:"
   ]
  },
  {
   "cell_type": "code",
   "execution_count": 12,
   "id": "fe8aca82-64b3-4d22-bc6b-431ff1e67342",
   "metadata": {},
   "outputs": [],
   "source": [
    "def norm_dist_df(mat):\n",
    "    sums = mat.sum('columns')\n",
    "    return mat.divide(sums, 'rows')"
   ]
  },
  {
   "cell_type": "markdown",
   "id": "c541f3eb",
   "metadata": {},
   "source": [
    "## Work and Target Exposure\n",
    "\n",
    "The first thing we need to do to prepare the metric is to compute the work-needed for each topic's pages, and use that to compute the target exposure for each (relevant) page in the topic.\n",
    "\n",
    "This is because an ideal ranking orders relevant documents in decreasing order of work needed, followed by irrelevant documents.  All relevant documents at a given work level should receive the same expected exposure.\n",
    "\n",
    "First, look up the work for each query page ('query page work', or qpw):"
   ]
  },
  {
   "cell_type": "code",
   "execution_count": 13,
   "id": "504fd5f3",
   "metadata": {},
   "outputs": [
    {
     "data": {
      "text/html": [
       "<div>\n",
       "<style scoped>\n",
       "    .dataframe tbody tr th:only-of-type {\n",
       "        vertical-align: middle;\n",
       "    }\n",
       "\n",
       "    .dataframe tbody tr th {\n",
       "        vertical-align: top;\n",
       "    }\n",
       "\n",
       "    .dataframe thead th {\n",
       "        text-align: right;\n",
       "    }\n",
       "</style>\n",
       "<table border=\"1\" class=\"dataframe\">\n",
       "  <thead>\n",
       "    <tr style=\"text-align: right;\">\n",
       "      <th></th>\n",
       "      <th>topic_id</th>\n",
       "      <th>page_id</th>\n",
       "      <th>quality</th>\n",
       "    </tr>\n",
       "  </thead>\n",
       "  <tbody>\n",
       "    <tr>\n",
       "      <th>0</th>\n",
       "      <td>84</td>\n",
       "      <td>572</td>\n",
       "      <td>Start</td>\n",
       "    </tr>\n",
       "    <tr>\n",
       "      <th>1</th>\n",
       "      <td>84</td>\n",
       "      <td>627</td>\n",
       "      <td>GA</td>\n",
       "    </tr>\n",
       "    <tr>\n",
       "      <th>2</th>\n",
       "      <td>84</td>\n",
       "      <td>678</td>\n",
       "      <td>C</td>\n",
       "    </tr>\n",
       "    <tr>\n",
       "      <th>3</th>\n",
       "      <td>84</td>\n",
       "      <td>903</td>\n",
       "      <td>C</td>\n",
       "    </tr>\n",
       "    <tr>\n",
       "      <th>4</th>\n",
       "      <td>84</td>\n",
       "      <td>1193</td>\n",
       "      <td>C</td>\n",
       "    </tr>\n",
       "    <tr>\n",
       "      <th>...</th>\n",
       "      <td>...</td>\n",
       "      <td>...</td>\n",
       "      <td>...</td>\n",
       "    </tr>\n",
       "    <tr>\n",
       "      <th>2088301</th>\n",
       "      <td>2859</td>\n",
       "      <td>69878035</td>\n",
       "      <td>Start</td>\n",
       "    </tr>\n",
       "    <tr>\n",
       "      <th>2088302</th>\n",
       "      <td>2859</td>\n",
       "      <td>69879576</td>\n",
       "      <td>Stub</td>\n",
       "    </tr>\n",
       "    <tr>\n",
       "      <th>2088303</th>\n",
       "      <td>2859</td>\n",
       "      <td>69882349</td>\n",
       "      <td>Stub</td>\n",
       "    </tr>\n",
       "    <tr>\n",
       "      <th>2088304</th>\n",
       "      <td>2859</td>\n",
       "      <td>69887896</td>\n",
       "      <td>Stub</td>\n",
       "    </tr>\n",
       "    <tr>\n",
       "      <th>2088305</th>\n",
       "      <td>2859</td>\n",
       "      <td>69891491</td>\n",
       "      <td>Stub</td>\n",
       "    </tr>\n",
       "  </tbody>\n",
       "</table>\n",
       "<p>2088306 rows × 3 columns</p>\n",
       "</div>"
      ],
      "text/plain": [
       "         topic_id   page_id quality\n",
       "0              84       572   Start\n",
       "1              84       627      GA\n",
       "2              84       678       C\n",
       "3              84       903       C\n",
       "4              84      1193       C\n",
       "...           ...       ...     ...\n",
       "2088301      2859  69878035   Start\n",
       "2088302      2859  69879576    Stub\n",
       "2088303      2859  69882349    Stub\n",
       "2088304      2859  69887896    Stub\n",
       "2088305      2859  69891491    Stub\n",
       "\n",
       "[2088306 rows x 3 columns]"
      ]
     },
     "execution_count": 13,
     "metadata": {},
     "output_type": "execute_result"
    }
   ],
   "source": [
    "qpw = qrels.join(page_quality, on='page_id')\n",
    "qpw"
   ]
  },
  {
   "cell_type": "markdown",
   "id": "92356276",
   "metadata": {},
   "source": [
    "And now  use that to compute the number of documents at each work level:"
   ]
  },
  {
   "cell_type": "code",
   "execution_count": 14,
   "id": "bafe6d00",
   "metadata": {},
   "outputs": [
    {
     "data": {
      "text/plain": [
       "topic_id  quality\n",
       "84        Stub        3631\n",
       "          Start       1872\n",
       "          C           1069\n",
       "          B            575\n",
       "          GA           260\n",
       "                     ...  \n",
       "2859      Start      25214\n",
       "          C          13446\n",
       "          B           4925\n",
       "          GA          1976\n",
       "          FA           115\n",
       "Name: page_id, Length: 300, dtype: int64"
      ]
     },
     "execution_count": 14,
     "metadata": {},
     "output_type": "execute_result"
    }
   ],
   "source": [
    "qwork = qpw.groupby(['topic_id', 'quality'])['page_id'].count()\n",
    "qwork"
   ]
  },
  {
   "cell_type": "markdown",
   "id": "eba51fd9",
   "metadata": {},
   "source": [
    "Now we need to convert this into target exposure levels.  This function will, given a series of counts for each work level, compute the expected exposure a page at that work level should receive."
   ]
  },
  {
   "cell_type": "code",
<<<<<<< HEAD
   "execution_count": 24,
=======
   "execution_count": 15,
>>>>>>> main
   "id": "72e22ea5",
   "metadata": {},
   "outputs": [],
   "source": [
    "def qw_tgt_exposure(qw_counts: pd.Series) -> pd.Series:\n",
    "    if 'topic_id' == qw_counts.index.names[0]:\n",
    "        qw_counts = qw_counts.reset_index(level='topic_id', drop=True)\n",
    "    qwc = qw_counts.reindex(work_order, fill_value=0).astype('i4')\n",
    "    tot = int(qwc.sum())\n",
    "    da = metrics.discount(tot)\n",
    "    qwp = qwc.shift(1, fill_value=0)\n",
    "    qwc_s = qwc.cumsum()\n",
    "    qwp_s = qwp.cumsum()\n",
    "    res = pd.Series(\n",
    "        [np.mean(da[s:e]) for (s, e) in zip(qwp_s, qwc_s)],\n",
    "        index=qwc.index\n",
    "    )\n",
    "    return res"
   ]
  },
  {
   "cell_type": "markdown",
   "id": "c3c56c2c",
   "metadata": {},
   "source": [
    "We'll then apply this to each topic, to determine the per-topic target exposures:"
   ]
  },
  {
   "cell_type": "code",
<<<<<<< HEAD
   "execution_count": 25,
=======
   "execution_count": 16,
>>>>>>> main
   "id": "d96e7dc7",
   "metadata": {},
   "outputs": [
    {
     "data": {
      "text/plain": [
       "topic_id  quality\n",
       "84        Stub       0.099625\n",
       "          Start      0.082342\n",
       "          C          0.079633\n",
       "          B          0.078472\n",
       "          GA         0.077948\n",
       "                       ...   \n",
       "2859      Start      0.065043\n",
       "          C          0.062777\n",
       "          B          0.061996\n",
       "          GA         0.061735\n",
       "          FA         0.061659\n",
       "Name: tgt_exposure, Length: 300, dtype: float32"
      ]
     },
<<<<<<< HEAD
     "execution_count": 25,
=======
     "execution_count": 16,
>>>>>>> main
     "metadata": {},
     "output_type": "execute_result"
    }
   ],
   "source": [
    "qw_pp_target = qwork.groupby('topic_id').apply(qw_tgt_exposure)\n",
    "qw_pp_target.name = 'tgt_exposure'\n",
    "qw_pp_target"
   ]
  },
  {
   "cell_type": "markdown",
   "id": "8aba5221",
   "metadata": {},
   "source": [
    "We can now merge the relevant document work categories with this exposure, to compute the target exposure for each relevant document:"
   ]
  },
  {
   "cell_type": "code",
<<<<<<< HEAD
   "execution_count": 26,
=======
   "execution_count": 17,
>>>>>>> main
   "id": "7af3d40c",
   "metadata": {},
   "outputs": [
    {
     "data": {
      "text/plain": [
       "topic_id  page_id \n",
       "84        572         0.082342\n",
       "          627         0.077948\n",
       "          678         0.079633\n",
       "          903         0.079633\n",
       "          1193        0.079633\n",
       "                        ...   \n",
       "2859      69878035    0.065043\n",
       "          69879576    0.075569\n",
       "          69882349    0.075569\n",
       "          69887896    0.075569\n",
       "          69891491    0.075569\n",
       "Name: tgt_exposure, Length: 2088306, dtype: float32"
      ]
     },
<<<<<<< HEAD
     "execution_count": 26,
=======
     "execution_count": 17,
>>>>>>> main
     "metadata": {},
     "output_type": "execute_result"
    }
   ],
   "source": [
    "qp_exp = qpw.join(qw_pp_target, on=['topic_id', 'quality'])\n",
    "qp_exp = qp_exp.set_index(['topic_id', 'page_id'])['tgt_exposure']\n",
    "qp_exp"
   ]
  },
  {
   "cell_type": "markdown",
   "id": "8e975036-deef-4240-acf8-7b050b1cb485",
   "metadata": {},
   "source": [
    "## Subject Geography\n",
    "\n",
    "Subject geography targets the average of the relevant set alignments and the world population."
   ]
  },
  {
   "cell_type": "code",
<<<<<<< HEAD
   "execution_count": 12,
=======
   "execution_count": 21,
>>>>>>> main
   "id": "d08efb3c-50ba-4027-8b62-bf8d88268476",
   "metadata": {},
   "outputs": [
    {
     "data": {
      "text/html": [
       "<div>\n",
       "<style scoped>\n",
       "    .dataframe tbody tr th:only-of-type {\n",
       "        vertical-align: middle;\n",
       "    }\n",
       "\n",
       "    .dataframe tbody tr th {\n",
       "        vertical-align: top;\n",
       "    }\n",
       "\n",
       "    .dataframe thead th {\n",
       "        text-align: right;\n",
       "    }\n",
       "</style>\n",
       "<table border=\"1\" class=\"dataframe\">\n",
       "  <thead>\n",
       "    <tr style=\"text-align: right;\">\n",
       "      <th></th>\n",
       "      <th></th>\n",
       "      <th>@UNKNOWN</th>\n",
       "      <th>Antarctica</th>\n",
       "      <th>Caribbean</th>\n",
       "      <th>Central America</th>\n",
       "      <th>Central Asia</th>\n",
       "      <th>Eastern Africa</th>\n",
       "      <th>Eastern Asia</th>\n",
       "      <th>Eastern Europe</th>\n",
       "      <th>Middle Africa</th>\n",
       "      <th>Northern Africa</th>\n",
       "      <th>...</th>\n",
       "      <th>Northern Europe</th>\n",
       "      <th>Oceania</th>\n",
       "      <th>South America</th>\n",
       "      <th>South-eastern Asia</th>\n",
       "      <th>Southern Africa</th>\n",
       "      <th>Southern Asia</th>\n",
       "      <th>Southern Europe</th>\n",
       "      <th>Western Africa</th>\n",
       "      <th>Western Asia</th>\n",
       "      <th>Western Europe</th>\n",
       "    </tr>\n",
       "    <tr>\n",
       "      <th>topic_id</th>\n",
       "      <th>page_id</th>\n",
       "      <th></th>\n",
       "      <th></th>\n",
       "      <th></th>\n",
       "      <th></th>\n",
       "      <th></th>\n",
       "      <th></th>\n",
       "      <th></th>\n",
       "      <th></th>\n",
       "      <th></th>\n",
       "      <th></th>\n",
       "      <th></th>\n",
       "      <th></th>\n",
       "      <th></th>\n",
       "      <th></th>\n",
       "      <th></th>\n",
       "      <th></th>\n",
       "      <th></th>\n",
       "      <th></th>\n",
       "      <th></th>\n",
       "      <th></th>\n",
       "      <th></th>\n",
       "    </tr>\n",
       "  </thead>\n",
       "  <tbody>\n",
       "    <tr>\n",
       "      <th rowspan=\"5\" valign=\"top\">84</th>\n",
       "      <th>572</th>\n",
       "      <td>1.0</td>\n",
       "      <td>0.0</td>\n",
       "      <td>0.0</td>\n",
       "      <td>0.0</td>\n",
       "      <td>0.0</td>\n",
       "      <td>0.0</td>\n",
       "      <td>0.0</td>\n",
       "      <td>0.0</td>\n",
       "      <td>0.0</td>\n",
       "      <td>0.0</td>\n",
       "      <td>...</td>\n",
       "      <td>0.0</td>\n",
       "      <td>0.0</td>\n",
       "      <td>0.0</td>\n",
       "      <td>0.0</td>\n",
       "      <td>0.0</td>\n",
       "      <td>0.0</td>\n",
       "      <td>0.0</td>\n",
       "      <td>0.0</td>\n",
       "      <td>0.0</td>\n",
       "      <td>0.0</td>\n",
       "    </tr>\n",
       "    <tr>\n",
       "      <th>627</th>\n",
       "      <td>1.0</td>\n",
       "      <td>0.0</td>\n",
       "      <td>0.0</td>\n",
       "      <td>0.0</td>\n",
       "      <td>0.0</td>\n",
       "      <td>0.0</td>\n",
       "      <td>0.0</td>\n",
       "      <td>0.0</td>\n",
       "      <td>0.0</td>\n",
       "      <td>0.0</td>\n",
       "      <td>...</td>\n",
       "      <td>0.0</td>\n",
       "      <td>0.0</td>\n",
       "      <td>0.0</td>\n",
       "      <td>0.0</td>\n",
       "      <td>0.0</td>\n",
       "      <td>0.0</td>\n",
       "      <td>0.0</td>\n",
       "      <td>0.0</td>\n",
       "      <td>0.0</td>\n",
       "      <td>0.0</td>\n",
       "    </tr>\n",
       "    <tr>\n",
       "      <th>678</th>\n",
       "      <td>1.0</td>\n",
       "      <td>0.0</td>\n",
       "      <td>0.0</td>\n",
       "      <td>0.0</td>\n",
       "      <td>0.0</td>\n",
       "      <td>0.0</td>\n",
       "      <td>0.0</td>\n",
       "      <td>0.0</td>\n",
       "      <td>0.0</td>\n",
       "      <td>0.0</td>\n",
       "      <td>...</td>\n",
       "      <td>0.0</td>\n",
       "      <td>0.0</td>\n",
       "      <td>0.0</td>\n",
       "      <td>0.0</td>\n",
       "      <td>0.0</td>\n",
       "      <td>0.0</td>\n",
       "      <td>0.0</td>\n",
       "      <td>0.0</td>\n",
       "      <td>0.0</td>\n",
       "      <td>0.0</td>\n",
       "    </tr>\n",
       "    <tr>\n",
       "      <th>903</th>\n",
       "      <td>1.0</td>\n",
       "      <td>0.0</td>\n",
       "      <td>0.0</td>\n",
       "      <td>0.0</td>\n",
       "      <td>0.0</td>\n",
       "      <td>0.0</td>\n",
       "      <td>0.0</td>\n",
       "      <td>0.0</td>\n",
       "      <td>0.0</td>\n",
       "      <td>0.0</td>\n",
       "      <td>...</td>\n",
       "      <td>0.0</td>\n",
       "      <td>0.0</td>\n",
       "      <td>0.0</td>\n",
       "      <td>0.0</td>\n",
       "      <td>0.0</td>\n",
       "      <td>0.0</td>\n",
       "      <td>0.0</td>\n",
       "      <td>0.0</td>\n",
       "      <td>0.0</td>\n",
       "      <td>0.0</td>\n",
       "    </tr>\n",
       "    <tr>\n",
       "      <th>1193</th>\n",
       "      <td>1.0</td>\n",
       "      <td>0.0</td>\n",
       "      <td>0.0</td>\n",
       "      <td>0.0</td>\n",
       "      <td>0.0</td>\n",
       "      <td>0.0</td>\n",
       "      <td>0.0</td>\n",
       "      <td>0.0</td>\n",
       "      <td>0.0</td>\n",
       "      <td>0.0</td>\n",
       "      <td>...</td>\n",
       "      <td>0.0</td>\n",
       "      <td>0.0</td>\n",
       "      <td>0.0</td>\n",
       "      <td>0.0</td>\n",
       "      <td>0.0</td>\n",
       "      <td>0.0</td>\n",
       "      <td>0.0</td>\n",
       "      <td>0.0</td>\n",
       "      <td>0.0</td>\n",
       "      <td>0.0</td>\n",
       "    </tr>\n",
       "    <tr>\n",
       "      <th>...</th>\n",
       "      <th>...</th>\n",
       "      <td>...</td>\n",
       "      <td>...</td>\n",
       "      <td>...</td>\n",
       "      <td>...</td>\n",
       "      <td>...</td>\n",
       "      <td>...</td>\n",
       "      <td>...</td>\n",
       "      <td>...</td>\n",
       "      <td>...</td>\n",
       "      <td>...</td>\n",
       "      <td>...</td>\n",
       "      <td>...</td>\n",
       "      <td>...</td>\n",
       "      <td>...</td>\n",
       "      <td>...</td>\n",
       "      <td>...</td>\n",
       "      <td>...</td>\n",
       "      <td>...</td>\n",
       "      <td>...</td>\n",
       "      <td>...</td>\n",
       "      <td>...</td>\n",
       "    </tr>\n",
       "    <tr>\n",
       "      <th rowspan=\"5\" valign=\"top\">2859</th>\n",
       "      <th>69878035</th>\n",
       "      <td>0.0</td>\n",
       "      <td>0.0</td>\n",
       "      <td>0.0</td>\n",
       "      <td>0.0</td>\n",
       "      <td>0.0</td>\n",
       "      <td>0.0</td>\n",
       "      <td>0.0</td>\n",
       "      <td>1.0</td>\n",
       "      <td>0.0</td>\n",
       "      <td>0.0</td>\n",
       "      <td>...</td>\n",
       "      <td>0.0</td>\n",
       "      <td>0.0</td>\n",
       "      <td>0.0</td>\n",
       "      <td>0.0</td>\n",
       "      <td>0.0</td>\n",
       "      <td>0.0</td>\n",
       "      <td>0.0</td>\n",
       "      <td>0.0</td>\n",
       "      <td>0.0</td>\n",
       "      <td>0.0</td>\n",
       "    </tr>\n",
       "    <tr>\n",
       "      <th>69879576</th>\n",
       "      <td>0.0</td>\n",
       "      <td>0.0</td>\n",
       "      <td>0.0</td>\n",
       "      <td>0.0</td>\n",
       "      <td>0.0</td>\n",
       "      <td>0.0</td>\n",
       "      <td>0.0</td>\n",
       "      <td>0.0</td>\n",
       "      <td>0.0</td>\n",
       "      <td>0.0</td>\n",
       "      <td>...</td>\n",
       "      <td>0.0</td>\n",
       "      <td>0.0</td>\n",
       "      <td>0.0</td>\n",
       "      <td>0.0</td>\n",
       "      <td>0.0</td>\n",
       "      <td>0.0</td>\n",
       "      <td>1.0</td>\n",
       "      <td>0.0</td>\n",
       "      <td>0.0</td>\n",
       "      <td>0.0</td>\n",
       "    </tr>\n",
       "    <tr>\n",
       "      <th>69882349</th>\n",
       "      <td>1.0</td>\n",
       "      <td>0.0</td>\n",
       "      <td>0.0</td>\n",
       "      <td>0.0</td>\n",
       "      <td>0.0</td>\n",
       "      <td>0.0</td>\n",
       "      <td>0.0</td>\n",
       "      <td>0.0</td>\n",
       "      <td>0.0</td>\n",
       "      <td>0.0</td>\n",
       "      <td>...</td>\n",
       "      <td>0.0</td>\n",
       "      <td>0.0</td>\n",
       "      <td>0.0</td>\n",
       "      <td>0.0</td>\n",
       "      <td>0.0</td>\n",
       "      <td>0.0</td>\n",
       "      <td>0.0</td>\n",
       "      <td>0.0</td>\n",
       "      <td>0.0</td>\n",
       "      <td>0.0</td>\n",
       "    </tr>\n",
       "    <tr>\n",
       "      <th>69887896</th>\n",
       "      <td>1.0</td>\n",
       "      <td>0.0</td>\n",
       "      <td>0.0</td>\n",
       "      <td>0.0</td>\n",
       "      <td>0.0</td>\n",
       "      <td>0.0</td>\n",
       "      <td>0.0</td>\n",
       "      <td>0.0</td>\n",
       "      <td>0.0</td>\n",
       "      <td>0.0</td>\n",
       "      <td>...</td>\n",
       "      <td>0.0</td>\n",
       "      <td>0.0</td>\n",
       "      <td>0.0</td>\n",
       "      <td>0.0</td>\n",
       "      <td>0.0</td>\n",
       "      <td>0.0</td>\n",
       "      <td>0.0</td>\n",
       "      <td>0.0</td>\n",
       "      <td>0.0</td>\n",
       "      <td>0.0</td>\n",
       "    </tr>\n",
       "    <tr>\n",
       "      <th>69891491</th>\n",
       "      <td>0.0</td>\n",
       "      <td>0.0</td>\n",
       "      <td>0.0</td>\n",
       "      <td>0.0</td>\n",
       "      <td>0.0</td>\n",
       "      <td>0.0</td>\n",
       "      <td>0.0</td>\n",
       "      <td>0.0</td>\n",
       "      <td>0.0</td>\n",
       "      <td>0.0</td>\n",
       "      <td>...</td>\n",
       "      <td>0.0</td>\n",
       "      <td>0.0</td>\n",
       "      <td>0.0</td>\n",
       "      <td>0.0</td>\n",
       "      <td>0.0</td>\n",
       "      <td>0.0</td>\n",
       "      <td>0.0</td>\n",
       "      <td>0.0</td>\n",
       "      <td>0.0</td>\n",
       "      <td>1.0</td>\n",
       "    </tr>\n",
       "  </tbody>\n",
       "</table>\n",
       "<p>2088306 rows × 21 columns</p>\n",
       "</div>"
      ],
      "text/plain": [
       "                   @UNKNOWN  Antarctica  Caribbean  Central America  \\\n",
       "topic_id page_id                                                      \n",
       "84       572            1.0         0.0        0.0              0.0   \n",
       "         627            1.0         0.0        0.0              0.0   \n",
       "         678            1.0         0.0        0.0              0.0   \n",
       "         903            1.0         0.0        0.0              0.0   \n",
       "         1193           1.0         0.0        0.0              0.0   \n",
       "...                     ...         ...        ...              ...   \n",
       "2859     69878035       0.0         0.0        0.0              0.0   \n",
       "         69879576       0.0         0.0        0.0              0.0   \n",
       "         69882349       1.0         0.0        0.0              0.0   \n",
       "         69887896       1.0         0.0        0.0              0.0   \n",
       "         69891491       0.0         0.0        0.0              0.0   \n",
       "\n",
       "                   Central Asia  Eastern Africa  Eastern Asia  Eastern Europe  \\\n",
       "topic_id page_id                                                                \n",
       "84       572                0.0             0.0           0.0             0.0   \n",
       "         627                0.0             0.0           0.0             0.0   \n",
       "         678                0.0             0.0           0.0             0.0   \n",
       "         903                0.0             0.0           0.0             0.0   \n",
       "         1193               0.0             0.0           0.0             0.0   \n",
       "...                         ...             ...           ...             ...   \n",
       "2859     69878035           0.0             0.0           0.0             1.0   \n",
       "         69879576           0.0             0.0           0.0             0.0   \n",
       "         69882349           0.0             0.0           0.0             0.0   \n",
       "         69887896           0.0             0.0           0.0             0.0   \n",
       "         69891491           0.0             0.0           0.0             0.0   \n",
       "\n",
       "                   Middle Africa  Northern Africa  ...  Northern Europe  \\\n",
       "topic_id page_id                                   ...                    \n",
       "84       572                 0.0              0.0  ...              0.0   \n",
       "         627                 0.0              0.0  ...              0.0   \n",
       "         678                 0.0              0.0  ...              0.0   \n",
       "         903                 0.0              0.0  ...              0.0   \n",
       "         1193                0.0              0.0  ...              0.0   \n",
       "...                          ...              ...  ...              ...   \n",
       "2859     69878035            0.0              0.0  ...              0.0   \n",
       "         69879576            0.0              0.0  ...              0.0   \n",
       "         69882349            0.0              0.0  ...              0.0   \n",
       "         69887896            0.0              0.0  ...              0.0   \n",
       "         69891491            0.0              0.0  ...              0.0   \n",
       "\n",
       "                   Oceania  South America  South-eastern Asia  \\\n",
       "topic_id page_id                                                \n",
       "84       572           0.0            0.0                 0.0   \n",
       "         627           0.0            0.0                 0.0   \n",
       "         678           0.0            0.0                 0.0   \n",
       "         903           0.0            0.0                 0.0   \n",
       "         1193          0.0            0.0                 0.0   \n",
       "...                    ...            ...                 ...   \n",
       "2859     69878035      0.0            0.0                 0.0   \n",
       "         69879576      0.0            0.0                 0.0   \n",
       "         69882349      0.0            0.0                 0.0   \n",
       "         69887896      0.0            0.0                 0.0   \n",
       "         69891491      0.0            0.0                 0.0   \n",
       "\n",
       "                   Southern Africa  Southern Asia  Southern Europe  \\\n",
       "topic_id page_id                                                     \n",
       "84       572                   0.0            0.0              0.0   \n",
       "         627                   0.0            0.0              0.0   \n",
       "         678                   0.0            0.0              0.0   \n",
       "         903                   0.0            0.0              0.0   \n",
       "         1193                  0.0            0.0              0.0   \n",
       "...                            ...            ...              ...   \n",
       "2859     69878035              0.0            0.0              0.0   \n",
       "         69879576              0.0            0.0              1.0   \n",
       "         69882349              0.0            0.0              0.0   \n",
       "         69887896              0.0            0.0              0.0   \n",
       "         69891491              0.0            0.0              0.0   \n",
       "\n",
       "                   Western Africa  Western Asia  Western Europe  \n",
       "topic_id page_id                                                 \n",
       "84       572                  0.0           0.0             0.0  \n",
       "         627                  0.0           0.0             0.0  \n",
       "         678                  0.0           0.0             0.0  \n",
       "         903                  0.0           0.0             0.0  \n",
       "         1193                 0.0           0.0             0.0  \n",
       "...                           ...           ...             ...  \n",
       "2859     69878035             0.0           0.0             0.0  \n",
       "         69879576             0.0           0.0             0.0  \n",
       "         69882349             0.0           0.0             0.0  \n",
       "         69887896             0.0           0.0             0.0  \n",
       "         69891491             0.0           0.0             1.0  \n",
       "\n",
       "[2088306 rows x 21 columns]"
      ]
     },
<<<<<<< HEAD
     "execution_count": 12,
=======
     "execution_count": 21,
>>>>>>> main
     "metadata": {},
     "output_type": "execute_result"
    }
   ],
   "source": [
    "qr_sub_geo_align = qr_join(sub_geo_align)\n",
    "qr_sub_geo_align"
   ]
  },
  {
   "cell_type": "markdown",
   "id": "4a20ac65-a373-4df4-a4d0-15010530f253",
   "metadata": {},
   "source": [
<<<<<<< HEAD
    "We can just average with the world pop, with a bit of normalization."
=======
    "Compute a raw target, factoring in weights:"
>>>>>>> main
   ]
  },
  {
   "cell_type": "code",
<<<<<<< HEAD
   "execution_count": 13,
   "id": "5f07bc9b",
   "metadata": {},
=======
   "execution_count": 30,
   "id": "5f07bc9b",
   "metadata": {},
   "outputs": [],
   "source": [
    "qr_sub_geo_tgt = qr_sub_geo_align.multiply(qp_exp, axis='rows').groupby('topic_id').sum()"
   ]
  },
  {
   "cell_type": "markdown",
   "id": "8fc3d349-d5f3-43e9-9d70-5c723210b82f",
   "metadata": {},
   "source": [
    "And now we need to average the known-geo with the background."
   ]
  },
  {
   "cell_type": "code",
   "execution_count": 33,
   "id": "cfc0f2bf-9823-4f7c-9f47-2d60321ec98d",
   "metadata": {},
>>>>>>> main
   "outputs": [
    {
     "data": {
      "text/html": [
       "<div>\n",
       "<style scoped>\n",
       "    .dataframe tbody tr th:only-of-type {\n",
       "        vertical-align: middle;\n",
       "    }\n",
       "\n",
       "    .dataframe tbody tr th {\n",
       "        vertical-align: top;\n",
       "    }\n",
       "\n",
       "    .dataframe thead th {\n",
       "        text-align: right;\n",
       "    }\n",
       "</style>\n",
       "<table border=\"1\" class=\"dataframe\">\n",
       "  <thead>\n",
       "    <tr style=\"text-align: right;\">\n",
       "      <th></th>\n",
<<<<<<< HEAD
=======
       "      <th>@UNKNOWN</th>\n",
>>>>>>> main
       "      <th>Antarctica</th>\n",
       "      <th>Caribbean</th>\n",
       "      <th>Central America</th>\n",
       "      <th>Central Asia</th>\n",
       "      <th>Eastern Africa</th>\n",
       "      <th>Eastern Asia</th>\n",
       "      <th>Eastern Europe</th>\n",
       "      <th>Middle Africa</th>\n",
       "      <th>Northern Africa</th>\n",
<<<<<<< HEAD
       "      <th>Northern America</th>\n",
=======
       "      <th>...</th>\n",
>>>>>>> main
       "      <th>Northern Europe</th>\n",
       "      <th>Oceania</th>\n",
       "      <th>South America</th>\n",
       "      <th>South-eastern Asia</th>\n",
       "      <th>Southern Africa</th>\n",
       "      <th>Southern Asia</th>\n",
       "      <th>Southern Europe</th>\n",
       "      <th>Western Africa</th>\n",
       "      <th>Western Asia</th>\n",
       "      <th>Western Europe</th>\n",
       "    </tr>\n",
       "    <tr>\n",
       "      <th>topic_id</th>\n",
       "      <th></th>\n",
       "      <th></th>\n",
       "      <th></th>\n",
       "      <th></th>\n",
       "      <th></th>\n",
       "      <th></th>\n",
       "      <th></th>\n",
       "      <th></th>\n",
       "      <th></th>\n",
       "      <th></th>\n",
       "      <th></th>\n",
       "      <th></th>\n",
       "      <th></th>\n",
       "      <th></th>\n",
       "      <th></th>\n",
       "      <th></th>\n",
       "      <th></th>\n",
       "      <th></th>\n",
       "      <th></th>\n",
       "      <th></th>\n",
<<<<<<< HEAD
=======
       "      <th></th>\n",
>>>>>>> main
       "    </tr>\n",
       "  </thead>\n",
       "  <tbody>\n",
       "    <tr>\n",
       "      <th>84</th>\n",
<<<<<<< HEAD
       "      <td>7.721177e-08</td>\n",
       "      <td>0.005760</td>\n",
       "      <td>0.015795</td>\n",
       "      <td>0.006975</td>\n",
       "      <td>0.035669</td>\n",
       "      <td>0.131219</td>\n",
       "      <td>0.034804</td>\n",
       "      <td>0.010847</td>\n",
       "      <td>0.016884</td>\n",
       "      <td>0.156412</td>\n",
       "      <td>0.080714</td>\n",
       "      <td>0.087933</td>\n",
       "      <td>0.038566</td>\n",
       "      <td>0.054365</td>\n",
       "      <td>0.009957</td>\n",
       "      <td>0.148701</td>\n",
       "      <td>0.052571</td>\n",
       "      <td>0.029303</td>\n",
       "      <td>0.025218</td>\n",
       "      <td>0.058306</td>\n",
       "    </tr>\n",
       "    <tr>\n",
       "      <th>111</th>\n",
       "      <td>7.721177e-08</td>\n",
       "      <td>0.011925</td>\n",
       "      <td>0.021943</td>\n",
       "      <td>0.004494</td>\n",
       "      <td>0.133176</td>\n",
       "      <td>0.114090</td>\n",
       "      <td>0.020969</td>\n",
       "      <td>0.014967</td>\n",
       "      <td>0.015383</td>\n",
       "      <td>0.060492</td>\n",
       "      <td>0.009321</td>\n",
       "      <td>0.107196</td>\n",
       "      <td>0.190632</td>\n",
       "      <td>0.074043</td>\n",
       "      <td>0.029067</td>\n",
       "      <td>0.124993</td>\n",
       "      <td>0.011745</td>\n",
       "      <td>0.023559</td>\n",
       "      <td>0.017587</td>\n",
       "      <td>0.014419</td>\n",
       "    </tr>\n",
       "    <tr>\n",
       "      <th>265</th>\n",
       "      <td>5.345676e-03</td>\n",
       "      <td>0.003590</td>\n",
       "      <td>0.014793</td>\n",
       "      <td>0.006669</td>\n",
       "      <td>0.029535</td>\n",
       "      <td>0.138823</td>\n",
       "      <td>0.044902</td>\n",
       "      <td>0.015195</td>\n",
       "      <td>0.024134</td>\n",
       "      <td>0.228650</td>\n",
       "      <td>0.059040</td>\n",
       "      <td>0.022009</td>\n",
       "      <td>0.048497</td>\n",
       "      <td>0.047861</td>\n",
       "      <td>0.010372</td>\n",
       "      <td>0.134395</td>\n",
       "      <td>0.039977</td>\n",
       "      <td>0.025388</td>\n",
       "      <td>0.022830</td>\n",
       "      <td>0.077994</td>\n",
       "    </tr>\n",
       "    <tr>\n",
       "      <th>323</th>\n",
       "      <td>1.021319e-04</td>\n",
       "      <td>0.007558</td>\n",
       "      <td>0.018673</td>\n",
       "      <td>0.006610</td>\n",
       "      <td>0.034132</td>\n",
       "      <td>0.133108</td>\n",
       "      <td>0.047561</td>\n",
       "      <td>0.016861</td>\n",
       "      <td>0.019721</td>\n",
       "      <td>0.209493</td>\n",
       "      <td>0.064425</td>\n",
       "      <td>0.024642</td>\n",
       "      <td>0.056630</td>\n",
       "      <td>0.056210</td>\n",
       "      <td>0.008836</td>\n",
       "      <td>0.136204</td>\n",
       "      <td>0.030463</td>\n",
       "      <td>0.029258</td>\n",
       "      <td>0.026721</td>\n",
       "      <td>0.072791</td>\n",
       "    </tr>\n",
       "    <tr>\n",
       "      <th>396</th>\n",
       "      <td>7.721177e-08</td>\n",
       "      <td>0.004347</td>\n",
       "      <td>0.017819</td>\n",
       "      <td>0.004845</td>\n",
       "      <td>0.026839</td>\n",
       "      <td>0.143674</td>\n",
       "      <td>0.036382</td>\n",
       "      <td>0.009807</td>\n",
       "      <td>0.017386</td>\n",
       "      <td>0.228696</td>\n",
       "      <td>0.077268</td>\n",
       "      <td>0.018460</td>\n",
       "      <td>0.040173</td>\n",
       "      <td>0.054573</td>\n",
       "      <td>0.005905</td>\n",
       "      <td>0.169444</td>\n",
       "      <td>0.038324</td>\n",
       "      <td>0.025741</td>\n",
       "      <td>0.023708</td>\n",
       "      <td>0.056610</td>\n",
       "    </tr>\n",
       "  </tbody>\n",
       "</table>\n",
       "</div>"
      ],
      "text/plain": [
       "            Antarctica  Caribbean  Central America  Central Asia  \\\n",
       "topic_id                                                           \n",
       "84        7.721177e-08   0.005760         0.015795      0.006975   \n",
       "111       7.721177e-08   0.011925         0.021943      0.004494   \n",
       "265       5.345676e-03   0.003590         0.014793      0.006669   \n",
       "323       1.021319e-04   0.007558         0.018673      0.006610   \n",
       "396       7.721177e-08   0.004347         0.017819      0.004845   \n",
       "\n",
       "          Eastern Africa  Eastern Asia  Eastern Europe  Middle Africa  \\\n",
       "topic_id                                                                \n",
       "84              0.035669      0.131219        0.034804       0.010847   \n",
       "111             0.133176      0.114090        0.020969       0.014967   \n",
       "265             0.029535      0.138823        0.044902       0.015195   \n",
       "323             0.034132      0.133108        0.047561       0.016861   \n",
       "396             0.026839      0.143674        0.036382       0.009807   \n",
       "\n",
       "          Northern Africa  Northern America  Northern Europe   Oceania  \\\n",
       "topic_id                                                                 \n",
       "84               0.016884          0.156412         0.080714  0.087933   \n",
       "111              0.015383          0.060492         0.009321  0.107196   \n",
       "265              0.024134          0.228650         0.059040  0.022009   \n",
       "323              0.019721          0.209493         0.064425  0.024642   \n",
       "396              0.017386          0.228696         0.077268  0.018460   \n",
       "\n",
       "          South America  South-eastern Asia  Southern Africa  Southern Asia  \\\n",
       "topic_id                                                                      \n",
       "84             0.038566            0.054365         0.009957       0.148701   \n",
       "111            0.190632            0.074043         0.029067       0.124993   \n",
       "265            0.048497            0.047861         0.010372       0.134395   \n",
       "323            0.056630            0.056210         0.008836       0.136204   \n",
       "396            0.040173            0.054573         0.005905       0.169444   \n",
       "\n",
       "          Southern Europe  Western Africa  Western Asia  Western Europe  \n",
       "topic_id                                                                 \n",
       "84               0.052571        0.029303      0.025218        0.058306  \n",
       "111              0.011745        0.023559      0.017587        0.014419  \n",
       "265              0.039977        0.025388      0.022830        0.077994  \n",
       "323              0.030463        0.029258      0.026721        0.072791  \n",
       "396              0.038324        0.025741      0.023708        0.056610  "
      ]
     },
     "execution_count": 13,
=======
       "      <td>375.472850</td>\n",
       "      <td>0.000023</td>\n",
       "      <td>1.680280</td>\n",
       "      <td>4.580183</td>\n",
       "      <td>2.043338</td>\n",
       "      <td>10.411150</td>\n",
       "      <td>38.400754</td>\n",
       "      <td>10.189182</td>\n",
       "      <td>3.152269</td>\n",
       "      <td>4.916753</td>\n",
       "      <td>...</td>\n",
       "      <td>23.616351</td>\n",
       "      <td>26.123250</td>\n",
       "      <td>11.208388</td>\n",
       "      <td>15.844413</td>\n",
       "      <td>2.964607</td>\n",
       "      <td>43.507938</td>\n",
       "      <td>15.376673</td>\n",
       "      <td>8.543972</td>\n",
       "      <td>7.358424</td>\n",
       "      <td>17.101053</td>\n",
       "    </tr>\n",
       "    <tr>\n",
       "      <th>111</th>\n",
       "      <td>1387.060680</td>\n",
       "      <td>0.000021</td>\n",
       "      <td>3.274704</td>\n",
       "      <td>6.017191</td>\n",
       "      <td>1.231018</td>\n",
       "      <td>36.595728</td>\n",
       "      <td>31.252403</td>\n",
       "      <td>5.743542</td>\n",
       "      <td>4.099572</td>\n",
       "      <td>4.193450</td>\n",
       "      <td>...</td>\n",
       "      <td>2.537023</td>\n",
       "      <td>28.983860</td>\n",
       "      <td>52.880227</td>\n",
       "      <td>20.355198</td>\n",
       "      <td>7.967875</td>\n",
       "      <td>34.266467</td>\n",
       "      <td>3.204054</td>\n",
       "      <td>6.458512</td>\n",
       "      <td>4.816884</td>\n",
       "      <td>3.941680</td>\n",
       "    </tr>\n",
       "    <tr>\n",
       "      <th>265</th>\n",
       "      <td>1536.078799</td>\n",
       "      <td>1.827110</td>\n",
       "      <td>1.146064</td>\n",
       "      <td>4.746454</td>\n",
       "      <td>2.178342</td>\n",
       "      <td>9.550458</td>\n",
       "      <td>44.868123</td>\n",
       "      <td>14.554292</td>\n",
       "      <td>4.982549</td>\n",
       "      <td>7.928343</td>\n",
       "      <td>...</td>\n",
       "      <td>18.527737</td>\n",
       "      <td>7.054621</td>\n",
       "      <td>15.530716</td>\n",
       "      <td>15.413761</td>\n",
       "      <td>3.331017</td>\n",
       "      <td>43.148042</td>\n",
       "      <td>12.959868</td>\n",
       "      <td>8.183216</td>\n",
       "      <td>7.362118</td>\n",
       "      <td>25.026910</td>\n",
       "    </tr>\n",
       "    <tr>\n",
       "      <th>323</th>\n",
       "      <td>1161.328444</td>\n",
       "      <td>0.259918</td>\n",
       "      <td>20.114226</td>\n",
       "      <td>49.449207</td>\n",
       "      <td>17.417949</td>\n",
       "      <td>90.183887</td>\n",
       "      <td>349.416801</td>\n",
       "      <td>124.783183</td>\n",
       "      <td>45.330132</td>\n",
       "      <td>51.994625</td>\n",
       "      <td>...</td>\n",
       "      <td>164.076004</td>\n",
       "      <td>64.899717</td>\n",
       "      <td>151.274980</td>\n",
       "      <td>147.350237</td>\n",
       "      <td>23.460195</td>\n",
       "      <td>356.837110</td>\n",
       "      <td>79.420152</td>\n",
       "      <td>77.286990</td>\n",
       "      <td>69.931765</td>\n",
       "      <td>189.655290</td>\n",
       "    </tr>\n",
       "    <tr>\n",
       "      <th>396</th>\n",
       "      <td>573.910805</td>\n",
       "      <td>0.000360</td>\n",
       "      <td>20.387725</td>\n",
       "      <td>83.818771</td>\n",
       "      <td>22.630841</td>\n",
       "      <td>125.312466</td>\n",
       "      <td>668.847191</td>\n",
       "      <td>172.879507</td>\n",
       "      <td>45.814634</td>\n",
       "      <td>81.507393</td>\n",
       "      <td>...</td>\n",
       "      <td>363.465730</td>\n",
       "      <td>86.778572</td>\n",
       "      <td>189.293561</td>\n",
       "      <td>253.982809</td>\n",
       "      <td>27.617460</td>\n",
       "      <td>784.419497</td>\n",
       "      <td>183.766619</td>\n",
       "      <td>120.091991</td>\n",
       "      <td>111.264201</td>\n",
       "      <td>273.537884</td>\n",
       "    </tr>\n",
       "  </tbody>\n",
       "</table>\n",
       "<p>5 rows × 21 columns</p>\n",
       "</div>"
      ],
      "text/plain": [
       "             @UNKNOWN  Antarctica  Caribbean  Central America  Central Asia  \\\n",
       "topic_id                                                                      \n",
       "84         375.472850    0.000023   1.680280         4.580183      2.043338   \n",
       "111       1387.060680    0.000021   3.274704         6.017191      1.231018   \n",
       "265       1536.078799    1.827110   1.146064         4.746454      2.178342   \n",
       "323       1161.328444    0.259918  20.114226        49.449207     17.417949   \n",
       "396        573.910805    0.000360  20.387725        83.818771     22.630841   \n",
       "\n",
       "          Eastern Africa  Eastern Asia  Eastern Europe  Middle Africa  \\\n",
       "topic_id                                                                \n",
       "84             10.411150     38.400754       10.189182       3.152269   \n",
       "111            36.595728     31.252403        5.743542       4.099572   \n",
       "265             9.550458     44.868123       14.554292       4.982549   \n",
       "323            90.183887    349.416801      124.783183      45.330132   \n",
       "396           125.312466    668.847191      172.879507      45.814634   \n",
       "\n",
       "          Northern Africa  ...  Northern Europe    Oceania  South America  \\\n",
       "topic_id                   ...                                              \n",
       "84               4.916753  ...        23.616351  26.123250      11.208388   \n",
       "111              4.193450  ...         2.537023  28.983860      52.880227   \n",
       "265              7.928343  ...        18.527737   7.054621      15.530716   \n",
       "323             51.994625  ...       164.076004  64.899717     151.274980   \n",
       "396             81.507393  ...       363.465730  86.778572     189.293561   \n",
       "\n",
       "          South-eastern Asia  Southern Africa  Southern Asia  Southern Europe  \\\n",
       "topic_id                                                                        \n",
       "84                 15.844413         2.964607      43.507938        15.376673   \n",
       "111                20.355198         7.967875      34.266467         3.204054   \n",
       "265                15.413761         3.331017      43.148042        12.959868   \n",
       "323               147.350237        23.460195     356.837110        79.420152   \n",
       "396               253.982809        27.617460     784.419497       183.766619   \n",
       "\n",
       "          Western Africa  Western Asia  Western Europe  \n",
       "topic_id                                                \n",
       "84              8.543972      7.358424       17.101053  \n",
       "111             6.458512      4.816884        3.941680  \n",
       "265             8.183216      7.362118       25.026910  \n",
       "323            77.286990     69.931765      189.655290  \n",
       "396           120.091991    111.264201      273.537884  \n",
       "\n",
       "[5 rows x 21 columns]"
      ]
     },
     "execution_count": 33,
>>>>>>> main
     "metadata": {},
     "output_type": "execute_result"
    }
   ],
   "source": [
<<<<<<< HEAD
    "qr_sub_geo_tgt = qr_sub_geo_align.groupby('topic_id').sum()\n",
    "qr_sub_geo_tgt = qr_sub_geo_tgt.iloc[:, 1:]\n",
    "qr_sub_geo_tgt = norm_dist_df(qr_sub_geo_tgt)\n",
    "qr_sub_geo_tgt = (qr_sub_geo_tgt + world_pop) * 0.5\n",
=======
    "qr_sub_geo_fk = qr_sub_geo_tgt.iloc[:, 1:].sum('columns')\n",
    "qr_sub_geo_tgt.iloc[:, 1:] *= 0.5\n",
    "qr_sub_geo_tgt.iloc[:, 1:] += qr_sub_geo_fk.apply(lambda k: world_pop * k * 0.5)\n",
>>>>>>> main
    "qr_sub_geo_tgt.head()"
   ]
  },
  {
   "cell_type": "markdown",
<<<<<<< HEAD
   "id": "0abe1278-106a-4369-9dc3-afcdd8f78445",
   "metadata": {},
   "source": [
    "Make sure the rows are distributions:"
=======
   "id": "11f2920b-849d-4398-a9ff-7f9a9b00c317",
   "metadata": {},
   "source": [
    "These are **not** distributions, let's fix that!"
>>>>>>> main
   ]
  },
  {
   "cell_type": "code",
<<<<<<< HEAD
   "execution_count": 14,
   "id": "52caf011-7325-49db-afad-c259eac8635f",
   "metadata": {},
   "outputs": [
    {
     "data": {
      "text/plain": [
       "count    5.000000e+01\n",
       "mean     1.000000e+00\n",
       "std      1.382671e-16\n",
       "min      1.000000e+00\n",
       "25%      1.000000e+00\n",
       "50%      1.000000e+00\n",
       "75%      1.000000e+00\n",
       "max      1.000000e+00\n",
       "dtype: float64"
      ]
     },
     "execution_count": 14,
     "metadata": {},
     "output_type": "execute_result"
    }
   ],
   "source": [
    "qr_sub_geo_tgt.sum('columns').describe()"
   ]
  },
  {
   "cell_type": "markdown",
   "id": "810809e3-e041-4bd3-9086-316fd2befcac",
   "metadata": {},
   "source": [
    "Everything is 1, we're good to go!"
=======
   "execution_count": 35,
   "id": "051e7233-a9bf-4c16-9ef5-922d7d542ee3",
   "metadata": {},
   "outputs": [],
   "source": [
    "qr_sub_geo_tgt = norm_dist_df(qr_sub_geo_tgt)"
>>>>>>> main
   ]
  },
  {
   "cell_type": "code",
<<<<<<< HEAD
   "execution_count": 15,
=======
   "execution_count": 36,
>>>>>>> main
   "id": "3b0cc18d-f55d-4eb3-b775-b205c10efb4f",
   "metadata": {},
   "outputs": [
    {
     "name": "stderr",
     "output_type": "stream",
     "text": [
<<<<<<< HEAD
      "INFO:wptrec.save:saving CSV to data\\metric-tables\\task1-train-sub-geo-target.csv.gz\n",
      "INFO:wptrec.save:data\\metric-tables\\task1-train-sub-geo-target.csv.gz: 9.56 KiB\n",
      "INFO:wptrec.save:saving Parquet to data\\metric-tables\\task1-train-sub-geo-target.parquet\n",
      "INFO:wptrec.save:data\\metric-tables\\task1-train-sub-geo-target.parquet: 24.36 KiB\n"
=======
      "INFO:wptrec.save:saving CSV to data\\metric-tables\\task2-train-sub-geo-target.csv.gz\n",
      "INFO:wptrec.save:data\\metric-tables\\task2-train-sub-geo-target.csv.gz: 10.68 KiB\n",
      "INFO:wptrec.save:saving Parquet to data\\metric-tables\\task2-train-sub-geo-target.parquet\n",
      "INFO:wptrec.save:data\\metric-tables\\task2-train-sub-geo-target.parquet: 25.97 KiB\n"
>>>>>>> main
     ]
    }
   ],
   "source": [
<<<<<<< HEAD
    "output.save_table(qr_sub_geo_tgt, f'task1-{DATA_MODE}-sub-geo-target', parquet=True)"
=======
    "output.save_table(qr_sub_geo_tgt, f'task2-{DATA_MODE}-sub-geo-target', parquet=True)"
>>>>>>> main
   ]
  },
  {
   "cell_type": "markdown",
   "id": "9e6939dd-7bf2-4d91-b596-391b06b6a51e",
   "metadata": {},
   "source": [
    "## Source Geography\n",
    "\n",
    "Source geography works the same way."
   ]
  },
  {
   "cell_type": "code",
<<<<<<< HEAD
   "execution_count": 16,
=======
   "execution_count": 37,
>>>>>>> main
   "id": "6d102833",
   "metadata": {},
   "outputs": [
    {
     "data": {
      "text/html": [
       "<div>\n",
       "<style scoped>\n",
       "    .dataframe tbody tr th:only-of-type {\n",
       "        vertical-align: middle;\n",
       "    }\n",
       "\n",
       "    .dataframe tbody tr th {\n",
       "        vertical-align: top;\n",
       "    }\n",
       "\n",
       "    .dataframe thead th {\n",
       "        text-align: right;\n",
       "    }\n",
       "</style>\n",
       "<table border=\"1\" class=\"dataframe\">\n",
       "  <thead>\n",
       "    <tr style=\"text-align: right;\">\n",
       "      <th></th>\n",
       "      <th></th>\n",
       "      <th>@UNKNOWN</th>\n",
       "      <th>Antarctica</th>\n",
       "      <th>Caribbean</th>\n",
       "      <th>Central America</th>\n",
       "      <th>Central Asia</th>\n",
       "      <th>Eastern Africa</th>\n",
       "      <th>Eastern Asia</th>\n",
       "      <th>Eastern Europe</th>\n",
       "      <th>Middle Africa</th>\n",
       "      <th>Northern Africa</th>\n",
       "      <th>...</th>\n",
       "      <th>Northern Europe</th>\n",
       "      <th>Oceania</th>\n",
       "      <th>South America</th>\n",
       "      <th>South-eastern Asia</th>\n",
       "      <th>Southern Africa</th>\n",
       "      <th>Southern Asia</th>\n",
       "      <th>Southern Europe</th>\n",
       "      <th>Western Africa</th>\n",
       "      <th>Western Asia</th>\n",
       "      <th>Western Europe</th>\n",
       "    </tr>\n",
       "    <tr>\n",
       "      <th>topic_id</th>\n",
       "      <th>page_id</th>\n",
       "      <th></th>\n",
       "      <th></th>\n",
       "      <th></th>\n",
       "      <th></th>\n",
       "      <th></th>\n",
       "      <th></th>\n",
       "      <th></th>\n",
       "      <th></th>\n",
       "      <th></th>\n",
       "      <th></th>\n",
       "      <th></th>\n",
       "      <th></th>\n",
       "      <th></th>\n",
       "      <th></th>\n",
       "      <th></th>\n",
       "      <th></th>\n",
       "      <th></th>\n",
       "      <th></th>\n",
       "      <th></th>\n",
       "      <th></th>\n",
       "      <th></th>\n",
       "    </tr>\n",
       "  </thead>\n",
       "  <tbody>\n",
       "    <tr>\n",
       "      <th rowspan=\"5\" valign=\"top\">84</th>\n",
       "      <th>572</th>\n",
       "      <td>0.800000</td>\n",
       "      <td>0.0</td>\n",
       "      <td>0.0</td>\n",
       "      <td>0.0</td>\n",
       "      <td>0.0</td>\n",
       "      <td>0.0</td>\n",
       "      <td>0.0</td>\n",
       "      <td>0.0</td>\n",
       "      <td>0.0</td>\n",
       "      <td>0.000000</td>\n",
       "      <td>...</td>\n",
       "      <td>0.200000</td>\n",
       "      <td>0.000000</td>\n",
       "      <td>0.0</td>\n",
       "      <td>0.0</td>\n",
       "      <td>0.0</td>\n",
       "      <td>0.000000</td>\n",
       "      <td>0.000000</td>\n",
       "      <td>0.0</td>\n",
       "      <td>0.0</td>\n",
       "      <td>0.000000</td>\n",
       "    </tr>\n",
       "    <tr>\n",
       "      <th>627</th>\n",
       "      <td>0.381443</td>\n",
       "      <td>0.0</td>\n",
       "      <td>0.0</td>\n",
       "      <td>0.0</td>\n",
       "      <td>0.0</td>\n",
       "      <td>0.0</td>\n",
       "      <td>0.0</td>\n",
       "      <td>0.0</td>\n",
       "      <td>0.0</td>\n",
       "      <td>0.000000</td>\n",
       "      <td>...</td>\n",
       "      <td>0.134021</td>\n",
       "      <td>0.015464</td>\n",
       "      <td>0.0</td>\n",
       "      <td>0.0</td>\n",
       "      <td>0.0</td>\n",
       "      <td>0.005155</td>\n",
       "      <td>0.072165</td>\n",
       "      <td>0.0</td>\n",
       "      <td>0.0</td>\n",
       "      <td>0.082474</td>\n",
       "    </tr>\n",
       "    <tr>\n",
       "      <th>678</th>\n",
       "      <td>0.181818</td>\n",
       "      <td>0.0</td>\n",
       "      <td>0.0</td>\n",
       "      <td>0.0</td>\n",
       "      <td>0.0</td>\n",
       "      <td>0.0</td>\n",
       "      <td>0.0</td>\n",
       "      <td>0.0</td>\n",
       "      <td>0.0</td>\n",
       "      <td>0.000000</td>\n",
       "      <td>...</td>\n",
       "      <td>0.000000</td>\n",
       "      <td>0.000000</td>\n",
       "      <td>0.0</td>\n",
       "      <td>0.0</td>\n",
       "      <td>0.0</td>\n",
       "      <td>0.000000</td>\n",
       "      <td>0.000000</td>\n",
       "      <td>0.0</td>\n",
       "      <td>0.0</td>\n",
       "      <td>0.545455</td>\n",
       "    </tr>\n",
       "    <tr>\n",
       "      <th>903</th>\n",
       "      <td>0.000000</td>\n",
       "      <td>0.0</td>\n",
       "      <td>0.0</td>\n",
       "      <td>0.0</td>\n",
       "      <td>0.0</td>\n",
       "      <td>0.0</td>\n",
       "      <td>0.0</td>\n",
       "      <td>0.0</td>\n",
       "      <td>0.0</td>\n",
       "      <td>0.000000</td>\n",
       "      <td>...</td>\n",
       "      <td>0.000000</td>\n",
       "      <td>0.000000</td>\n",
       "      <td>0.0</td>\n",
       "      <td>0.0</td>\n",
       "      <td>0.0</td>\n",
       "      <td>0.000000</td>\n",
       "      <td>1.000000</td>\n",
       "      <td>0.0</td>\n",
       "      <td>0.0</td>\n",
       "      <td>0.000000</td>\n",
       "    </tr>\n",
       "    <tr>\n",
       "      <th>1193</th>\n",
       "      <td>0.628571</td>\n",
       "      <td>0.0</td>\n",
       "      <td>0.0</td>\n",
       "      <td>0.0</td>\n",
       "      <td>0.0</td>\n",
       "      <td>0.0</td>\n",
       "      <td>0.0</td>\n",
       "      <td>0.0</td>\n",
       "      <td>0.0</td>\n",
       "      <td>0.028571</td>\n",
       "      <td>...</td>\n",
       "      <td>0.057143</td>\n",
       "      <td>0.000000</td>\n",
       "      <td>0.0</td>\n",
       "      <td>0.0</td>\n",
       "      <td>0.0</td>\n",
       "      <td>0.000000</td>\n",
       "      <td>0.000000</td>\n",
       "      <td>0.0</td>\n",
       "      <td>0.0</td>\n",
       "      <td>0.000000</td>\n",
       "    </tr>\n",
       "    <tr>\n",
       "      <th>...</th>\n",
       "      <th>...</th>\n",
       "      <td>...</td>\n",
       "      <td>...</td>\n",
       "      <td>...</td>\n",
       "      <td>...</td>\n",
       "      <td>...</td>\n",
       "      <td>...</td>\n",
       "      <td>...</td>\n",
       "      <td>...</td>\n",
       "      <td>...</td>\n",
       "      <td>...</td>\n",
       "      <td>...</td>\n",
       "      <td>...</td>\n",
       "      <td>...</td>\n",
       "      <td>...</td>\n",
       "      <td>...</td>\n",
       "      <td>...</td>\n",
       "      <td>...</td>\n",
       "      <td>...</td>\n",
       "      <td>...</td>\n",
       "      <td>...</td>\n",
       "      <td>...</td>\n",
       "    </tr>\n",
       "    <tr>\n",
       "      <th rowspan=\"5\" valign=\"top\">2859</th>\n",
       "      <th>69878035</th>\n",
       "      <td>0.200000</td>\n",
       "      <td>0.0</td>\n",
       "      <td>0.0</td>\n",
       "      <td>0.0</td>\n",
       "      <td>0.0</td>\n",
       "      <td>0.0</td>\n",
       "      <td>0.0</td>\n",
       "      <td>0.6</td>\n",
       "      <td>0.0</td>\n",
       "      <td>0.000000</td>\n",
       "      <td>...</td>\n",
       "      <td>0.000000</td>\n",
       "      <td>0.000000</td>\n",
       "      <td>0.0</td>\n",
       "      <td>0.0</td>\n",
       "      <td>0.0</td>\n",
       "      <td>0.000000</td>\n",
       "      <td>0.000000</td>\n",
       "      <td>0.0</td>\n",
       "      <td>0.0</td>\n",
       "      <td>0.000000</td>\n",
       "    </tr>\n",
       "    <tr>\n",
       "      <th>69879576</th>\n",
       "      <td>0.090909</td>\n",
       "      <td>0.0</td>\n",
       "      <td>0.0</td>\n",
       "      <td>0.0</td>\n",
       "      <td>0.0</td>\n",
       "      <td>0.0</td>\n",
       "      <td>0.0</td>\n",
       "      <td>0.0</td>\n",
       "      <td>0.0</td>\n",
       "      <td>0.000000</td>\n",
       "      <td>...</td>\n",
       "      <td>0.000000</td>\n",
       "      <td>0.000000</td>\n",
       "      <td>0.0</td>\n",
       "      <td>0.0</td>\n",
       "      <td>0.0</td>\n",
       "      <td>0.000000</td>\n",
       "      <td>0.090909</td>\n",
       "      <td>0.0</td>\n",
       "      <td>0.0</td>\n",
       "      <td>0.454545</td>\n",
       "    </tr>\n",
       "    <tr>\n",
       "      <th>69882349</th>\n",
       "      <td>1.000000</td>\n",
       "      <td>0.0</td>\n",
       "      <td>0.0</td>\n",
       "      <td>0.0</td>\n",
       "      <td>0.0</td>\n",
       "      <td>0.0</td>\n",
       "      <td>0.0</td>\n",
       "      <td>0.0</td>\n",
       "      <td>0.0</td>\n",
       "      <td>0.000000</td>\n",
       "      <td>...</td>\n",
       "      <td>0.000000</td>\n",
       "      <td>0.000000</td>\n",
       "      <td>0.0</td>\n",
       "      <td>0.0</td>\n",
       "      <td>0.0</td>\n",
       "      <td>0.000000</td>\n",
       "      <td>0.000000</td>\n",
       "      <td>0.0</td>\n",
       "      <td>0.0</td>\n",
       "      <td>0.000000</td>\n",
       "    </tr>\n",
       "    <tr>\n",
       "      <th>69887896</th>\n",
       "      <td>0.000000</td>\n",
       "      <td>0.0</td>\n",
       "      <td>0.0</td>\n",
       "      <td>0.0</td>\n",
       "      <td>0.0</td>\n",
       "      <td>0.0</td>\n",
       "      <td>0.0</td>\n",
       "      <td>0.0</td>\n",
       "      <td>0.0</td>\n",
       "      <td>0.000000</td>\n",
       "      <td>...</td>\n",
       "      <td>0.000000</td>\n",
       "      <td>0.000000</td>\n",
       "      <td>0.0</td>\n",
       "      <td>0.0</td>\n",
       "      <td>0.0</td>\n",
       "      <td>0.750000</td>\n",
       "      <td>0.000000</td>\n",
       "      <td>0.0</td>\n",
       "      <td>0.0</td>\n",
       "      <td>0.000000</td>\n",
       "    </tr>\n",
       "    <tr>\n",
       "      <th>69891491</th>\n",
       "      <td>0.200000</td>\n",
       "      <td>0.0</td>\n",
       "      <td>0.0</td>\n",
       "      <td>0.0</td>\n",
       "      <td>0.0</td>\n",
       "      <td>0.0</td>\n",
       "      <td>0.0</td>\n",
       "      <td>0.0</td>\n",
       "      <td>0.0</td>\n",
       "      <td>0.000000</td>\n",
       "      <td>...</td>\n",
       "      <td>0.000000</td>\n",
       "      <td>0.000000</td>\n",
       "      <td>0.0</td>\n",
       "      <td>0.0</td>\n",
       "      <td>0.0</td>\n",
       "      <td>0.000000</td>\n",
       "      <td>0.000000</td>\n",
       "      <td>0.0</td>\n",
       "      <td>0.0</td>\n",
       "      <td>0.800000</td>\n",
       "    </tr>\n",
       "  </tbody>\n",
       "</table>\n",
       "<p>2088306 rows × 21 columns</p>\n",
       "</div>"
      ],
      "text/plain": [
       "                   @UNKNOWN  Antarctica  Caribbean  Central America  \\\n",
       "topic_id page_id                                                      \n",
       "84       572       0.800000         0.0        0.0              0.0   \n",
       "         627       0.381443         0.0        0.0              0.0   \n",
       "         678       0.181818         0.0        0.0              0.0   \n",
       "         903       0.000000         0.0        0.0              0.0   \n",
       "         1193      0.628571         0.0        0.0              0.0   \n",
       "...                     ...         ...        ...              ...   \n",
       "2859     69878035  0.200000         0.0        0.0              0.0   \n",
       "         69879576  0.090909         0.0        0.0              0.0   \n",
       "         69882349  1.000000         0.0        0.0              0.0   \n",
       "         69887896  0.000000         0.0        0.0              0.0   \n",
       "         69891491  0.200000         0.0        0.0              0.0   \n",
       "\n",
       "                   Central Asia  Eastern Africa  Eastern Asia  Eastern Europe  \\\n",
       "topic_id page_id                                                                \n",
       "84       572                0.0             0.0           0.0             0.0   \n",
       "         627                0.0             0.0           0.0             0.0   \n",
       "         678                0.0             0.0           0.0             0.0   \n",
       "         903                0.0             0.0           0.0             0.0   \n",
       "         1193               0.0             0.0           0.0             0.0   \n",
       "...                         ...             ...           ...             ...   \n",
       "2859     69878035           0.0             0.0           0.0             0.6   \n",
       "         69879576           0.0             0.0           0.0             0.0   \n",
       "         69882349           0.0             0.0           0.0             0.0   \n",
       "         69887896           0.0             0.0           0.0             0.0   \n",
       "         69891491           0.0             0.0           0.0             0.0   \n",
       "\n",
       "                   Middle Africa  Northern Africa  ...  Northern Europe  \\\n",
       "topic_id page_id                                   ...                    \n",
       "84       572                 0.0         0.000000  ...         0.200000   \n",
       "         627                 0.0         0.000000  ...         0.134021   \n",
       "         678                 0.0         0.000000  ...         0.000000   \n",
       "         903                 0.0         0.000000  ...         0.000000   \n",
       "         1193                0.0         0.028571  ...         0.057143   \n",
       "...                          ...              ...  ...              ...   \n",
       "2859     69878035            0.0         0.000000  ...         0.000000   \n",
       "         69879576            0.0         0.000000  ...         0.000000   \n",
       "         69882349            0.0         0.000000  ...         0.000000   \n",
       "         69887896            0.0         0.000000  ...         0.000000   \n",
       "         69891491            0.0         0.000000  ...         0.000000   \n",
       "\n",
       "                    Oceania  South America  South-eastern Asia  \\\n",
       "topic_id page_id                                                 \n",
       "84       572       0.000000            0.0                 0.0   \n",
       "         627       0.015464            0.0                 0.0   \n",
       "         678       0.000000            0.0                 0.0   \n",
       "         903       0.000000            0.0                 0.0   \n",
       "         1193      0.000000            0.0                 0.0   \n",
       "...                     ...            ...                 ...   \n",
       "2859     69878035  0.000000            0.0                 0.0   \n",
       "         69879576  0.000000            0.0                 0.0   \n",
       "         69882349  0.000000            0.0                 0.0   \n",
       "         69887896  0.000000            0.0                 0.0   \n",
       "         69891491  0.000000            0.0                 0.0   \n",
       "\n",
       "                   Southern Africa  Southern Asia  Southern Europe  \\\n",
       "topic_id page_id                                                     \n",
       "84       572                   0.0       0.000000         0.000000   \n",
       "         627                   0.0       0.005155         0.072165   \n",
       "         678                   0.0       0.000000         0.000000   \n",
       "         903                   0.0       0.000000         1.000000   \n",
       "         1193                  0.0       0.000000         0.000000   \n",
       "...                            ...            ...              ...   \n",
       "2859     69878035              0.0       0.000000         0.000000   \n",
       "         69879576              0.0       0.000000         0.090909   \n",
       "         69882349              0.0       0.000000         0.000000   \n",
       "         69887896              0.0       0.750000         0.000000   \n",
       "         69891491              0.0       0.000000         0.000000   \n",
       "\n",
       "                   Western Africa  Western Asia  Western Europe  \n",
       "topic_id page_id                                                 \n",
       "84       572                  0.0           0.0        0.000000  \n",
       "         627                  0.0           0.0        0.082474  \n",
       "         678                  0.0           0.0        0.545455  \n",
       "         903                  0.0           0.0        0.000000  \n",
       "         1193                 0.0           0.0        0.000000  \n",
       "...                           ...           ...             ...  \n",
       "2859     69878035             0.0           0.0        0.000000  \n",
       "         69879576             0.0           0.0        0.454545  \n",
       "         69882349             0.0           0.0        0.000000  \n",
       "         69887896             0.0           0.0        0.000000  \n",
       "         69891491             0.0           0.0        0.800000  \n",
       "\n",
       "[2088306 rows x 21 columns]"
      ]
     },
<<<<<<< HEAD
     "execution_count": 16,
=======
     "execution_count": 37,
>>>>>>> main
     "metadata": {},
     "output_type": "execute_result"
    }
   ],
   "source": [
    "qr_src_geo_align = qr_join(src_geo_align)\n",
    "qr_src_geo_align"
   ]
  },
  {
   "cell_type": "markdown",
   "id": "47cec80b-f2a9-42b2-bdf6-d2acb1bf6ee6",
   "metadata": {},
   "source": [
<<<<<<< HEAD
    "For purely geographic fairness, the target is easy - average with world pop."
=======
    "And now we repeat these computations!"
>>>>>>> main
   ]
  },
  {
   "cell_type": "code",
<<<<<<< HEAD
   "execution_count": 17,
=======
   "execution_count": 38,
   "id": "0ca0cb12-f79a-4e0b-80be-fafb74ca9ca1",
   "metadata": {},
   "outputs": [],
   "source": [
    "qr_src_geo_tgt = qr_src_geo_align.multiply(qp_exp, axis='rows').groupby('topic_id').sum()"
   ]
  },
  {
   "cell_type": "code",
   "execution_count": 39,
>>>>>>> main
   "id": "cdbc0bf3-cfc4-4be2-aef7-b17f2ff33a38",
   "metadata": {},
   "outputs": [
    {
     "data": {
      "text/html": [
       "<div>\n",
       "<style scoped>\n",
       "    .dataframe tbody tr th:only-of-type {\n",
       "        vertical-align: middle;\n",
       "    }\n",
       "\n",
       "    .dataframe tbody tr th {\n",
       "        vertical-align: top;\n",
       "    }\n",
       "\n",
       "    .dataframe thead th {\n",
       "        text-align: right;\n",
       "    }\n",
       "</style>\n",
       "<table border=\"1\" class=\"dataframe\">\n",
       "  <thead>\n",
       "    <tr style=\"text-align: right;\">\n",
       "      <th></th>\n",
<<<<<<< HEAD
=======
       "      <th>@UNKNOWN</th>\n",
>>>>>>> main
       "      <th>Antarctica</th>\n",
       "      <th>Caribbean</th>\n",
       "      <th>Central America</th>\n",
       "      <th>Central Asia</th>\n",
       "      <th>Eastern Africa</th>\n",
       "      <th>Eastern Asia</th>\n",
       "      <th>Eastern Europe</th>\n",
       "      <th>Middle Africa</th>\n",
       "      <th>Northern Africa</th>\n",
<<<<<<< HEAD
       "      <th>Northern America</th>\n",
=======
       "      <th>...</th>\n",
>>>>>>> main
       "      <th>Northern Europe</th>\n",
       "      <th>Oceania</th>\n",
       "      <th>South America</th>\n",
       "      <th>South-eastern Asia</th>\n",
       "      <th>Southern Africa</th>\n",
       "      <th>Southern Asia</th>\n",
       "      <th>Southern Europe</th>\n",
       "      <th>Western Africa</th>\n",
       "      <th>Western Asia</th>\n",
       "      <th>Western Europe</th>\n",
       "    </tr>\n",
       "    <tr>\n",
       "      <th>topic_id</th>\n",
       "      <th></th>\n",
       "      <th></th>\n",
       "      <th></th>\n",
       "      <th></th>\n",
       "      <th></th>\n",
       "      <th></th>\n",
       "      <th></th>\n",
       "      <th></th>\n",
       "      <th></th>\n",
       "      <th></th>\n",
       "      <th></th>\n",
       "      <th></th>\n",
       "      <th></th>\n",
       "      <th></th>\n",
       "      <th></th>\n",
       "      <th></th>\n",
       "      <th></th>\n",
       "      <th></th>\n",
       "      <th></th>\n",
       "      <th></th>\n",
<<<<<<< HEAD
=======
       "      <th></th>\n",
>>>>>>> main
       "    </tr>\n",
       "  </thead>\n",
       "  <tbody>\n",
       "    <tr>\n",
       "      <th>84</th>\n",
<<<<<<< HEAD
       "      <td>7.721177e-08</td>\n",
       "      <td>0.004013</td>\n",
       "      <td>0.012604</td>\n",
       "      <td>0.004970</td>\n",
       "      <td>0.027754</td>\n",
       "      <td>0.122795</td>\n",
       "      <td>0.025676</td>\n",
       "      <td>0.009553</td>\n",
       "      <td>0.014945</td>\n",
       "      <td>0.254032</td>\n",
       "      <td>0.084208</td>\n",
       "      <td>0.085304</td>\n",
       "      <td>0.035862</td>\n",
       "      <td>0.050074</td>\n",
       "      <td>0.007148</td>\n",
       "      <td>0.141661</td>\n",
       "      <td>0.036544</td>\n",
       "      <td>0.024211</td>\n",
       "      <td>0.020331</td>\n",
       "      <td>0.038314</td>\n",
       "    </tr>\n",
       "    <tr>\n",
       "      <th>111</th>\n",
       "      <td>7.721177e-08</td>\n",
       "      <td>0.004262</td>\n",
       "      <td>0.013340</td>\n",
       "      <td>0.004538</td>\n",
       "      <td>0.026227</td>\n",
       "      <td>0.118847</td>\n",
       "      <td>0.065773</td>\n",
       "      <td>0.009529</td>\n",
       "      <td>0.014695</td>\n",
       "      <td>0.289826</td>\n",
       "      <td>0.084273</td>\n",
       "      <td>0.046079</td>\n",
       "      <td>0.036684</td>\n",
       "      <td>0.047540</td>\n",
       "      <td>0.005957</td>\n",
       "      <td>0.126207</td>\n",
       "      <td>0.013778</td>\n",
       "      <td>0.023125</td>\n",
       "      <td>0.017658</td>\n",
       "      <td>0.051662</td>\n",
       "    </tr>\n",
       "    <tr>\n",
       "      <th>265</th>\n",
       "      <td>7.721177e-08</td>\n",
       "      <td>0.003712</td>\n",
       "      <td>0.012426</td>\n",
       "      <td>0.004583</td>\n",
       "      <td>0.026108</td>\n",
       "      <td>0.117771</td>\n",
       "      <td>0.026350</td>\n",
       "      <td>0.009502</td>\n",
       "      <td>0.014786</td>\n",
       "      <td>0.366511</td>\n",
       "      <td>0.067383</td>\n",
       "      <td>0.010005</td>\n",
       "      <td>0.030015</td>\n",
       "      <td>0.043952</td>\n",
       "      <td>0.005025</td>\n",
       "      <td>0.124363</td>\n",
       "      <td>0.017180</td>\n",
       "      <td>0.023143</td>\n",
       "      <td>0.018127</td>\n",
       "      <td>0.079057</td>\n",
       "    </tr>\n",
       "    <tr>\n",
       "      <th>323</th>\n",
       "      <td>1.249956e-06</td>\n",
       "      <td>0.004553</td>\n",
       "      <td>0.014491</td>\n",
       "      <td>0.004980</td>\n",
       "      <td>0.027809</td>\n",
       "      <td>0.126423</td>\n",
       "      <td>0.043497</td>\n",
       "      <td>0.009764</td>\n",
       "      <td>0.015062</td>\n",
       "      <td>0.268999</td>\n",
       "      <td>0.106848</td>\n",
       "      <td>0.023592</td>\n",
       "      <td>0.037743</td>\n",
       "      <td>0.050226</td>\n",
       "      <td>0.006738</td>\n",
       "      <td>0.133011</td>\n",
       "      <td>0.019052</td>\n",
       "      <td>0.023814</td>\n",
       "      <td>0.021962</td>\n",
       "      <td>0.061435</td>\n",
       "    </tr>\n",
       "    <tr>\n",
       "      <th>396</th>\n",
       "      <td>1.082931e-06</td>\n",
       "      <td>0.003535</td>\n",
       "      <td>0.015282</td>\n",
       "      <td>0.004697</td>\n",
       "      <td>0.026445</td>\n",
       "      <td>0.136402</td>\n",
       "      <td>0.036323</td>\n",
       "      <td>0.009502</td>\n",
       "      <td>0.015784</td>\n",
       "      <td>0.288060</td>\n",
       "      <td>0.077330</td>\n",
       "      <td>0.018547</td>\n",
       "      <td>0.034743</td>\n",
       "      <td>0.051686</td>\n",
       "      <td>0.005586</td>\n",
       "      <td>0.157908</td>\n",
       "      <td>0.027634</td>\n",
       "      <td>0.024457</td>\n",
       "      <td>0.022230</td>\n",
       "      <td>0.043849</td>\n",
       "    </tr>\n",
       "  </tbody>\n",
       "</table>\n",
       "</div>"
      ],
      "text/plain": [
       "            Antarctica  Caribbean  Central America  Central Asia  \\\n",
       "topic_id                                                           \n",
       "84        7.721177e-08   0.004013         0.012604      0.004970   \n",
       "111       7.721177e-08   0.004262         0.013340      0.004538   \n",
       "265       7.721177e-08   0.003712         0.012426      0.004583   \n",
       "323       1.249956e-06   0.004553         0.014491      0.004980   \n",
       "396       1.082931e-06   0.003535         0.015282      0.004697   \n",
       "\n",
       "          Eastern Africa  Eastern Asia  Eastern Europe  Middle Africa  \\\n",
       "topic_id                                                                \n",
       "84              0.027754      0.122795        0.025676       0.009553   \n",
       "111             0.026227      0.118847        0.065773       0.009529   \n",
       "265             0.026108      0.117771        0.026350       0.009502   \n",
       "323             0.027809      0.126423        0.043497       0.009764   \n",
       "396             0.026445      0.136402        0.036323       0.009502   \n",
       "\n",
       "          Northern Africa  Northern America  Northern Europe   Oceania  \\\n",
       "topic_id                                                                 \n",
       "84               0.014945          0.254032         0.084208  0.085304   \n",
       "111              0.014695          0.289826         0.084273  0.046079   \n",
       "265              0.014786          0.366511         0.067383  0.010005   \n",
       "323              0.015062          0.268999         0.106848  0.023592   \n",
       "396              0.015784          0.288060         0.077330  0.018547   \n",
       "\n",
       "          South America  South-eastern Asia  Southern Africa  Southern Asia  \\\n",
       "topic_id                                                                      \n",
       "84             0.035862            0.050074         0.007148       0.141661   \n",
       "111            0.036684            0.047540         0.005957       0.126207   \n",
       "265            0.030015            0.043952         0.005025       0.124363   \n",
       "323            0.037743            0.050226         0.006738       0.133011   \n",
       "396            0.034743            0.051686         0.005586       0.157908   \n",
       "\n",
       "          Southern Europe  Western Africa  Western Asia  Western Europe  \n",
       "topic_id                                                                 \n",
       "84               0.036544        0.024211      0.020331        0.038314  \n",
       "111              0.013778        0.023125      0.017658        0.051662  \n",
       "265              0.017180        0.023143      0.018127        0.079057  \n",
       "323              0.019052        0.023814      0.021962        0.061435  \n",
       "396              0.027634        0.024457      0.022230        0.043849  "
      ]
     },
     "execution_count": 17,
=======
       "      <td>343.782630</td>\n",
       "      <td>0.000025</td>\n",
       "      <td>1.303435</td>\n",
       "      <td>4.064342</td>\n",
       "      <td>1.612837</td>\n",
       "      <td>8.992194</td>\n",
       "      <td>39.816114</td>\n",
       "      <td>8.307626</td>\n",
       "      <td>3.095182</td>\n",
       "      <td>4.847004</td>\n",
       "      <td>...</td>\n",
       "      <td>27.050091</td>\n",
       "      <td>28.188076</td>\n",
       "      <td>11.734242</td>\n",
       "      <td>16.196506</td>\n",
       "      <td>2.344883</td>\n",
       "      <td>45.966214</td>\n",
       "      <td>11.931655</td>\n",
       "      <td>7.832815</td>\n",
       "      <td>6.575585</td>\n",
       "      <td>12.365605</td>\n",
       "    </tr>\n",
       "    <tr>\n",
       "      <th>111</th>\n",
       "      <td>1225.230565</td>\n",
       "      <td>0.000034</td>\n",
       "      <td>1.841763</td>\n",
       "      <td>5.815232</td>\n",
       "      <td>1.978840</td>\n",
       "      <td>11.424568</td>\n",
       "      <td>51.791761</td>\n",
       "      <td>29.371463</td>\n",
       "      <td>4.152377</td>\n",
       "      <td>6.402354</td>\n",
       "      <td>...</td>\n",
       "      <td>36.672040</td>\n",
       "      <td>20.257805</td>\n",
       "      <td>15.921194</td>\n",
       "      <td>20.670132</td>\n",
       "      <td>2.552550</td>\n",
       "      <td>55.015524</td>\n",
       "      <td>6.009359</td>\n",
       "      <td>10.077354</td>\n",
       "      <td>7.685058</td>\n",
       "      <td>22.252849</td>\n",
       "    </tr>\n",
       "    <tr>\n",
       "      <th>265</th>\n",
       "      <td>1071.204776</td>\n",
       "      <td>0.000061</td>\n",
       "      <td>2.916984</td>\n",
       "      <td>9.743619</td>\n",
       "      <td>3.605138</td>\n",
       "      <td>20.523776</td>\n",
       "      <td>92.684523</td>\n",
       "      <td>20.714839</td>\n",
       "      <td>7.470089</td>\n",
       "      <td>11.629486</td>\n",
       "      <td>...</td>\n",
       "      <td>54.452574</td>\n",
       "      <td>7.794703</td>\n",
       "      <td>23.557571</td>\n",
       "      <td>34.546166</td>\n",
       "      <td>3.957159</td>\n",
       "      <td>97.735701</td>\n",
       "      <td>13.556741</td>\n",
       "      <td>18.187095</td>\n",
       "      <td>14.239922</td>\n",
       "      <td>62.211036</td>\n",
       "    </tr>\n",
       "    <tr>\n",
       "      <th>323</th>\n",
       "      <td>2045.624642</td>\n",
       "      <td>0.002014</td>\n",
       "      <td>7.964075</td>\n",
       "      <td>25.219521</td>\n",
       "      <td>8.651632</td>\n",
       "      <td>48.396220</td>\n",
       "      <td>220.318146</td>\n",
       "      <td>75.751831</td>\n",
       "      <td>16.982900</td>\n",
       "      <td>26.190102</td>\n",
       "      <td>...</td>\n",
       "      <td>182.793381</td>\n",
       "      <td>40.742699</td>\n",
       "      <td>66.210767</td>\n",
       "      <td>87.348411</td>\n",
       "      <td>11.725022</td>\n",
       "      <td>231.419390</td>\n",
       "      <td>32.998790</td>\n",
       "      <td>41.420632</td>\n",
       "      <td>38.119201</td>\n",
       "      <td>107.159191</td>\n",
       "    </tr>\n",
       "    <tr>\n",
       "      <th>396</th>\n",
       "      <td>2128.654433</td>\n",
       "      <td>0.003206</td>\n",
       "      <td>11.021791</td>\n",
       "      <td>47.791262</td>\n",
       "      <td>14.634142</td>\n",
       "      <td>82.370017</td>\n",
       "      <td>423.846953</td>\n",
       "      <td>115.491001</td>\n",
       "      <td>29.593271</td>\n",
       "      <td>49.282478</td>\n",
       "      <td>...</td>\n",
       "      <td>242.919876</td>\n",
       "      <td>57.889815</td>\n",
       "      <td>108.485741</td>\n",
       "      <td>160.455189</td>\n",
       "      <td>17.474138</td>\n",
       "      <td>489.198490</td>\n",
       "      <td>87.743082</td>\n",
       "      <td>76.131527</td>\n",
       "      <td>69.610819</td>\n",
       "      <td>139.931793</td>\n",
       "    </tr>\n",
       "  </tbody>\n",
       "</table>\n",
       "<p>5 rows × 21 columns</p>\n",
       "</div>"
      ],
      "text/plain": [
       "             @UNKNOWN  Antarctica  Caribbean  Central America  Central Asia  \\\n",
       "topic_id                                                                      \n",
       "84         343.782630    0.000025   1.303435         4.064342      1.612837   \n",
       "111       1225.230565    0.000034   1.841763         5.815232      1.978840   \n",
       "265       1071.204776    0.000061   2.916984         9.743619      3.605138   \n",
       "323       2045.624642    0.002014   7.964075        25.219521      8.651632   \n",
       "396       2128.654433    0.003206  11.021791        47.791262     14.634142   \n",
       "\n",
       "          Eastern Africa  Eastern Asia  Eastern Europe  Middle Africa  \\\n",
       "topic_id                                                                \n",
       "84              8.992194     39.816114        8.307626       3.095182   \n",
       "111            11.424568     51.791761       29.371463       4.152377   \n",
       "265            20.523776     92.684523       20.714839       7.470089   \n",
       "323            48.396220    220.318146       75.751831      16.982900   \n",
       "396            82.370017    423.846953      115.491001      29.593271   \n",
       "\n",
       "          Northern Africa  ...  Northern Europe    Oceania  South America  \\\n",
       "topic_id                   ...                                              \n",
       "84               4.847004  ...        27.050091  28.188076      11.734242   \n",
       "111              6.402354  ...        36.672040  20.257805      15.921194   \n",
       "265             11.629486  ...        54.452574   7.794703      23.557571   \n",
       "323             26.190102  ...       182.793381  40.742699      66.210767   \n",
       "396             49.282478  ...       242.919876  57.889815     108.485741   \n",
       "\n",
       "          South-eastern Asia  Southern Africa  Southern Asia  Southern Europe  \\\n",
       "topic_id                                                                        \n",
       "84                 16.196506         2.344883      45.966214        11.931655   \n",
       "111                20.670132         2.552550      55.015524         6.009359   \n",
       "265                34.546166         3.957159      97.735701        13.556741   \n",
       "323                87.348411        11.725022     231.419390        32.998790   \n",
       "396               160.455189        17.474138     489.198490        87.743082   \n",
       "\n",
       "          Western Africa  Western Asia  Western Europe  \n",
       "topic_id                                                \n",
       "84              7.832815      6.575585       12.365605  \n",
       "111            10.077354      7.685058       22.252849  \n",
       "265            18.187095     14.239922       62.211036  \n",
       "323            41.420632     38.119201      107.159191  \n",
       "396            76.131527     69.610819      139.931793  \n",
       "\n",
       "[5 rows x 21 columns]"
      ]
     },
     "execution_count": 39,
>>>>>>> main
     "metadata": {},
     "output_type": "execute_result"
    }
   ],
   "source": [
<<<<<<< HEAD
    "qr_src_geo_tgt = qr_src_geo_align.groupby('topic_id').sum()\n",
    "qr_src_geo_tgt = qr_src_geo_tgt.iloc[:, 1:]\n",
    "qr_src_geo_tgt = norm_dist_df(qr_src_geo_tgt)\n",
    "qr_src_geo_tgt = (qr_src_geo_tgt + world_pop) * 0.5\n",
=======
    "qr_src_geo_fk = qr_src_geo_tgt.iloc[:, 1:].sum('columns')\n",
    "qr_src_geo_tgt.iloc[:, 1:] *= 0.5\n",
    "qr_src_geo_tgt.iloc[:, 1:] += qr_src_geo_fk.apply(lambda k: world_pop * k * 0.5)\n",
>>>>>>> main
    "qr_src_geo_tgt.head()"
   ]
  },
  {
   "cell_type": "markdown",
   "id": "8e995c9e-469c-40d2-9300-028daa23c7f7",
   "metadata": {},
   "source": [
    "Make sure the rows are distributions:"
   ]
  },
  {
   "cell_type": "code",
<<<<<<< HEAD
   "execution_count": 18,
   "id": "73010603",
   "metadata": {},
   "outputs": [
    {
     "data": {
      "text/plain": [
       "count    5.000000e+01\n",
       "mean     1.000000e+00\n",
       "std      1.248844e-16\n",
       "min      1.000000e+00\n",
       "25%      1.000000e+00\n",
       "50%      1.000000e+00\n",
       "75%      1.000000e+00\n",
       "max      1.000000e+00\n",
       "dtype: float64"
      ]
     },
     "execution_count": 18,
     "metadata": {},
     "output_type": "execute_result"
    }
   ],
   "source": [
    "qr_src_geo_tgt.sum('columns').describe()"
   ]
  },
  {
   "cell_type": "markdown",
   "id": "18092ae1-10e8-49b7-8683-40f2e09453c0",
   "metadata": {},
   "source": [
    "Everything is 1, we're good to go!"
=======
   "execution_count": 40,
   "id": "73010603",
   "metadata": {},
   "outputs": [],
   "source": [
    "qr_src_geo_tgt = norm_dist_df(qr_src_geo_tgt)"
>>>>>>> main
   ]
  },
  {
   "cell_type": "code",
<<<<<<< HEAD
   "execution_count": 19,
=======
   "execution_count": 42,
>>>>>>> main
   "id": "2f6de863",
   "metadata": {},
   "outputs": [
    {
     "name": "stderr",
     "output_type": "stream",
     "text": [
<<<<<<< HEAD
      "INFO:wptrec.save:saving CSV to data\\metric-tables\\task1-train-src-geo-target.csv.gz\n",
      "INFO:wptrec.save:data\\metric-tables\\task1-train-src-geo-target.csv.gz: 9.77 KiB\n",
      "INFO:wptrec.save:saving Parquet to data\\metric-tables\\task1-train-src-geo-target.parquet\n",
      "INFO:wptrec.save:data\\metric-tables\\task1-train-src-geo-target.parquet: 24.54 KiB\n"
=======
      "INFO:wptrec.save:saving CSV to data\\metric-tables\\task2-train-src-geo-target.csv.gz\n",
      "INFO:wptrec.save:data\\metric-tables\\task2-train-src-geo-target.csv.gz: 10.66 KiB\n",
      "INFO:wptrec.save:saving Parquet to data\\metric-tables\\task2-train-src-geo-target.parquet\n",
      "INFO:wptrec.save:data\\metric-tables\\task2-train-src-geo-target.parquet: 25.97 KiB\n"
>>>>>>> main
     ]
    }
   ],
   "source": [
<<<<<<< HEAD
    "output.save_table(qr_src_geo_tgt, f'task1-{DATA_MODE}-src-geo-target', parquet=True)"
=======
    "output.save_table(qr_src_geo_tgt, f'task2-{DATA_MODE}-src-geo-target', parquet=True)"
>>>>>>> main
   ]
  },
  {
   "cell_type": "markdown",
   "id": "611ad56d-c102-474d-8538-e65618934a72",
   "metadata": {},
   "source": [
    "## Gender\n",
    "\n",
<<<<<<< HEAD
    "Now we're going to grab the gender alignments.  Again, we ignore UNKNOWN."
=======
    "Now we're going to grab the gender alignments.  Works the same way."
>>>>>>> main
   ]
  },
  {
   "cell_type": "code",
<<<<<<< HEAD
   "execution_count": 20,
=======
   "execution_count": 43,
>>>>>>> main
   "id": "326b87c0-91e6-4b65-8020-cadc23d21a9c",
   "metadata": {},
   "outputs": [
    {
     "data": {
      "text/html": [
       "<div>\n",
       "<style scoped>\n",
       "    .dataframe tbody tr th:only-of-type {\n",
       "        vertical-align: middle;\n",
       "    }\n",
       "\n",
       "    .dataframe tbody tr th {\n",
       "        vertical-align: top;\n",
       "    }\n",
       "\n",
       "    .dataframe thead th {\n",
       "        text-align: right;\n",
       "    }\n",
       "</style>\n",
       "<table border=\"1\" class=\"dataframe\">\n",
       "  <thead>\n",
       "    <tr style=\"text-align: right;\">\n",
       "      <th></th>\n",
       "      <th></th>\n",
       "      <th>@UNKNOWN</th>\n",
       "      <th>female</th>\n",
       "      <th>male</th>\n",
       "      <th>NB</th>\n",
       "    </tr>\n",
       "    <tr>\n",
       "      <th>topic_id</th>\n",
       "      <th>page_id</th>\n",
       "      <th></th>\n",
       "      <th></th>\n",
       "      <th></th>\n",
       "      <th></th>\n",
       "    </tr>\n",
       "  </thead>\n",
       "  <tbody>\n",
       "    <tr>\n",
       "      <th rowspan=\"5\" valign=\"top\">84</th>\n",
       "      <th>572</th>\n",
       "      <td>1.0</td>\n",
       "      <td>0.0</td>\n",
       "      <td>0.0</td>\n",
       "      <td>0.0</td>\n",
       "    </tr>\n",
       "    <tr>\n",
       "      <th>627</th>\n",
       "      <td>1.0</td>\n",
       "      <td>0.0</td>\n",
       "      <td>0.0</td>\n",
       "      <td>0.0</td>\n",
       "    </tr>\n",
       "    <tr>\n",
       "      <th>678</th>\n",
       "      <td>1.0</td>\n",
       "      <td>0.0</td>\n",
       "      <td>0.0</td>\n",
       "      <td>0.0</td>\n",
       "    </tr>\n",
       "    <tr>\n",
       "      <th>903</th>\n",
       "      <td>1.0</td>\n",
       "      <td>0.0</td>\n",
       "      <td>0.0</td>\n",
       "      <td>0.0</td>\n",
       "    </tr>\n",
       "    <tr>\n",
       "      <th>1193</th>\n",
       "      <td>1.0</td>\n",
       "      <td>0.0</td>\n",
       "      <td>0.0</td>\n",
       "      <td>0.0</td>\n",
       "    </tr>\n",
       "  </tbody>\n",
       "</table>\n",
       "</div>"
      ],
      "text/plain": [
       "                  @UNKNOWN  female  male   NB\n",
       "topic_id page_id                             \n",
       "84       572           1.0     0.0   0.0  0.0\n",
       "         627           1.0     0.0   0.0  0.0\n",
       "         678           1.0     0.0   0.0  0.0\n",
       "         903           1.0     0.0   0.0  0.0\n",
       "         1193          1.0     0.0   0.0  0.0"
      ]
     },
<<<<<<< HEAD
     "execution_count": 20,
=======
     "execution_count": 43,
>>>>>>> main
     "metadata": {},
     "output_type": "execute_result"
    }
   ],
   "source": [
    "qr_gender_align = qr_join(gender_align)\n",
    "qr_gender_align.head()"
   ]
  },
  {
   "cell_type": "code",
<<<<<<< HEAD
   "execution_count": 21,
=======
   "execution_count": 53,
   "id": "8efb59ad-5fb6-4a00-a2ef-1f1bad3258b8",
   "metadata": {},
   "outputs": [],
   "source": [
    "qr_gender_tgt = qr_gender_align.multiply(qp_exp, axis='rows').groupby('topic_id').sum()"
   ]
  },
  {
   "cell_type": "code",
   "execution_count": 54,
>>>>>>> main
   "id": "6dc2fdc7-04b4-4161-92c6-ca996923b820",
   "metadata": {},
   "outputs": [
    {
     "data": {
      "text/html": [
       "<div>\n",
       "<style scoped>\n",
       "    .dataframe tbody tr th:only-of-type {\n",
       "        vertical-align: middle;\n",
       "    }\n",
       "\n",
       "    .dataframe tbody tr th {\n",
       "        vertical-align: top;\n",
       "    }\n",
       "\n",
       "    .dataframe thead th {\n",
       "        text-align: right;\n",
       "    }\n",
       "</style>\n",
       "<table border=\"1\" class=\"dataframe\">\n",
       "  <thead>\n",
       "    <tr style=\"text-align: right;\">\n",
       "      <th></th>\n",
<<<<<<< HEAD
=======
       "      <th>@UNKNOWN</th>\n",
>>>>>>> main
       "      <th>female</th>\n",
       "      <th>male</th>\n",
       "      <th>NB</th>\n",
       "    </tr>\n",
       "    <tr>\n",
       "      <th>topic_id</th>\n",
       "      <th></th>\n",
       "      <th></th>\n",
       "      <th></th>\n",
<<<<<<< HEAD
=======
       "      <th></th>\n",
>>>>>>> main
       "    </tr>\n",
       "  </thead>\n",
       "  <tbody>\n",
       "    <tr>\n",
       "      <th>84</th>\n",
<<<<<<< HEAD
       "      <td>0.359248</td>\n",
       "      <td>0.635752</td>\n",
       "      <td>0.005000</td>\n",
       "    </tr>\n",
       "    <tr>\n",
       "      <th>111</th>\n",
       "      <td>0.345061</td>\n",
       "      <td>0.649939</td>\n",
       "      <td>0.005000</td>\n",
       "    </tr>\n",
       "    <tr>\n",
       "      <th>265</th>\n",
       "      <td>0.333219</td>\n",
       "      <td>0.661244</td>\n",
       "      <td>0.005537</td>\n",
       "    </tr>\n",
       "    <tr>\n",
       "      <th>323</th>\n",
       "      <td>0.301029</td>\n",
       "      <td>0.693971</td>\n",
       "      <td>0.005000</td>\n",
       "    </tr>\n",
       "    <tr>\n",
       "      <th>396</th>\n",
       "      <td>0.431714</td>\n",
       "      <td>0.562898</td>\n",
       "      <td>0.005389</td>\n",
=======
       "      <td>606.011467</td>\n",
       "      <td>22.069891</td>\n",
       "      <td>39.097835</td>\n",
       "      <td>0.307376</td>\n",
       "    </tr>\n",
       "    <tr>\n",
       "      <th>111</th>\n",
       "      <td>1654.802570</td>\n",
       "      <td>2.117309</td>\n",
       "      <td>4.048036</td>\n",
       "      <td>0.030982</td>\n",
       "    </tr>\n",
       "    <tr>\n",
       "      <th>265</th>\n",
       "      <td>1637.277390</td>\n",
       "      <td>72.697060</td>\n",
       "      <td>146.018881</td>\n",
       "      <td>1.206304</td>\n",
       "    </tr>\n",
       "    <tr>\n",
       "      <th>323</th>\n",
       "      <td>3381.572956</td>\n",
       "      <td>121.138433</td>\n",
       "      <td>279.242977</td>\n",
       "      <td>2.011967</td>\n",
       "    </tr>\n",
       "    <tr>\n",
       "      <th>396</th>\n",
       "      <td>40.124126</td>\n",
       "      <td>2240.113099</td>\n",
       "      <td>2937.072082</td>\n",
       "      <td>27.900122</td>\n",
>>>>>>> main
       "    </tr>\n",
       "  </tbody>\n",
       "</table>\n",
       "</div>"
      ],
      "text/plain": [
<<<<<<< HEAD
       "            female      male        NB\n",
       "topic_id                              \n",
       "84        0.359248  0.635752  0.005000\n",
       "111       0.345061  0.649939  0.005000\n",
       "265       0.333219  0.661244  0.005537\n",
       "323       0.301029  0.693971  0.005000\n",
       "396       0.431714  0.562898  0.005389"
      ]
     },
     "execution_count": 21,
=======
       "             @UNKNOWN       female         male         NB\n",
       "topic_id                                                  \n",
       "84         606.011467    22.069891    39.097835   0.307376\n",
       "111       1654.802570     2.117309     4.048036   0.030982\n",
       "265       1637.277390    72.697060   146.018881   1.206304\n",
       "323       3381.572956   121.138433   279.242977   2.011967\n",
       "396         40.124126  2240.113099  2937.072082  27.900122"
      ]
     },
     "execution_count": 54,
>>>>>>> main
     "metadata": {},
     "output_type": "execute_result"
    }
   ],
   "source": [
<<<<<<< HEAD
    "qr_gender_tgt = qr_gender_align.iloc[:, 1:].groupby('topic_id').sum()\n",
    "qr_gender_tgt = norm_dist_df(qr_gender_tgt)\n",
    "qr_gender_tgt = (qr_gender_tgt + gender_tgt) * 0.5\n",
=======
    "qr_gender_fk = qr_gender_tgt.iloc[:, 1:].sum('columns')\n",
    "qr_gender_tgt.iloc[:, 1:] *= 0.5\n",
    "qr_gender_tgt.iloc[:, 1:] += qr_gender_fk.apply(lambda k: gender_tgt * k * 0.5)\n",
>>>>>>> main
    "qr_gender_tgt.head()"
   ]
  },
  {
   "cell_type": "code",
<<<<<<< HEAD
   "execution_count": 22,
=======
   "execution_count": 55,
   "id": "28cb07b4-c4e0-40d6-9d9d-28c75dc09606",
   "metadata": {},
   "outputs": [],
   "source": [
    "qr_gender_tgt = norm_dist_df(qr_gender_tgt)"
   ]
  },
  {
   "cell_type": "code",
   "execution_count": 56,
>>>>>>> main
   "id": "b74608a4-ec64-48c9-8702-060723194a62",
   "metadata": {},
   "outputs": [
    {
     "name": "stderr",
     "output_type": "stream",
     "text": [
<<<<<<< HEAD
      "INFO:wptrec.save:saving CSV to data\\metric-tables\\task1-train-gender-target.csv.gz\n",
      "INFO:wptrec.save:data\\metric-tables\\task1-train-gender-target.csv.gz: 1.40 KiB\n",
      "INFO:wptrec.save:saving Parquet to data\\metric-tables\\task1-train-gender-target.parquet\n",
      "INFO:wptrec.save:data\\metric-tables\\task1-train-gender-target.parquet: 4.81 KiB\n"
=======
      "INFO:wptrec.save:saving CSV to data\\metric-tables\\task2-train-gender-target.csv.gz\n",
      "INFO:wptrec.save:data\\metric-tables\\task2-train-gender-target.csv.gz: 2.25 KiB\n",
      "INFO:wptrec.save:saving Parquet to data\\metric-tables\\task2-train-gender-target.parquet\n",
      "INFO:wptrec.save:data\\metric-tables\\task2-train-gender-target.parquet: 6.90 KiB\n"
>>>>>>> main
     ]
    }
   ],
   "source": [
<<<<<<< HEAD
    "output.save_table(qr_gender_tgt, f'task1-{DATA_MODE}-gender-target', parquet=True)"
=======
    "output.save_table(qr_gender_tgt, f'task2-{DATA_MODE}-gender-target', parquet=True)"
>>>>>>> main
   ]
  },
  {
   "cell_type": "markdown",
   "id": "b4a5905b-11ab-426e-ab57-faae3722d5ad",
   "metadata": {},
   "source": [
    "## Occupation\n",
    "\n",
    "Occupation is more straightforward, since we don't have a global target to average with.  We do need to drop unknown."
   ]
  },
  {
   "cell_type": "code",
<<<<<<< HEAD
   "execution_count": 23,
=======
   "execution_count": 58,
>>>>>>> main
   "id": "03193ea0-0d82-47f2-af6c-faf524c9c632",
   "metadata": {},
   "outputs": [
    {
     "data": {
      "text/html": [
       "<div>\n",
       "<style scoped>\n",
       "    .dataframe tbody tr th:only-of-type {\n",
       "        vertical-align: middle;\n",
       "    }\n",
       "\n",
       "    .dataframe tbody tr th {\n",
       "        vertical-align: top;\n",
       "    }\n",
       "\n",
       "    .dataframe thead th {\n",
       "        text-align: right;\n",
       "    }\n",
       "</style>\n",
       "<table border=\"1\" class=\"dataframe\">\n",
       "  <thead>\n",
       "    <tr style=\"text-align: right;\">\n",
       "      <th></th>\n",
       "      <th>activist</th>\n",
       "      <th>agricultural worker</th>\n",
       "      <th>artist</th>\n",
       "      <th>athlete</th>\n",
       "      <th>biologist</th>\n",
       "      <th>businessperson</th>\n",
       "      <th>chemist</th>\n",
       "      <th>civil servant</th>\n",
       "      <th>clergyperson</th>\n",
       "      <th>computer scientist</th>\n",
       "      <th>...</th>\n",
       "      <th>military personnel</th>\n",
       "      <th>musician</th>\n",
       "      <th>performing artist</th>\n",
       "      <th>physicist</th>\n",
       "      <th>politician</th>\n",
       "      <th>scientist</th>\n",
       "      <th>social scientist</th>\n",
       "      <th>sportsperson (non-athlete)</th>\n",
       "      <th>transportation occupation</th>\n",
       "      <th>writer</th>\n",
       "    </tr>\n",
       "    <tr>\n",
       "      <th>topic_id</th>\n",
       "      <th></th>\n",
       "      <th></th>\n",
       "      <th></th>\n",
       "      <th></th>\n",
       "      <th></th>\n",
       "      <th></th>\n",
       "      <th></th>\n",
       "      <th></th>\n",
       "      <th></th>\n",
       "      <th></th>\n",
       "      <th></th>\n",
       "      <th></th>\n",
       "      <th></th>\n",
       "      <th></th>\n",
       "      <th></th>\n",
       "      <th></th>\n",
       "      <th></th>\n",
       "      <th></th>\n",
       "      <th></th>\n",
       "      <th></th>\n",
       "      <th></th>\n",
       "    </tr>\n",
       "  </thead>\n",
       "  <tbody>\n",
       "    <tr>\n",
       "      <th>84</th>\n",
<<<<<<< HEAD
       "      <td>0.032103</td>\n",
       "      <td>0.180200</td>\n",
       "      <td>0.013243</td>\n",
       "      <td>0.010337</td>\n",
       "      <td>0.096144</td>\n",
       "      <td>0.118009</td>\n",
       "      <td>0.022222</td>\n",
       "      <td>0.010752</td>\n",
       "      <td>0.007103</td>\n",
       "      <td>0.000000</td>\n",
       "      <td>...</td>\n",
       "      <td>0.012829</td>\n",
       "      <td>0.001619</td>\n",
       "      <td>0.006693</td>\n",
       "      <td>0.004837</td>\n",
       "      <td>0.119983</td>\n",
       "      <td>0.090064</td>\n",
       "      <td>0.029409</td>\n",
       "      <td>0.001658</td>\n",
       "      <td>0.000652</td>\n",
       "      <td>0.076647</td>\n",
       "    </tr>\n",
       "    <tr>\n",
       "      <th>111</th>\n",
       "      <td>0.012048</td>\n",
       "      <td>0.000000</td>\n",
       "      <td>0.016064</td>\n",
       "      <td>0.000000</td>\n",
       "      <td>0.697791</td>\n",
       "      <td>0.023092</td>\n",
       "      <td>0.000000</td>\n",
       "      <td>0.000000</td>\n",
       "      <td>0.012048</td>\n",
=======
       "      <td>0.032432</td>\n",
       "      <td>0.181433</td>\n",
       "      <td>0.012539</td>\n",
       "      <td>0.009660</td>\n",
       "      <td>0.097302</td>\n",
       "      <td>0.116013</td>\n",
       "      <td>0.022821</td>\n",
       "      <td>0.010497</td>\n",
       "      <td>0.007344</td>\n",
       "      <td>0.000000</td>\n",
       "      <td>...</td>\n",
       "      <td>0.012365</td>\n",
       "      <td>0.001778</td>\n",
       "      <td>0.006397</td>\n",
       "      <td>0.004526</td>\n",
       "      <td>0.120913</td>\n",
       "      <td>0.091460</td>\n",
       "      <td>0.030279</td>\n",
       "      <td>0.001482</td>\n",
       "      <td>0.000599</td>\n",
       "      <td>0.075433</td>\n",
       "    </tr>\n",
       "    <tr>\n",
       "      <th>111</th>\n",
       "      <td>0.011174</td>\n",
       "      <td>0.000000</td>\n",
       "      <td>0.015686</td>\n",
       "      <td>0.000000</td>\n",
       "      <td>0.701426</td>\n",
       "      <td>0.022759</td>\n",
       "      <td>0.000000</td>\n",
       "      <td>0.000000</td>\n",
       "      <td>0.011174</td>\n",
>>>>>>> main
       "      <td>0.000000</td>\n",
       "      <td>...</td>\n",
       "      <td>0.000000</td>\n",
       "      <td>0.000000</td>\n",
<<<<<<< HEAD
       "      <td>0.006024</td>\n",
       "      <td>0.000000</td>\n",
       "      <td>0.004016</td>\n",
       "      <td>0.083333</td>\n",
       "      <td>0.000000</td>\n",
       "      <td>0.000000</td>\n",
       "      <td>0.000000</td>\n",
       "      <td>0.024096</td>\n",
       "    </tr>\n",
       "    <tr>\n",
       "      <th>265</th>\n",
       "      <td>0.001554</td>\n",
       "      <td>0.000365</td>\n",
       "      <td>0.009564</td>\n",
       "      <td>0.000852</td>\n",
       "      <td>0.002707</td>\n",
       "      <td>0.045472</td>\n",
       "      <td>0.002920</td>\n",
       "      <td>0.001480</td>\n",
       "      <td>0.002875</td>\n",
       "      <td>0.001989</td>\n",
       "      <td>...</td>\n",
       "      <td>0.002735</td>\n",
       "      <td>0.001778</td>\n",
       "      <td>0.000477</td>\n",
       "      <td>0.108297</td>\n",
       "      <td>0.005021</td>\n",
       "      <td>0.648089</td>\n",
       "      <td>0.002571</td>\n",
       "      <td>0.000335</td>\n",
       "      <td>0.001071</td>\n",
       "      <td>0.019928</td>\n",
       "    </tr>\n",
       "    <tr>\n",
       "      <th>323</th>\n",
       "      <td>0.002604</td>\n",
       "      <td>0.001543</td>\n",
       "      <td>0.006877</td>\n",
       "      <td>0.017871</td>\n",
       "      <td>0.000706</td>\n",
       "      <td>0.055789</td>\n",
       "      <td>0.000825</td>\n",
       "      <td>0.003464</td>\n",
       "      <td>0.002237</td>\n",
       "      <td>0.000371</td>\n",
       "      <td>...</td>\n",
       "      <td>0.307782</td>\n",
       "      <td>0.001369</td>\n",
       "      <td>0.004737</td>\n",
       "      <td>0.003836</td>\n",
       "      <td>0.020113</td>\n",
       "      <td>0.012174</td>\n",
       "      <td>0.001489</td>\n",
       "      <td>0.003178</td>\n",
       "      <td>0.393180</td>\n",
       "      <td>0.013700</td>\n",
       "    </tr>\n",
       "    <tr>\n",
       "      <th>396</th>\n",
       "      <td>0.001455</td>\n",
       "      <td>0.000187</td>\n",
       "      <td>0.162101</td>\n",
       "      <td>0.004497</td>\n",
       "      <td>0.000070</td>\n",
       "      <td>0.043703</td>\n",
       "      <td>0.000014</td>\n",
       "      <td>0.000244</td>\n",
       "      <td>0.000059</td>\n",
       "      <td>0.000049</td>\n",
       "      <td>...</td>\n",
       "      <td>0.000764</td>\n",
       "      <td>0.040067</td>\n",
       "      <td>0.512512</td>\n",
       "      <td>0.000020</td>\n",
       "      <td>0.002737</td>\n",
       "      <td>0.000353</td>\n",
       "      <td>0.000778</td>\n",
       "      <td>0.000342</td>\n",
       "      <td>0.000379</td>\n",
       "      <td>0.079161</td>\n",
=======
       "      <td>0.006574</td>\n",
       "      <td>0.000000</td>\n",
       "      <td>0.003710</td>\n",
       "      <td>0.081254</td>\n",
       "      <td>0.000000</td>\n",
       "      <td>0.000000</td>\n",
       "      <td>0.000000</td>\n",
       "      <td>0.023476</td>\n",
       "    </tr>\n",
       "    <tr>\n",
       "      <th>265</th>\n",
       "      <td>0.001491</td>\n",
       "      <td>0.000364</td>\n",
       "      <td>0.009377</td>\n",
       "      <td>0.000881</td>\n",
       "      <td>0.002656</td>\n",
       "      <td>0.044176</td>\n",
       "      <td>0.002774</td>\n",
       "      <td>0.001547</td>\n",
       "      <td>0.002870</td>\n",
       "      <td>0.001976</td>\n",
       "      <td>...</td>\n",
       "      <td>0.002621</td>\n",
       "      <td>0.001720</td>\n",
       "      <td>0.000420</td>\n",
       "      <td>0.105969</td>\n",
       "      <td>0.004860</td>\n",
       "      <td>0.656261</td>\n",
       "      <td>0.002410</td>\n",
       "      <td>0.000325</td>\n",
       "      <td>0.000947</td>\n",
       "      <td>0.019296</td>\n",
       "    </tr>\n",
       "    <tr>\n",
       "      <th>323</th>\n",
       "      <td>0.002501</td>\n",
       "      <td>0.001506</td>\n",
       "      <td>0.006775</td>\n",
       "      <td>0.017613</td>\n",
       "      <td>0.000734</td>\n",
       "      <td>0.056240</td>\n",
       "      <td>0.000784</td>\n",
       "      <td>0.003569</td>\n",
       "      <td>0.002273</td>\n",
       "      <td>0.000353</td>\n",
       "      <td>...</td>\n",
       "      <td>0.306518</td>\n",
       "      <td>0.001353</td>\n",
       "      <td>0.004697</td>\n",
       "      <td>0.003811</td>\n",
       "      <td>0.019703</td>\n",
       "      <td>0.011818</td>\n",
       "      <td>0.001444</td>\n",
       "      <td>0.003121</td>\n",
       "      <td>0.393261</td>\n",
       "      <td>0.013522</td>\n",
       "    </tr>\n",
       "    <tr>\n",
       "      <th>396</th>\n",
       "      <td>0.001373</td>\n",
       "      <td>0.000179</td>\n",
       "      <td>0.162339</td>\n",
       "      <td>0.004327</td>\n",
       "      <td>0.000067</td>\n",
       "      <td>0.043187</td>\n",
       "      <td>0.000014</td>\n",
       "      <td>0.000235</td>\n",
       "      <td>0.000058</td>\n",
       "      <td>0.000048</td>\n",
       "      <td>...</td>\n",
       "      <td>0.000724</td>\n",
       "      <td>0.038833</td>\n",
       "      <td>0.512833</td>\n",
       "      <td>0.000020</td>\n",
       "      <td>0.002638</td>\n",
       "      <td>0.000338</td>\n",
       "      <td>0.000781</td>\n",
       "      <td>0.000328</td>\n",
       "      <td>0.000362</td>\n",
       "      <td>0.079288</td>\n",
>>>>>>> main
       "    </tr>\n",
       "  </tbody>\n",
       "</table>\n",
       "<p>5 rows × 32 columns</p>\n",
       "</div>"
      ],
      "text/plain": [
       "          activist  agricultural worker    artist   athlete  biologist  \\\n",
       "topic_id                                                                 \n",
<<<<<<< HEAD
       "84        0.032103             0.180200  0.013243  0.010337   0.096144   \n",
       "111       0.012048             0.000000  0.016064  0.000000   0.697791   \n",
       "265       0.001554             0.000365  0.009564  0.000852   0.002707   \n",
       "323       0.002604             0.001543  0.006877  0.017871   0.000706   \n",
       "396       0.001455             0.000187  0.162101  0.004497   0.000070   \n",
       "\n",
       "          businessperson   chemist  civil servant  clergyperson  \\\n",
       "topic_id                                                          \n",
       "84              0.118009  0.022222       0.010752      0.007103   \n",
       "111             0.023092  0.000000       0.000000      0.012048   \n",
       "265             0.045472  0.002920       0.001480      0.002875   \n",
       "323             0.055789  0.000825       0.003464      0.002237   \n",
       "396             0.043703  0.000014       0.000244      0.000059   \n",
       "\n",
       "          computer scientist  ...  military personnel  musician  \\\n",
       "topic_id                      ...                                 \n",
       "84                  0.000000  ...            0.012829  0.001619   \n",
       "111                 0.000000  ...            0.000000  0.000000   \n",
       "265                 0.001989  ...            0.002735  0.001778   \n",
       "323                 0.000371  ...            0.307782  0.001369   \n",
       "396                 0.000049  ...            0.000764  0.040067   \n",
       "\n",
       "          performing artist  physicist  politician  scientist  \\\n",
       "topic_id                                                        \n",
       "84                 0.006693   0.004837    0.119983   0.090064   \n",
       "111                0.006024   0.000000    0.004016   0.083333   \n",
       "265                0.000477   0.108297    0.005021   0.648089   \n",
       "323                0.004737   0.003836    0.020113   0.012174   \n",
       "396                0.512512   0.000020    0.002737   0.000353   \n",
       "\n",
       "          social scientist  sportsperson (non-athlete)  \\\n",
       "topic_id                                                 \n",
       "84                0.029409                    0.001658   \n",
       "111               0.000000                    0.000000   \n",
       "265               0.002571                    0.000335   \n",
       "323               0.001489                    0.003178   \n",
       "396               0.000778                    0.000342   \n",
       "\n",
       "          transportation occupation    writer  \n",
       "topic_id                                       \n",
       "84                         0.000652  0.076647  \n",
       "111                        0.000000  0.024096  \n",
       "265                        0.001071  0.019928  \n",
       "323                        0.393180  0.013700  \n",
       "396                        0.000379  0.079161  \n",
=======
       "84        0.032432             0.181433  0.012539  0.009660   0.097302   \n",
       "111       0.011174             0.000000  0.015686  0.000000   0.701426   \n",
       "265       0.001491             0.000364  0.009377  0.000881   0.002656   \n",
       "323       0.002501             0.001506  0.006775  0.017613   0.000734   \n",
       "396       0.001373             0.000179  0.162339  0.004327   0.000067   \n",
       "\n",
       "          businessperson   chemist  civil servant  clergyperson  \\\n",
       "topic_id                                                          \n",
       "84              0.116013  0.022821       0.010497      0.007344   \n",
       "111             0.022759  0.000000       0.000000      0.011174   \n",
       "265             0.044176  0.002774       0.001547      0.002870   \n",
       "323             0.056240  0.000784       0.003569      0.002273   \n",
       "396             0.043187  0.000014       0.000235      0.000058   \n",
       "\n",
       "          computer scientist  ...  military personnel  musician  \\\n",
       "topic_id                      ...                                 \n",
       "84                  0.000000  ...            0.012365  0.001778   \n",
       "111                 0.000000  ...            0.000000  0.000000   \n",
       "265                 0.001976  ...            0.002621  0.001720   \n",
       "323                 0.000353  ...            0.306518  0.001353   \n",
       "396                 0.000048  ...            0.000724  0.038833   \n",
       "\n",
       "          performing artist  physicist  politician  scientist  \\\n",
       "topic_id                                                        \n",
       "84                 0.006397   0.004526    0.120913   0.091460   \n",
       "111                0.006574   0.000000    0.003710   0.081254   \n",
       "265                0.000420   0.105969    0.004860   0.656261   \n",
       "323                0.004697   0.003811    0.019703   0.011818   \n",
       "396                0.512833   0.000020    0.002638   0.000338   \n",
       "\n",
       "          social scientist  sportsperson (non-athlete)  \\\n",
       "topic_id                                                 \n",
       "84                0.030279                    0.001482   \n",
       "111               0.000000                    0.000000   \n",
       "265               0.002410                    0.000325   \n",
       "323               0.001444                    0.003121   \n",
       "396               0.000781                    0.000328   \n",
       "\n",
       "          transportation occupation    writer  \n",
       "topic_id                                       \n",
       "84                         0.000599  0.075433  \n",
       "111                        0.000000  0.023476  \n",
       "265                        0.000947  0.019296  \n",
       "323                        0.393261  0.013522  \n",
       "396                        0.000362  0.079288  \n",
>>>>>>> main
       "\n",
       "[5 rows x 32 columns]"
      ]
     },
<<<<<<< HEAD
     "execution_count": 23,
=======
     "execution_count": 58,
>>>>>>> main
     "metadata": {},
     "output_type": "execute_result"
    }
   ],
   "source": [
<<<<<<< HEAD
    "qr_occ_align = qr_join(occ_align)\n",
=======
    "qr_occ_align = qr_join(occ_align).multiply(qp_exp, axis='rows')\n",
>>>>>>> main
    "qr_occ_tgt = qr_occ_align.iloc[:, 1:].groupby('topic_id').sum()\n",
    "qr_occ_tgt = norm_dist_df(qr_occ_tgt)\n",
    "qr_occ_tgt.head()"
   ]
  },
  {
   "cell_type": "code",
<<<<<<< HEAD
   "execution_count": 24,
=======
   "execution_count": 59,
>>>>>>> main
   "id": "bdf9e942-4da6-4a15-9e9b-3401be54d10e",
   "metadata": {},
   "outputs": [
    {
     "name": "stderr",
     "output_type": "stream",
     "text": [
<<<<<<< HEAD
      "INFO:wptrec.save:saving CSV to data\\metric-tables\\task1-train-occ-target.csv.gz\n",
      "INFO:wptrec.save:data\\metric-tables\\task1-train-occ-target.csv.gz: 14.37 KiB\n",
      "INFO:wptrec.save:saving Parquet to data\\metric-tables\\task1-train-occ-target.parquet\n",
      "INFO:wptrec.save:data\\metric-tables\\task1-train-occ-target.parquet: 37.65 KiB\n"
=======
      "INFO:wptrec.save:saving CSV to data\\metric-tables\\task2-train-occ-target.csv.gz\n",
      "INFO:wptrec.save:data\\metric-tables\\task2-train-occ-target.csv.gz: 14.77 KiB\n",
      "INFO:wptrec.save:saving Parquet to data\\metric-tables\\task2-train-occ-target.parquet\n",
      "INFO:wptrec.save:data\\metric-tables\\task2-train-occ-target.parquet: 37.65 KiB\n"
>>>>>>> main
     ]
    }
   ],
   "source": [
<<<<<<< HEAD
    "output.save_table(qr_occ_tgt, f'task1-{DATA_MODE}-occ-target', parquet=True)"
=======
    "output.save_table(qr_occ_tgt, f'task2-{DATA_MODE}-occ-target', parquet=True)"
>>>>>>> main
   ]
  },
  {
   "cell_type": "markdown",
   "id": "1cac193c-9c72-47fa-abc7-574db0922eed",
   "metadata": {},
   "source": [
    "## Remaining Attributes\n",
    "\n",
    "The remaining attributes don't need any further processing, as they are completely known."
   ]
  },
  {
   "cell_type": "code",
<<<<<<< HEAD
   "execution_count": 25,
=======
   "execution_count": 60,
>>>>>>> main
   "id": "733266c6-f7b7-48c2-988a-4edca70f62d8",
   "metadata": {},
   "outputs": [
    {
     "name": "stderr",
     "output_type": "stream",
     "text": [
<<<<<<< HEAD
      "INFO:wptrec.save:saving CSV to data\\metric-tables\\task1-train-age-target.csv.gz\n",
      "INFO:wptrec.save:data\\metric-tables\\task1-train-age-target.csv.gz: 2.13 KiB\n",
      "INFO:wptrec.save:saving Parquet to data\\metric-tables\\task1-train-age-target.parquet\n",
      "INFO:wptrec.save:data\\metric-tables\\task1-train-age-target.parquet: 6.23 KiB\n"
=======
      "INFO:wptrec.save:saving CSV to data\\metric-tables\\task2-train-age-target.csv.gz\n",
      "INFO:wptrec.save:data\\metric-tables\\task2-train-age-target.csv.gz: 1.19 KiB\n",
      "INFO:wptrec.save:saving Parquet to data\\metric-tables\\task2-train-age-target.parquet\n",
      "INFO:wptrec.save:data\\metric-tables\\task2-train-age-target.parquet: 5.24 KiB\n"
>>>>>>> main
     ]
    }
   ],
   "source": [
<<<<<<< HEAD
    "qr_age_align = qr_join(age_align)\n",
    "qr_age_tgt = norm_dist_df(qr_age_align.groupby('topic_id').sum())\n",
    "output.save_table(qr_age_tgt, f'task1-{DATA_MODE}-age-target', parquet=True)"
=======
    "qr_age_align = qr_join(age_align).multiply(qp_exp, axis='rows')\n",
    "qr_age_tgt = norm_dist_df(qr_age_align.groupby('topic_id').sum())\n",
    "output.save_table(qr_age_tgt, f'task2-{DATA_MODE}-age-target', parquet=True)"
>>>>>>> main
   ]
  },
  {
   "cell_type": "code",
<<<<<<< HEAD
   "execution_count": 26,
=======
   "execution_count": 61,
>>>>>>> main
   "id": "b897d166-b0c0-4f7a-9e08-17c2c8208412",
   "metadata": {},
   "outputs": [
    {
     "name": "stderr",
     "output_type": "stream",
     "text": [
<<<<<<< HEAD
      "INFO:wptrec.save:saving CSV to data\\metric-tables\\task1-train-alpha-target.csv.gz\n",
      "INFO:wptrec.save:data\\metric-tables\\task1-train-alpha-target.csv.gz: 2.12 KiB\n",
      "INFO:wptrec.save:saving Parquet to data\\metric-tables\\task1-train-alpha-target.parquet\n",
      "INFO:wptrec.save:data\\metric-tables\\task1-train-alpha-target.parquet: 5.99 KiB\n"
=======
      "INFO:wptrec.save:saving CSV to data\\metric-tables\\task2-train-alpha-target.csv.gz\n",
      "INFO:wptrec.save:data\\metric-tables\\task2-train-alpha-target.csv.gz: 1.16 KiB\n",
      "INFO:wptrec.save:saving Parquet to data\\metric-tables\\task2-train-alpha-target.parquet\n",
      "INFO:wptrec.save:data\\metric-tables\\task2-train-alpha-target.parquet: 5.00 KiB\n"
>>>>>>> main
     ]
    }
   ],
   "source": [
<<<<<<< HEAD
    "qr_alpha_align = qr_join(alpha_align)\n",
    "qr_alpha_tgt = norm_dist_df(qr_alpha_align.groupby('topic_id').sum())\n",
    "output.save_table(qr_alpha_tgt, f'task1-{DATA_MODE}-alpha-target', parquet=True)"
=======
    "qr_alpha_align = qr_join(alpha_align).multiply(qp_exp, axis='rows')\n",
    "qr_alpha_tgt = norm_dist_df(qr_alpha_align.groupby('topic_id').sum())\n",
    "output.save_table(qr_alpha_tgt, f'task2-{DATA_MODE}-alpha-target', parquet=True)"
>>>>>>> main
   ]
  },
  {
   "cell_type": "code",
<<<<<<< HEAD
   "execution_count": 27,
=======
   "execution_count": 62,
>>>>>>> main
   "id": "a4705eb1-02b6-479d-b833-c9de2decd730",
   "metadata": {},
   "outputs": [
    {
     "name": "stderr",
     "output_type": "stream",
     "text": [
<<<<<<< HEAD
      "INFO:wptrec.save:saving CSV to data\\metric-tables\\task1-train-langs-target.csv.gz\n",
      "INFO:wptrec.save:data\\metric-tables\\task1-train-langs-target.csv.gz: 1.68 KiB\n",
      "INFO:wptrec.save:saving Parquet to data\\metric-tables\\task1-train-langs-target.parquet\n",
      "INFO:wptrec.save:data\\metric-tables\\task1-train-langs-target.parquet: 5.20 KiB\n"
=======
      "INFO:wptrec.save:saving CSV to data\\metric-tables\\task2-train-langs-target.csv.gz\n",
      "INFO:wptrec.save:data\\metric-tables\\task2-train-langs-target.csv.gz: 965.00 iB\n",
      "INFO:wptrec.save:saving Parquet to data\\metric-tables\\task2-train-langs-target.parquet\n",
      "INFO:wptrec.save:data\\metric-tables\\task2-train-langs-target.parquet: 4.46 KiB\n"
>>>>>>> main
     ]
    }
   ],
   "source": [
<<<<<<< HEAD
    "qr_langs_align = qr_join(langs_align)\n",
    "qr_langs_tgt = norm_dist_df(qr_langs_align.groupby('topic_id').sum())\n",
    "output.save_table(qr_langs_tgt, f'task1-{DATA_MODE}-langs-target', parquet=True)"
=======
    "qr_langs_align = qr_join(langs_align).multiply(qp_exp, axis='rows')\n",
    "qr_langs_tgt = norm_dist_df(qr_langs_align.groupby('topic_id').sum())\n",
    "output.save_table(qr_langs_tgt, f'task2-{DATA_MODE}-langs-target', parquet=True)"
>>>>>>> main
   ]
  },
  {
   "cell_type": "code",
<<<<<<< HEAD
   "execution_count": 28,
=======
   "execution_count": 63,
>>>>>>> main
   "id": "f5f336dc-cc67-44dd-98ae-3673c6de4ef7",
   "metadata": {},
   "outputs": [
    {
     "name": "stderr",
     "output_type": "stream",
     "text": [
<<<<<<< HEAD
      "INFO:wptrec.save:saving CSV to data\\metric-tables\\task1-train-pop-target.csv.gz\n",
      "INFO:wptrec.save:data\\metric-tables\\task1-train-pop-target.csv.gz: 2.17 KiB\n",
      "INFO:wptrec.save:saving Parquet to data\\metric-tables\\task1-train-pop-target.parquet\n",
      "INFO:wptrec.save:data\\metric-tables\\task1-train-pop-target.parquet: 6.14 KiB\n"
=======
      "INFO:wptrec.save:saving CSV to data\\metric-tables\\task2-train-pop-target.csv.gz\n",
      "INFO:wptrec.save:data\\metric-tables\\task2-train-pop-target.csv.gz: 1.24 KiB\n",
      "INFO:wptrec.save:saving Parquet to data\\metric-tables\\task2-train-pop-target.parquet\n",
      "INFO:wptrec.save:data\\metric-tables\\task2-train-pop-target.parquet: 5.15 KiB\n"
>>>>>>> main
     ]
    }
   ],
   "source": [
<<<<<<< HEAD
    "qr_pop_align = qr_join(pop_align)\n",
    "qr_pop_tgt = norm_dist_df(qr_pop_align.groupby('topic_id').sum())\n",
    "output.save_table(qr_pop_tgt, f'task1-{DATA_MODE}-pop-target', parquet=True)"
=======
    "qr_pop_align = qr_join(pop_align).multiply(qp_exp, axis='rows')\n",
    "qr_pop_tgt = norm_dist_df(qr_pop_align.groupby('topic_id').sum())\n",
    "output.save_table(qr_pop_tgt, f'task2-{DATA_MODE}-pop-target', parquet=True)"
>>>>>>> main
   ]
  },
  {
   "cell_type": "markdown",
<<<<<<< HEAD
   "id": "f2d75257",
   "metadata": {},
   "source": [
    "### Geographic Alignment\n",
    "\n",
    "Now that we've computed per-page target exposure, we're ready to set up the geographic alignment vectors for computing the per-*group* expected exposure with geographic data.\n",
    "\n",
    "We're going to start by getting the alignments for relevant documents for each topic:"
=======
   "id": "6c43bd63-e991-4fef-9c01-fd14fa4d4fad",
   "metadata": {},
   "source": [
    "## Multidimensional Alignment\n",
    "\n",
    "Now let's dive into the multidmensional alignment.  This is going to proceed a lot like the Task 1 alignment."
   ]
  },
  {
   "cell_type": "markdown",
   "id": "f017ee11-a257-477a-ab87-eeea0f98f4af",
   "metadata": {},
   "source": [
    "### Dimension Definitions\n",
    "\n",
    "Let's define background distributions for some of our dimensions:"
>>>>>>> main
   ]
  },
  {
   "cell_type": "code",
<<<<<<< HEAD
   "execution_count": null,
   "id": "8cb11e50",
   "metadata": {},
   "outputs": [],
   "source": [
    "qp_geo_align = qrels.join(page_geo_align, on='page_id').set_index(['id', 'page_id'])\n",
    "qp_geo_align.index.names = ['q_id', 'page_id']\n",
    "qp_geo_align"
=======
   "execution_count": 78,
   "id": "8cc734a2-eb39-4343-ad72-8ca1eeb78c04",
   "metadata": {},
   "outputs": [],
   "source": [
    "dim_backgrounds = {\n",
    "    'sub-geo': world_pop,\n",
    "    'src-geo': world_pop,\n",
    "    'gender': gender_tgt,\n",
    "}"
>>>>>>> main
   ]
  },
  {
   "cell_type": "markdown",
<<<<<<< HEAD
   "id": "542b3c1c",
   "metadata": {},
   "source": [
    "Now we need to compute the per-query target exposures.  This starst with aligning our vectors:"
=======
   "id": "311d0e0d-413b-4ede-bf9a-754510eb4dba",
   "metadata": {},
   "source": [
    "Now we'll make a list of dimensions to treat with averaging:"
>>>>>>> main
   ]
  },
  {
   "cell_type": "code",
<<<<<<< HEAD
   "execution_count": null,
   "id": "ca430b21",
   "metadata": {},
   "outputs": [],
   "source": [
    "qp_geo_exp, qp_geo_align = qp_exp.align(qp_geo_align, fill_value=0)"
=======
   "execution_count": 82,
   "id": "e7176ebc-2260-471f-be1f-00692e52ae26",
   "metadata": {},
   "outputs": [
    {
     "data": {
      "text/plain": [
       "['sub-geo', 'src-geo', 'gender']"
      ]
     },
     "execution_count": 82,
     "metadata": {},
     "output_type": "execute_result"
    }
   ],
   "source": [
    "DR = namedtuple('DimRec', ['name', 'align', 'background'], defaults=[None])\n",
    "avg_dims = [\n",
    "    DR(d.name, d.page_align_xr, xr.DataArray(dim_backgrounds[d.name], dims=[d.name]))\n",
    "    for d in dimensions\n",
    "    if d.name in dim_backgrounds\n",
    "]\n",
    "[d.name for d in avg_dims]"
>>>>>>> main
   ]
  },
  {
   "cell_type": "markdown",
<<<<<<< HEAD
   "id": "40a541b6",
   "metadata": {},
   "source": [
    "And now we can multiply the exposure vector by the alignment vector, and summing by topic - this is equivalent to the matrix-vector multiplication on a topic-by-topic basis."
=======
   "id": "e1494101-4748-4238-add9-62deb4d35e83",
   "metadata": {},
   "source": [
    "And a list of dimensions to use as-is:"
>>>>>>> main
   ]
  },
  {
   "cell_type": "code",
<<<<<<< HEAD
   "execution_count": null,
   "id": "de222d4c",
   "metadata": {},
   "outputs": [],
   "source": [
    "qp_aexp = qp_geo_align.multiply(qp_geo_exp, axis=0)\n",
    "q_geo_align = qp_aexp.groupby('q_id').sum()"
=======
   "execution_count": 83,
   "id": "ff83c5cd-437c-4bcf-98f5-dbcad1538e02",
   "metadata": {},
   "outputs": [
    {
     "data": {
      "text/plain": [
       "['occ', 'alpha', 'age', 'pop', 'langs']"
      ]
     },
     "execution_count": 83,
     "metadata": {},
     "output_type": "execute_result"
    }
   ],
   "source": [
    "raw_dims = [\n",
    "    DR(d.name, d.page_align_xr)\n",
    "    for d in dimensions\n",
    "    if d.name not in dim_backgrounds\n",
    "]\n",
    "[d.name for d in raw_dims]"
>>>>>>> main
   ]
  },
  {
   "cell_type": "markdown",
<<<<<<< HEAD
   "id": "fd0da478",
   "metadata": {},
   "source": [
    "Now things get a *little* weird.  We want to average the empirical distribution with the world population to compute our fairness target.  However, we don't have empirical data on the distribution of articles that do or do not have geographic alignments.\n",
    "\n",
    "Therefore, we are going to average only the *known-geography* vector with the world population.  This proceeds in N steps:\n",
    "\n",
    "1. Normalize the known-geography matrix so its rows sum to 1.\n",
    "2. Average each row with the world population.\n",
    "3. De-normalize the known-geography matrix so it is in the original scale, but adjusted w/ world population\n",
    "4. Normalize the *entire* matrix so its rows sum to 1\n",
    "\n",
    "Let's go."
=======
   "id": "d8950a73-24fa-447f-8612-f8bc3cf2368c",
   "metadata": {},
   "source": [
    "Now: these dimension are in the original order - `dimensions` has the averaged dimensions before the non-averaged ones. **This is critical for the rest of the code to work.**"
   ]
  },
  {
   "cell_type": "markdown",
   "id": "a242988c-5f4b-49d3-a04d-6a15f1116f53",
   "metadata": {},
   "source": [
    "### Data Subsetting\n",
    "\n",
    "Also from Task 1."
>>>>>>> main
   ]
  },
  {
   "cell_type": "code",
<<<<<<< HEAD
   "execution_count": null,
   "id": "6f216a27",
   "metadata": {},
   "outputs": [],
   "source": [
    "qg_known = q_geo_align.drop(columns=['Unknown'])"
   ]
  },
  {
   "cell_type": "markdown",
   "id": "5bf063a3",
   "metadata": {},
   "source": [
    "Normalize (adding a small value to avoid division by zero - affected entries will have a zero numerator anyway):"
=======
   "execution_count": 91,
   "id": "a53eb29c-76ce-4580-942e-ac43424ad8e4",
   "metadata": {},
   "outputs": [
    {
     "data": {
      "text/plain": [
       "[(True, True, True),\n",
       " (True, True, False),\n",
       " (True, False, True),\n",
       " (True, False, False),\n",
       " (False, True, True),\n",
       " (False, True, False),\n",
       " (False, False, True)]"
      ]
     },
     "execution_count": 91,
     "metadata": {},
     "output_type": "execute_result"
    }
   ],
   "source": [
    "avg_cases = list(product(*[[True, False] for d in avg_dims]))\n",
    "avg_cases.pop()\n",
    "avg_cases"
>>>>>>> main
   ]
  },
  {
   "cell_type": "code",
<<<<<<< HEAD
   "execution_count": null,
   "id": "de0aef2b",
   "metadata": {},
   "outputs": [],
   "source": [
    "qg_ksums = qg_known.sum(axis=1)\n",
    "qg_kd = qg_known.divide(np.maximum(qg_ksums, 1.0e-6), axis=0)"
   ]
  },
  {
   "cell_type": "markdown",
   "id": "ebc7bb9f",
   "metadata": {},
   "source": [
    "Average:"
   ]
  },
  {
   "cell_type": "code",
   "execution_count": null,
   "id": "9f1e3f15",
   "metadata": {},
   "outputs": [],
   "source": [
    "qg_kd = (qg_kd + world_pop) * 0.5"
   ]
  },
  {
   "cell_type": "markdown",
   "id": "08fb851a",
   "metadata": {},
   "source": [
    "De-normalize:"
   ]
  },
  {
   "cell_type": "code",
   "execution_count": null,
   "id": "a1564e01",
   "metadata": {},
   "outputs": [],
   "source": [
    "qg_known = qg_kd.multiply(qg_ksums, axis=0)"
   ]
  },
  {
   "cell_type": "markdown",
   "id": "7e67c91a",
   "metadata": {},
   "source": [
    "Recombine with the Unknown column:"
   ]
  },
  {
   "cell_type": "code",
   "execution_count": null,
   "id": "ee951130",
   "metadata": {},
   "outputs": [],
   "source": [
    "q_geo_tgt = q_geo_align[['Unknown']].join(qg_known)"
   ]
  },
  {
   "cell_type": "markdown",
   "id": "f75578c7",
   "metadata": {},
   "source": [
    "Normalize targets:"
   ]
  },
  {
   "cell_type": "code",
   "execution_count": null,
   "id": "b985e3b3",
   "metadata": {},
   "outputs": [],
   "source": [
    "q_geo_tgt = q_geo_tgt.divide(q_geo_tgt.sum(axis=1), axis=0)\n",
    "q_geo_tgt"
   ]
  },
  {
   "cell_type": "markdown",
   "id": "17a4d448",
   "metadata": {},
   "source": [
    "This is our group exposure target distributions for each query, for the geographic data.  We're now ready to set up the matrix."
   ]
  },
  {
   "cell_type": "code",
   "execution_count": null,
   "id": "d791cc32",
   "metadata": {},
   "outputs": [],
   "source": [
    "train_geo_qtgt = q_geo_tgt.loc[train_topics['id']]\n",
    "eval_geo_qtgt = q_geo_tgt.loc[eval_topics['id']]"
   ]
  },
  {
   "cell_type": "markdown",
   "id": "a4275a4f",
   "metadata": {},
   "source": [
    "And save data."
   ]
  },
  {
   "cell_type": "code",
   "execution_count": null,
   "id": "65281711",
   "metadata": {},
   "outputs": [],
   "source": [
    "save_table(train_geo_qtgt, 'task2-train-geo-targets')\n",
    "save_table(eval_geo_qtgt, 'task2-eval-geo-targets')"
   ]
  },
  {
   "cell_type": "markdown",
   "id": "7165c288",
   "metadata": {},
   "source": [
    "### Intersectional Alignment\n",
    "\n",
    "Now we need to compute the intersectional targets for Task 2.  We're going to take a slightly different approach here, based on the intersectional logic for Task 1, because we've come up with better ways to write the code, but the effect is the same: only known aspects are averaged.\n",
    "\n",
    "We'll write a function very similar to the one for Task 1:"
   ]
  },
  {
   "cell_type": "code",
   "execution_count": null,
   "id": "90ecc4b6",
   "metadata": {},
   "outputs": [],
   "source": [
    "def query_xideal(qdf, ravel=True):\n",
    "    pages = qdf['page_id']\n",
    "    pages = pages[pages.isin(page_xalign.indexes['page'])]\n",
    "    q_xa = page_xalign.loc[pages.values, :, :]\n",
    "    \n",
    "    # now we need to get the exposure for the pages, and multiply\n",
    "    p_exp = qp_exp.loc[qdf.name]\n",
    "    assert p_exp.index.is_unique\n",
    "    p_exp = xr.DataArray(p_exp, dims=['page'])\n",
    "    \n",
    "    # and we multiply!\n",
    "    q_xa = q_xa * p_exp\n",
    "\n",
    "    # normalize into a matrix (this time we don't clear)\n",
    "    q_am = q_xa.sum(axis=0)\n",
    "    q_am = q_am / q_am.sum()\n",
    "    \n",
    "    # compute fractions in each section - combined with q_am[0,0], this should be about 1\n",
    "    q_fk_all = q_am[1:, 1:].sum()\n",
    "    q_fk_geo = q_am[1:, :1].sum()\n",
    "    q_fk_gen = q_am[:1, 1:].sum()\n",
    "    \n",
    "    # known average\n",
    "    q_am[1:, 1:] *= 0.5\n",
    "    q_am[1:, 1:] += int_tgt * 0.5 * q_fk_all\n",
    "    \n",
    "    # known-geo average\n",
    "    q_am[1:, :1] *= 0.5\n",
    "    q_am[1:, :1] += geo_tgt_xa * 0.5 * q_fk_geo\n",
    "    \n",
    "    # known-gender average\n",
    "    q_am[:1, 1:] *= 0.5\n",
    "    q_am[:1, 1:] += gender_tgt_xa * 0.5 * q_fk_gen\n",
    "    \n",
    "    # and return the result\n",
    "    if ravel:\n",
    "        return pd.Series(q_am.values.ravel())\n",
    "    else:\n",
    "        return q_am"
=======
   "execution_count": 92,
   "id": "ac94ffb7-9c4c-4009-b521-6e9c7ac2cfc2",
   "metadata": {},
   "outputs": [],
   "source": [
    "def case_selector(case):\n",
    "    def mksel(known):\n",
    "        if known:\n",
    "            # select all but 1st column\n",
    "            return slice(1, None, None)\n",
    "        else:\n",
    "            # select 1st column\n",
    "            return 0\n",
    "    \n",
    "    return tuple(mksel(k) for k in case)"
   ]
  },
  {
   "cell_type": "markdown",
   "id": "6c8a225c-ba1c-4b37-9c1d-e0a14cfe75ae",
   "metadata": {},
   "source": [
    "### Background Averaging\n",
    "\n",
    "We're now going to define our background-averaging function; this is reused from the Task 1 alignment code.\n",
    "\n",
    "For each condition, we are going to proceed as follows:\n",
    "\n",
    "1. Compute an appropriate intersectional background distribution (based on the dimensions that are \"known\")\n",
    "2. Select the subset of the target matrix with this known status\n",
    "3. Compute the sum of this subset\n",
    "4. Re-normalize the subset to sum to 1\n",
    "5. Compute a normalization table such that each coordinate in the distributions to correct sums to 1 (so multiplying this by the background distribution spreads the background across the other dimensions appropriately), and use this to spread the background distribution\n",
    "6. Average with the spread background distribution\n",
    "7. Re-normalize to preserve the original sum\n",
    "\n",
    "Let's define the whole process as a function:"
   ]
  },
  {
   "cell_type": "code",
   "execution_count": 84,
   "id": "a584d651-c27f-46f5-bf16-40526babaa91",
   "metadata": {},
   "outputs": [],
   "source": [
    "def avg_with_bg(tm, verbose=False):\n",
    "    tm = tm.copy()\n",
    "    \n",
    "    tail_names = [d.name for d in raw_dims]\n",
    "    \n",
    "    # compute the tail mass for each coordinate (can be done once)\n",
    "    tail_mass = tm.sum(tail_names)\n",
    "    \n",
    "    # now some things don't have any mass, but we still need to distribute background distributions.\n",
    "    # solution: we impute the marginal tail distribution\n",
    "    # first compute it\n",
    "    tail_marg = tm.sum([d.name for d in avg_dims])\n",
    "    # then impute that where we don't have mass\n",
    "    tm_imputed = xr.where(tail_mass > 0, tm, tail_marg)\n",
    "    # and re-compute the tail mass\n",
    "    tail_mass = tm_imputed.sum(tail_names)\n",
    "    # and finally we compute the rescaled matrix\n",
    "    tail_scale = tm_imputed / tail_mass\n",
    "    del tm_imputed\n",
    "    \n",
    "    for case in avg_cases:\n",
    "        # for deugging: get names\n",
    "        known_names = [d.name for (d, known) in zip(avg_dims, case) if known]\n",
    "        if verbose:\n",
    "            print('processing known:', known_names)\n",
    "        \n",
    "        # Step 1: background\n",
    "        bg = reduce(operator.mul, [\n",
    "            d.background\n",
    "            for (d, known) in zip(avg_dims, case)\n",
    "            if known\n",
    "        ])\n",
    "        if not np.allclose(bg.sum(), 1.0):\n",
    "            warnings.warn('background distribution for {} sums to {}, expected 1'.format(known_names, bg.values.sum()))\n",
    "        \n",
    "        # Step 2: selector\n",
    "        sel = case_selector(case)\n",
    "        \n",
    "        # Steps 3: sum in preparation for normalization\n",
    "        c_sum = tm[sel].sum()\n",
    "        \n",
    "        # Step 5: spread the background\n",
    "        bg_spread = bg * tail_scale[sel] * c_sum\n",
    "        if not np.allclose(bg_spread.sum(), c_sum):\n",
    "            warnings.warn('rescaled background sums to {}, expected c_sum'.format(bg_spread.values.sum()))\n",
    "        \n",
    "        # Step 4 & 6: average with the background\n",
    "        tm[sel] *= 0.5\n",
    "        bg_spread *= 0.5\n",
    "        tm[sel] += bg_spread\n",
    "                        \n",
    "        if not np.allclose(tm[sel].sum(), c_sum):\n",
    "            warnings.warn('target distribution for {} sums to {}, expected {}'.format(known_names, tm[sel].values.sum(), c_sum))\n",
    "    \n",
    "    return tm"
   ]
  },
  {
   "cell_type": "markdown",
   "id": "15272953-adc2-4cfd-89a4-10a9cc5e473c",
   "metadata": {},
   "source": [
    "### Computing Targets\n",
    "\n",
    "We're now ready to compute a multidimensional target. This works like the Task 1, with the difference that we are propagating work needed into the targets as well; the input will be series whose *index* is page IDs and values are the work levels."
   ]
  },
  {
   "cell_type": "code",
   "execution_count": 85,
   "id": "921722fd-684c-43b0-8b2a-07c3a8f873ac",
   "metadata": {},
   "outputs": [],
   "source": [
    "def query_xalign(pages):\n",
    "    # compute targets to average\n",
    "    avg_pages = reduce(operator.mul, [d.align.loc[pages.index] for d in avg_dims])\n",
    "    raw_pages = reduce(operator.mul, [d.align.loc[pages.index] for d in raw_dims])\n",
    "    \n",
    "    # weight the left pages\n",
    "    pages.index.name = 'page'\n",
    "    qpw = xr.DataArray.from_series(pages)\n",
    "    avg_pages = avg_pages * qpw\n",
    "\n",
    "    # convert to query distribution\n",
    "    tgt = sum_outer(avg_pages, raw_pages)\n",
    "    tgt /= qpw.sum()\n",
    "\n",
    "    # average with background distributions\n",
    "    tgt = avg_with_bg(tgt)\n",
    "    \n",
    "    # and return the result\n",
    "    return tgt"
>>>>>>> main
   ]
  },
  {
   "cell_type": "markdown",
<<<<<<< HEAD
   "id": "8e32ac33",
   "metadata": {},
   "source": [
    "Test this function out:"
=======
   "id": "e51433a1-0163-4fa0-b05a-908fd3a71d5d",
   "metadata": {},
   "source": [
    "### Applying Computations\n",
    "\n",
    "Now let's run this thing - compute all the target distributions:"
>>>>>>> main
   ]
  },
  {
   "cell_type": "code",
<<<<<<< HEAD
   "execution_count": null,
   "id": "64675a65",
   "metadata": {},
   "outputs": [],
   "source": [
    "query_xideal(qdf, ravel=False)"
=======
   "execution_count": 107,
   "id": "6fe51dde-1c99-4913-9718-2eff63d94954",
   "metadata": {},
   "outputs": [
    {
     "data": {
      "text/plain": [
       "Int64Index([  84,  111,  265,  323,  396,  397,  403,  409,  426,  475,  594,\n",
       "             604,  620,  666,  677,  716,  724,  726,  765,  770,  785,  805,\n",
       "             893,  956, 1055, 1102, 1225, 1319, 1343, 1368, 1371, 1412, 1457,\n",
       "            1509, 1565, 1625, 1630, 1656, 1715, 1773, 1970, 2006, 2213, 2230,\n",
       "            2272, 2365, 2429, 2465, 2741, 2859],\n",
       "           dtype='int64', name='topic_id')"
      ]
     },
     "execution_count": 107,
     "metadata": {},
     "output_type": "execute_result"
    }
   ],
   "source": [
    "q_ids = qp_exp.index.levels[0].copy()\n",
    "q_ids"
   ]
  },
  {
   "cell_type": "code",
   "execution_count": 108,
   "id": "f6091b56-9652-45d4-9f8b-c14395dc0975",
   "metadata": {},
   "outputs": [
    {
     "data": {
      "application/vnd.jupyter.widget-view+json": {
       "model_id": "9ddef3a0aed8416aa8047023f5067516",
       "version_major": 2,
       "version_minor": 0
      },
      "text/plain": [
       "  0%|          | 0/50 [00:00<?, ?it/s]"
      ]
     },
     "metadata": {},
     "output_type": "display_data"
    }
   ],
   "source": [
    "q_tgts = [query_xalign(qp_exp.loc[q]) for q in tqdm(q_ids)]"
   ]
  },
  {
   "cell_type": "code",
   "execution_count": 109,
   "id": "7c153039-f250-4c9e-b0a0-26ca2a50bda3",
   "metadata": {},
   "outputs": [
    {
     "data": {
      "text/html": [
       "<div><svg style=\"position: absolute; width: 0; height: 0; overflow: hidden\">\n",
       "<defs>\n",
       "<symbol id=\"icon-database\" viewBox=\"0 0 32 32\">\n",
       "<path d=\"M16 0c-8.837 0-16 2.239-16 5v4c0 2.761 7.163 5 16 5s16-2.239 16-5v-4c0-2.761-7.163-5-16-5z\"></path>\n",
       "<path d=\"M16 17c-8.837 0-16-2.239-16-5v6c0 2.761 7.163 5 16 5s16-2.239 16-5v-6c0 2.761-7.163 5-16 5z\"></path>\n",
       "<path d=\"M16 26c-8.837 0-16-2.239-16-5v6c0 2.761 7.163 5 16 5s16-2.239 16-5v-6c0 2.761-7.163 5-16 5z\"></path>\n",
       "</symbol>\n",
       "<symbol id=\"icon-file-text2\" viewBox=\"0 0 32 32\">\n",
       "<path d=\"M28.681 7.159c-0.694-0.947-1.662-2.053-2.724-3.116s-2.169-2.030-3.116-2.724c-1.612-1.182-2.393-1.319-2.841-1.319h-15.5c-1.378 0-2.5 1.121-2.5 2.5v27c0 1.378 1.122 2.5 2.5 2.5h23c1.378 0 2.5-1.122 2.5-2.5v-19.5c0-0.448-0.137-1.23-1.319-2.841zM24.543 5.457c0.959 0.959 1.712 1.825 2.268 2.543h-4.811v-4.811c0.718 0.556 1.584 1.309 2.543 2.268zM28 29.5c0 0.271-0.229 0.5-0.5 0.5h-23c-0.271 0-0.5-0.229-0.5-0.5v-27c0-0.271 0.229-0.5 0.5-0.5 0 0 15.499-0 15.5 0v7c0 0.552 0.448 1 1 1h7v19.5z\"></path>\n",
       "<path d=\"M23 26h-14c-0.552 0-1-0.448-1-1s0.448-1 1-1h14c0.552 0 1 0.448 1 1s-0.448 1-1 1z\"></path>\n",
       "<path d=\"M23 22h-14c-0.552 0-1-0.448-1-1s0.448-1 1-1h14c0.552 0 1 0.448 1 1s-0.448 1-1 1z\"></path>\n",
       "<path d=\"M23 18h-14c-0.552 0-1-0.448-1-1s0.448-1 1-1h14c0.552 0 1 0.448 1 1s-0.448 1-1 1z\"></path>\n",
       "</symbol>\n",
       "</defs>\n",
       "</svg>\n",
       "<style>/* CSS stylesheet for displaying xarray objects in jupyterlab.\n",
       " *\n",
       " */\n",
       "\n",
       ":root {\n",
       "  --xr-font-color0: var(--jp-content-font-color0, rgba(0, 0, 0, 1));\n",
       "  --xr-font-color2: var(--jp-content-font-color2, rgba(0, 0, 0, 0.54));\n",
       "  --xr-font-color3: var(--jp-content-font-color3, rgba(0, 0, 0, 0.38));\n",
       "  --xr-border-color: var(--jp-border-color2, #e0e0e0);\n",
       "  --xr-disabled-color: var(--jp-layout-color3, #bdbdbd);\n",
       "  --xr-background-color: var(--jp-layout-color0, white);\n",
       "  --xr-background-color-row-even: var(--jp-layout-color1, white);\n",
       "  --xr-background-color-row-odd: var(--jp-layout-color2, #eeeeee);\n",
       "}\n",
       "\n",
       "html[theme=dark],\n",
       "body[data-theme=dark],\n",
       "body.vscode-dark {\n",
       "  --xr-font-color0: rgba(255, 255, 255, 1);\n",
       "  --xr-font-color2: rgba(255, 255, 255, 0.54);\n",
       "  --xr-font-color3: rgba(255, 255, 255, 0.38);\n",
       "  --xr-border-color: #1F1F1F;\n",
       "  --xr-disabled-color: #515151;\n",
       "  --xr-background-color: #111111;\n",
       "  --xr-background-color-row-even: #111111;\n",
       "  --xr-background-color-row-odd: #313131;\n",
       "}\n",
       "\n",
       ".xr-wrap {\n",
       "  display: block !important;\n",
       "  min-width: 300px;\n",
       "  max-width: 700px;\n",
       "}\n",
       "\n",
       ".xr-text-repr-fallback {\n",
       "  /* fallback to plain text repr when CSS is not injected (untrusted notebook) */\n",
       "  display: none;\n",
       "}\n",
       "\n",
       ".xr-header {\n",
       "  padding-top: 6px;\n",
       "  padding-bottom: 6px;\n",
       "  margin-bottom: 4px;\n",
       "  border-bottom: solid 1px var(--xr-border-color);\n",
       "}\n",
       "\n",
       ".xr-header > div,\n",
       ".xr-header > ul {\n",
       "  display: inline;\n",
       "  margin-top: 0;\n",
       "  margin-bottom: 0;\n",
       "}\n",
       "\n",
       ".xr-obj-type,\n",
       ".xr-array-name {\n",
       "  margin-left: 2px;\n",
       "  margin-right: 10px;\n",
       "}\n",
       "\n",
       ".xr-obj-type {\n",
       "  color: var(--xr-font-color2);\n",
       "}\n",
       "\n",
       ".xr-sections {\n",
       "  padding-left: 0 !important;\n",
       "  display: grid;\n",
       "  grid-template-columns: 150px auto auto 1fr 20px 20px;\n",
       "}\n",
       "\n",
       ".xr-section-item {\n",
       "  display: contents;\n",
       "}\n",
       "\n",
       ".xr-section-item input {\n",
       "  display: none;\n",
       "}\n",
       "\n",
       ".xr-section-item input + label {\n",
       "  color: var(--xr-disabled-color);\n",
       "}\n",
       "\n",
       ".xr-section-item input:enabled + label {\n",
       "  cursor: pointer;\n",
       "  color: var(--xr-font-color2);\n",
       "}\n",
       "\n",
       ".xr-section-item input:enabled + label:hover {\n",
       "  color: var(--xr-font-color0);\n",
       "}\n",
       "\n",
       ".xr-section-summary {\n",
       "  grid-column: 1;\n",
       "  color: var(--xr-font-color2);\n",
       "  font-weight: 500;\n",
       "}\n",
       "\n",
       ".xr-section-summary > span {\n",
       "  display: inline-block;\n",
       "  padding-left: 0.5em;\n",
       "}\n",
       "\n",
       ".xr-section-summary-in:disabled + label {\n",
       "  color: var(--xr-font-color2);\n",
       "}\n",
       "\n",
       ".xr-section-summary-in + label:before {\n",
       "  display: inline-block;\n",
       "  content: '►';\n",
       "  font-size: 11px;\n",
       "  width: 15px;\n",
       "  text-align: center;\n",
       "}\n",
       "\n",
       ".xr-section-summary-in:disabled + label:before {\n",
       "  color: var(--xr-disabled-color);\n",
       "}\n",
       "\n",
       ".xr-section-summary-in:checked + label:before {\n",
       "  content: '▼';\n",
       "}\n",
       "\n",
       ".xr-section-summary-in:checked + label > span {\n",
       "  display: none;\n",
       "}\n",
       "\n",
       ".xr-section-summary,\n",
       ".xr-section-inline-details {\n",
       "  padding-top: 4px;\n",
       "  padding-bottom: 4px;\n",
       "}\n",
       "\n",
       ".xr-section-inline-details {\n",
       "  grid-column: 2 / -1;\n",
       "}\n",
       "\n",
       ".xr-section-details {\n",
       "  display: none;\n",
       "  grid-column: 1 / -1;\n",
       "  margin-bottom: 5px;\n",
       "}\n",
       "\n",
       ".xr-section-summary-in:checked ~ .xr-section-details {\n",
       "  display: contents;\n",
       "}\n",
       "\n",
       ".xr-array-wrap {\n",
       "  grid-column: 1 / -1;\n",
       "  display: grid;\n",
       "  grid-template-columns: 20px auto;\n",
       "}\n",
       "\n",
       ".xr-array-wrap > label {\n",
       "  grid-column: 1;\n",
       "  vertical-align: top;\n",
       "}\n",
       "\n",
       ".xr-preview {\n",
       "  color: var(--xr-font-color3);\n",
       "}\n",
       "\n",
       ".xr-array-preview,\n",
       ".xr-array-data {\n",
       "  padding: 0 5px !important;\n",
       "  grid-column: 2;\n",
       "}\n",
       "\n",
       ".xr-array-data,\n",
       ".xr-array-in:checked ~ .xr-array-preview {\n",
       "  display: none;\n",
       "}\n",
       "\n",
       ".xr-array-in:checked ~ .xr-array-data,\n",
       ".xr-array-preview {\n",
       "  display: inline-block;\n",
       "}\n",
       "\n",
       ".xr-dim-list {\n",
       "  display: inline-block !important;\n",
       "  list-style: none;\n",
       "  padding: 0 !important;\n",
       "  margin: 0;\n",
       "}\n",
       "\n",
       ".xr-dim-list li {\n",
       "  display: inline-block;\n",
       "  padding: 0;\n",
       "  margin: 0;\n",
       "}\n",
       "\n",
       ".xr-dim-list:before {\n",
       "  content: '(';\n",
       "}\n",
       "\n",
       ".xr-dim-list:after {\n",
       "  content: ')';\n",
       "}\n",
       "\n",
       ".xr-dim-list li:not(:last-child):after {\n",
       "  content: ',';\n",
       "  padding-right: 5px;\n",
       "}\n",
       "\n",
       ".xr-has-index {\n",
       "  font-weight: bold;\n",
       "}\n",
       "\n",
       ".xr-var-list,\n",
       ".xr-var-item {\n",
       "  display: contents;\n",
       "}\n",
       "\n",
       ".xr-var-item > div,\n",
       ".xr-var-item label,\n",
       ".xr-var-item > .xr-var-name span {\n",
       "  background-color: var(--xr-background-color-row-even);\n",
       "  margin-bottom: 0;\n",
       "}\n",
       "\n",
       ".xr-var-item > .xr-var-name:hover span {\n",
       "  padding-right: 5px;\n",
       "}\n",
       "\n",
       ".xr-var-list > li:nth-child(odd) > div,\n",
       ".xr-var-list > li:nth-child(odd) > label,\n",
       ".xr-var-list > li:nth-child(odd) > .xr-var-name span {\n",
       "  background-color: var(--xr-background-color-row-odd);\n",
       "}\n",
       "\n",
       ".xr-var-name {\n",
       "  grid-column: 1;\n",
       "}\n",
       "\n",
       ".xr-var-dims {\n",
       "  grid-column: 2;\n",
       "}\n",
       "\n",
       ".xr-var-dtype {\n",
       "  grid-column: 3;\n",
       "  text-align: right;\n",
       "  color: var(--xr-font-color2);\n",
       "}\n",
       "\n",
       ".xr-var-preview {\n",
       "  grid-column: 4;\n",
       "}\n",
       "\n",
       ".xr-var-name,\n",
       ".xr-var-dims,\n",
       ".xr-var-dtype,\n",
       ".xr-preview,\n",
       ".xr-attrs dt {\n",
       "  white-space: nowrap;\n",
       "  overflow: hidden;\n",
       "  text-overflow: ellipsis;\n",
       "  padding-right: 10px;\n",
       "}\n",
       "\n",
       ".xr-var-name:hover,\n",
       ".xr-var-dims:hover,\n",
       ".xr-var-dtype:hover,\n",
       ".xr-attrs dt:hover {\n",
       "  overflow: visible;\n",
       "  width: auto;\n",
       "  z-index: 1;\n",
       "}\n",
       "\n",
       ".xr-var-attrs,\n",
       ".xr-var-data {\n",
       "  display: none;\n",
       "  background-color: var(--xr-background-color) !important;\n",
       "  padding-bottom: 5px !important;\n",
       "}\n",
       "\n",
       ".xr-var-attrs-in:checked ~ .xr-var-attrs,\n",
       ".xr-var-data-in:checked ~ .xr-var-data {\n",
       "  display: block;\n",
       "}\n",
       "\n",
       ".xr-var-data > table {\n",
       "  float: right;\n",
       "}\n",
       "\n",
       ".xr-var-name span,\n",
       ".xr-var-data,\n",
       ".xr-attrs {\n",
       "  padding-left: 25px !important;\n",
       "}\n",
       "\n",
       ".xr-attrs,\n",
       ".xr-var-attrs,\n",
       ".xr-var-data {\n",
       "  grid-column: 1 / -1;\n",
       "}\n",
       "\n",
       "dl.xr-attrs {\n",
       "  padding: 0;\n",
       "  margin: 0;\n",
       "  display: grid;\n",
       "  grid-template-columns: 125px auto;\n",
       "}\n",
       "\n",
       ".xr-attrs dt,\n",
       ".xr-attrs dd {\n",
       "  padding: 0;\n",
       "  margin: 0;\n",
       "  float: left;\n",
       "  padding-right: 10px;\n",
       "  width: auto;\n",
       "}\n",
       "\n",
       ".xr-attrs dt {\n",
       "  font-weight: normal;\n",
       "  grid-column: 1;\n",
       "}\n",
       "\n",
       ".xr-attrs dt:hover span {\n",
       "  display: inline-block;\n",
       "  background: var(--xr-background-color);\n",
       "  padding-right: 10px;\n",
       "}\n",
       "\n",
       ".xr-attrs dd {\n",
       "  grid-column: 2;\n",
       "  white-space: pre-wrap;\n",
       "  word-break: break-all;\n",
       "}\n",
       "\n",
       ".xr-icon-database,\n",
       ".xr-icon-file-text2 {\n",
       "  display: inline-block;\n",
       "  vertical-align: middle;\n",
       "  width: 1em;\n",
       "  height: 1.5em !important;\n",
       "  stroke-width: 0;\n",
       "  stroke: currentColor;\n",
       "  fill: currentColor;\n",
       "}\n",
       "</style><pre class='xr-text-repr-fallback'>&lt;xarray.DataArray (topic_id: 50, sub-geo: 21, src-geo: 21, gender: 4, occ: 33,\n",
       "                   alpha: 4, age: 4, pop: 4, langs: 3)&gt;\n",
       "array([[[[[[[[[6.07871210e-09, 1.21035558e-06, 9.46113102e-09],\n",
       "              [2.12577205e-07, 1.78709463e-07, 4.62154831e-07],\n",
       "              [2.92623531e-07, 7.42976336e-07, 7.02550534e-08],\n",
       "              [2.19212976e-07, 3.79518332e-07, 2.81083033e-07]],\n",
       "\n",
       "             [[1.26147181e-08, 9.74574457e-08, 0.00000000e+00],\n",
       "              [8.48377612e-07, 1.76829539e-07, 1.13926990e-06],\n",
       "              [2.13129478e-07, 3.45212773e-07, 5.31455467e-08],\n",
       "              [6.53407457e-07, 2.57971707e-07, 2.18156815e-07]],\n",
       "\n",
       "             [[1.56425437e-08, 2.51663834e-08, 0.00000000e+00],\n",
       "              [6.02291453e-07, 1.97919408e-07, 6.27077886e-07],\n",
       "              [4.87154582e-08, 9.98267615e-08, 4.53251414e-08],\n",
       "              [1.31716995e-07, 5.97327585e-08, 1.40934987e-07]],\n",
       "\n",
       "             [[1.98410998e-08, 2.45172166e-09, 7.36838219e-09],\n",
       "              [4.46879269e-07, 2.22562869e-07, 6.85380135e-07],\n",
       "              [3.38296914e-08, 1.13785802e-08, 6.62360560e-08],\n",
       "              [1.21205656e-07, 4.97338354e-08, 1.66474905e-07]]],\n",
       "\n",
       "...\n",
       "\n",
       "            [[[0.00000000e+00, 0.00000000e+00, 0.00000000e+00],\n",
       "              [0.00000000e+00, 0.00000000e+00, 0.00000000e+00],\n",
       "              [0.00000000e+00, 0.00000000e+00, 0.00000000e+00],\n",
       "              [0.00000000e+00, 0.00000000e+00, 0.00000000e+00]],\n",
       "\n",
       "             [[0.00000000e+00, 0.00000000e+00, 0.00000000e+00],\n",
       "              [0.00000000e+00, 0.00000000e+00, 0.00000000e+00],\n",
       "              [0.00000000e+00, 0.00000000e+00, 0.00000000e+00],\n",
       "              [0.00000000e+00, 0.00000000e+00, 0.00000000e+00]],\n",
       "\n",
       "             [[0.00000000e+00, 0.00000000e+00, 0.00000000e+00],\n",
       "              [0.00000000e+00, 0.00000000e+00, 0.00000000e+00],\n",
       "              [0.00000000e+00, 0.00000000e+00, 0.00000000e+00],\n",
       "              [0.00000000e+00, 0.00000000e+00, 0.00000000e+00]],\n",
       "\n",
       "             [[0.00000000e+00, 0.00000000e+00, 0.00000000e+00],\n",
       "              [0.00000000e+00, 0.00000000e+00, 0.00000000e+00],\n",
       "              [0.00000000e+00, 0.00000000e+00, 0.00000000e+00],\n",
       "              [0.00000000e+00, 0.00000000e+00, 0.00000000e+00]]]]]]]]])\n",
       "Coordinates:\n",
       "  * sub-geo   (sub-geo) object &#x27;@UNKNOWN&#x27; &#x27;Antarctica&#x27; ... &#x27;Western Europe&#x27;\n",
       "  * src-geo   (src-geo) object &#x27;@UNKNOWN&#x27; &#x27;Antarctica&#x27; ... &#x27;Western Europe&#x27;\n",
       "  * gender    (gender) object &#x27;@UNKNOWN&#x27; &#x27;female&#x27; &#x27;male&#x27; &#x27;NB&#x27;\n",
       "  * occ       (occ) object &#x27;@UNKNOWN&#x27; &#x27;activist&#x27; ... &#x27;writer&#x27;\n",
       "  * alpha     (alpha) object &#x27;a-d&#x27; &#x27;e-k&#x27; &#x27;l-r&#x27; &#x27;s-&#x27;\n",
       "  * age       (age) object &#x27;2001-2006&#x27; &#x27;2007-2011&#x27; &#x27;2012-2016&#x27; &#x27;2017-2022&#x27;\n",
       "  * pop       (pop) object &#x27;High&#x27; &#x27;Low&#x27; &#x27;Medium-High&#x27; &#x27;Medium-Low&#x27;\n",
       "  * langs     (langs) object &#x27;2-4 languages&#x27; &#x27;5+ languages&#x27; &#x27;English only&#x27;\n",
       "  * topic_id  (topic_id) int64 84 111 265 323 396 ... 2365 2429 2465 2741 2859</pre><div class='xr-wrap' style='display:none'><div class='xr-header'><div class='xr-obj-type'>xarray.DataArray</div><div class='xr-array-name'></div><ul class='xr-dim-list'><li><span class='xr-has-index'>topic_id</span>: 50</li><li><span class='xr-has-index'>sub-geo</span>: 21</li><li><span class='xr-has-index'>src-geo</span>: 21</li><li><span class='xr-has-index'>gender</span>: 4</li><li><span class='xr-has-index'>occ</span>: 33</li><li><span class='xr-has-index'>alpha</span>: 4</li><li><span class='xr-has-index'>age</span>: 4</li><li><span class='xr-has-index'>pop</span>: 4</li><li><span class='xr-has-index'>langs</span>: 3</li></ul></div><ul class='xr-sections'><li class='xr-section-item'><div class='xr-array-wrap'><input id='section-be0b997d-968b-46a5-828e-ce971bdc484f' class='xr-array-in' type='checkbox' checked><label for='section-be0b997d-968b-46a5-828e-ce971bdc484f' title='Show/hide data repr'><svg class='icon xr-icon-database'><use xlink:href='#icon-database'></use></svg></label><div class='xr-array-preview xr-preview'><span>6.079e-09 1.21e-06 9.461e-09 2.126e-07 1.787e-07 ... 0.0 0.0 0.0 0.0</span></div><div class='xr-array-data'><pre>array([[[[[[[[[6.07871210e-09, 1.21035558e-06, 9.46113102e-09],\n",
       "              [2.12577205e-07, 1.78709463e-07, 4.62154831e-07],\n",
       "              [2.92623531e-07, 7.42976336e-07, 7.02550534e-08],\n",
       "              [2.19212976e-07, 3.79518332e-07, 2.81083033e-07]],\n",
       "\n",
       "             [[1.26147181e-08, 9.74574457e-08, 0.00000000e+00],\n",
       "              [8.48377612e-07, 1.76829539e-07, 1.13926990e-06],\n",
       "              [2.13129478e-07, 3.45212773e-07, 5.31455467e-08],\n",
       "              [6.53407457e-07, 2.57971707e-07, 2.18156815e-07]],\n",
       "\n",
       "             [[1.56425437e-08, 2.51663834e-08, 0.00000000e+00],\n",
       "              [6.02291453e-07, 1.97919408e-07, 6.27077886e-07],\n",
       "              [4.87154582e-08, 9.98267615e-08, 4.53251414e-08],\n",
       "              [1.31716995e-07, 5.97327585e-08, 1.40934987e-07]],\n",
       "\n",
       "             [[1.98410998e-08, 2.45172166e-09, 7.36838219e-09],\n",
       "              [4.46879269e-07, 2.22562869e-07, 6.85380135e-07],\n",
       "              [3.38296914e-08, 1.13785802e-08, 6.62360560e-08],\n",
       "              [1.21205656e-07, 4.97338354e-08, 1.66474905e-07]]],\n",
       "\n",
       "...\n",
       "\n",
       "            [[[0.00000000e+00, 0.00000000e+00, 0.00000000e+00],\n",
       "              [0.00000000e+00, 0.00000000e+00, 0.00000000e+00],\n",
       "              [0.00000000e+00, 0.00000000e+00, 0.00000000e+00],\n",
       "              [0.00000000e+00, 0.00000000e+00, 0.00000000e+00]],\n",
       "\n",
       "             [[0.00000000e+00, 0.00000000e+00, 0.00000000e+00],\n",
       "              [0.00000000e+00, 0.00000000e+00, 0.00000000e+00],\n",
       "              [0.00000000e+00, 0.00000000e+00, 0.00000000e+00],\n",
       "              [0.00000000e+00, 0.00000000e+00, 0.00000000e+00]],\n",
       "\n",
       "             [[0.00000000e+00, 0.00000000e+00, 0.00000000e+00],\n",
       "              [0.00000000e+00, 0.00000000e+00, 0.00000000e+00],\n",
       "              [0.00000000e+00, 0.00000000e+00, 0.00000000e+00],\n",
       "              [0.00000000e+00, 0.00000000e+00, 0.00000000e+00]],\n",
       "\n",
       "             [[0.00000000e+00, 0.00000000e+00, 0.00000000e+00],\n",
       "              [0.00000000e+00, 0.00000000e+00, 0.00000000e+00],\n",
       "              [0.00000000e+00, 0.00000000e+00, 0.00000000e+00],\n",
       "              [0.00000000e+00, 0.00000000e+00, 0.00000000e+00]]]]]]]]])</pre></div></div></li><li class='xr-section-item'><input id='section-7eb8f7eb-1c27-4a5f-8585-6a0268415a3f' class='xr-section-summary-in' type='checkbox'  checked><label for='section-7eb8f7eb-1c27-4a5f-8585-6a0268415a3f' class='xr-section-summary' >Coordinates: <span>(9)</span></label><div class='xr-section-inline-details'></div><div class='xr-section-details'><ul class='xr-var-list'><li class='xr-var-item'><div class='xr-var-name'><span class='xr-has-index'>sub-geo</span></div><div class='xr-var-dims'>(sub-geo)</div><div class='xr-var-dtype'>object</div><div class='xr-var-preview xr-preview'>&#x27;@UNKNOWN&#x27; ... &#x27;Western Europe&#x27;</div><input id='attrs-c03a2eb9-6c92-495d-b136-901abf82b93e' class='xr-var-attrs-in' type='checkbox' disabled><label for='attrs-c03a2eb9-6c92-495d-b136-901abf82b93e' title='Show/Hide attributes'><svg class='icon xr-icon-file-text2'><use xlink:href='#icon-file-text2'></use></svg></label><input id='data-87dd585c-b97c-439c-9158-82e3832119b7' class='xr-var-data-in' type='checkbox'><label for='data-87dd585c-b97c-439c-9158-82e3832119b7' title='Show/Hide data repr'><svg class='icon xr-icon-database'><use xlink:href='#icon-database'></use></svg></label><div class='xr-var-attrs'><dl class='xr-attrs'></dl></div><div class='xr-var-data'><pre>array([&#x27;@UNKNOWN&#x27;, &#x27;Antarctica&#x27;, &#x27;Caribbean&#x27;, &#x27;Central America&#x27;,\n",
       "       &#x27;Central Asia&#x27;, &#x27;Eastern Africa&#x27;, &#x27;Eastern Asia&#x27;, &#x27;Eastern Europe&#x27;,\n",
       "       &#x27;Middle Africa&#x27;, &#x27;Northern Africa&#x27;, &#x27;Northern America&#x27;,\n",
       "       &#x27;Northern Europe&#x27;, &#x27;Oceania&#x27;, &#x27;South America&#x27;, &#x27;South-eastern Asia&#x27;,\n",
       "       &#x27;Southern Africa&#x27;, &#x27;Southern Asia&#x27;, &#x27;Southern Europe&#x27;, &#x27;Western Africa&#x27;,\n",
       "       &#x27;Western Asia&#x27;, &#x27;Western Europe&#x27;], dtype=object)</pre></div></li><li class='xr-var-item'><div class='xr-var-name'><span class='xr-has-index'>src-geo</span></div><div class='xr-var-dims'>(src-geo)</div><div class='xr-var-dtype'>object</div><div class='xr-var-preview xr-preview'>&#x27;@UNKNOWN&#x27; ... &#x27;Western Europe&#x27;</div><input id='attrs-dc12f86b-b5e9-41e1-bc41-65861d66eecc' class='xr-var-attrs-in' type='checkbox' disabled><label for='attrs-dc12f86b-b5e9-41e1-bc41-65861d66eecc' title='Show/Hide attributes'><svg class='icon xr-icon-file-text2'><use xlink:href='#icon-file-text2'></use></svg></label><input id='data-312f115a-5371-4f8e-9698-333a0f764f36' class='xr-var-data-in' type='checkbox'><label for='data-312f115a-5371-4f8e-9698-333a0f764f36' title='Show/Hide data repr'><svg class='icon xr-icon-database'><use xlink:href='#icon-database'></use></svg></label><div class='xr-var-attrs'><dl class='xr-attrs'></dl></div><div class='xr-var-data'><pre>array([&#x27;@UNKNOWN&#x27;, &#x27;Antarctica&#x27;, &#x27;Caribbean&#x27;, &#x27;Central America&#x27;,\n",
       "       &#x27;Central Asia&#x27;, &#x27;Eastern Africa&#x27;, &#x27;Eastern Asia&#x27;, &#x27;Eastern Europe&#x27;,\n",
       "       &#x27;Middle Africa&#x27;, &#x27;Northern Africa&#x27;, &#x27;Northern America&#x27;,\n",
       "       &#x27;Northern Europe&#x27;, &#x27;Oceania&#x27;, &#x27;South America&#x27;, &#x27;South-eastern Asia&#x27;,\n",
       "       &#x27;Southern Africa&#x27;, &#x27;Southern Asia&#x27;, &#x27;Southern Europe&#x27;, &#x27;Western Africa&#x27;,\n",
       "       &#x27;Western Asia&#x27;, &#x27;Western Europe&#x27;], dtype=object)</pre></div></li><li class='xr-var-item'><div class='xr-var-name'><span class='xr-has-index'>gender</span></div><div class='xr-var-dims'>(gender)</div><div class='xr-var-dtype'>object</div><div class='xr-var-preview xr-preview'>&#x27;@UNKNOWN&#x27; &#x27;female&#x27; &#x27;male&#x27; &#x27;NB&#x27;</div><input id='attrs-c2efe59e-16b7-4361-9e90-69ecce140663' class='xr-var-attrs-in' type='checkbox' disabled><label for='attrs-c2efe59e-16b7-4361-9e90-69ecce140663' title='Show/Hide attributes'><svg class='icon xr-icon-file-text2'><use xlink:href='#icon-file-text2'></use></svg></label><input id='data-b7d29618-227b-43c1-bc58-9099c85990a3' class='xr-var-data-in' type='checkbox'><label for='data-b7d29618-227b-43c1-bc58-9099c85990a3' title='Show/Hide data repr'><svg class='icon xr-icon-database'><use xlink:href='#icon-database'></use></svg></label><div class='xr-var-attrs'><dl class='xr-attrs'></dl></div><div class='xr-var-data'><pre>array([&#x27;@UNKNOWN&#x27;, &#x27;female&#x27;, &#x27;male&#x27;, &#x27;NB&#x27;], dtype=object)</pre></div></li><li class='xr-var-item'><div class='xr-var-name'><span class='xr-has-index'>occ</span></div><div class='xr-var-dims'>(occ)</div><div class='xr-var-dtype'>object</div><div class='xr-var-preview xr-preview'>&#x27;@UNKNOWN&#x27; &#x27;activist&#x27; ... &#x27;writer&#x27;</div><input id='attrs-82404ea7-61a2-45b2-b576-52280d6e872a' class='xr-var-attrs-in' type='checkbox' disabled><label for='attrs-82404ea7-61a2-45b2-b576-52280d6e872a' title='Show/Hide attributes'><svg class='icon xr-icon-file-text2'><use xlink:href='#icon-file-text2'></use></svg></label><input id='data-e6d48cfe-6db3-43fa-b3c7-69aaa72872ae' class='xr-var-data-in' type='checkbox'><label for='data-e6d48cfe-6db3-43fa-b3c7-69aaa72872ae' title='Show/Hide data repr'><svg class='icon xr-icon-database'><use xlink:href='#icon-database'></use></svg></label><div class='xr-var-attrs'><dl class='xr-attrs'></dl></div><div class='xr-var-data'><pre>array([&#x27;@UNKNOWN&#x27;, &#x27;activist&#x27;, &#x27;agricultural worker&#x27;, &#x27;artist&#x27;, &#x27;athlete&#x27;,\n",
       "       &#x27;biologist&#x27;, &#x27;businessperson&#x27;, &#x27;chemist&#x27;, &#x27;civil servant&#x27;,\n",
       "       &#x27;clergyperson&#x27;, &#x27;computer scientist&#x27;, &#x27;designer&#x27;, &#x27;earth scientist&#x27;,\n",
       "       &#x27;educator&#x27;, &#x27;engineer&#x27;, &#x27;health professional&#x27;, &#x27;humanities scholar&#x27;,\n",
       "       &#x27;information professional&#x27;, &#x27;journalist&#x27;, &#x27;jurist&#x27;, &#x27;linguist&#x27;,\n",
       "       &#x27;mathematician&#x27;, &#x27;media professional&#x27;, &#x27;military personnel&#x27;, &#x27;musician&#x27;,\n",
       "       &#x27;performing artist&#x27;, &#x27;physicist&#x27;, &#x27;politician&#x27;, &#x27;scientist&#x27;,\n",
       "       &#x27;social scientist&#x27;, &#x27;sportsperson (non-athlete)&#x27;,\n",
       "       &#x27;transportation occupation&#x27;, &#x27;writer&#x27;], dtype=object)</pre></div></li><li class='xr-var-item'><div class='xr-var-name'><span class='xr-has-index'>alpha</span></div><div class='xr-var-dims'>(alpha)</div><div class='xr-var-dtype'>object</div><div class='xr-var-preview xr-preview'>&#x27;a-d&#x27; &#x27;e-k&#x27; &#x27;l-r&#x27; &#x27;s-&#x27;</div><input id='attrs-567c6ac2-d90f-4b99-a7b4-6a448b4842d5' class='xr-var-attrs-in' type='checkbox' disabled><label for='attrs-567c6ac2-d90f-4b99-a7b4-6a448b4842d5' title='Show/Hide attributes'><svg class='icon xr-icon-file-text2'><use xlink:href='#icon-file-text2'></use></svg></label><input id='data-2d1a192d-3800-476a-9602-2714d8b029c7' class='xr-var-data-in' type='checkbox'><label for='data-2d1a192d-3800-476a-9602-2714d8b029c7' title='Show/Hide data repr'><svg class='icon xr-icon-database'><use xlink:href='#icon-database'></use></svg></label><div class='xr-var-attrs'><dl class='xr-attrs'></dl></div><div class='xr-var-data'><pre>array([&#x27;a-d&#x27;, &#x27;e-k&#x27;, &#x27;l-r&#x27;, &#x27;s-&#x27;], dtype=object)</pre></div></li><li class='xr-var-item'><div class='xr-var-name'><span class='xr-has-index'>age</span></div><div class='xr-var-dims'>(age)</div><div class='xr-var-dtype'>object</div><div class='xr-var-preview xr-preview'>&#x27;2001-2006&#x27; ... &#x27;2017-2022&#x27;</div><input id='attrs-03443d48-5475-4740-80a1-03866bad4ee5' class='xr-var-attrs-in' type='checkbox' disabled><label for='attrs-03443d48-5475-4740-80a1-03866bad4ee5' title='Show/Hide attributes'><svg class='icon xr-icon-file-text2'><use xlink:href='#icon-file-text2'></use></svg></label><input id='data-2ec5c560-0709-4fca-95f7-a89230147fad' class='xr-var-data-in' type='checkbox'><label for='data-2ec5c560-0709-4fca-95f7-a89230147fad' title='Show/Hide data repr'><svg class='icon xr-icon-database'><use xlink:href='#icon-database'></use></svg></label><div class='xr-var-attrs'><dl class='xr-attrs'></dl></div><div class='xr-var-data'><pre>array([&#x27;2001-2006&#x27;, &#x27;2007-2011&#x27;, &#x27;2012-2016&#x27;, &#x27;2017-2022&#x27;], dtype=object)</pre></div></li><li class='xr-var-item'><div class='xr-var-name'><span class='xr-has-index'>pop</span></div><div class='xr-var-dims'>(pop)</div><div class='xr-var-dtype'>object</div><div class='xr-var-preview xr-preview'>&#x27;High&#x27; &#x27;Low&#x27; ... &#x27;Medium-Low&#x27;</div><input id='attrs-b4b662ed-1ce3-4361-9d14-0692c3653fce' class='xr-var-attrs-in' type='checkbox' disabled><label for='attrs-b4b662ed-1ce3-4361-9d14-0692c3653fce' title='Show/Hide attributes'><svg class='icon xr-icon-file-text2'><use xlink:href='#icon-file-text2'></use></svg></label><input id='data-3f149c1a-dec6-4b62-b4af-6aa18e1cab49' class='xr-var-data-in' type='checkbox'><label for='data-3f149c1a-dec6-4b62-b4af-6aa18e1cab49' title='Show/Hide data repr'><svg class='icon xr-icon-database'><use xlink:href='#icon-database'></use></svg></label><div class='xr-var-attrs'><dl class='xr-attrs'></dl></div><div class='xr-var-data'><pre>array([&#x27;High&#x27;, &#x27;Low&#x27;, &#x27;Medium-High&#x27;, &#x27;Medium-Low&#x27;], dtype=object)</pre></div></li><li class='xr-var-item'><div class='xr-var-name'><span class='xr-has-index'>langs</span></div><div class='xr-var-dims'>(langs)</div><div class='xr-var-dtype'>object</div><div class='xr-var-preview xr-preview'>&#x27;2-4 languages&#x27; ... &#x27;English only&#x27;</div><input id='attrs-b7a33e0f-f2ce-412a-acb3-73b938115021' class='xr-var-attrs-in' type='checkbox' disabled><label for='attrs-b7a33e0f-f2ce-412a-acb3-73b938115021' title='Show/Hide attributes'><svg class='icon xr-icon-file-text2'><use xlink:href='#icon-file-text2'></use></svg></label><input id='data-3aed50d4-256b-49cb-b0aa-57edfe2a42b2' class='xr-var-data-in' type='checkbox'><label for='data-3aed50d4-256b-49cb-b0aa-57edfe2a42b2' title='Show/Hide data repr'><svg class='icon xr-icon-database'><use xlink:href='#icon-database'></use></svg></label><div class='xr-var-attrs'><dl class='xr-attrs'></dl></div><div class='xr-var-data'><pre>array([&#x27;2-4 languages&#x27;, &#x27;5+ languages&#x27;, &#x27;English only&#x27;], dtype=object)</pre></div></li><li class='xr-var-item'><div class='xr-var-name'><span class='xr-has-index'>topic_id</span></div><div class='xr-var-dims'>(topic_id)</div><div class='xr-var-dtype'>int64</div><div class='xr-var-preview xr-preview'>84 111 265 323 ... 2465 2741 2859</div><input id='attrs-ef7f03d9-c515-49ca-af75-53478a672ed6' class='xr-var-attrs-in' type='checkbox' disabled><label for='attrs-ef7f03d9-c515-49ca-af75-53478a672ed6' title='Show/Hide attributes'><svg class='icon xr-icon-file-text2'><use xlink:href='#icon-file-text2'></use></svg></label><input id='data-321dab3d-4d06-49cc-9a12-87d400d5a03a' class='xr-var-data-in' type='checkbox'><label for='data-321dab3d-4d06-49cc-9a12-87d400d5a03a' title='Show/Hide data repr'><svg class='icon xr-icon-database'><use xlink:href='#icon-database'></use></svg></label><div class='xr-var-attrs'><dl class='xr-attrs'></dl></div><div class='xr-var-data'><pre>array([  84,  111,  265,  323,  396,  397,  403,  409,  426,  475,  594,  604,\n",
       "        620,  666,  677,  716,  724,  726,  765,  770,  785,  805,  893,  956,\n",
       "       1055, 1102, 1225, 1319, 1343, 1368, 1371, 1412, 1457, 1509, 1565, 1625,\n",
       "       1630, 1656, 1715, 1773, 1970, 2006, 2213, 2230, 2272, 2365, 2429, 2465,\n",
       "       2741, 2859], dtype=int64)</pre></div></li></ul></div></li><li class='xr-section-item'><input id='section-e1b26cb0-8b9a-4f3b-b65a-ed53cd4a2ac7' class='xr-section-summary-in' type='checkbox' disabled ><label for='section-e1b26cb0-8b9a-4f3b-b65a-ed53cd4a2ac7' class='xr-section-summary'  title='Expand/collapse section'>Attributes: <span>(0)</span></label><div class='xr-section-inline-details'></div><div class='xr-section-details'><dl class='xr-attrs'></dl></div></li></ul></div></div>"
      ],
      "text/plain": [
       "<xarray.DataArray (topic_id: 50, sub-geo: 21, src-geo: 21, gender: 4, occ: 33,\n",
       "                   alpha: 4, age: 4, pop: 4, langs: 3)>\n",
       "array([[[[[[[[[6.07871210e-09, 1.21035558e-06, 9.46113102e-09],\n",
       "              [2.12577205e-07, 1.78709463e-07, 4.62154831e-07],\n",
       "              [2.92623531e-07, 7.42976336e-07, 7.02550534e-08],\n",
       "              [2.19212976e-07, 3.79518332e-07, 2.81083033e-07]],\n",
       "\n",
       "             [[1.26147181e-08, 9.74574457e-08, 0.00000000e+00],\n",
       "              [8.48377612e-07, 1.76829539e-07, 1.13926990e-06],\n",
       "              [2.13129478e-07, 3.45212773e-07, 5.31455467e-08],\n",
       "              [6.53407457e-07, 2.57971707e-07, 2.18156815e-07]],\n",
       "\n",
       "             [[1.56425437e-08, 2.51663834e-08, 0.00000000e+00],\n",
       "              [6.02291453e-07, 1.97919408e-07, 6.27077886e-07],\n",
       "              [4.87154582e-08, 9.98267615e-08, 4.53251414e-08],\n",
       "              [1.31716995e-07, 5.97327585e-08, 1.40934987e-07]],\n",
       "\n",
       "             [[1.98410998e-08, 2.45172166e-09, 7.36838219e-09],\n",
       "              [4.46879269e-07, 2.22562869e-07, 6.85380135e-07],\n",
       "              [3.38296914e-08, 1.13785802e-08, 6.62360560e-08],\n",
       "              [1.21205656e-07, 4.97338354e-08, 1.66474905e-07]]],\n",
       "\n",
       "...\n",
       "\n",
       "            [[[0.00000000e+00, 0.00000000e+00, 0.00000000e+00],\n",
       "              [0.00000000e+00, 0.00000000e+00, 0.00000000e+00],\n",
       "              [0.00000000e+00, 0.00000000e+00, 0.00000000e+00],\n",
       "              [0.00000000e+00, 0.00000000e+00, 0.00000000e+00]],\n",
       "\n",
       "             [[0.00000000e+00, 0.00000000e+00, 0.00000000e+00],\n",
       "              [0.00000000e+00, 0.00000000e+00, 0.00000000e+00],\n",
       "              [0.00000000e+00, 0.00000000e+00, 0.00000000e+00],\n",
       "              [0.00000000e+00, 0.00000000e+00, 0.00000000e+00]],\n",
       "\n",
       "             [[0.00000000e+00, 0.00000000e+00, 0.00000000e+00],\n",
       "              [0.00000000e+00, 0.00000000e+00, 0.00000000e+00],\n",
       "              [0.00000000e+00, 0.00000000e+00, 0.00000000e+00],\n",
       "              [0.00000000e+00, 0.00000000e+00, 0.00000000e+00]],\n",
       "\n",
       "             [[0.00000000e+00, 0.00000000e+00, 0.00000000e+00],\n",
       "              [0.00000000e+00, 0.00000000e+00, 0.00000000e+00],\n",
       "              [0.00000000e+00, 0.00000000e+00, 0.00000000e+00],\n",
       "              [0.00000000e+00, 0.00000000e+00, 0.00000000e+00]]]]]]]]])\n",
       "Coordinates:\n",
       "  * sub-geo   (sub-geo) object '@UNKNOWN' 'Antarctica' ... 'Western Europe'\n",
       "  * src-geo   (src-geo) object '@UNKNOWN' 'Antarctica' ... 'Western Europe'\n",
       "  * gender    (gender) object '@UNKNOWN' 'female' 'male' 'NB'\n",
       "  * occ       (occ) object '@UNKNOWN' 'activist' ... 'writer'\n",
       "  * alpha     (alpha) object 'a-d' 'e-k' 'l-r' 's-'\n",
       "  * age       (age) object '2001-2006' '2007-2011' '2012-2016' '2017-2022'\n",
       "  * pop       (pop) object 'High' 'Low' 'Medium-High' 'Medium-Low'\n",
       "  * langs     (langs) object '2-4 languages' '5+ languages' 'English only'\n",
       "  * topic_id  (topic_id) int64 84 111 265 323 396 ... 2365 2429 2465 2741 2859"
      ]
     },
     "execution_count": 109,
     "metadata": {},
     "output_type": "execute_result"
    }
   ],
   "source": [
    "q_tgts = xr.concat(q_tgts, q_ids)\n",
    "q_tgts"
>>>>>>> main
   ]
  },
  {
   "cell_type": "markdown",
<<<<<<< HEAD
   "id": "1a225501",
   "metadata": {},
   "source": [
    "And let's go!"
=======
   "id": "63a6026f-17a5-4eee-9da1-b9e5dd3ca87d",
   "metadata": {},
   "source": [
    "Save this to NetCDF (xarray's recommended format):"
>>>>>>> main
   ]
  },
  {
   "cell_type": "code",
<<<<<<< HEAD
   "execution_count": null,
   "id": "87029d06",
   "metadata": {},
   "outputs": [],
   "source": [
    "q_xtgt = qrels.groupby('id').progress_apply(query_xideal)\n",
    "q_xtgt"
   ]
  },
  {
   "cell_type": "code",
   "execution_count": null,
   "id": "64182234",
   "metadata": {},
   "outputs": [],
   "source": [
    "train_qtgt = q_xtgt.loc[train_topics['id']]\n",
    "eval_qtgt = q_xtgt.loc[eval_topics['id']]"
   ]
  },
  {
   "cell_type": "markdown",
   "id": "8fefeea6",
   "metadata": {},
   "source": [
    "And save our tables:"
   ]
  },
  {
   "cell_type": "code",
   "execution_count": null,
   "id": "83a04643",
   "metadata": {},
   "outputs": [],
   "source": [
    "save_table(train_qtgt, 'task2-train-int-targets')"
   ]
  },
  {
   "cell_type": "code",
   "execution_count": null,
   "id": "5efa107d",
   "metadata": {},
   "outputs": [],
   "source": [
    "save_table(eval_qtgt, 'task2-eval-int-targets')"
=======
   "execution_count": 110,
   "id": "26dbf0d4-4ba9-444c-aefc-fb053c2b6ac9",
   "metadata": {},
   "outputs": [
    {
     "name": "stderr",
     "output_type": "stream",
     "text": [
      "INFO:wptrec.save:saving NetCDF to data\\metric-tables\\task2-train-int-targets.nc\n"
     ]
    }
   ],
   "source": [
    "output.save_xarray(q_tgts, f'task2-{DATA_MODE}-int-targets')"
>>>>>>> main
   ]
  },
  {
   "cell_type": "markdown",
   "id": "b7e904ba",
   "metadata": {},
   "source": [
<<<<<<< HEAD
    "## Task 2B - Equity of Underexposure\n",
=======
    "## Task 2B - Equity of Underexposure - NOT YET DONE\n",
>>>>>>> main
    "\n",
    "For 2022, we are using a diffrent version of the metric. **Equity of Underexposure** looks at each page's underexposure (system exposure is less than target exposure), and looks for underexposure to be equitably distributed between groups.\n",
    "\n",
    "On its own, this isn't too difficult; averaging with background distributions, however, gets rather subtle.  Background distributions are at the roup level, but we need to propgagate that into the page level, so we can compute the difference between system and target exposure at the page level, and then aggregate the underexposure within each group.\n",
    "\n",
    "The idea of equity of underexposure is that we $\\epsilon = \\operatorname{E}_\\pi [\\eta]$ and $\\epsilon^* = \\operatorname{E}_\\tau [\\eta]$.  We then compute $u = min(\\epsilon^* - \\epsilon, 0)$, and restrict it to be negative, and aggregate it by group; if $A$ is our page alignment matrix and $\\vec{u}$, we compute the group underexposure by $A^T \\vec{u}$.\n",
    "\n",
    "That's the key idea.  However, we want to use $\\epsilon^\\dagger$ that has the equivalent of averaging group-aggregated $\\epsilon^*$ with global target distributions $w_g$.  We can do this in a few stages.  First, we compute the total attention of each group, and use that to compute the fraction of group global weight that should go to each unit of alignment:\n",
    "\n",
    "\\begin{align*}\n",
    "s_g & = \\sum_d a_{dg} \\\\\n",
    "\\hat{w}_g & = \\frac{w_g}{s_g}\n",
    "\\end{align*}\n",
    "\n",
    "We can then average:\n",
    "\n",
    "\\begin{align*}\n",
    "\\epsilon^\\dagger_d & = \\frac{1}{2}\\left(\\epsilon^*_d + \\sum_g a_{dg} \\hat{w}_g \\epsilon^*_{\\mathrm{total}} \\right) \\\\\n",
    "\\end{align*}\n",
    "\n",
    "This is all on a per-topic basis."
   ]
  },
  {
   "cell_type": "markdown",
   "id": "60a609dd",
   "metadata": {},
   "source": [
    "### Demo Topic\n",
    "\n",
    "We're going to reuse demo topic data from before:"
   ]
  },
  {
   "cell_type": "code",
   "execution_count": null,
   "id": "775fbe1a",
   "metadata": {},
   "outputs": [],
   "source": [
    "q_xa"
   ]
  },
  {
   "cell_type": "markdown",
   "id": "c5a28bd0",
   "metadata": {},
   "source": [
    "Compute the total for each attribute:"
   ]
  },
  {
   "cell_type": "code",
   "execution_count": null,
   "id": "bfe6124f",
   "metadata": {},
   "outputs": [],
   "source": [
    "s_xg = q_xa.sum(axis=0) + 1e-10\n",
    "s_xg"
   ]
  },
  {
   "cell_type": "markdown",
   "id": "77bbb8cf",
   "metadata": {},
   "source": [
    "Let's get some fractions out of that:"
   ]
  },
  {
   "cell_type": "code",
   "execution_count": null,
   "id": "3e682cb2",
   "metadata": {},
   "outputs": [],
   "source": [
    "s_xgf = s_xg / s_xg.sum()\n",
    "s_xgf"
   ]
  },
  {
   "cell_type": "markdown",
   "id": "d43e7c1d",
   "metadata": {},
   "source": [
    "Now, let's make a copy, and start building up a world target matrix that properly accounts for missing values:"
   ]
  },
  {
   "cell_type": "code",
   "execution_count": null,
   "id": "2955a69f",
   "metadata": {},
   "outputs": [],
   "source": [
    "W = s_xgf.copy()"
   ]
  },
  {
   "cell_type": "markdown",
   "id": "5f8f895d",
   "metadata": {},
   "source": [
    "Now, let's put in the known intersectional targets:"
   ]
  },
  {
   "cell_type": "code",
   "execution_count": null,
   "id": "950146ab",
   "metadata": {},
   "outputs": [],
   "source": [
    "W[1:, 1:] = int_tgt * W[1:, 1:].sum()"
   ]
  },
  {
   "cell_type": "markdown",
   "id": "14b699f0",
   "metadata": {},
   "source": [
    "Now we need the known-gender / unknown-geo targets:"
   ]
  },
  {
   "cell_type": "code",
   "execution_count": null,
   "id": "a7c580d2",
   "metadata": {},
   "outputs": [],
   "source": [
    "W[0, 1:] = int_tgt.sum(axis=0) * W[0, 1:].sum()"
   ]
  },
  {
   "cell_type": "markdown",
   "id": "32ba4e94",
   "metadata": {},
   "source": [
    "And the known-geo / unknown-gender targets:"
   ]
  },
  {
   "cell_type": "code",
   "execution_count": null,
   "id": "81f85ee7",
   "metadata": {},
   "outputs": [],
   "source": [
    "W[1:, 0] = int_tgt.sum(axis=1) * W[1:, 0].sum()"
   ]
  },
  {
   "cell_type": "markdown",
   "id": "e4b41485",
   "metadata": {},
   "source": [
    "Let's see what we have:"
   ]
  },
  {
   "cell_type": "code",
   "execution_count": null,
   "id": "e73e084f",
   "metadata": {},
   "outputs": [],
   "source": [
    "W"
   ]
  },
  {
   "cell_type": "markdown",
   "id": "6748521a",
   "metadata": {},
   "source": [
    "Now we normalize it by $s_g$:"
   ]
  },
  {
   "cell_type": "code",
   "execution_count": null,
   "id": "603aed01",
   "metadata": {},
   "outputs": [],
   "source": [
    "Wh = W / s_xg\n",
    "Wh"
   ]
  },
  {
   "cell_type": "markdown",
   "id": "daee30d7",
   "metadata": {},
   "source": [
    "The massive values are only where we have no relevant items, so they'll never actually be used.\n",
    "\n",
    "We can now compute the query-aligned target matrix."
   ]
  },
  {
   "cell_type": "code",
   "execution_count": null,
   "id": "46e22a3f",
   "metadata": {},
   "outputs": [],
   "source": [
    "qp_gt = (q_xa * (Wh * qp_exp[1].sum())).sum(axis=(1,2)).to_series()\n",
    "qp_gt.index.name = 'page_id'\n",
    "qp_gt"
   ]
  },
  {
   "cell_type": "code",
   "execution_count": null,
   "id": "a3ce00cf",
   "metadata": {},
   "outputs": [],
   "source": [
    "qp_exp[1]"
   ]
  },
  {
   "cell_type": "code",
   "execution_count": null,
   "id": "34a60814",
   "metadata": {},
   "outputs": [],
   "source": [
    "qp_tgt = 0.5 * (qp_exp[1] + qp_gt)\n",
    "qp_tgt"
   ]
  },
  {
   "cell_type": "markdown",
   "id": "72799ddc",
   "metadata": {},
   "source": [
    "### Setting Up Matrix\n",
    "\n",
    "Now that we have the math worked out, we can create actual global target frames for each query."
   ]
  },
  {
   "cell_type": "code",
   "execution_count": null,
   "id": "aac8aa39",
   "metadata": {},
   "outputs": [],
   "source": [
    "def topic_page_tgt(qdf):\n",
    "    pages = qdf['page_id']\n",
    "    pages = pages[pages.isin(page_xalign.indexes['page'])]\n",
    "    q_xa = page_xalign.loc[pages.values, :, :]\n",
    "    \n",
    "    # now we need to get the exposure for the pages\n",
    "    p_exp = qp_exp.loc[qdf.name]\n",
    "    assert p_exp.index.is_unique\n",
    "    \n",
    "    # need our sums\n",
    "    s_xg = q_xa.sum(axis=0) + 1e-10\n",
    "    \n",
    "    # set up the global target\n",
    "    W = s_xg / s_xg.sum()\n",
    "    W[1:, 1:] = int_tgt * W[1:, 1:].sum()\n",
    "    W[0, 1:] = int_tgt.sum(axis=0) * W[0, 1:].sum()\n",
    "    W[1:, 0] = int_tgt.sum(axis=1) * W[1:, 0].sum()\n",
    "    \n",
    "    # per-unit global weights, de-normalized by total exposure\n",
    "    Wh = W / s_xg\n",
    "    Wh *= p_exp.sum()\n",
    "    \n",
    "    # compute global target\n",
    "    gtgt = q_xa * Wh\n",
    "    gtgt = gtgt.sum(axis=(1,2)).to_series()\n",
    "    \n",
    "    # compute average target\n",
    "    avg_tgt = 0.5 * (p_exp + gtgt)\n",
    "    avg_tgt.index.name = 'page'\n",
    "    \n",
    "    return avg_tgt"
   ]
  },
  {
   "cell_type": "markdown",
   "id": "ca57adc4",
   "metadata": {},
   "source": [
    "Test it quick:"
   ]
  },
  {
   "cell_type": "code",
   "execution_count": null,
   "id": "80e2e264",
   "metadata": {},
   "outputs": [],
   "source": [
    "topic_page_tgt(qdf)"
   ]
  },
  {
   "cell_type": "markdown",
   "id": "f7fb3560",
   "metadata": {},
   "source": [
    "And create our targets:"
   ]
  },
  {
   "cell_type": "code",
   "execution_count": null,
   "id": "a0cd5399",
   "metadata": {},
   "outputs": [],
   "source": [
    "qp_tgt = qrels.groupby('id').progress_apply(topic_page_tgt)\n",
    "qp_tgt"
   ]
  },
  {
   "cell_type": "code",
   "execution_count": null,
   "id": "482d7fe8",
   "metadata": {},
   "outputs": [],
   "source": [
    "save_table(qp_tgt.to_frame('target'), 'task2-all-page-targets')"
   ]
  },
  {
   "cell_type": "code",
   "execution_count": null,
   "id": "30cf3298",
   "metadata": {},
   "outputs": [],
   "source": [
    "train_qptgt = qp_tgt.loc[train_topics['id']].to_frame('target')\n",
    "eval_qptgt = qp_tgt.loc[eval_topics['id']].to_frame('target')"
   ]
  },
  {
   "cell_type": "code",
   "execution_count": null,
   "id": "a213228f",
   "metadata": {},
   "outputs": [],
   "source": [
    "save_table(train_qptgt, 'task2-train-page-targets')\n",
    "save_table(eval_qptgt, 'task2-eval-page-targets')"
   ]
  }
 ],
 "metadata": {
  "jupytext": {
   "formats": "ipynb,py:percent"
  },
  "kernelspec": {
   "display_name": "Python 3 (ipykernel)",
   "language": "python",
   "name": "python3"
  },
  "language_info": {
   "codemirror_mode": {
    "name": "ipython",
    "version": 3
   },
   "file_extension": ".py",
   "mimetype": "text/x-python",
   "name": "python",
   "nbconvert_exporter": "python",
   "pygments_lexer": "ipython3",
   "version": "3.8.13"
  }
 },
 "nbformat": 4,
 "nbformat_minor": 5
}
