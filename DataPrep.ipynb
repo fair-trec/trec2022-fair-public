{
 "cells": [
  {
   "cell_type": "markdown",
   "id": "0f52f7e9-b5fd-4772-bf54-1244cb2c224c",
   "metadata": {},
   "source": [
    "# 2022 basic data prep\n",
    "\n",
    "This uses the 2022 selected topics to create train and eval query sets, and split the ground truth data for that.\n",
    "\n",
    "Note that we use Python's Merseinne twister for reproducibility."
   ]
  },
  {
   "cell_type": "markdown",
   "id": "8b2ebd1c-b153-4f71-89b7-59b73078bae2",
   "metadata": {},
   "source": [
    "## Setup\n",
    "\n",
    "Load some modules:"
   ]
  },
  {
   "cell_type": "code",
   "execution_count": 1,
   "id": "b09677e8-3c5c-44e9-91a8-a13750baf9b4",
   "metadata": {},
   "outputs": [],
   "source": [
    "from random import Random\n",
    "import pandas as pd\n",
    "import numpy as np"
   ]
  },
  {
   "cell_type": "markdown",
   "id": "6fc2bf53-b120-4651-a277-e6a147b6722a",
   "metadata": {},
   "source": [
    "Load the topic list:"
   ]
  },
  {
   "cell_type": "code",
   "execution_count": 5,
   "id": "8bdcaa98-853d-4aa4-9064-039af7223dcd",
   "metadata": {},
   "outputs": [
    {
     "data": {
      "text/plain": [
       "100"
      ]
     },
     "execution_count": 5,
     "metadata": {},
     "output_type": "execute_result"
    }
   ],
   "source": [
    "with open('data/selected_topics_22.txt') as topic_file:\n",
    "    topics = [line.strip() for line in topic_file]\n",
    "topics.sort()\n",
    "len(topics)"
   ]
  },
  {
   "cell_type": "markdown",
   "id": "791238ee-ade0-4760-b8fc-832c87ccabd7",
   "metadata": {},
   "source": [
    "Load the WikiProject list:"
   ]
  },
  {
   "cell_type": "code",
   "execution_count": 3,
   "id": "b3fe6795-7f70-43fa-b8c2-b11877ff9c1f",
   "metadata": {},
   "outputs": [
    {
     "data": {
      "text/html": [
       "<div>\n",
       "<style scoped>\n",
       "    .dataframe tbody tr th:only-of-type {\n",
       "        vertical-align: middle;\n",
       "    }\n",
       "\n",
       "    .dataframe tbody tr th {\n",
       "        vertical-align: top;\n",
       "    }\n",
       "\n",
       "    .dataframe thead th {\n",
       "        text-align: right;\n",
       "    }\n",
       "</style>\n",
       "<table border=\"1\" class=\"dataframe\">\n",
       "  <thead>\n",
       "    <tr style=\"text-align: right;\">\n",
       "      <th></th>\n",
       "      <th>id</th>\n",
       "      <th>title</th>\n",
       "      <th>rel_docs</th>\n",
       "    </tr>\n",
       "  </thead>\n",
       "  <tbody>\n",
       "    <tr>\n",
       "      <th>0</th>\n",
       "      <td>1</td>\n",
       "      <td>1000 Women in Religion</td>\n",
       "      <td>[29305, 345779, 391183, 478677, 1607259, 18032...</td>\n",
       "    </tr>\n",
       "    <tr>\n",
       "      <th>1</th>\n",
       "      <td>2</td>\n",
       "      <td>A Cappella</td>\n",
       "      <td>[2411, 71307, 152558, 165101, 304559, 375332, ...</td>\n",
       "    </tr>\n",
       "    <tr>\n",
       "      <th>2</th>\n",
       "      <td>3</td>\n",
       "      <td>A Song of Ice and Fire</td>\n",
       "      <td>[12300, 12301, 12302, 713577, 713590, 713625, ...</td>\n",
       "    </tr>\n",
       "    <tr>\n",
       "      <th>3</th>\n",
       "      <td>4</td>\n",
       "      <td>AIDS</td>\n",
       "      <td>[1908, 12747, 14573, 23739, 26214, 26436, 2884...</td>\n",
       "    </tr>\n",
       "    <tr>\n",
       "      <th>4</th>\n",
       "      <td>5</td>\n",
       "      <td>Abandoned Articles</td>\n",
       "      <td>[41169, 69181, 69748, 180245, 201817, 374129, ...</td>\n",
       "    </tr>\n",
       "  </tbody>\n",
       "</table>\n",
       "</div>"
      ],
      "text/plain": [
       "   id                   title  \\\n",
       "0   1  1000 Women in Religion   \n",
       "1   2              A Cappella   \n",
       "2   3  A Song of Ice and Fire   \n",
       "3   4                    AIDS   \n",
       "4   5      Abandoned Articles   \n",
       "\n",
       "                                            rel_docs  \n",
       "0  [29305, 345779, 391183, 478677, 1607259, 18032...  \n",
       "1  [2411, 71307, 152558, 165101, 304559, 375332, ...  \n",
       "2  [12300, 12301, 12302, 713577, 713590, 713625, ...  \n",
       "3  [1908, 12747, 14573, 23739, 26214, 26436, 2884...  \n",
       "4  [41169, 69181, 69748, 180245, 201817, 374129, ...  "
      ]
     },
     "execution_count": 3,
     "metadata": {},
     "output_type": "execute_result"
    }
   ],
   "source": [
    "projects = pd.read_json('data/trec_2022_wikiprojects.json.gz', lines=True)\n",
    "projects.head()"
   ]
  },
  {
   "cell_type": "markdown",
   "id": "0e4f04a7-6f27-4e4d-9e0d-7dd0983bbc70",
   "metadata": {},
   "source": [
    "## Partition\n",
    "\n",
    "Let's deterministically shuffle the topic list:"
   ]
  },
  {
   "cell_type": "code",
   "execution_count": 8,
   "id": "5c45763b-8f74-4ac5-8c9a-dbfdc456da9d",
   "metadata": {},
   "outputs": [
    {
     "data": {
      "text/plain": [
       "['Classical music', 'Film/American cinema task force']"
      ]
     },
     "execution_count": 8,
     "metadata": {},
     "output_type": "execute_result"
    }
   ],
   "source": [
    "rng = Random(20220503)\n",
    "topics.sort()\n",
    "rng.shuffle(topics)\n",
    "topics[:2]"
   ]
  },
  {
   "cell_type": "markdown",
   "id": "17b535cb-5398-4cb3-8037-72c909743f2d",
   "metadata": {},
   "source": [
    "Make our training and eval query lists:"
   ]
  },
  {
   "cell_type": "code",
   "execution_count": 10,
   "id": "2f890869-6f13-47f7-95bc-bd4079cc1823",
   "metadata": {},
   "outputs": [],
   "source": [
    "train_topics = topics[:50]\n",
    "eval_topics = topics[50:]"
   ]
  },
  {
   "cell_type": "markdown",
   "id": "2ac480e2-0484-4b83-b1c0-5b9cae0eb655",
   "metadata": {},
   "source": [
    "## Output\n",
    "\n",
    "And we'll save our output files:"
   ]
  },
  {
   "cell_type": "code",
   "execution_count": 12,
   "id": "33396243-03e0-4590-a8e1-55ff773f552a",
   "metadata": {},
   "outputs": [
    {
     "name": "stdout",
     "output_type": "stream",
     "text": [
      "<class 'pandas.core.frame.DataFrame'>\n",
      "Int64Index: 50 entries, 83 to 2858\n",
      "Data columns (total 3 columns):\n",
      " #   Column    Non-Null Count  Dtype \n",
      "---  ------    --------------  ----- \n",
      " 0   id        50 non-null     int64 \n",
      " 1   title     50 non-null     object\n",
      " 2   rel_docs  50 non-null     object\n",
      "dtypes: int64(1), object(2)\n",
      "memory usage: 1.6+ KB\n"
     ]
    }
   ],
   "source": [
    "train_projects = projects[projects['title'].isin(train_topics)]\n",
    "train_projects.info()"
   ]
  },
  {
   "cell_type": "code",
   "execution_count": 13,
   "id": "f0bb1615-db54-4bf2-b01e-d56472287c0f",
   "metadata": {},
   "outputs": [
    {
     "name": "stdout",
     "output_type": "stream",
     "text": [
      "<class 'pandas.core.frame.DataFrame'>\n",
      "Int64Index: 50 entries, 186 to 2871\n",
      "Data columns (total 3 columns):\n",
      " #   Column    Non-Null Count  Dtype \n",
      "---  ------    --------------  ----- \n",
      " 0   id        50 non-null     int64 \n",
      " 1   title     50 non-null     object\n",
      " 2   rel_docs  50 non-null     object\n",
      "dtypes: int64(1), object(2)\n",
      "memory usage: 1.6+ KB\n"
     ]
    }
   ],
   "source": [
    "eval_projects = projects[projects['title'].isin(eval_topics)]\n",
    "eval_projects.info()"
   ]
  },
  {
   "cell_type": "code",
   "execution_count": 16,
   "id": "f21c7cc6-0c95-44ba-80e9-f9bdb0e1fc38",
   "metadata": {},
   "outputs": [],
   "source": [
    "train_projects.to_json('data/trec_2022_train_reldocs.jsonl', orient='records', lines=True)"
   ]
  },
  {
   "cell_type": "code",
   "execution_count": 17,
   "id": "fee5bc7d-593f-480c-b691-2b4f438f5036",
   "metadata": {},
   "outputs": [],
   "source": [
    "eval_projects.to_json('data/trec_2022_eval_reldocs.jsonl', orient='records', lines=True)"
   ]
  },
  {
   "cell_type": "markdown",
   "id": "cfbf013c-3124-4107-b25e-c0b897f6d03b",
   "metadata": {},
   "source": [
    "## Convert Files\n",
    "\n",
    "We're now going to convert our article JSON files to Parquet for easy further processing."
   ]
  },
  {
   "cell_type": "code",
   "execution_count": 19,
   "id": "323e9719-04c3-4727-b30e-2e90dcb74a1f",
   "metadata": {},
   "outputs": [
    {
     "ename": "KeyError",
     "evalue": "\"None of ['id'] are in the columns\"",
     "output_type": "error",
     "traceback": [
      "\u001b[1;31m---------------------------------------------------------------------------\u001b[0m",
      "\u001b[1;31mKeyError\u001b[0m                                  Traceback (most recent call last)",
      "\u001b[1;32m<ipython-input-19-6d4a07aafe14>\u001b[0m in \u001b[0;36m<module>\u001b[1;34m\u001b[0m\n\u001b[0;32m      1\u001b[0m \u001b[0marts\u001b[0m \u001b[1;33m=\u001b[0m \u001b[0mpd\u001b[0m\u001b[1;33m.\u001b[0m\u001b[0mread_json\u001b[0m\u001b[1;33m(\u001b[0m\u001b[1;34m'data/trec_2022_articles.json.gz'\u001b[0m\u001b[1;33m,\u001b[0m \u001b[0mlines\u001b[0m\u001b[1;33m=\u001b[0m\u001b[1;32mTrue\u001b[0m\u001b[1;33m)\u001b[0m\u001b[1;33m\u001b[0m\u001b[1;33m\u001b[0m\u001b[0m\n\u001b[1;32m----> 2\u001b[1;33m \u001b[0marts\u001b[0m\u001b[1;33m.\u001b[0m\u001b[0mset_index\u001b[0m\u001b[1;33m(\u001b[0m\u001b[1;34m'id'\u001b[0m\u001b[1;33m,\u001b[0m \u001b[0minplace\u001b[0m\u001b[1;33m=\u001b[0m\u001b[1;32mTrue\u001b[0m\u001b[1;33m)\u001b[0m\u001b[1;33m\u001b[0m\u001b[1;33m\u001b[0m\u001b[0m\n\u001b[0m\u001b[0;32m      3\u001b[0m \u001b[0marts\u001b[0m\u001b[1;33m.\u001b[0m\u001b[0minfo\u001b[0m\u001b[1;33m(\u001b[0m\u001b[0mmemory_usage\u001b[0m\u001b[1;33m=\u001b[0m\u001b[1;34m'deep'\u001b[0m\u001b[1;33m)\u001b[0m\u001b[1;33m\u001b[0m\u001b[1;33m\u001b[0m\u001b[0m\n",
      "\u001b[1;32m~\\Miniconda3\\envs\\wptrec\\lib\\site-packages\\pandas\\util\\_decorators.py\u001b[0m in \u001b[0;36mwrapper\u001b[1;34m(*args, **kwargs)\u001b[0m\n\u001b[0;32m    309\u001b[0m                     \u001b[0mstacklevel\u001b[0m\u001b[1;33m=\u001b[0m\u001b[0mstacklevel\u001b[0m\u001b[1;33m,\u001b[0m\u001b[1;33m\u001b[0m\u001b[1;33m\u001b[0m\u001b[0m\n\u001b[0;32m    310\u001b[0m                 )\n\u001b[1;32m--> 311\u001b[1;33m             \u001b[1;32mreturn\u001b[0m \u001b[0mfunc\u001b[0m\u001b[1;33m(\u001b[0m\u001b[1;33m*\u001b[0m\u001b[0margs\u001b[0m\u001b[1;33m,\u001b[0m \u001b[1;33m**\u001b[0m\u001b[0mkwargs\u001b[0m\u001b[1;33m)\u001b[0m\u001b[1;33m\u001b[0m\u001b[1;33m\u001b[0m\u001b[0m\n\u001b[0m\u001b[0;32m    312\u001b[0m \u001b[1;33m\u001b[0m\u001b[0m\n\u001b[0;32m    313\u001b[0m         \u001b[1;32mreturn\u001b[0m \u001b[0mwrapper\u001b[0m\u001b[1;33m\u001b[0m\u001b[1;33m\u001b[0m\u001b[0m\n",
      "\u001b[1;32m~\\Miniconda3\\envs\\wptrec\\lib\\site-packages\\pandas\\core\\frame.py\u001b[0m in \u001b[0;36mset_index\u001b[1;34m(self, keys, drop, append, inplace, verify_integrity)\u001b[0m\n\u001b[0;32m   5449\u001b[0m \u001b[1;33m\u001b[0m\u001b[0m\n\u001b[0;32m   5450\u001b[0m         \u001b[1;32mif\u001b[0m \u001b[0mmissing\u001b[0m\u001b[1;33m:\u001b[0m\u001b[1;33m\u001b[0m\u001b[1;33m\u001b[0m\u001b[0m\n\u001b[1;32m-> 5451\u001b[1;33m             \u001b[1;32mraise\u001b[0m \u001b[0mKeyError\u001b[0m\u001b[1;33m(\u001b[0m\u001b[1;34mf\"None of {missing} are in the columns\"\u001b[0m\u001b[1;33m)\u001b[0m\u001b[1;33m\u001b[0m\u001b[1;33m\u001b[0m\u001b[0m\n\u001b[0m\u001b[0;32m   5452\u001b[0m \u001b[1;33m\u001b[0m\u001b[0m\n\u001b[0;32m   5453\u001b[0m         \u001b[1;32mif\u001b[0m \u001b[0minplace\u001b[0m\u001b[1;33m:\u001b[0m\u001b[1;33m\u001b[0m\u001b[1;33m\u001b[0m\u001b[0m\n",
      "\u001b[1;31mKeyError\u001b[0m: \"None of ['id'] are in the columns\""
     ]
    }
   ],
   "source": [
    "arts = pd.read_json('data/trec_2022_articles.json.gz', lines=True)"
   ]
  },
  {
   "cell_type": "code",
   "execution_count": 21,
   "id": "129fbd1a-2a60-4f24-93b6-472ff533c513",
   "metadata": {},
   "outputs": [
    {
     "name": "stdout",
     "output_type": "stream",
     "text": [
      "<class 'pandas.core.frame.DataFrame'>\n",
      "Int64Index: 6460238 entries, 12 to 70194530\n",
      "Data columns (total 13 columns):\n",
      " #   Column                  Dtype  \n",
      "---  ------                  -----  \n",
      " 0   pred_qual               float64\n",
      " 1   qual_cat                object \n",
      " 2   page_countries          object \n",
      " 3   page_subcont_regions    object \n",
      " 4   source_countries        object \n",
      " 5   source_subcont_regions  object \n",
      " 6   gender                  object \n",
      " 7   occupations             object \n",
      " 8   years                   object \n",
      " 9   num_sitelinks           int64  \n",
      " 10  relative_pageviews      float64\n",
      " 11  first_letter            object \n",
      " 12  creation_date           object \n",
      "dtypes: float64(2), int64(1), object(10)\n",
      "memory usage: 4.5 GB\n"
     ]
    }
   ],
   "source": [
    "arts.set_index('page_id', inplace=True)\n",
    "arts.info(memory_usage='deep')"
   ]
  },
  {
   "cell_type": "code",
   "execution_count": 22,
   "id": "af9471f7-52ca-4996-8461-6a6ff2e8ed77",
   "metadata": {},
   "outputs": [],
   "source": [
    "arts.to_parquet('data/trec_2022_articles.parquet', compression='zstd')"
   ]
  },
  {
   "cell_type": "code",
   "execution_count": 23,
   "id": "26c5c566-1733-423f-9f45-48146fe9044b",
   "metadata": {},
   "outputs": [],
   "source": [
    "del arts"
   ]
  },
  {
   "cell_type": "code",
   "execution_count": 24,
   "id": "254fa1b7-df74-4281-adae-3c740bbcfebd",
   "metadata": {},
   "outputs": [
    {
     "name": "stdout",
     "output_type": "stream",
     "text": [
      "<class 'pandas.core.frame.DataFrame'>\n",
      "Int64Index: 6460238 entries, 12 to 70194530\n",
      "Data columns (total 19 columns):\n",
      " #   Column                       Dtype  \n",
      "---  ------                       -----  \n",
      " 0   pred_qual                    float64\n",
      " 1   qual_cat                     object \n",
      " 2   page_countries               object \n",
      " 3   page_subcont_regions         object \n",
      " 4   source_countries             object \n",
      " 5   source_subcont_regions       object \n",
      " 6   gender                       object \n",
      " 7   occupations                  object \n",
      " 8   years                        object \n",
      " 9   num_sitelinks                int64  \n",
      " 10  relative_pageviews           float64\n",
      " 11  first_letter                 object \n",
      " 12  creation_date                object \n",
      " 13  first_letter_category        object \n",
      " 14  gender_category              object \n",
      " 15  creation_date_category       object \n",
      " 16  years_category               object \n",
      " 17  relative_pageviews_category  object \n",
      " 18  num_sitelinks_category       object \n",
      "dtypes: float64(2), int64(1), object(16)\n",
      "memory usage: 7.6 GB\n"
     ]
    }
   ],
   "source": [
    "arts = pd.read_json('data/trec_2022_articles_discrete.json.gz', lines=True)\n",
    "arts.set_index('page_id', inplace=True)\n",
    "arts.info(memory_usage='deep')"
   ]
  },
  {
   "cell_type": "markdown",
   "id": "01529dfd-9f9c-40cb-b487-3521bf1c2c61",
   "metadata": {},
   "source": [
    "Remove the columns that have categorical equivalents:"
   ]
  },
  {
   "cell_type": "code",
   "execution_count": 37,
   "id": "81d9af47-ddcd-426d-896e-6fead56a6724",
   "metadata": {},
   "outputs": [],
   "source": [
    "arts.drop(columns=['first_letter', 'gender', 'creation_date', 'years', 'relative_pageviews', 'num_sitelinks'], inplace=True)"
   ]
  },
  {
   "cell_type": "code",
   "execution_count": 38,
   "id": "7254a705-ab7f-45f7-b812-eb8368d3322e",
   "metadata": {},
   "outputs": [
    {
     "name": "stdout",
     "output_type": "stream",
     "text": [
      "<class 'pandas.core.frame.DataFrame'>\n",
      "Int64Index: 6460238 entries, 12 to 70194530\n",
      "Data columns (total 13 columns):\n",
      " #   Column                       Dtype   \n",
      "---  ------                       -----   \n",
      " 0   pred_qual                    float64 \n",
      " 1   qual_cat                     object  \n",
      " 2   page_countries               object  \n",
      " 3   page_subcont_regions         object  \n",
      " 4   source_countries             object  \n",
      " 5   source_subcont_regions       object  \n",
      " 6   occupations                  object  \n",
      " 7   first_letter_category        category\n",
      " 8   gender_category              category\n",
      " 9   creation_date_category       category\n",
      " 10  years_category               category\n",
      " 11  relative_pageviews_category  category\n",
      " 12  num_sitelinks_category       category\n",
      "dtypes: category(6), float64(1), object(6)\n",
      "memory usage: 431.3+ MB\n"
     ]
    }
   ],
   "source": [
    "arts.info()"
   ]
  },
  {
   "cell_type": "markdown",
   "id": "bc76a603-0e78-4c83-a887-01b800de6e12",
   "metadata": {},
   "source": [
    "Save this all to Parquet:"
   ]
  },
  {
   "cell_type": "code",
   "execution_count": 39,
   "id": "dbe92b54-f3c6-4c9a-86a4-90097c4b4453",
   "metadata": {},
   "outputs": [],
   "source": [
    "arts.to_parquet('data/trec_2022_articles_discrete.parquet', compression='zstd')"
   ]
  },
  {
   "cell_type": "code",
   "execution_count": null,
   "id": "9a29331b-b412-4900-8b62-c154725bc801",
   "metadata": {},
   "outputs": [],
   "source": []
  }
 ],
 "metadata": {
  "kernelspec": {
   "display_name": "Python 3",
   "language": "python",
   "name": "python3"
  },
  "language_info": {
   "codemirror_mode": {
    "name": "ipython",
    "version": 3
   },
   "file_extension": ".py",
   "mimetype": "text/x-python",
   "name": "python",
   "nbconvert_exporter": "python",
   "pygments_lexer": "ipython3",
   "version": "3.8.8"
  }
 },
 "nbformat": 4,
 "nbformat_minor": 5
}
