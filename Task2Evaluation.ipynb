{
 "cells": [
  {
   "cell_type": "markdown",
   "id": "9a8d7b36",
   "metadata": {},
   "source": [
    "# Task 2 Evaluation\n",
    "\n",
    "This notebook contains the evaluation for Task 1 of the TREC Fair Ranking track."
   ]
  },
  {
   "cell_type": "code",
   "execution_count": null,
   "id": "3e7ad750-597d-4de3-acec-9df741b4a2d0",
   "metadata": {
    "tags": [
     "parameters"
    ]
   },
   "outputs": [],
   "source": [
    "DATA_MODE = 'eval'"
   ]
  },
  {
   "cell_type": "code",
   "execution_count": null,
   "id": "5fc1b3f2-7fc6-49fd-97b6-b90b5945af0c",
   "metadata": {
    "tags": []
   },
   "outputs": [],
   "source": [
    "import wptrec\n",
    "wptrec.DATA_MODE = DATA_MODE"
   ]
  },
  {
   "cell_type": "markdown",
   "id": "fcd60a26",
   "metadata": {},
   "source": [
    "## Setup\n",
    "\n",
    "We begin by loading necessary libraries:"
   ]
  },
  {
   "cell_type": "code",
   "execution_count": null,
   "id": "35a17561",
   "metadata": {
    "tags": []
   },
   "outputs": [],
   "source": [
    "from pathlib import Path\n",
    "import pandas as pd\n",
    "import numpy as np\n",
    "import xarray as xr\n",
    "from scipy.stats import bootstrap\n",
    "import matplotlib.pyplot as plt\n",
    "import seaborn as sns\n",
    "from functools import reduce\n",
    "import gzip\n",
    "import binpickle"
   ]
  },
  {
   "cell_type": "code",
   "execution_count": null,
   "id": "33ace6e0-293b-4200-97ca-0d2fa4245ac8",
   "metadata": {},
   "outputs": [],
   "source": [
    "tbl_dir = Path('data/metric-tables/')"
   ]
  },
  {
   "cell_type": "markdown",
   "id": "4d184df5",
   "metadata": {},
   "source": [
    "Set up progress bar and logging support:"
   ]
  },
  {
   "cell_type": "code",
   "execution_count": null,
   "id": "8e81654c",
   "metadata": {
    "tags": []
   },
   "outputs": [],
   "source": [
    "from tqdm.auto import tqdm\n",
    "tqdm.pandas(leave=False)"
   ]
  },
  {
   "cell_type": "code",
   "execution_count": null,
   "id": "6bce7da8",
   "metadata": {
    "tags": []
   },
   "outputs": [],
   "source": [
    "import sys, logging\n",
    "logging.basicConfig(level=logging.INFO, stream=sys.stderr)\n",
    "log = logging.getLogger('task2-eval')"
   ]
  },
  {
   "cell_type": "markdown",
   "id": "47b9921c",
   "metadata": {},
   "source": [
    "Set up the RNG:"
   ]
  },
  {
   "cell_type": "code",
   "execution_count": null,
   "id": "1e04a054",
   "metadata": {},
   "outputs": [],
   "source": [
    "import seedbank\n",
    "seedbank.initialize(20220101)\n",
    "rng = seedbank.numpy_rng()"
   ]
  },
  {
   "cell_type": "markdown",
   "id": "87c247e8-037e-46af-b933-47e6a2d573fd",
   "metadata": {},
   "source": [
    "Import metric code:"
   ]
  },
  {
   "cell_type": "code",
   "execution_count": null,
   "id": "b69d009a-77a0-405d-b1ba-ba7c9706148c",
   "metadata": {
    "tags": []
   },
   "outputs": [],
   "source": [
    "import wptrec.metrics as metrics\n",
    "from wptrec.trecdata import scan_runs, scan_teams"
   ]
  },
  {
   "cell_type": "markdown",
   "id": "6c3f2ef1-b903-47ea-90b3-5f967473d8c2",
   "metadata": {},
   "source": [
    "And finally import the metric itself.  For Task 1, this uses:\n",
    "\n",
    "* evaluation qrels\n",
    "* evaluation intersectional targets\n",
    "* all dimensions (with their page alignments)"
   ]
  },
  {
   "cell_type": "code",
   "execution_count": null,
   "id": "0a577e9c-3167-436c-ae96-c876f339511e",
   "metadata": {
    "tags": []
   },
   "outputs": [],
   "source": [
    "from MetricInputs import qrels, dimensions"
   ]
  },
  {
   "cell_type": "code",
   "execution_count": null,
   "id": "f98ebf78",
   "metadata": {
    "tags": []
   },
   "outputs": [],
   "source": [
    "import wptrec.metrics as metrics\n",
    "from wptrec.trecdata import scan_runs"
   ]
  },
  {
   "cell_type": "markdown",
   "id": "474bb6c9",
   "metadata": {},
   "source": [
    "And finally import the metric itself:"
   ]
  },
  {
   "cell_type": "code",
   "execution_count": null,
   "id": "4e0d1674-a6af-48b2-a518-d341afec4437",
   "metadata": {},
   "outputs": [],
   "source": [
    "target = xr.open_dataarray(tbl_dir / f'task2-{DATA_MODE}-int-targets.nc')"
   ]
  },
  {
   "cell_type": "code",
   "execution_count": null,
   "id": "9c7630ef-89c2-4f1e-834b-15b378c211cc",
   "metadata": {},
   "outputs": [],
   "source": [
    "metric = metrics.EELMetric(qrels.set_index('topic_id'), dimensions, target)"
   ]
  },
  {
   "cell_type": "markdown",
   "id": "a1efc981",
   "metadata": {},
   "source": [
    "## Importing Data\n",
    "\n"
   ]
  },
  {
   "cell_type": "markdown",
   "id": "20173737",
   "metadata": {},
   "source": [
    "Let's load the runs now:"
   ]
  },
  {
   "cell_type": "code",
   "execution_count": null,
   "id": "1cfe79f3",
   "metadata": {
    "tags": []
   },
   "outputs": [],
   "source": [
    "runs = pd.DataFrame.from_records(row for rows in scan_runs(2, 'runs/2022') for row in rows)"
   ]
  },
  {
   "cell_type": "code",
   "execution_count": null,
   "id": "63f12efc",
   "metadata": {
    "tags": []
   },
   "outputs": [],
   "source": [
    "runs.head()"
   ]
  },
  {
   "cell_type": "markdown",
   "id": "03ebd72d-f0db-4409-acb2-4fd0bb4e2497",
   "metadata": {},
   "source": [
    "And the teams:"
   ]
  },
  {
   "cell_type": "code",
   "execution_count": null,
   "id": "dc3494cb-09b0-4080-b3aa-e2dfddcd232b",
   "metadata": {},
   "outputs": [],
   "source": [
    "team_runs = scan_teams('runs/2022')\n",
    "team_runs"
   ]
  },
  {
   "cell_type": "code",
   "execution_count": null,
   "id": "070f8024-750b-4e81-999a-9c7855145fca",
   "metadata": {},
   "outputs": [],
   "source": [
    "run_team = team_runs.set_index('run')"
   ]
  },
  {
   "cell_type": "markdown",
   "id": "e6bc9def",
   "metadata": {},
   "source": [
    "## Computing Metrics\n",
    "\n",
    "We are now ready to compute the metric for each (system,topic) pair.  Let's go!"
   ]
  },
  {
   "cell_type": "code",
   "execution_count": null,
   "id": "efd845d2",
   "metadata": {
    "tags": []
   },
   "outputs": [],
   "source": [
    "rank_exp = runs.groupby(['run_name', 'topic_id']).progress_apply(metric)\n",
    "# rank_exp = rank_awrf.unstack()\n",
    "rank_exp"
   ]
  },
  {
   "cell_type": "markdown",
   "id": "0a0e18b4",
   "metadata": {},
   "source": [
    "Now let's average by runs:"
   ]
  },
  {
   "cell_type": "code",
   "execution_count": null,
   "id": "d32e4553",
   "metadata": {
    "tags": []
   },
   "outputs": [],
   "source": [
    "run_scores = rank_exp.groupby('run_name').mean()\n",
    "run_scores= run_scores.join(run_team)\n",
    "run_scores"
   ]
  },
  {
   "cell_type": "markdown",
   "id": "8d9f6d38",
   "metadata": {},
   "source": [
    "And bootstrap some confidence intervals:"
   ]
  },
  {
   "cell_type": "code",
   "execution_count": null,
   "id": "40564f49",
   "metadata": {},
   "outputs": [],
   "source": [
    "def boot_ci(col, name='EE-L'):\n",
    "    res = bootstrap([col], statistic=np.mean, random_state=rng)\n",
    "    return pd.Series({\n",
    "        f'{name}.SE': res.standard_error,\n",
    "        f'{name}.Lo': res.confidence_interval.low,\n",
    "        f'{name}.Hi': res.confidence_interval.high,\n",
    "        f'{name}.W': res.confidence_interval.high - res.confidence_interval.low\n",
    "    })"
   ]
  },
  {
   "cell_type": "code",
   "execution_count": null,
   "id": "8ee5d5a6",
   "metadata": {},
   "outputs": [],
   "source": [
    "run_score_ci = rank_exp.groupby('run_name')['EE-L'].apply(boot_ci).unstack()\n",
    "run_score_ci"
   ]
  },
  {
   "cell_type": "code",
   "execution_count": null,
   "id": "122c606a",
   "metadata": {},
   "outputs": [],
   "source": [
    "run_score_full = run_scores.join(run_score_ci)\n",
    "run_score_full.sort_values('EE-L', ascending=False, inplace=True)\n",
    "run_score_full"
   ]
  },
  {
   "cell_type": "code",
   "execution_count": null,
   "id": "2e07923f-2fb0-4f4d-afe0-8114483523b6",
   "metadata": {},
   "outputs": [],
   "source": [
    "run_tbl_df = run_score_full[['EE-R', 'EE-D', 'EE-L']].copy()\n",
    "run_tbl_df['EE-L 95% CI'] = run_score_full.apply(lambda r: (r['EE-L.Lo'], r['EE-L.Hi']), axis=1)\n",
    "run_tbl_df"
   ]
  },
  {
   "cell_type": "code",
   "execution_count": null,
   "id": "ea08386c-ae81-4438-becc-8c5513cc277e",
   "metadata": {},
   "outputs": [],
   "source": [
    "run_tbl_df.sort_values('EE-L', ascending=True, inplace=True)\n",
    "column_styles = {\n",
    "    'EE-R': lambda x: r'%0.4f' % (x,),\n",
    "    'EE-L': lambda x: r'%0.4f' % (x,),\n",
    "    'EE-D': lambda x: r'%0.4f' % (x,),\n",
    "    'EE-L 95% CI': lambda x: r'(%0.4f, %0.4f)' % (x[0], x[1]),\n",
    "}\n",
    "dfs = run_tbl_df.style.format(column_styles)\n",
    "dfs = dfs.highlight_min('EE-L', props='font-weight: bold')\n",
    "dfs = dfs.highlight_min('EE-D', props='font-weight: bold')\n",
    "dfs = dfs.highlight_max('EE-R', props='font-weight: bold')\n",
    "dfs"
   ]
  },
  {
   "cell_type": "code",
   "execution_count": null,
   "id": "5fb692d2-e87c-4d96-9cc5-69c4e11e68a3",
   "metadata": {},
   "outputs": [],
   "source": [
    "run_tbl_fn = Path('figures/task2-runs.tex')\n",
    "column_styles = {\n",
    "    'EE-R': lambda x: r'%0.4f' % (x,),\n",
    "    'EE-L': lambda x: r'%0.4f' % (x,),\n",
    "    'EE-D': lambda x: r'%0.4f' % (x,),\n",
    "    'EE-L 95% CI': lambda x: r'(%0.4f, %0.4f)' % (x[0], x[1]),\n",
    "}\n",
    "style = run_tbl_df.style.format(column_styles)\n",
    "style = style.format_index(lambda x: r'\\textbf{%s}' % (x,), escape='latex')\n",
    "style = style.format_index(axis=1, escape='latex')\n",
    "style = style.hide(names=True)\n",
    "run_tbl = style.to_latex()\n",
    "run_tbl_fn.write_text(run_tbl)\n",
    "print(run_tbl)"
   ]
  },
  {
   "cell_type": "markdown",
   "id": "3d838b4c",
   "metadata": {},
   "source": [
    "## Per-Topic Stats\n",
    "\n",
    "We need to return per-topic stats to each participant, at least for the score."
   ]
  },
  {
   "cell_type": "code",
   "execution_count": null,
   "id": "e55e7743",
   "metadata": {
    "tags": []
   },
   "outputs": [],
   "source": [
    "topic_stats = rank_exp.groupby('topic_id').agg(['mean', 'median', 'min', 'max'])\n",
    "topic_stats"
   ]
  },
  {
   "cell_type": "markdown",
   "id": "11bc0ad5",
   "metadata": {},
   "source": [
    "Make final score analysis:"
   ]
  },
  {
   "cell_type": "code",
   "execution_count": null,
   "id": "13c4ee98",
   "metadata": {
    "tags": []
   },
   "outputs": [],
   "source": [
    "topic_range = topic_stats.loc[:, 'EE-L']\n",
    "topic_range = topic_range.drop(columns=['mean'])\n",
    "topic_range"
   ]
  },
  {
   "cell_type": "markdown",
   "id": "ee8891ec",
   "metadata": {},
   "source": [
    "And now we combine scores with these results to return to participants."
   ]
  },
  {
   "cell_type": "code",
   "execution_count": null,
   "id": "b3726e04",
   "metadata": {
    "tags": []
   },
   "outputs": [],
   "source": [
    "ret_dir = Path('results') / 'editors'\n",
    "ret_dir.mkdir(exist_ok=True)\n",
    "for system, s_runs in rank_exp.groupby('run_name'):\n",
    "    aug = s_runs.join(topic_range).reset_index().drop(columns=['run_name'])\n",
    "    fn = ret_dir / f'{system}.tsv'\n",
    "    log.info('writing %s', fn)\n",
    "    aug.to_csv(fn, sep='\\t', index=False)"
   ]
  },
  {
   "cell_type": "markdown",
   "id": "fdc3b4dd-f80f-4aa7-b6f1-67d121da5bb7",
   "metadata": {},
   "source": [
    "## Charts and Relationships\n",
    "\n",
    "Now let's look at some overall distributions, etc."
   ]
  },
  {
   "cell_type": "code",
   "execution_count": null,
   "id": "b2e36aba-5f3f-488e-a740-513706c9d474",
   "metadata": {},
   "outputs": [],
   "source": [
    "sns.displot(x='EE-L', data=run_scores)"
   ]
  },
  {
   "cell_type": "code",
   "execution_count": null,
   "id": "2b9df3af-0646-4223-9840-2c0c76b42991",
   "metadata": {},
   "outputs": [],
   "source": [
    "sns.scatterplot(x='EE-D', y='EE-R', hue='team', data=run_scores)\n",
    "sns.rugplot(x='EE-D', y='EE-R', data=run_scores)\n",
    "plt.savefig('figures/task2-eed-eer.pdf')\n",
    "plt.show()"
   ]
  },
  {
   "cell_type": "markdown",
   "id": "ee2c3f50-a596-4c7e-8faa-1dd2dce3a036",
   "metadata": {},
   "source": [
    "## Further Analysis\n",
    "\n",
    "That's how we capture the first-order analysis. Now let's look at things one dimension at a time."
   ]
  },
  {
   "cell_type": "markdown",
   "id": "3f8be891-58a7-4d94-b49f-c3c18695b741",
   "metadata": {},
   "source": [
    "### Gender\n",
    "\n",
    "Let's just look at gender."
   ]
  },
  {
   "cell_type": "code",
   "execution_count": null,
   "id": "c498908f-7130-4c65-9019-0dd166ba1c3f",
   "metadata": {},
   "outputs": [],
   "source": [
    "gender_tgt = pd.read_parquet(tbl_dir / f'task2-{DATA_MODE}-gender-target.parquet')\n",
    "gender_tgt.head()"
   ]
  },
  {
   "cell_type": "code",
   "execution_count": null,
   "id": "b57a5a3b-a557-4b6e-b1d8-46c468c2d2f3",
   "metadata": {},
   "outputs": [],
   "source": [
    "gender_tgt = xr.DataArray(gender_tgt.values, coords=[gender_tgt.index, gender_tgt.columns], dims=['topic_id', 'gender'])\n",
    "gender_tgt"
   ]
  },
  {
   "cell_type": "code",
   "execution_count": null,
   "id": "eec3bfec-9ee4-4bbb-b2f2-d2ae021e59cc",
   "metadata": {},
   "outputs": [],
   "source": [
    "gender_metric = metrics.EELMetric(qrels.set_index('topic_id'), dimensions[2:3], gender_tgt)"
   ]
  },
  {
   "cell_type": "code",
   "execution_count": null,
   "id": "0453cc15-2d76-41a6-a898-b2683a592026",
   "metadata": {},
   "outputs": [],
   "source": [
    "rank_gender = runs.groupby(['run_name', 'topic_id']).progress_apply(gender_metric)\n",
    "rank_gender"
   ]
  },
  {
   "cell_type": "markdown",
   "id": "815beef5-78ec-4874-afa5-0bd5a3386b75",
   "metadata": {},
   "source": [
    "And aggregate:"
   ]
  },
  {
   "cell_type": "code",
   "execution_count": null,
   "id": "9465e099-aab8-4bc7-9c6f-d1dc6efd302f",
   "metadata": {},
   "outputs": [],
   "source": [
    "rank_gender.groupby('run_name').mean()"
   ]
  },
  {
   "cell_type": "markdown",
   "id": "281631ad-7fd1-4d80-94ef-c78ee500d631",
   "metadata": {},
   "source": [
    "### Subject Geography\n",
    "\n",
    "And now subject geography."
   ]
  },
  {
   "cell_type": "code",
   "execution_count": null,
   "id": "5826febd-2df6-4645-8daf-a7d392c2a0b4",
   "metadata": {},
   "outputs": [],
   "source": [
    "sub_geo_tgt = pd.read_parquet(tbl_dir / f'task2-{DATA_MODE}-sub-geo-target.parquet')\n",
    "sub_geo_tgt.head()"
   ]
  },
  {
   "cell_type": "code",
   "execution_count": null,
   "id": "886a6f12-b175-44ef-8ac6-7e1a2d20ea4a",
   "metadata": {},
   "outputs": [],
   "source": [
    "sub_geo_tgt = xr.DataArray(sub_geo_tgt.values, coords=[sub_geo_tgt.index, sub_geo_tgt.columns], dims=['topic_id', 'sub-geo'])\n",
    "sub_geo_tgt"
   ]
  },
  {
   "cell_type": "code",
   "execution_count": null,
   "id": "0821bb3a-c0dc-4bcb-b452-7d509bc02edf",
   "metadata": {},
   "outputs": [],
   "source": [
    "sub_geo_metric = metrics.EELMetric(qrels.set_index('topic_id'), [d for d in dimensions if d.name == 'sub-geo'], sub_geo_tgt)"
   ]
  },
  {
   "cell_type": "code",
   "execution_count": null,
   "id": "81b4cfcf-461a-4c1c-8657-d7855ed828e7",
   "metadata": {},
   "outputs": [],
   "source": [
    "rank_sub_geo = runs.groupby(['run_name', 'topic_id']).progress_apply(sub_geo_metric)\n",
    "rank_sub_geo"
   ]
  },
  {
   "cell_type": "markdown",
   "id": "d0f419d2-f4f8-4dfc-af84-10942ac1f80c",
   "metadata": {},
   "source": [
    "And aggregate:"
   ]
  },
  {
   "cell_type": "code",
   "execution_count": null,
   "id": "52e5bbda-893e-45b3-97e9-100c5371629d",
   "metadata": {},
   "outputs": [],
   "source": [
    "rank_sub_geo.groupby('run_name').mean()"
   ]
  },
  {
   "cell_type": "markdown",
   "id": "ffebe500-b1df-4fbb-823e-01e7f81e446c",
   "metadata": {},
   "source": [
    "## Single-Attribute Performance\n",
    "\n",
    "Having poked at a few individual attributes, we're now going to run each attribute as a single attribute."
   ]
  },
  {
   "cell_type": "code",
   "execution_count": null,
   "id": "6149c6ad-c028-458d-9ad0-ec2828462c7c",
   "metadata": {},
   "outputs": [],
   "source": [
    "res1d_d = {}\n",
    "dim_loop = tqdm(dimensions, desc='dims', leave=False)\n",
    "for dim in dim_loop:\n",
    "    dim_loop.set_postfix_str(dim.name)\n",
    "    t1d = pd.read_parquet(tbl_dir / f'task2-{DATA_MODE}-{dim.name}-target.parquet').astype('float64')\n",
    "    t1d = xr.DataArray(t1d, dims=['topic_id', dim.name])\n",
    "    m1d = metrics.EELMetric(qrels.set_index('topic_id'), [dim], t1d)\n",
    "    res1d_d[dim.name] = runs.groupby(['run_name', 'topic_id']).progress_apply(m1d)"
   ]
  },
  {
   "cell_type": "code",
   "execution_count": null,
   "id": "9e6fab4f-837b-4818-86f6-d4679429185f",
   "metadata": {},
   "outputs": [],
   "source": [
    "res1d = pd.concat(res1d_d, names=['dim'])\n",
    "res1d = res1d.reset_index()\n",
    "res1d"
   ]
  },
  {
   "cell_type": "markdown",
   "id": "5032e02e-890d-4e81-8f58-4d57993d27cb",
   "metadata": {},
   "source": [
    "Now let's group things to get per-dimension metrics!"
   ]
  },
  {
   "cell_type": "code",
   "execution_count": null,
   "id": "83942b69-6be4-46e9-8c05-759575bd8d66",
   "metadata": {},
   "outputs": [],
   "source": [
    "rr_1d = res1d.groupby(['dim', 'run_name'])['EE-L'].mean()\n",
    "rr_1d = rr_1d.unstack('dim')\n",
    "rr_1d"
   ]
  },
  {
   "cell_type": "code",
   "execution_count": null,
   "id": "9f3e3573-b82d-41a6-9b27-8e53b7bb57d6",
   "metadata": {},
   "outputs": [],
   "source": [
    "df_1d = run_scores[['EE-L']].rename(columns={'EE-L': 'Overall'}).join(rr_1d)\n",
    "df_1d.sort_values('Overall', inplace=True)\n",
    "df_fmt = df_1d.style.highlight_min(props='font-weight: bold').format(lambda x: '%.3f' % (x,))\n",
    "df_fmt"
   ]
  },
  {
   "cell_type": "code",
   "execution_count": null,
   "id": "8bb4cbe5-ab25-475d-946d-3dd7e4a1d4a6",
   "metadata": {},
   "outputs": [],
   "source": [
    "df_1d_fn = Path('figures/task2-single.tex')\n",
    "style = df_1d.style.highlight_min(props='font: bold;').format(lambda x: '%.3f' % (x,))\n",
    "style = style.format_index(axis=0, escape='latex')\n",
    "style = style.hide(names=True)\n",
    "df_tex = style.to_latex()\n",
    "df_1d_fn.write_text(df_tex)\n",
    "print(df_tex)"
   ]
  },
  {
   "cell_type": "markdown",
   "id": "273370af-ab68-4fb0-8eed-5aefb82cb72d",
   "metadata": {},
   "source": [
    "## Attribute Subset Performance\n",
    "\n",
    "We also want to look at the peformance over *subsets* of the original attributes.  For this, we need two pieces:\n",
    "\n",
    "- The dimensions\n",
    "- The reduced target\n",
    "\n",
    "We'll get the reduced target by marginalizing.  Let's make a function to get dimensions and reduced targets:"
   ]
  },
  {
   "cell_type": "code",
   "execution_count": null,
   "id": "9abef0aa-f197-42f2-a26b-fd2aeeea5038",
   "metadata": {},
   "outputs": [],
   "source": [
    "def subset_dims(dims):\n",
    "    return [d for d in dimensions if d.name in dims]"
   ]
  },
  {
   "cell_type": "code",
   "execution_count": null,
   "id": "040b9503-ba27-4c8a-a44c-91537efb6e12",
   "metadata": {},
   "outputs": [],
   "source": [
    "def subset_tgt(dims):\n",
    "    names = [d.name for d in dimensions if d.name not in dims]\n",
    "    return target.sum(names)"
   ]
  },
  {
   "cell_type": "markdown",
   "id": "8c94e20c-8344-41ef-bf4b-0fe90ffc5f81",
   "metadata": {},
   "source": [
    "And a demo:"
   ]
  },
  {
   "cell_type": "code",
   "execution_count": null,
   "id": "e690e96c-92ae-48d9-9b1b-daa7cbff125b",
   "metadata": {},
   "outputs": [],
   "source": [
    "subset_tgt(['sub-geo', 'gender'])"
   ]
  },
  {
   "cell_type": "markdown",
   "id": "96a970fb-b671-4f8c-8d57-4913695934d8",
   "metadata": {},
   "source": [
    "Great!  Now we're ready to go!"
   ]
  },
  {
   "cell_type": "markdown",
   "id": "b01a0f94-4a05-4fd0-bb73-c9d8fae3495c",
   "metadata": {},
   "source": [
    "### Gender and Geography\n",
    "\n",
    "Last year, we used subject geography and gender.  Let's generate metric results from those."
   ]
  },
  {
   "cell_type": "code",
   "execution_count": null,
   "id": "545a734c-ce6a-4d7b-a587-fa38edb4415e",
   "metadata": {},
   "outputs": [],
   "source": [
    "geo_gender_metric = metrics.EELMetric(qrels.set_index('topic_id'), subset_dims(['sub-geo', 'gender']), subset_tgt(['sub-geo', 'gender']))"
   ]
  },
  {
   "cell_type": "code",
   "execution_count": null,
   "id": "db5a780a-69c3-4c92-ada4-f2c14dc29251",
   "metadata": {},
   "outputs": [],
   "source": [
    "geo_gender_res = runs.groupby(['run_name', 'topic_id']).progress_apply(geo_gender_metric)"
   ]
  },
  {
   "cell_type": "markdown",
   "id": "0db70336-465f-479a-92b7-569e2c561199",
   "metadata": {},
   "source": [
    "Now show the results per system:"
   ]
  },
  {
   "cell_type": "code",
   "execution_count": null,
   "id": "bf2d0f55-eeeb-41c3-b5ca-0a3fef4bdd74",
   "metadata": {},
   "outputs": [],
   "source": [
    "geo_gender_rr = geo_gender_res.groupby('run_name').mean()\n",
    "geo_gender_rr.sort_values('EE-L', inplace=True)\n",
    "geo_gender_rr"
   ]
  },
  {
   "cell_type": "markdown",
   "id": "801f9399-759a-4290-b57b-2ef6c334ae8a",
   "metadata": {},
   "source": [
    "### Internal Properties\n",
    "\n",
    "This year, several of our properties are ‘internal’: that is, they primarily refer to things that matter within the Wikipedia platform, not broader social concerns.\n",
    "\n",
    "Let's see how the systems perform on those."
   ]
  },
  {
   "cell_type": "code",
   "execution_count": null,
   "id": "16f51308-aff0-47d5-8907-7cc0a75b91e4",
   "metadata": {},
   "outputs": [],
   "source": [
    "internal_names = ['alpha', 'age', 'pop', 'langs']\n",
    "internal_dims = subset_dims(internal_names)\n",
    "internal_tgt = subset_tgt(internal_names)"
   ]
  },
  {
   "cell_type": "code",
   "execution_count": null,
   "id": "a7952ff8-0204-43c2-b756-f21ae74bc172",
   "metadata": {},
   "outputs": [],
   "source": [
    "internal_metric = metrics.EELMetric(qrels.set_index('topic_id'), internal_dims, internal_tgt)"
   ]
  },
  {
   "cell_type": "code",
   "execution_count": null,
   "id": "5cddd876-7ee7-42a0-9aff-3d641d2a23b1",
   "metadata": {},
   "outputs": [],
   "source": [
    "internal_res = runs.groupby(['run_name', 'topic_id']).progress_apply(internal_metric)"
   ]
  },
  {
   "cell_type": "markdown",
   "id": "bc663bf7-b419-420d-a969-2eb226ed1cd4",
   "metadata": {},
   "source": [
    "Now show the results per system:"
   ]
  },
  {
   "cell_type": "code",
   "execution_count": null,
   "id": "b9447fbc-177d-4412-9c30-cf826bbfb39f",
   "metadata": {},
   "outputs": [],
   "source": [
    "internal_rr = internal_res.groupby('run_name').mean()\n",
    "internal_rr.sort_values('EE-L', inplace=True)\n",
    "internal_rr"
   ]
  },
  {
   "cell_type": "markdown",
   "id": "7ebee765-0e9b-4de5-81c5-09da48caed88",
   "metadata": {},
   "source": [
    "### Demographic Properties\n",
    "\n",
    "Let's see performance on the other ones (demographic properties):"
   ]
  },
  {
   "cell_type": "code",
   "execution_count": null,
   "id": "f94f6c47-85d1-4270-9a1f-e148cec993c9",
   "metadata": {},
   "outputs": [],
   "source": [
    "demo_names = [d.name for d in dimensions if d.name not in internal_names]\n",
    "demo_dims = subset_dims(demo_names)\n",
    "demo_tgt = subset_tgt(demo_names)"
   ]
  },
  {
   "cell_type": "code",
   "execution_count": null,
   "id": "1ec683b7-8c58-4e7d-adfa-69bbd9c637e8",
   "metadata": {},
   "outputs": [],
   "source": [
    "demo_metric = metrics.EELMetric(qrels.set_index('topic_id'), demo_dims, demo_tgt)"
   ]
  },
  {
   "cell_type": "code",
   "execution_count": null,
   "id": "a35e069f-3546-4528-97be-1e6af7387af5",
   "metadata": {},
   "outputs": [],
   "source": [
    "demo_res = runs.groupby(['run_name', 'topic_id']).progress_apply(demo_metric)"
   ]
  },
  {
   "cell_type": "markdown",
   "id": "dd0dc2ad-aec9-4c6f-86f6-0b67c48b270a",
   "metadata": {},
   "source": [
    "Now show the results per system:"
   ]
  },
  {
   "cell_type": "code",
   "execution_count": null,
   "id": "b2a30935-352d-402e-839b-38f63c785147",
   "metadata": {},
   "outputs": [],
   "source": [
    "demo_rr = demo_res.groupby('run_name').mean()\n",
    "demo_rr.sort_values('EE-L', inplace=True)\n",
    "demo_rr"
   ]
  },
  {
   "cell_type": "markdown",
   "id": "00713d73-e859-4f4e-9202-1b8b35f56038",
   "metadata": {},
   "source": [
    "### Subset Scores"
   ]
  },
  {
   "cell_type": "code",
   "execution_count": null,
   "id": "65c3a361-f5bb-4bdc-8093-6ee80ced09b2",
   "metadata": {},
   "outputs": [],
   "source": [
    "subsets = {\n",
    "    'Overall': run_scores,\n",
    "    '2021': geo_gender_rr,\n",
    "    'Internal': internal_rr,\n",
    "    'Demographic': demo_rr,\n",
    "}"
   ]
  },
  {
   "cell_type": "code",
   "execution_count": null,
   "id": "e9f279a2-639f-43e6-9a86-4e6c495a1d75",
   "metadata": {},
   "outputs": [],
   "source": [
    "ss_cols = [df[['EE-L']].rename(columns={'EE-L': name}) for (name, df) in subsets.items()]\n",
    "ss_df = reduce(lambda df1, df2: df1.join(df2), ss_cols)\n",
    "ss_df.sort_values('Overall', inplace=True)\n",
    "ss_fmt = ss_df.style.highlight_min(props='font-weight: bold;').format(lambda x: '%.3f' % (x,))\n",
    "ss_fmt"
   ]
  },
  {
   "cell_type": "code",
   "execution_count": null,
   "id": "2fb8bdb0-cbec-4365-8555-265483344e16",
   "metadata": {},
   "outputs": [],
   "source": [
    "ss_fn = Path('figures/task2-subsets.tex')\n",
    "style = ss_df.style.highlight_min(props='font: bold;').format(lambda x: '%.3f' % (x,))\n",
    "style = style.format_index(axis=0, escape='latex')\n",
    "style = style.hide(names=True)\n",
    "ss_tex = style.to_latex()\n",
    "ss_fn.write_text(ss_tex)\n",
    "print(ss_tex)"
   ]
  },
  {
   "cell_type": "code",
   "execution_count": null,
   "id": "ba1bdd9a-07cf-472b-b747-d0772b0ce110",
   "metadata": {},
   "outputs": [],
   "source": []
  }
 ],
 "metadata": {
  "jupytext": {
   "formats": "ipynb,py:percent"
  },
  "kernelspec": {
   "display_name": "Python 3 (ipykernel)",
   "language": "python",
   "name": "python3"
  },
  "language_info": {
   "codemirror_mode": {
    "name": "ipython",
    "version": 3
   },
   "file_extension": ".py",
   "mimetype": "text/x-python",
   "name": "python",
   "nbconvert_exporter": "python",
   "pygments_lexer": "ipython3",
   "version": "3.8.13"
  }
 },
 "nbformat": 4,
 "nbformat_minor": 5
}
